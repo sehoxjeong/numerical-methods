{
 "cells": [
  {
   "cell_type": "markdown",
   "id": "67a42463-8f8b-4dc5-b4b0-887ee80c3e1a",
   "metadata": {},
   "source": [
    "## Integers and Floats"
   ]
  },
  {
   "cell_type": "markdown",
   "id": "1a284f0d",
   "metadata": {},
   "source": [
    "Julia supports integer and floating point numbers as shown here."
   ]
  },
  {
   "cell_type": "code",
   "execution_count": 2,
   "id": "593ed02c-2ca6-4be4-aa0b-37178aac4688",
   "metadata": {},
   "outputs": [
    {
     "data": {
      "text/plain": [
       "Int64"
      ]
     },
     "metadata": {},
     "output_type": "display_data"
    }
   ],
   "source": [
    "typeof(1)"
   ]
  },
  {
   "cell_type": "code",
   "execution_count": 1,
   "id": "705b8f6f-cd22-48c2-aa27-0fcbcb619812",
   "metadata": {},
   "outputs": [
    {
     "data": {
      "text/plain": [
       "Float64"
      ]
     },
     "metadata": {},
     "output_type": "display_data"
    }
   ],
   "source": [
    "typeof(1.0)"
   ]
  },
  {
   "cell_type": "markdown",
   "id": "57c04224",
   "metadata": {},
   "source": [
    "Here `Int64` denotes a 64-bit integer, and `Float64` denotes a 64-bit floating point value. (On 32-bit machines, an integer literal like `42` is interpreted as an `Int32`.)\n",
    "\n",
    "We can also perform the standard mathematical operations:"
   ]
  },
  {
   "cell_type": "code",
   "execution_count": 12,
   "id": "5f5e6c67-d1e6-41ac-8ea0-6c6b66cb1539",
   "metadata": {},
   "outputs": [],
   "source": [
    "x = 4;\n",
    "y = 2;\n",
    "z = 2.0;"
   ]
  },
  {
   "cell_type": "code",
   "execution_count": 13,
   "id": "78b45576-0419-4b39-a4fd-b663808dc556",
   "metadata": {},
   "outputs": [
    {
     "name": "stdout",
     "output_type": "stream",
     "text": [
      "x + y = 6\n",
      "x - y = 2\n",
      "x * y = 8\n",
      "x / y = 2.0\n",
      "x ^ y = 16\n",
      "x % y = 0\n"
     ]
    }
   ],
   "source": [
    "@show x + y; # addition\n",
    "@show x - y; # subtraction\n",
    "@show x * y; # multiplication\n",
    "@show x / y; # division\n",
    "@show x ^ y; # exponentiation\n",
    "@show x % y; # x modulo y"
   ]
  },
  {
   "cell_type": "markdown",
   "id": "d0be338c",
   "metadata": {},
   "source": [
    "Note that the result of `x / y` is a `Float64`, even when `x` and `y` are integers."
   ]
  },
  {
   "cell_type": "markdown",
   "id": "9a1da59e",
   "metadata": {},
   "source": [
    "Many operations are compatible between an integer and a floating point number and the result is a floating number."
   ]
  },
  {
   "cell_type": "code",
   "execution_count": 14,
   "id": "a9acc6f6",
   "metadata": {},
   "outputs": [
    {
     "data": {
      "text/plain": [
       "2.0"
      ]
     },
     "metadata": {},
     "output_type": "display_data"
    }
   ],
   "source": [
    "x - z"
   ]
  },
  {
   "cell_type": "code",
   "execution_count": 15,
   "id": "c0961064-566e-4d28-8ac8-97632060295f",
   "metadata": {},
   "outputs": [
    {
     "data": {
      "text/plain": [
       "2"
      ]
     },
     "metadata": {},
     "output_type": "display_data"
    }
   ],
   "source": [
    "2x - 3y # * can be omitted for multiplication between a numeric literal and a variable."
   ]
  },
  {
   "cell_type": "markdown",
   "id": "c66951ec",
   "metadata": {},
   "source": [
    "We can also perform these operations at the same time as an assignment. For example, `x += 1` is shorthand for `x = x + 1`."
   ]
  },
  {
   "cell_type": "code",
   "execution_count": 11,
   "id": "61d2f670-6083-47a5-86e2-b9cc958c31e5",
   "metadata": {},
   "outputs": [
    {
     "name": "stdout",
     "output_type": "stream",
     "text": [
      "x += 1 = 6\n",
      "y = y + 1 = 4\n"
     ]
    }
   ],
   "source": [
    "@show x += 1;\n",
    "@show y = y + 1;"
   ]
  },
  {
   "cell_type": "markdown",
   "id": "dbce3939",
   "metadata": {},
   "source": [
    "### Comparison"
   ]
  },
  {
   "cell_type": "markdown",
   "id": "595fa44f",
   "metadata": {},
   "source": [
    "We can also make comparisons:"
   ]
  },
  {
   "cell_type": "code",
   "execution_count": 16,
   "id": "2e1767f8",
   "metadata": {},
   "outputs": [
    {
     "data": {
      "text/plain": [
       "false"
      ]
     },
     "metadata": {},
     "output_type": "display_data"
    }
   ],
   "source": [
    "3 > 4 # greater than"
   ]
  },
  {
   "cell_type": "code",
   "execution_count": 17,
   "id": "6549351b",
   "metadata": {},
   "outputs": [
    {
     "data": {
      "text/plain": [
       "false"
      ]
     },
     "metadata": {},
     "output_type": "display_data"
    }
   ],
   "source": [
    "3 >= 4 # greater than or equal"
   ]
  },
  {
   "cell_type": "code",
   "execution_count": 19,
   "id": "759aec59",
   "metadata": {},
   "outputs": [
    {
     "data": {
      "text/plain": [
       "false"
      ]
     },
     "metadata": {},
     "output_type": "display_data"
    }
   ],
   "source": [
    "3 ≥ 4 # greater than or equal; unicode also works"
   ]
  },
  {
   "cell_type": "code",
   "execution_count": 20,
   "id": "e8d54dbb",
   "metadata": {},
   "outputs": [
    {
     "data": {
      "text/plain": [
       "true"
      ]
     },
     "metadata": {},
     "output_type": "display_data"
    }
   ],
   "source": [
    "3 < 4 # less than"
   ]
  },
  {
   "cell_type": "code",
   "execution_count": 21,
   "id": "dd093079",
   "metadata": {},
   "outputs": [
    {
     "data": {
      "text/plain": [
       "true"
      ]
     },
     "metadata": {},
     "output_type": "display_data"
    }
   ],
   "source": [
    "3 <= 4 # less than or equal"
   ]
  },
  {
   "cell_type": "code",
   "execution_count": 22,
   "id": "7ee0e0d7",
   "metadata": {},
   "outputs": [
    {
     "data": {
      "text/plain": [
       "true"
      ]
     },
     "metadata": {},
     "output_type": "display_data"
    }
   ],
   "source": [
    "3 ≤ 4 # less than or equal; unicode also works"
   ]
  },
  {
   "cell_type": "code",
   "execution_count": 24,
   "id": "d1eeab7b",
   "metadata": {},
   "outputs": [
    {
     "data": {
      "text/plain": [
       "false"
      ]
     },
     "metadata": {},
     "output_type": "display_data"
    }
   ],
   "source": [
    "3 == 4 # When testing for equality we use `==`."
   ]
  },
  {
   "cell_type": "code",
   "execution_count": 27,
   "id": "52f899f6",
   "metadata": {},
   "outputs": [
    {
     "data": {
      "text/plain": [
       "true"
      ]
     },
     "metadata": {},
     "output_type": "display_data"
    }
   ],
   "source": [
    "# For not equal use `!=` or `≠` (\\ne<TAB>)\n",
    "3 != 4"
   ]
  },
  {
   "cell_type": "code",
   "execution_count": 29,
   "id": "cae26bec",
   "metadata": {},
   "outputs": [
    {
     "data": {
      "text/plain": [
       "true"
      ]
     },
     "metadata": {},
     "output_type": "display_data"
    }
   ],
   "source": [
    "3 ≠ 4"
   ]
  },
  {
   "cell_type": "markdown",
   "id": "e44b97ff",
   "metadata": {},
   "source": [
    "We can also combine more than one expressions."
   ]
  },
  {
   "cell_type": "code",
   "execution_count": 31,
   "id": "e352784d",
   "metadata": {},
   "outputs": [
    {
     "data": {
      "text/plain": [
       "true"
      ]
     },
     "metadata": {},
     "output_type": "display_data"
    }
   ],
   "source": [
    "2 < 3 < 4"
   ]
  },
  {
   "cell_type": "code",
   "execution_count": 32,
   "id": "cb7d0fed",
   "metadata": {},
   "outputs": [
    {
     "data": {
      "text/plain": [
       "false"
      ]
     },
     "metadata": {},
     "output_type": "display_data"
    }
   ],
   "source": [
    "2 < 5 < 4"
   ]
  },
  {
   "cell_type": "code",
   "execution_count": 33,
   "id": "99e36e88",
   "metadata": {},
   "outputs": [
    {
     "data": {
      "text/plain": [
       "true"
      ]
     },
     "metadata": {},
     "output_type": "display_data"
    }
   ],
   "source": [
    "2 < 5 > 4"
   ]
  },
  {
   "cell_type": "markdown",
   "id": "d67e86de",
   "metadata": {},
   "source": [
    "Julia can also test approximate equality with `≈` (`\\approx<TAB>`). Be careful when using this, however, as there are subtleties involving the scales of the quantities compared."
   ]
  },
  {
   "cell_type": "code",
   "execution_count": 34,
   "id": "49d228ec",
   "metadata": {},
   "outputs": [
    {
     "data": {
      "text/plain": [
       "true"
      ]
     },
     "metadata": {},
     "output_type": "display_data"
    }
   ],
   "source": [
    "1 + 1e-8 ≈ 1"
   ]
  },
  {
   "cell_type": "markdown",
   "id": "c141fa65-1296-4fda-b562-09ce11b5bd96",
   "metadata": {},
   "source": [
    "## Complex Numbers"
   ]
  },
  {
   "cell_type": "code",
   "execution_count": 49,
   "id": "b2d29a57-2fd6-407a-b278-5c1f99db9022",
   "metadata": {},
   "outputs": [
    {
     "data": {
      "text/plain": [
       "1 + 2im"
      ]
     },
     "execution_count": 49,
     "metadata": {},
     "output_type": "execute_result"
    }
   ],
   "source": [
    "x = 1 + 2im"
   ]
  },
  {
   "cell_type": "code",
   "execution_count": 51,
   "id": "ce500e12-98de-4522-861f-3816026bd18e",
   "metadata": {},
   "outputs": [
    {
     "data": {
      "text/plain": [
       "1 - 2im"
      ]
     },
     "execution_count": 51,
     "metadata": {},
     "output_type": "execute_result"
    }
   ],
   "source": [
    "y = 1 - 2im"
   ]
  },
  {
   "cell_type": "code",
   "execution_count": 53,
   "id": "bd0abc5b-c88e-4f01-ae09-ef2744878621",
   "metadata": {},
   "outputs": [
    {
     "data": {
      "text/plain": [
       "5 + 0im"
      ]
     },
     "execution_count": 53,
     "metadata": {},
     "output_type": "execute_result"
    }
   ],
   "source": [
    "x * y"
   ]
  }
 ],
 "metadata": {
  "kernelspec": {
   "display_name": "Julia 1.10.4",
   "language": "julia",
   "name": "julia-1.10"
  },
  "language_info": {
   "file_extension": ".jl",
   "mimetype": "application/julia",
   "name": "julia",
   "version": "1.10.4"
  }
 },
 "nbformat": 4,
 "nbformat_minor": 5
}
