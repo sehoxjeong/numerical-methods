{
 "cells": [
  {
   "cell_type": "markdown",
   "id": "a5eb37b6",
   "metadata": {},
   "source": [
    "# Control Flow\n",
    "\n",
    "Seho Jeong, Sogang University\n",
    "\n",
    "**References**\n",
    "- **Perla, Jesse, Thomas J. Sargent, and John Stachurski. n.d.** \"Quantitative Economics with Julia.\" QuantEcon."
   ]
  },
  {
   "cell_type": "markdown",
   "id": "bd0c6f76",
   "metadata": {},
   "source": [
    "## Iteration"
   ]
  },
  {
   "cell_type": "markdown",
   "id": "4d0c7661",
   "metadata": {},
   "source": [
    "One of the most important tasks in computing is stepping through a sequence of data and performing a given action. Julia provides neat and flexible tools for iteration as we now discuss."
   ]
  },
  {
   "cell_type": "markdown",
   "id": "8b9bfb64",
   "metadata": {},
   "source": [
    "### Iterables"
   ]
  },
  {
   "cell_type": "markdown",
   "id": "aa78d94a",
   "metadata": {},
   "source": [
    "An iterable is something you can put on the right hand side of `for` and loop over. These include sequence data types like arrays."
   ]
  },
  {
   "cell_type": "code",
   "execution_count": 2,
   "id": "61af7bc0",
   "metadata": {},
   "outputs": [
    {
     "name": "stdout",
     "output_type": "stream",
     "text": [
      "Charlie doesn't surf.\n",
      "Charlie doesn't ski.\n"
     ]
    }
   ],
   "source": [
    "actions = [\"surf\", \"ski\"]\n",
    "for action in actions\n",
    "    println(\"Charlie doesn't $action.\")\n",
    "end"
   ]
  },
  {
   "cell_type": "markdown",
   "id": "d2f4d474",
   "metadata": {},
   "source": [
    "They also include so-called iterators."
   ]
  },
  {
   "cell_type": "code",
   "execution_count": 3,
   "id": "ac51e62a",
   "metadata": {},
   "outputs": [
    {
     "name": "stdout",
     "output_type": "stream",
     "text": [
      "123"
     ]
    }
   ],
   "source": [
    "for i in 1:3 \n",
    "    print(i)\n",
    "end"
   ]
  },
  {
   "cell_type": "markdown",
   "id": "3958e9f7",
   "metadata": {},
   "source": [
    "If you ask for the keys of dictionary you get an iterator."
   ]
  },
  {
   "cell_type": "code",
   "execution_count": 4,
   "id": "5d539fa1",
   "metadata": {},
   "outputs": [
    {
     "data": {
      "text/plain": [
       "Dict{String, Any} with 2 entries:\n",
       "  \"name\" => \"Frodo\"\n",
       "  \"age\"  => 33"
      ]
     },
     "metadata": {},
     "output_type": "display_data"
    }
   ],
   "source": [
    "d = Dict(\"name\" => \"Frodo\", \"age\" => 33)"
   ]
  },
  {
   "cell_type": "code",
   "execution_count": 5,
   "id": "958b227c",
   "metadata": {},
   "outputs": [
    {
     "data": {
      "text/plain": [
       "KeySet for a Dict{String, Any} with 2 entries. Keys:\n",
       "  \"name\"\n",
       "  \"age\""
      ]
     },
     "metadata": {},
     "output_type": "display_data"
    }
   ],
   "source": [
    "keys(d)"
   ]
  },
  {
   "cell_type": "markdown",
   "id": "2c28acdf",
   "metadata": {},
   "source": [
    "This makes sense, since the most common thing you want to do with keys is loop over them. The benefit of providing an iterator rather than an array, say, is that the former is more memory efficient. Should you need to transform an iterator into an array you can always use `collect()`."
   ]
  },
  {
   "cell_type": "code",
   "execution_count": 6,
   "id": "bc185622",
   "metadata": {},
   "outputs": [
    {
     "data": {
      "text/plain": [
       "2-element Vector{String}:\n",
       " \"name\"\n",
       " \"age\""
      ]
     },
     "metadata": {},
     "output_type": "display_data"
    }
   ],
   "source": [
    "collect(keys(d))"
   ]
  },
  {
   "cell_type": "markdown",
   "id": "e04eceea",
   "metadata": {},
   "source": [
    "### Looping without Indicies"
   ]
  },
  {
   "cell_type": "markdown",
   "id": "0a3d17f1",
   "metadata": {},
   "source": [
    "You can loop over sequences without explicit indexing, which often leads to neater code. For example, compare"
   ]
  },
  {
   "cell_type": "code",
   "execution_count": 10,
   "id": "6617c131",
   "metadata": {},
   "outputs": [],
   "source": [
    "x_values = 1:5;"
   ]
  },
  {
   "cell_type": "code",
   "execution_count": 11,
   "id": "b153cf50",
   "metadata": {},
   "outputs": [
    {
     "name": "stdout",
     "output_type": "stream",
     "text": [
      "1\n",
      "4\n",
      "9\n",
      "16\n",
      "25\n"
     ]
    }
   ],
   "source": [
    "for x in x_values\n",
    "    println(x * x)\n",
    "end"
   ]
  },
  {
   "cell_type": "code",
   "execution_count": 12,
   "id": "b25cfc53",
   "metadata": {},
   "outputs": [
    {
     "name": "stdout",
     "output_type": "stream",
     "text": [
      "1\n",
      "4\n",
      "9\n",
      "16\n",
      "25\n"
     ]
    }
   ],
   "source": [
    "for i in eachindex(x_values) \n",
    "    println(x_values[i] * x_values[i])\n",
    "end"
   ]
  },
  {
   "cell_type": "markdown",
   "id": "e5b7c953",
   "metadata": {},
   "source": [
    "Julia provides some functional-style helper functions (similar to Python and R) to facilitate looping without indicies. One is `zip()`, which is used for stepping through pairs from two sequences. For example, try running the following code."
   ]
  },
  {
   "cell_type": "code",
   "execution_count": 13,
   "id": "d2ede5f2",
   "metadata": {},
   "outputs": [
    {
     "name": "stdout",
     "output_type": "stream",
     "text": [
      "The capital of Japan is Tokyo.\n",
      "The capital of Korea is Seoul.\n",
      "The capital of China is Beijing.\n"
     ]
    }
   ],
   "source": [
    "countries = (\"Japan\", \"Korea\", \"China\")\n",
    "cities = (\"Tokyo\", \"Seoul\", \"Beijing\")\n",
    "for (country, city) in zip(countries, cities)\n",
    "    println(\"The capital of $country is $city.\")\n",
    "end"
   ]
  },
  {
   "cell_type": "markdown",
   "id": "dc6e5047",
   "metadata": {},
   "source": [
    "If we happen to need the index as well as the value, one option is to use `enumerate()`. The following snippet will give you the idea."
   ]
  },
  {
   "cell_type": "code",
   "execution_count": 15,
   "id": "95538259",
   "metadata": {},
   "outputs": [
    {
     "name": "stdout",
     "output_type": "stream",
     "text": [
      "The capital of Japan is Tokyo.\n",
      "The capital of Korea is Seoul.\n",
      "The capital of China is Beijing.\n"
     ]
    }
   ],
   "source": [
    "countries = (\"Japan\", \"Korea\", \"China\")\n",
    "cities = (\"Tokyo\", \"Seoul\", \"Beijing\")\n",
    "for (i, country) in enumerate(countries)\n",
    "    city = cities[i]\n",
    "    println(\"The capital of $country is $city.\")\n",
    "end"
   ]
  },
  {
   "cell_type": "markdown",
   "id": "d24d4457",
   "metadata": {},
   "source": [
    "### Comprehensions"
   ]
  },
  {
   "cell_type": "markdown",
   "id": "67afb45a",
   "metadata": {},
   "source": [
    "Comprehensions are an elegant tool for creating new arrays, dictionaries, etc., from iterables. Here are some examples."
   ]
  },
  {
   "cell_type": "code",
   "execution_count": 16,
   "id": "3310e74a",
   "metadata": {},
   "outputs": [
    {
     "data": {
      "text/plain": [
       "4-element Vector{Int64}:\n",
       " 2\n",
       " 4\n",
       " 6\n",
       " 8"
      ]
     },
     "metadata": {},
     "output_type": "display_data"
    }
   ],
   "source": [
    "doubles = [2i for i in 1:4]"
   ]
  },
  {
   "cell_type": "code",
   "execution_count": 17,
   "id": "bebf4625",
   "metadata": {},
   "outputs": [],
   "source": [
    "animals = [\"dog\" , \"cat\", \"bird\"];"
   ]
  },
  {
   "cell_type": "code",
   "execution_count": 18,
   "id": "1eaa9204",
   "metadata": {},
   "outputs": [
    {
     "data": {
      "text/plain": [
       "3-element Vector{String}:\n",
       " \"dogs\"\n",
       " \"cats\"\n",
       " \"birds\""
      ]
     },
     "metadata": {},
     "output_type": "display_data"
    }
   ],
   "source": [
    "plurals = [animal * \"s\" for animal in animals]"
   ]
  },
  {
   "cell_type": "code",
   "execution_count": 19,
   "id": "9b4a3a4f",
   "metadata": {},
   "outputs": [
    {
     "data": {
      "text/plain": [
       "3×3 Matrix{Int64}:\n",
       " 5  6  7\n",
       " 6  7  8\n",
       " 7  8  9"
      ]
     },
     "metadata": {},
     "output_type": "display_data"
    }
   ],
   "source": [
    "[i + j for i in 1:3, j in 4:6]"
   ]
  },
  {
   "cell_type": "code",
   "execution_count": 20,
   "id": "657f06ed",
   "metadata": {},
   "outputs": [
    {
     "data": {
      "text/plain": [
       "3×3×3 Array{Int64, 3}:\n",
       "[:, :, 1] =\n",
       " 12  13  14\n",
       " 13  14  15\n",
       " 14  15  16\n",
       "\n",
       "[:, :, 2] =\n",
       " 13  14  15\n",
       " 14  15  16\n",
       " 15  16  17\n",
       "\n",
       "[:, :, 3] =\n",
       " 14  15  16\n",
       " 15  16  17\n",
       " 16  17  18"
      ]
     },
     "metadata": {},
     "output_type": "display_data"
    }
   ],
   "source": [
    "[i + j + k for i in 1:3, j in 4:6, k in 7:9]"
   ]
  },
  {
   "cell_type": "markdown",
   "id": "cfd9560a",
   "metadata": {},
   "source": [
    "Comprehensions can also create arrays of tuples or named tuples."
   ]
  },
  {
   "cell_type": "code",
   "execution_count": 21,
   "id": "54d4228a",
   "metadata": {},
   "outputs": [
    {
     "data": {
      "text/plain": [
       "2×3 Matrix{Tuple{Int64, String}}:\n",
       " (1, \"dog\")  (1, \"cat\")  (1, \"bird\")\n",
       " (2, \"dog\")  (2, \"cat\")  (2, \"bird\")"
      ]
     },
     "metadata": {},
     "output_type": "display_data"
    }
   ],
   "source": [
    "[(i, j) for i in 1:2, j in animals]"
   ]
  },
  {
   "cell_type": "code",
   "execution_count": 22,
   "id": "fa545b68",
   "metadata": {},
   "outputs": [
    {
     "data": {
      "text/plain": [
       "2×3 Matrix{@NamedTuple{num::Int64, animal::String}}:\n",
       " (num = 1, animal = \"dog\")  …  (num = 1, animal = \"bird\")\n",
       " (num = 2, animal = \"dog\")     (num = 2, animal = \"bird\")"
      ]
     },
     "metadata": {},
     "output_type": "display_data"
    }
   ],
   "source": [
    "[(num = i, animal = j) for i in 1:2, j in animals]"
   ]
  },
  {
   "cell_type": "markdown",
   "id": "b9ea929f",
   "metadata": {},
   "source": [
    "Given two numeric arrays or tuples `x_vals` and `y_vals` of equal length, compute their inner product using `zip()`."
   ]
  },
  {
   "cell_type": "code",
   "execution_count": null,
   "id": "e8aa3fdb",
   "metadata": {},
   "outputs": [
    {
     "name": "stdout",
     "output_type": "stream",
     "text": [
      "Sum = 70\n"
     ]
    }
   ],
   "source": [
    "x_vals = 1, 2, 3, 4\n",
    "y_vals = 5, 6, 7, 8\n",
    "\n",
    "result = sum(x * y for (x, y) in zip(x_vals, y_vals))\n",
    "\n",
    "println(\"Sum = $result\")"
   ]
  },
  {
   "cell_type": "markdown",
   "id": "843af754",
   "metadata": {},
   "source": [
    "Using a comprehension, count the number of even numbers between 0 and 99. (*Hint.* `iseven` returns `true` for even numbers and `false` for odds.)"
   ]
  },
  {
   "cell_type": "code",
   "execution_count": 12,
   "id": "5ad66de4",
   "metadata": {},
   "outputs": [
    {
     "data": {
      "text/plain": [
       "50"
      ]
     },
     "metadata": {},
     "output_type": "display_data"
    }
   ],
   "source": [
    "count(iseven, 0:99)"
   ]
  },
  {
   "cell_type": "code",
   "execution_count": 7,
   "id": "aae86e78",
   "metadata": {},
   "outputs": [
    {
     "data": {
      "text/plain": [
       "50"
      ]
     },
     "metadata": {},
     "output_type": "display_data"
    }
   ],
   "source": [
    "sum(iseven(i) ? true : false for i in 0:99)"
   ]
  },
  {
   "cell_type": "markdown",
   "id": "f93838cf",
   "metadata": {},
   "source": [
    "Using a comprehension, take `my_pairs = ((2, 5), (4, 2), (9, 8), (12, 10))` and count the number of pairs `(a, b)` such that both `a` and `b` are even."
   ]
  },
  {
   "cell_type": "code",
   "execution_count": 15,
   "id": "3987cb4b",
   "metadata": {},
   "outputs": [
    {
     "data": {
      "text/plain": [
       "2"
      ]
     },
     "metadata": {},
     "output_type": "display_data"
    }
   ],
   "source": [
    "my_pairs = ((2, 5), (4, 2), (9, 8), (12, 10))\n",
    "count(x -> all(iseven, x), my_pairs)"
   ]
  },
  {
   "cell_type": "markdown",
   "id": "490627e3",
   "metadata": {},
   "source": [
    "### Generators"
   ]
  },
  {
   "cell_type": "markdown",
   "id": "ca87ba8d",
   "metadata": {},
   "source": [
    "In some cases, you may wish to use a comprehension to create a iterable list rather than actually making it a concrete way. The benefit of this is that you can use functions which take general iterators rather than arrays without allocating and storing any temporary values. For example, the following code generates a temporary array of size 10,000 and finds the sum."
   ]
  },
  {
   "cell_type": "code",
   "execution_count": 24,
   "id": "bddab989",
   "metadata": {},
   "outputs": [
    {
     "data": {
      "text/plain": [
       "333383335000"
      ]
     },
     "metadata": {},
     "output_type": "display_data"
    }
   ],
   "source": [
    "xs = 1:10000\n",
    "f(x) = x^2\n",
    "f_x = f.(xs)\n",
    "sum(f_x)"
   ]
  },
  {
   "cell_type": "markdown",
   "id": "f6922cd6",
   "metadata": {},
   "source": [
    "We could have created the temporary using a comprehension, or even done the comprehension within the `sum` function, but these all create temporary arrays."
   ]
  },
  {
   "cell_type": "code",
   "execution_count": 26,
   "id": "e3b8eae0",
   "metadata": {},
   "outputs": [
    {
     "name": "stdout",
     "output_type": "stream",
     "text": [
      "sum(f_x2) = 333383335000\n",
      "sum([f(x) for x = xs]) = 333383335000\n"
     ]
    }
   ],
   "source": [
    "f_x2 = [f(x) for x in xs]\n",
    "@show sum(f_x2)\n",
    "@show sum([f(x) for x in xs]);"
   ]
  },
  {
   "cell_type": "markdown",
   "id": "f1c37713",
   "metadata": {},
   "source": [
    "Note that, if you were hand-code his, you would be able to calculate the sum by simply iterating to 10,000, applying `f` to each number, and accumulating the results. No temporary vectors would be necessary. A generator can emulate this behavior, leading to clear (and sometimes more efficient) code when used with any function that accepts iterators. All you need to do is drop the square brackets."
   ]
  },
  {
   "cell_type": "code",
   "execution_count": 27,
   "id": "8f196414",
   "metadata": {},
   "outputs": [
    {
     "data": {
      "text/plain": [
       "333383335000"
      ]
     },
     "metadata": {},
     "output_type": "display_data"
    }
   ],
   "source": [
    "sum(f(x) for x in xs)"
   ]
  },
  {
   "cell_type": "markdown",
   "id": "e5546f27",
   "metadata": {},
   "source": [
    "We can use `BenchmarkTools` to investigate."
   ]
  },
  {
   "cell_type": "code",
   "execution_count": 34,
   "id": "65346d6d",
   "metadata": {},
   "outputs": [
    {
     "name": "stdout",
     "output_type": "stream",
     "text": [
      "  1.736 μs (3 allocations: 78.19 KiB)\n",
      "  1.633 μs (3 allocations: 78.19 KiB)\n",
      "  1.917 ns (0 allocations: 0 bytes)\n"
     ]
    }
   ],
   "source": [
    "using BenchmarkTools\n",
    "\n",
    "@btime sum([f(x) for x in $xs])\n",
    "@btime sum(f.($xs))\n",
    "@btime sum(f(x) for x in $xs);"
   ]
  },
  {
   "cell_type": "markdown",
   "id": "d6e1eb42",
   "metadata": {},
   "source": [
    "Notice that the first two cases are nearly identical, and allocate a temporary array, while the final case using generators has no allocations. \n",
    "\n",
    "In this example you may see a speedup of over 1000x. Whether using generators leads to code that is faster or slower depends on the circumstances, and you should (1) always profile rather than guesses; and (2) worry about code clarify first, and performance second - if ever."
   ]
  },
  {
   "cell_type": "markdown",
   "id": "cde43a86",
   "metadata": {},
   "source": [
    "## Comparison and Logical Operators"
   ]
  },
  {
   "cell_type": "markdown",
   "id": "03afa856",
   "metadata": {},
   "source": [
    "### Comparisons"
   ]
  },
  {
   "cell_type": "markdown",
   "id": "319c7790",
   "metadata": {},
   "source": [
    "When testing for equality we use `==`."
   ]
  },
  {
   "cell_type": "code",
   "execution_count": 35,
   "id": "689c7d12",
   "metadata": {},
   "outputs": [
    {
     "data": {
      "text/plain": [
       "1"
      ]
     },
     "metadata": {},
     "output_type": "display_data"
    }
   ],
   "source": [
    "x = 1"
   ]
  },
  {
   "cell_type": "code",
   "execution_count": 36,
   "id": "00263591",
   "metadata": {},
   "outputs": [
    {
     "data": {
      "text/plain": [
       "false"
      ]
     },
     "metadata": {},
     "output_type": "display_data"
    }
   ],
   "source": [
    "x == 2"
   ]
  },
  {
   "cell_type": "markdown",
   "id": "a46a910c",
   "metadata": {},
   "source": [
    "For \"not equal\", use `!=` or `≠ (\\ne<TAB>)`."
   ]
  },
  {
   "cell_type": "code",
   "execution_count": 37,
   "id": "9b533ea9",
   "metadata": {},
   "outputs": [
    {
     "data": {
      "text/plain": [
       "true"
      ]
     },
     "metadata": {},
     "output_type": "display_data"
    }
   ],
   "source": [
    "x != 3"
   ]
  },
  {
   "cell_type": "code",
   "execution_count": 38,
   "id": "2d6f5dfd",
   "metadata": {},
   "outputs": [
    {
     "data": {
      "text/plain": [
       "true"
      ]
     },
     "metadata": {},
     "output_type": "display_data"
    }
   ],
   "source": [
    "x ≠ 3"
   ]
  },
  {
   "cell_type": "markdown",
   "id": "5cd3809c",
   "metadata": {},
   "source": [
    "Julia can also test approximate equality with `≈ (\\approx<TAB>)`."
   ]
  },
  {
   "cell_type": "code",
   "execution_count": 45,
   "id": "729a0b11",
   "metadata": {},
   "outputs": [
    {
     "data": {
      "text/plain": [
       "true"
      ]
     },
     "metadata": {},
     "output_type": "display_data"
    }
   ],
   "source": [
    "1 + 1E-8 ≈ 1"
   ]
  },
  {
   "cell_type": "markdown",
   "id": "89a79ea8",
   "metadata": {},
   "source": [
    "Be careful when using this, however, as there are subtleties involving the scales of the quantities compared."
   ]
  },
  {
   "cell_type": "markdown",
   "id": "adab607b",
   "metadata": {},
   "source": [
    "### Combining Expressions"
   ]
  },
  {
   "cell_type": "markdown",
   "id": "9d38152c",
   "metadata": {},
   "source": [
    "Here are standard logical connectives (conjunction, disjunction)."
   ]
  },
  {
   "cell_type": "code",
   "execution_count": null,
   "id": "4618e211",
   "metadata": {},
   "outputs": [
    {
     "data": {
      "text/plain": [
       "false"
      ]
     },
     "metadata": {},
     "output_type": "display_data"
    }
   ],
   "source": [
    "true && false # and"
   ]
  },
  {
   "cell_type": "code",
   "execution_count": null,
   "id": "21d84002",
   "metadata": {},
   "outputs": [
    {
     "data": {
      "text/plain": [
       "true"
      ]
     },
     "metadata": {},
     "output_type": "display_data"
    }
   ],
   "source": [
    "true || false # or"
   ]
  },
  {
   "cell_type": "markdown",
   "id": "9b83b5d8",
   "metadata": {},
   "source": [
    "Remember\n",
    "- `P && Q` is `true` if both are `true`, otherwise it's `false`.\n",
    "- `P || Q` is `false` if both are `false`, otherwise it's `true`."
   ]
  },
  {
   "cell_type": "code",
   "execution_count": null,
   "id": "7e83e3c4",
   "metadata": {},
   "outputs": [],
   "source": []
  }
 ],
 "metadata": {
  "kernelspec": {
   "display_name": "Julia 1.11.4",
   "language": "julia",
   "name": "julia-1.11"
  },
  "language_info": {
   "file_extension": ".jl",
   "mimetype": "application/julia",
   "name": "julia",
   "version": "1.11.4"
  }
 },
 "nbformat": 4,
 "nbformat_minor": 5
}
