{
 "cells": [
  {
   "cell_type": "markdown",
   "id": "ad293a88-b8d8-4b6a-89aa-c2b584289d01",
   "metadata": {},
   "source": [
    "# **Types**"
   ]
  },
  {
   "cell_type": "markdown",
   "id": "e3c39481-8685-4cdd-8f3a-fbb86ac32234",
   "metadata": {},
   "source": [
    "## **0. Introduction**"
   ]
  },
  {
   "cell_type": "code",
   "execution_count": null,
   "id": "d02255f5-a5a0-4321-b3a2-836d5add3cb5",
   "metadata": {},
   "outputs": [],
   "source": []
  }
 ],
 "metadata": {
  "kernelspec": {
   "display_name": "Julia 1.10.4",
   "language": "julia",
   "name": "julia-1.10"
  },
  "language_info": {
   "file_extension": ".jl",
   "mimetype": "application/julia",
   "name": "julia",
   "version": "1.10.4"
  }
 },
 "nbformat": 4,
 "nbformat_minor": 5
}
