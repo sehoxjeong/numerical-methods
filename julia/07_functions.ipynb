{
 "cells": [
  {
   "cell_type": "markdown",
   "id": "0c814452",
   "metadata": {},
   "source": [
    "A *function* is an object that maps a tuple of argument values to a return value. This note discusses how to define and work with functions."
   ]
  },
  {
   "cell_type": "markdown",
   "id": "ad293a88-b8d8-4b6a-89aa-c2b584289d01",
   "metadata": {},
   "source": [
    "## Named Functions"
   ]
  },
  {
   "cell_type": "markdown",
   "id": "fe7d8c2f",
   "metadata": {},
   "source": [
    "One way to define a *named function* is to use the `function` keyword, followed by the name of the function and a tuple of names of arguments."
   ]
  },
  {
   "cell_type": "code",
   "execution_count": 1,
   "id": "d02255f5-a5a0-4321-b3a2-836d5add3cb5",
   "metadata": {},
   "outputs": [
    {
     "data": {
      "text/plain": [
       "f (generic function with 1 method)"
      ]
     },
     "metadata": {},
     "output_type": "display_data"
    }
   ],
   "source": [
    "function f(x, y)\n",
    "    return x + y\n",
    "end"
   ]
  },
  {
   "cell_type": "markdown",
   "id": "3d75d5cb",
   "metadata": {},
   "source": [
    "We can also define functions compactly using assignment form."
   ]
  },
  {
   "cell_type": "code",
   "execution_count": 2,
   "id": "4a1a2536",
   "metadata": {},
   "outputs": [],
   "source": [
    "f(x, y) = x + y;"
   ]
  },
  {
   "cell_type": "code",
   "execution_count": 3,
   "id": "456a4c91",
   "metadata": {},
   "outputs": [
    {
     "data": {
      "text/plain": [
       "3.1415"
      ]
     },
     "metadata": {},
     "output_type": "display_data"
    }
   ],
   "source": [
    "f(3, 0.1415)"
   ]
  },
  {
   "cell_type": "markdown",
   "id": "5b262288",
   "metadata": {},
   "source": [
    "## Anonymous Functions"
   ]
  },
  {
   "cell_type": "markdown",
   "id": "c65de3a8",
   "metadata": {},
   "source": [
    "An *anonymous function* is not given a name, though it can be assigned to a named variable. One way to define an anonymous function is to use the arrow operator."
   ]
  },
  {
   "cell_type": "code",
   "execution_count": 4,
   "id": "90dc1d60",
   "metadata": {},
   "outputs": [
    {
     "data": {
      "text/plain": [
       "#11 (generic function with 1 method)"
      ]
     },
     "metadata": {},
     "output_type": "display_data"
    }
   ],
   "source": [
    "h = x -> x^2 + 1 # assign anonymous function to a variable"
   ]
  },
  {
   "cell_type": "code",
   "execution_count": 5,
   "id": "d39f7b6e",
   "metadata": {},
   "outputs": [],
   "source": [
    "g(f, a, b) = [f(a), f(b)]; # applies function f to a and b and returns array."
   ]
  },
  {
   "cell_type": "code",
   "execution_count": 6,
   "id": "d9a58674",
   "metadata": {},
   "outputs": [
    {
     "data": {
      "text/plain": [
       "2-element Vector{Int64}:\n",
       "  26\n",
       " 101"
      ]
     },
     "metadata": {},
     "output_type": "display_data"
    }
   ],
   "source": [
    "g(h, 5, 10)"
   ]
  },
  {
   "cell_type": "code",
   "execution_count": 7,
   "id": "21785705",
   "metadata": {},
   "outputs": [
    {
     "data": {
      "text/plain": [
       "2-element Vector{Float64}:\n",
       " 0.4559788891106302\n",
       " 1.9129452507276277"
      ]
     },
     "metadata": {},
     "output_type": "display_data"
    }
   ],
   "source": [
    "g(x->sin(x)+1, 10, 20)"
   ]
  },
  {
   "cell_type": "markdown",
   "id": "bf6f3d74",
   "metadata": {},
   "source": [
    "## Optional Arguments"
   ]
  },
  {
   "cell_type": "markdown",
   "id": "e2ea7dce",
   "metadata": {},
   "source": [
    "We can specify optional arguments by setting default values."
   ]
  },
  {
   "cell_type": "code",
   "execution_count": 8,
   "id": "55d0905e",
   "metadata": {},
   "outputs": [],
   "source": [
    "f(x=10) = x^2;"
   ]
  },
  {
   "cell_type": "code",
   "execution_count": 12,
   "id": "58dadc9f",
   "metadata": {},
   "outputs": [
    {
     "name": "stdout",
     "output_type": "stream",
     "text": [
      "f() = 100\n",
      "f(3) = 9\n"
     ]
    }
   ],
   "source": [
    "@show f();\n",
    "@show f(3);"
   ]
  },
  {
   "cell_type": "code",
   "execution_count": 13,
   "id": "aaa4e256",
   "metadata": {},
   "outputs": [],
   "source": [
    "f(x, y, z=1) = x*y + z;"
   ]
  },
  {
   "cell_type": "code",
   "execution_count": 15,
   "id": "16aa3056",
   "metadata": {},
   "outputs": [
    {
     "name": "stdout",
     "output_type": "stream",
     "text": [
      "f(1, 2, 3) = 5\n",
      "f(1, 2) = 3\n"
     ]
    }
   ],
   "source": [
    "@show f(1, 2, 3);\n",
    "@show f(1, 2);"
   ]
  },
  {
   "cell_type": "markdown",
   "id": "64c340e8",
   "metadata": {},
   "source": [
    "## Keyword Arguments"
   ]
  },
  {
   "cell_type": "markdown",
   "id": "fb8a3171",
   "metadata": {},
   "source": [
    "Functions with keyword arguments are defined using a semicolon."
   ]
  },
  {
   "cell_type": "code",
   "execution_count": 16,
   "id": "5450a1f6",
   "metadata": {},
   "outputs": [],
   "source": [
    "f(; x=10) = x + 1;"
   ]
  },
  {
   "cell_type": "code",
   "execution_count": 18,
   "id": "ed039929",
   "metadata": {},
   "outputs": [
    {
     "name": "stdout",
     "output_type": "stream",
     "text": [
      "f() = 11\n",
      "f(x = 10) = 11\n"
     ]
    }
   ],
   "source": [
    "@show f();\n",
    "@show f(x=10);"
   ]
  },
  {
   "cell_type": "code",
   "execution_count": 19,
   "id": "9e7f3efe",
   "metadata": {},
   "outputs": [],
   "source": [
    "f(x, y=10; z=2) = (x+y)*z;"
   ]
  },
  {
   "cell_type": "code",
   "execution_count": 21,
   "id": "71762bd0",
   "metadata": {},
   "outputs": [
    {
     "name": "stdout",
     "output_type": "stream",
     "text": [
      "f(1) = 22\n",
      "f(2, z = 3) = 36\n",
      "f(2, 3) = 10\n",
      "f(2, 3, z = 1) = 5\n"
     ]
    }
   ],
   "source": [
    "@show f(1);\n",
    "@show f(2, z=3);\n",
    "@show f(2, 3);\n",
    "@show f(2, 3, z=1);"
   ]
  },
  {
   "cell_type": "markdown",
   "id": "1c540343",
   "metadata": {},
   "source": [
    "## Function Overloading"
   ]
  },
  {
   "cell_type": "markdown",
   "id": "971de78c",
   "metadata": {},
   "source": [
    "The types of the arguments passed to a function can be specified using the double colon operator. If multiple functions of the same name are provided, Julia will execute the appropriate function."
   ]
  },
  {
   "cell_type": "code",
   "execution_count": 22,
   "id": "0c514a19",
   "metadata": {},
   "outputs": [],
   "source": [
    "f(x::Int64) = x + 10;\n",
    "f(x::Float64) = x + 3.1415;"
   ]
  },
  {
   "cell_type": "code",
   "execution_count": 24,
   "id": "c3d94463",
   "metadata": {},
   "outputs": [
    {
     "name": "stdout",
     "output_type": "stream",
     "text": [
      "f(1) = 11\n",
      "f(1.0) = 4.141500000000001\n",
      "f(1.3) = 4.4415000000000004\n"
     ]
    }
   ],
   "source": [
    "@show f(1);\n",
    "@show f(1.0);\n",
    "@show f(1.3);"
   ]
  },
  {
   "cell_type": "markdown",
   "id": "6e0302f7",
   "metadata": {},
   "source": [
    "The implementation of the most specific function will be used."
   ]
  },
  {
   "cell_type": "code",
   "execution_count": 25,
   "id": "b256e88e",
   "metadata": {},
   "outputs": [],
   "source": [
    "f(x) = 5;\n",
    "f(x::Float64) = 3.1415;"
   ]
  },
  {
   "cell_type": "code",
   "execution_count": 26,
   "id": "1638119a",
   "metadata": {},
   "outputs": [
    {
     "name": "stdout",
     "output_type": "stream",
     "text": [
      "f([3, 2, 1]) = 5\n",
      "f(0.00686499699) = 3.1415\n"
     ]
    }
   ],
   "source": [
    "@show f([3, 2, 1]);\n",
    "@show f(0.00686499699);"
   ]
  }
 ],
 "metadata": {
  "kernelspec": {
   "display_name": "Julia 1.10.4",
   "language": "julia",
   "name": "julia-1.10"
  },
  "language_info": {
   "file_extension": ".jl",
   "mimetype": "application/julia",
   "name": "julia",
   "version": "1.10.4"
  }
 },
 "nbformat": 4,
 "nbformat_minor": 5
}
