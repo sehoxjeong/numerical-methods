{
 "cells": [
  {
   "cell_type": "markdown",
   "id": "84d60684",
   "metadata": {},
   "source": [
    "# Functions\n",
    "\n",
    "Seho Jeong, Sogang University\n",
    "\n",
    "**References**\n",
    "- **Perla, Jesse, Thomas J. Sargent, and John Stachurski. n.d.** \"Quantitative Economics with Julia.\" QuantEcon."
   ]
  },
  {
   "cell_type": "code",
   "execution_count": 28,
   "id": "810966b3",
   "metadata": {},
   "outputs": [],
   "source": [
    "using LinearAlgebra, Statistics, Plots"
   ]
  },
  {
   "cell_type": "markdown",
   "id": "f5453a2d",
   "metadata": {},
   "source": [
    "## User-Defined Functions"
   ]
  },
  {
   "cell_type": "markdown",
   "id": "914bb549",
   "metadata": {},
   "source": [
    "Let's talk a about user-defined functions. User-defined functions are important for improving clarity of your code by (1) separating different strands of logic, and (2) facilitating code reuse (writing the same thing twice is always a bad idea). \n",
    "\n",
    "Julia functions are convenient. Any number of functions can be defined in a given file. Any value can be passed to a function as an argument, including other functions. Functions can be (and often are) defined inside other functions. A function can return any kind of value, including functions."
   ]
  },
  {
   "cell_type": "markdown",
   "id": "ef220ed3",
   "metadata": {},
   "source": [
    "### Return Statement"
   ]
  },
  {
   "cell_type": "markdown",
   "id": "7e46542e",
   "metadata": {},
   "source": [
    "In Julia, the `return` statement is optional, so that the following functions have identical behavior."
   ]
  },
  {
   "cell_type": "code",
   "execution_count": 8,
   "id": "351ff22a",
   "metadata": {},
   "outputs": [
    {
     "data": {
      "text/plain": [
       "f2 (generic function with 1 method)"
      ]
     },
     "metadata": {},
     "output_type": "display_data"
    }
   ],
   "source": [
    "function f1(a, b)\n",
    "    return a * b\n",
    "end\n",
    "\n",
    "function f2(a, b)\n",
    "    a * b\n",
    "end"
   ]
  },
  {
   "cell_type": "markdown",
   "id": "f9e1770c",
   "metadata": {},
   "source": [
    "When no return statement is present, the last value obtained when executing the code block is returned. Although some prefer the second option, we often favor the former on the basis that explicit is better than implicit. \n",
    "\n",
    "A function can have arbitrarily many `return` statements, with execution terminating when the first return is hit. You can see this in action when experimenting with the following funtion."
   ]
  },
  {
   "cell_type": "code",
   "execution_count": 9,
   "id": "3e94f6f5",
   "metadata": {},
   "outputs": [
    {
     "data": {
      "text/plain": [
       "foo (generic function with 1 method)"
      ]
     },
     "metadata": {},
     "output_type": "display_data"
    }
   ],
   "source": [
    "function foo(x)\n",
    "    if x > 0\n",
    "        return \"Positive\"\n",
    "    end\n",
    "    return \"Non-Positive\"\n",
    "end"
   ]
  },
  {
   "cell_type": "code",
   "execution_count": 10,
   "id": "24c1f4ab",
   "metadata": {},
   "outputs": [
    {
     "data": {
      "text/plain": [
       "\"Positive\""
      ]
     },
     "metadata": {},
     "output_type": "display_data"
    }
   ],
   "source": [
    "foo(3)"
   ]
  },
  {
   "cell_type": "code",
   "execution_count": 11,
   "id": "1caa9970",
   "metadata": {},
   "outputs": [
    {
     "data": {
      "text/plain": [
       "\"Non-Positive\""
      ]
     },
     "metadata": {},
     "output_type": "display_data"
    }
   ],
   "source": [
    "foo(-3)"
   ]
  },
  {
   "cell_type": "markdown",
   "id": "c954a538",
   "metadata": {},
   "source": [
    "### Other Syntax for Defining Functions"
   ]
  },
  {
   "cell_type": "markdown",
   "id": "b1d91aa9",
   "metadata": {},
   "source": [
    "For short function definitions Julia offers some attractive simplified syntax. First, when the function body is a simple expression, it can be defined without the `function` keyword or `end`."
   ]
  },
  {
   "cell_type": "code",
   "execution_count": 12,
   "id": "3b009118",
   "metadata": {},
   "outputs": [
    {
     "data": {
      "text/plain": [
       "f (generic function with 2 methods)"
      ]
     },
     "metadata": {},
     "output_type": "display_data"
    }
   ],
   "source": [
    "f(x) = sin(1 / x)"
   ]
  },
  {
   "cell_type": "markdown",
   "id": "f332f56e",
   "metadata": {},
   "source": [
    "Let's check that it works."
   ]
  },
  {
   "cell_type": "code",
   "execution_count": 13,
   "id": "950875a5",
   "metadata": {},
   "outputs": [
    {
     "data": {
      "text/plain": [
       "1.2246467991473532e-16"
      ]
     },
     "metadata": {},
     "output_type": "display_data"
    }
   ],
   "source": [
    "f(1 / π)"
   ]
  },
  {
   "cell_type": "markdown",
   "id": "f926daf7",
   "metadata": {},
   "source": [
    "Julia also allows you to defined anonymous functions. For example, to define `f(x) = sin(1 / x)` you can use `x -> sin(1 / x)`. The difference is that the second function has no name bound to it. How can you use a function with no name? Typically it's as an argument to another function."
   ]
  },
  {
   "cell_type": "code",
   "execution_count": 14,
   "id": "08dfc965",
   "metadata": {},
   "outputs": [
    {
     "data": {
      "text/plain": [
       "3-element Vector{Float64}:\n",
       "  0.9839182693935972\n",
       " -0.6082419343893112\n",
       "  0.9572334666167178"
      ]
     },
     "metadata": {},
     "output_type": "display_data"
    }
   ],
   "source": [
    "map(x -> sin(1 / x), randn(3)) # apply function to each element"
   ]
  },
  {
   "cell_type": "markdown",
   "id": "270ebbe4",
   "metadata": {},
   "source": [
    "### Optional and Keyword Arguments"
   ]
  },
  {
   "cell_type": "markdown",
   "id": "c4cfaf04",
   "metadata": {},
   "source": [
    "Function arguments can be given default values."
   ]
  },
  {
   "cell_type": "code",
   "execution_count": 15,
   "id": "942b349b",
   "metadata": {},
   "outputs": [
    {
     "data": {
      "text/plain": [
       "f (generic function with 2 methods)"
      ]
     },
     "metadata": {},
     "output_type": "display_data"
    }
   ],
   "source": [
    "f(x, a=1) = exp(cos(a * x))"
   ]
  },
  {
   "cell_type": "markdown",
   "id": "73817647",
   "metadata": {},
   "source": [
    "If the argument is not supplied, the default value is substituted."
   ]
  },
  {
   "cell_type": "code",
   "execution_count": 16,
   "id": "7a94ac48",
   "metadata": {},
   "outputs": [
    {
     "data": {
      "text/plain": [
       "0.36787944117144233"
      ]
     },
     "metadata": {},
     "output_type": "display_data"
    }
   ],
   "source": [
    "f(pi)"
   ]
  },
  {
   "cell_type": "code",
   "execution_count": 17,
   "id": "412e9ff1",
   "metadata": {},
   "outputs": [
    {
     "data": {
      "text/plain": [
       "2.718281828459045"
      ]
     },
     "metadata": {},
     "output_type": "display_data"
    }
   ],
   "source": [
    "f(pi, 2)"
   ]
  },
  {
   "cell_type": "markdown",
   "id": "9a84235c",
   "metadata": {},
   "source": [
    "Another option is to use keyword arguments. The difference between keyword and standard (positional) arguments is that they are parsed and bounded by name rather than the order in the function call. For example, in the call"
   ]
  },
  {
   "cell_type": "code",
   "execution_count": 18,
   "id": "9515de8c",
   "metadata": {},
   "outputs": [
    {
     "data": {
      "text/plain": [
       "2.718281828459045"
      ]
     },
     "metadata": {},
     "output_type": "display_data"
    }
   ],
   "source": [
    "f(x; a=1) = exp(cos(a * x)) # note the ; in the definition\n",
    "f(pi; a=2)"
   ]
  },
  {
   "cell_type": "markdown",
   "id": "66eee6ae",
   "metadata": {},
   "source": [
    "The `;` in this case for calling the function is optional and the last line could equivalently be `f(pi, a=2)`. That said separating keyword arguments `;` is encouraged to clarify the types of arguments, and enables some nice features. For example, local variables used as keyword arguments (or in named tuples) by default pass in the same name."
   ]
  },
  {
   "cell_type": "code",
   "execution_count": 19,
   "id": "54513f3f",
   "metadata": {},
   "outputs": [
    {
     "data": {
      "text/plain": [
       "2.718281828459045"
      ]
     },
     "metadata": {},
     "output_type": "display_data"
    }
   ],
   "source": [
    "a = 2\n",
    "f(pi; a) # equivalent to f(pi; a=a)"
   ]
  },
  {
   "cell_type": "markdown",
   "id": "337d766e",
   "metadata": {},
   "source": [
    "While it may seem terse at first, this pattern is common across Julia and is worth getting used to. If you see an argument in Julia to the right of the `;` assume it is a keyword argument with the name matching the value. The automatic naming of keyword arguments is also picked up automatically when they are fields in named tuples or structs."
   ]
  },
  {
   "cell_type": "code",
   "execution_count": 20,
   "id": "39ac3c2a",
   "metadata": {},
   "outputs": [
    {
     "data": {
      "text/plain": [
       "2.718281828459045"
      ]
     },
     "metadata": {},
     "output_type": "display_data"
    }
   ],
   "source": [
    "nt = (; a=2, b=10)\n",
    "f(pi; nt.a) # equivalent to f(pi; a=nt.a)"
   ]
  },
  {
   "cell_type": "markdown",
   "id": "94060cfb",
   "metadata": {},
   "source": [
    "## Broadcasting"
   ]
  },
  {
   "cell_type": "markdown",
   "id": "176bc51b",
   "metadata": {},
   "source": [
    "A common scenario in computing is that\n",
    "\n",
    "- we have a function `f` such that `f(x)` returns a number for any number `x`\n",
    "- we wish to apply `f` to every element of an iterable `x_vec` to produce a new result `y_vec`.\n",
    "\n",
    "In Julia loops are fast and we can do this easily enough with a loop. For example, suppose that we want to apply `sin` to `x_vec = [2.0, 4.0, 6.0, 8.0]`. The following code will do the job."
   ]
  },
  {
   "cell_type": "code",
   "execution_count": 21,
   "id": "6d24c964",
   "metadata": {},
   "outputs": [
    {
     "data": {
      "text/plain": [
       "4-element Vector{Float64}:\n",
       "  0.9092974268256817\n",
       " -0.7568024953079282\n",
       " -0.27941549819892586\n",
       "  0.9893582466233818"
      ]
     },
     "metadata": {},
     "output_type": "display_data"
    }
   ],
   "source": [
    "x_vec = [2.0, 4.0, 6.0, 8.0]\n",
    "y_vec = similar(x_vec)\n",
    "for (i, x) in enumerate(x_vec)\n",
    "    y_vec[i] = sin(x)\n",
    "end\n",
    "y_vec"
   ]
  },
  {
   "cell_type": "markdown",
   "id": "b1743eb0",
   "metadata": {},
   "source": [
    "or alternatively just iterating with indicies."
   ]
  },
  {
   "cell_type": "code",
   "execution_count": 22,
   "id": "633dd70e",
   "metadata": {},
   "outputs": [
    {
     "data": {
      "text/plain": [
       "4-element Vector{Float64}:\n",
       "  0.9092974268256817\n",
       " -0.7568024953079282\n",
       " -0.27941549819892586\n",
       "  0.9893582466233818"
      ]
     },
     "metadata": {},
     "output_type": "display_data"
    }
   ],
   "source": [
    "x_vec = [2.0, 4.0, 6.0, 8.0]\n",
    "y_vec = similar(x_vec)\n",
    "for i in eachindex(x_vec)\n",
    "    y_vec[i] = sin(x_vec[i])\n",
    "end\n",
    "y_vec"
   ]
  },
  {
   "cell_type": "markdown",
   "id": "9666be86",
   "metadata": {},
   "source": [
    "But this is a bit unwieldly so Julia offers the alternative syntax."
   ]
  },
  {
   "cell_type": "code",
   "execution_count": 23,
   "id": "e69cd8e4",
   "metadata": {},
   "outputs": [
    {
     "data": {
      "text/plain": [
       "4-element Vector{Float64}:\n",
       "  0.9092974268256817\n",
       " -0.7568024953079282\n",
       " -0.27941549819892586\n",
       "  0.9893582466233818"
      ]
     },
     "metadata": {},
     "output_type": "display_data"
    }
   ],
   "source": [
    "y_vec = sin.(x_vec)"
   ]
  },
  {
   "cell_type": "markdown",
   "id": "3001646e",
   "metadata": {},
   "source": [
    "More generally, if `f` is any Julia function, then `f.` references the broadcasted version. Conveniently, this applies to user-defined functions as well. To illustrate, let's write a function `chisq(k)` returns a chi-squared random variable with `k` degrees of freedom when `k` is an integer. In doing this we'll exploit the fact that, if we take `k` independent standard normals, square them all and sum, we get a chi-squared with `k` degrees of freedom."
   ]
  },
  {
   "cell_type": "code",
   "execution_count": 24,
   "id": "77c14bf2",
   "metadata": {},
   "outputs": [
    {
     "data": {
      "text/plain": [
       "chisq (generic function with 1 method)"
      ]
     },
     "metadata": {},
     "output_type": "display_data"
    }
   ],
   "source": [
    "function chisq(k)\n",
    "    @assert k > 0\n",
    "    z = randn(k)\n",
    "    return sum(z -> z^2, z) # same as `sum(x^2 for x in z)`\n",
    "end"
   ]
  },
  {
   "cell_type": "markdown",
   "id": "c307d783",
   "metadata": {},
   "source": [
    "The macro `@assert` will check that the next expression evaluates to `true`, and will stop and display an error otherwise."
   ]
  },
  {
   "cell_type": "code",
   "execution_count": 25,
   "id": "ef490349",
   "metadata": {},
   "outputs": [
    {
     "data": {
      "text/plain": [
       "4.071841136125328"
      ]
     },
     "metadata": {},
     "output_type": "display_data"
    }
   ],
   "source": [
    "chisq(3)"
   ]
  },
  {
   "cell_type": "markdown",
   "id": "ee46d3f3",
   "metadata": {},
   "source": [
    "Note that calls with integers less than 1 will trigger an assertion failure inside the function body."
   ]
  },
  {
   "cell_type": "code",
   "execution_count": 26,
   "id": "7a224981",
   "metadata": {},
   "outputs": [
    {
     "ename": "AssertionError",
     "evalue": "AssertionError: k > 0",
     "output_type": "error",
     "traceback": [
      "AssertionError: k > 0\n",
      "\n",
      "Stacktrace:\n",
      " [1] chisq(k::Int64)\n",
      "   @ Main ~/Desktop/Coursework/numerical-methods/julia/jl_notebook_cell_df34fa98e69747e1a8f8a730347b8e2f_X52sZmlsZQ==.jl:2\n",
      " [2] top-level scope\n",
      "   @ ~/Desktop/Coursework/numerical-methods/julia/jl_notebook_cell_df34fa98e69747e1a8f8a730347b8e2f_X56sZmlsZQ==.jl:1"
     ]
    }
   ],
   "source": [
    "chisq(-2)"
   ]
  },
  {
   "cell_type": "markdown",
   "id": "0dc6289a",
   "metadata": {},
   "source": [
    "Let's try this out on an array of integers, adding the broadcast."
   ]
  },
  {
   "cell_type": "code",
   "execution_count": 27,
   "id": "12158e18",
   "metadata": {},
   "outputs": [
    {
     "data": {
      "text/plain": [
       "3-element Vector{Float64}:\n",
       "  7.834416291454931\n",
       "  2.062093179165401\n",
       " 12.7143142008434"
      ]
     },
     "metadata": {},
     "output_type": "display_data"
    }
   ],
   "source": [
    "chisq.([2, 4, 6])"
   ]
  },
  {
   "cell_type": "markdown",
   "id": "fc93aa12",
   "metadata": {},
   "source": [
    "The broadcasting notation is not simply vectorization, as it is able to \"fuse\" multiple broadcasts together to generate efficient code."
   ]
  },
  {
   "cell_type": "code",
   "execution_count": 28,
   "id": "f7f2c962",
   "metadata": {},
   "outputs": [
    {
     "data": {
      "text/plain": [
       "5-element Vector{Float64}:\n",
       "  2.1585290151921033\n",
       "  5.090702573174318\n",
       "  7.858879991940133\n",
       " 10.756802495307928\n",
       " 13.958924274663138"
      ]
     },
     "metadata": {},
     "output_type": "display_data"
    }
   ],
   "source": [
    "x = 1.0:1.0:5.0\n",
    "y = [2.0, 4.0, 5.0, 6.0, 8.0]\n",
    "z = similar(y)\n",
    "\n",
    "z .= x .+ y .- sin.(x) # generates efficient code instead of many temporaries"
   ]
  },
  {
   "cell_type": "markdown",
   "id": "0ee26448",
   "metadata": {},
   "source": [
    "A convenience macro for adding broadcasting on every function call is `@.`."
   ]
  },
  {
   "cell_type": "code",
   "execution_count": 29,
   "id": "58e88a1e",
   "metadata": {},
   "outputs": [
    {
     "data": {
      "text/plain": [
       "5-element Vector{Float64}:\n",
       "  2.1585290151921033\n",
       "  5.090702573174318\n",
       "  7.858879991940133\n",
       " 10.756802495307928\n",
       " 13.958924274663138"
      ]
     },
     "metadata": {},
     "output_type": "display_data"
    }
   ],
   "source": [
    "@. z = x + y - sin(x)"
   ]
  },
  {
   "cell_type": "markdown",
   "id": "c4ba0bd6",
   "metadata": {},
   "source": [
    "Since the `+`, `-`, `=` operators are functions, behind the scenes this is broadcasting against both the `x` and `y` vectors. The compiler will fix anything which is a scalar, and otherwise iterate across every vector."
   ]
  },
  {
   "cell_type": "code",
   "execution_count": 30,
   "id": "b8014463",
   "metadata": {},
   "outputs": [
    {
     "name": "stdout",
     "output_type": "stream",
     "text": [
      "f.(a, b) = [5 7 9]\n",
      "f.(a, 2) = [3 4 5]\n"
     ]
    }
   ],
   "source": [
    "f(a, b) = a + b # bivariate function\n",
    "a = [1 2 3]\n",
    "b = [4 5 6]\n",
    "\n",
    "@show f.(a, b)  # across both\n",
    "@show f.(a, 2); # fix scalar for second"
   ]
  },
  {
   "cell_type": "markdown",
   "id": "654f911e",
   "metadata": {},
   "source": [
    "The compiler is only able to detect \"scalar\" values in this way for a limited number of types (e.g., integers, floating point numbers, etc) and some packages (e.g., Distributions). For other types, you will need to wrap any scalars in `Ref` to fix them, or else it will try to broadcast the value. Another place that you may use a `Ref` is to fix a function parameter you do not want to broadcast over."
   ]
  },
  {
   "cell_type": "code",
   "execution_count": 41,
   "id": "a782a40f",
   "metadata": {},
   "outputs": [
    {
     "name": "stdout",
     "output_type": "stream",
     "text": [
      "f([3, 4, 5], 2) = 28\n",
      "f.(Ref([3, 4, 5]), [2, 3]) = [28, 29]\n"
     ]
    }
   ],
   "source": [
    "f(x, y) = [1, 2, 3] ⋅ x + y       # \"⋅\" can be typed by \\cdot<TAB>\n",
    "@show f([3, 4, 5], 2)             # use vector as first parameter\n",
    "@show f.(Ref([3, 4, 5]), [2, 3]); # broadcasting over 2nd parameter, fixing first"
   ]
  },
  {
   "cell_type": "markdown",
   "id": "31abb406",
   "metadata": {},
   "source": [
    "## Scoping and Closures"
   ]
  },
  {
   "cell_type": "markdown",
   "id": "697c0ee9",
   "metadata": {},
   "source": [
    "Since global variables are usually a bad idea, we will concentrate on understanding the role of good local scoping practice. That said, while many of the variables in these Jupyter notebook are global, we have been careful to write the code so that the entire code could be copied inside of a function. When copied inside a function, variables become local and functions become closures.\n",
    "\n",
    "Caveats. For/While loops and global variables in Jupyter vs. the REPL:\n",
    "- In the current version of Julia, there is a disctinction between the use of scope in an interactive Jupyter environment.\n",
    "- The description here of globals applies to Jupyter notebooks, and may also apply to the REPL and top-level scripts.\n",
    "- In general, you should be creating functions when working with `.jl` files, and the distinction generally won't apply.\n",
    "\n",
    "For more information on using globals outside of Jupyter, see [variable scoping documentation](https://docs.julialang.org/en/v1/manual/variables-and-scoping/), though these rules are likely to become consistent in a future version."
   ]
  },
  {
   "cell_type": "markdown",
   "id": "0bcca35e",
   "metadata": {},
   "source": [
    "### Functions"
   ]
  },
  {
   "cell_type": "markdown",
   "id": "ec1eb322",
   "metadata": {},
   "source": [
    "The scope of a variable name determines where it is valid to refer to it, and how clashes between names can occur. Think of the scope as a list of all of the name bindings of relevant variables. Different scopes could contain the same name but be assigned to different things. An obvious place to start is to notice that functions introduce their own local names."
   ]
  },
  {
   "cell_type": "code",
   "execution_count": 1,
   "id": "2efadcc8",
   "metadata": {},
   "outputs": [
    {
     "data": {
      "text/plain": [
       "25"
      ]
     },
     "metadata": {},
     "output_type": "display_data"
    }
   ],
   "source": [
    "f(x) = x^2 # local `x` in scope\n",
    "\n",
    "# x is not bound to anything in this outer scope\n",
    "y = 5\n",
    "f(y)"
   ]
  },
  {
   "cell_type": "markdown",
   "id": "4bd10bff",
   "metadata": {},
   "source": [
    "This would be roughly equivalent to"
   ]
  },
  {
   "cell_type": "code",
   "execution_count": 2,
   "id": "8952242e",
   "metadata": {},
   "outputs": [
    {
     "data": {
      "text/plain": [
       "25"
      ]
     },
     "metadata": {},
     "output_type": "display_data"
    }
   ],
   "source": [
    "function g() # scope within the `g` function\n",
    "    f(x) = x^2 # local `x` in scope\n",
    "\n",
    "    # x is not bound to anything in this outer scope\n",
    "    f(y)\n",
    "end\n",
    "g() # run the function"
   ]
  },
  {
   "cell_type": "markdown",
   "id": "c47780ba",
   "metadata": {},
   "source": [
    "This is also equivalent if the `y` was changed to `x`, since it is a different scope."
   ]
  },
  {
   "cell_type": "code",
   "execution_count": 3,
   "id": "d403efe7",
   "metadata": {},
   "outputs": [
    {
     "data": {
      "text/plain": [
       "25"
      ]
     },
     "metadata": {},
     "output_type": "display_data"
    }
   ],
   "source": [
    "f(x) = x^2 # local `x` in scope\n",
    "\n",
    "# x is not bound to anything in this outer scope\n",
    "x = 5 # a different `x` than the local variable name\n",
    "f(x)  # calling `f` with `x`"
   ]
  },
  {
   "cell_type": "markdown",
   "id": "a1d0ca87",
   "metadata": {},
   "source": [
    "The scoping also applies to named arguments in functions."
   ]
  },
  {
   "cell_type": "code",
   "execution_count": 4,
   "id": "f239ce21",
   "metadata": {},
   "outputs": [
    {
     "data": {
      "text/plain": [
       "2.1"
      ]
     },
     "metadata": {},
     "output_type": "display_data"
    }
   ],
   "source": [
    "f(x; y=1) = x + y # `x` and `y` are names local to the `f` function\n",
    "xval = 0.1\n",
    "yval = 2\n",
    "f(xval; y=yval)"
   ]
  },
  {
   "cell_type": "markdown",
   "id": "221991c2",
   "metadata": {},
   "source": [
    "Due to scoping, you could write this as"
   ]
  },
  {
   "cell_type": "code",
   "execution_count": 6,
   "id": "41f6afc8",
   "metadata": {},
   "outputs": [
    {
     "data": {
      "text/plain": [
       "2.1"
      ]
     },
     "metadata": {},
     "output_type": "display_data"
    }
   ],
   "source": [
    "f(x; y=1) = x + y # `x` and `y` are names local to the `f` function\n",
    "x = 0.1\n",
    "y = 2\n",
    "f(x; y)"
   ]
  },
  {
   "cell_type": "markdown",
   "id": "e0a8cc17",
   "metadata": {},
   "source": [
    "As always, the `f(x; y)` is equivalent to `f(x; y=y)`. Similarly to named arguments, the local scope also works with named tuples."
   ]
  },
  {
   "cell_type": "code",
   "execution_count": 9,
   "id": "de6bed53",
   "metadata": {},
   "outputs": [
    {
     "name": "stdout",
     "output_type": "stream",
     "text": [
      "(; x = xval, y = yval) = (x = 0.1, y = 2)\n",
      "(; x = x, y = y) = (x = 0.1, y = 2)\n",
      "(; x, y) = (x = 0.1, y = 2)\n"
     ]
    }
   ],
   "source": [
    "xval = 0.1\n",
    "yval = 2\n",
    "@show (; x=xval, y=yval) # named tuple with names `x` and `y`\n",
    "\n",
    "x = 0.1\n",
    "y = 2\n",
    "\n",
    "# Create a named tuple with names `x` and `y` local to the tuple\n",
    "@show (; x=x, y=y)\n",
    "\n",
    "# better yet\n",
    "@show (; x, y);"
   ]
  },
  {
   "cell_type": "markdown",
   "id": "4588ac85",
   "metadata": {},
   "source": [
    "As you use Julia, you will find that scoping is very natural and that there is no reason to avoid using `x` and `y` in both places. In fact, it frequently leads to clear code closer to the math when you don't need to specify intermediaries. Another example is with broadcasting."
   ]
  },
  {
   "cell_type": "code",
   "execution_count": 11,
   "id": "b683c694",
   "metadata": {},
   "outputs": [
    {
     "data": {
      "text/plain": [
       "5-element Vector{Int64}:\n",
       "  1\n",
       "  4\n",
       "  9\n",
       " 16\n",
       " 25"
      ]
     },
     "metadata": {},
     "output_type": "display_data"
    }
   ],
   "source": [
    "f(x) = x^2 # local `x` in scope\n",
    "\n",
    "x = 1:5    # not an integer\n",
    "\n",
    "f.(x)      # broadcasts the x^2 function over the vector"
   ]
  },
  {
   "cell_type": "markdown",
   "id": "bcca9279",
   "metadata": {},
   "source": [
    "### Closures"
   ]
  },
  {
   "cell_type": "markdown",
   "id": "19ddd4a5",
   "metadata": {},
   "source": [
    "Frequently, you will want to have a function that calculates a value given some fixed parameters."
   ]
  },
  {
   "cell_type": "code",
   "execution_count": 12,
   "id": "2eccc605",
   "metadata": {},
   "outputs": [
    {
     "data": {
      "text/plain": [
       "0.2"
      ]
     },
     "metadata": {},
     "output_type": "display_data"
    }
   ],
   "source": [
    "f(x, a) = a * x^2\n",
    "f(1, 0.2)"
   ]
  },
  {
   "cell_type": "markdown",
   "id": "b22eef21",
   "metadata": {},
   "source": [
    "While the above was convenient, there are other times when you want to simply fix a variable or refer to something already calculated."
   ]
  },
  {
   "cell_type": "code",
   "execution_count": 13,
   "id": "4d7912ac",
   "metadata": {},
   "outputs": [
    {
     "data": {
      "text/plain": [
       "0.2"
      ]
     },
     "metadata": {},
     "output_type": "display_data"
    }
   ],
   "source": [
    "a = 0.2\n",
    "f(x) = a * x^2 # refers to the `a` in the outer scope\n",
    "f(1)           # univariate function"
   ]
  },
  {
   "cell_type": "markdown",
   "id": "ffe5cc6a",
   "metadata": {},
   "source": [
    "When the function `f` is parsed in Julia, it will look to see if any of the variables are already defined in the current scope. In this case, it finds the `a` since it was defined previously, whereas if the code defines `a = 0.2` after the `f(x)` definition, it would fail. This also works when embedded in other functions."
   ]
  },
  {
   "cell_type": "code",
   "execution_count": 14,
   "id": "bd14bd67",
   "metadata": {},
   "outputs": [
    {
     "data": {
      "text/plain": [
       "0.2"
      ]
     },
     "metadata": {},
     "output_type": "display_data"
    }
   ],
   "source": [
    "function g(a)\n",
    "    f(x) = a * x^2 # refers to the `a` passed in the function\n",
    "    f(1)\n",
    "end\n",
    "g(0.2)"
   ]
  },
  {
   "cell_type": "markdown",
   "id": "778f90d0",
   "metadata": {},
   "source": [
    "Comparing the two: the key here is not that `a` is a global variable, but rather that the `f` function is defined to capture a variable from an outer scope. This is called a **closure**, and are used throughout the lectures. It is generally bad practice to modify the captured variable in the function, but otherwise the code becomes very clear. One place where this can be helpful is in a string of dependent calculations. For example, if you wanted to calculate a `(a, b, c)` from `a = f(x)`, `b = g(a)`, `c = h(a, b)` where $f(x) = x^2$, $g(a) = 2a$, $h(a, b) = a + b$."
   ]
  },
  {
   "cell_type": "code",
   "execution_count": 15,
   "id": "edaa0817",
   "metadata": {},
   "outputs": [
    {
     "data": {
      "text/plain": [
       "(a = 0.010000000000000002, b = 0.020000000000000004, c = 0.030000000000000006)"
      ]
     },
     "metadata": {},
     "output_type": "display_data"
    }
   ],
   "source": [
    "function solve_model(x)\n",
    "    a = x^2\n",
    "    b = 2 * a\n",
    "    c = a + b\n",
    "    return (; a, b, c) # note local scope of tuples    \n",
    "end\n",
    "\n",
    "solve_model(0.1)"
   ]
  },
  {
   "cell_type": "markdown",
   "id": "0244cb86",
   "metadata": {},
   "source": [
    "Named tuple and structure parameters can then be unpacked using the reverse notation."
   ]
  },
  {
   "cell_type": "code",
   "execution_count": 19,
   "id": "7255703e",
   "metadata": {},
   "outputs": [
    {
     "name": "stdout",
     "output_type": "stream",
     "text": [
      "a = 0.010000000000000002, b = 0.020000000000000004, c = 0.030000000000000006\n"
     ]
    }
   ],
   "source": [
    "(; a, b, c) = solve_model(0.1)\n",
    "println(\"a = $a, b = $b, c = $c\")"
   ]
  },
  {
   "cell_type": "markdown",
   "id": "5c254dde",
   "metadata": {},
   "source": [
    "### Higher-Order Functions"
   ]
  },
  {
   "cell_type": "markdown",
   "id": "260d733a",
   "metadata": {},
   "source": [
    "One of the benefits of working with closures and functions is that you can return them from other functions. This leads to some natural programming patterns we have already been using, where we can use functions of functions and functions returning functions (or closures). To see a simple example, consider functions that accept other functions (including closures)."
   ]
  },
  {
   "cell_type": "code",
   "execution_count": 23,
   "id": "558197f8",
   "metadata": {},
   "outputs": [
    {
     "name": "stdout",
     "output_type": "stream",
     "text": [
      "twice(f, 2.0) = 16.0\n",
      "twice(g, 2.0) = 50.0\n"
     ]
    }
   ],
   "source": [
    "twice(f, x) = f(f(x)) # applies f to itself twice\n",
    "f(x) = x^2\n",
    "@show twice(f, 2.0)   # equivalent to twice(x -> x^2, 2.0)\n",
    "\n",
    "a = 5\n",
    "g(x) = a * x\n",
    "@show twice(g, 2.0);  # using a closure"
   ]
  },
  {
   "cell_type": "markdown",
   "id": "665c2447",
   "metadata": {},
   "source": [
    "This pattern has already been used extensively in our code and is key to keeping things like interpolation, numerical integration, and plotting. An example is for a function that returns a closure itself."
   ]
  },
  {
   "cell_type": "code",
   "execution_count": 25,
   "id": "f62a379f",
   "metadata": {},
   "outputs": [
    {
     "data": {
      "text/plain": [
       "8.0"
      ]
     },
     "metadata": {},
     "output_type": "display_data"
    }
   ],
   "source": [
    "function multiplyit(a, g)\n",
    "    return x -> a * g(x) # function with `g` used in closure\n",
    "end\n",
    "\n",
    "f(x) = x^2\n",
    "h = multiplyit(2.0, f)   # returns function which doubles the result\n",
    "h(2)                     # returned function is like any other function"
   ]
  },
  {
   "cell_type": "markdown",
   "id": "d8f0ccc6",
   "metadata": {},
   "source": [
    "You can create and define using `function` as well."
   ]
  },
  {
   "cell_type": "code",
   "execution_count": 34,
   "id": "bbe30818",
   "metadata": {},
   "outputs": [
    {
     "data": {
      "image/png": "[encoded data removed]",
      "image/svg+xml": [
       "<?xml version=\"1.0\" encoding=\"utf-8\"?>\n",
       "<svg xmlns=\"http://www.w3.org/2000/svg\" xmlns:xlink=\"http://www.w3.org/1999/xlink\" width=\"600\" height=\"400\" viewBox=\"0 0 2400 1600\">\n",
       "<defs>\n",
       "  <clipPath id=\"clip170\">\n",
       "    <rect x=\"0\" y=\"0\" width=\"2400\" height=\"1600\"/>\n",
       "  </clipPath>\n",
       "</defs>\n",
       "<path clip-path=\"url(#clip170)\" d=\"M0 1600 L2400 1600 L2400 8.88178e-14 L0 8.88178e-14  Z\" fill=\"#ffffff\" fill-rule=\"evenodd\" fill-opacity=\"1\"/>\n",
       "<defs>\n",
       "  <clipPath id=\"clip171\">\n",
       "    <rect x=\"480\" y=\"0\" width=\"1681\" height=\"1600\"/>\n",
       "  </clipPath>\n",
       "</defs>\n",
       "<path clip-path=\"url(#clip170)\" d=\"M112.177 1486.45 L2352.76 1486.45 L2352.76 47.2441 L112.177 47.2441  Z\" fill=\"#ffffff\" fill-rule=\"evenodd\" fill-opacity=\"1\"/>\n",
       "<defs>\n",
       "  <clipPath id=\"clip172\">\n",
       "    <rect x=\"112\" y=\"47\" width=\"2242\" height=\"1440\"/>\n",
       "  </clipPath>\n",
       "</defs>\n",
       "<polyline clip-path=\"url(#clip172)\" style=\"stroke:#000000; stroke-linecap:round; stroke-linejoin:round; stroke-width:2; stroke-opacity:0.1; fill:none\" points=\"175.59,1486.45 175.59,47.2441 \"/>\n",
       "<polyline clip-path=\"url(#clip172)\" style=\"stroke:#000000; stroke-linecap:round; stroke-linejoin:round; stroke-width:2; stroke-opacity:0.1; fill:none\" points=\"880.174,1486.45 880.174,47.2441 \"/>\n",
       "<polyline clip-path=\"url(#clip172)\" style=\"stroke:#000000; stroke-linecap:round; stroke-linejoin:round; stroke-width:2; stroke-opacity:0.1; fill:none\" points=\"1584.76,1486.45 1584.76,47.2441 \"/>\n",
       "<polyline clip-path=\"url(#clip172)\" style=\"stroke:#000000; stroke-linecap:round; stroke-linejoin:round; stroke-width:2; stroke-opacity:0.1; fill:none\" points=\"2289.34,1486.45 2289.34,47.2441 \"/>\n",
       "<polyline clip-path=\"url(#clip172)\" style=\"stroke:#000000; stroke-linecap:round; stroke-linejoin:round; stroke-width:2; stroke-opacity:0.1; fill:none\" points=\"112.177,1445.72 2352.76,1445.72 \"/>\n",
       "<polyline clip-path=\"url(#clip172)\" style=\"stroke:#000000; stroke-linecap:round; stroke-linejoin:round; stroke-width:2; stroke-opacity:0.1; fill:none\" points=\"112.177,1174.17 2352.76,1174.17 \"/>\n",
       "<polyline clip-path=\"url(#clip172)\" style=\"stroke:#000000; stroke-linecap:round; stroke-linejoin:round; stroke-width:2; stroke-opacity:0.1; fill:none\" points=\"112.177,902.62 2352.76,902.62 \"/>\n",
       "<polyline clip-path=\"url(#clip172)\" style=\"stroke:#000000; stroke-linecap:round; stroke-linejoin:round; stroke-width:2; stroke-opacity:0.1; fill:none\" points=\"112.177,631.072 2352.76,631.072 \"/>\n",
       "<polyline clip-path=\"url(#clip172)\" style=\"stroke:#000000; stroke-linecap:round; stroke-linejoin:round; stroke-width:2; stroke-opacity:0.1; fill:none\" points=\"112.177,359.524 2352.76,359.524 \"/>\n",
       "<polyline clip-path=\"url(#clip172)\" style=\"stroke:#000000; stroke-linecap:round; stroke-linejoin:round; stroke-width:2; stroke-opacity:0.1; fill:none\" points=\"112.177,87.9763 2352.76,87.9763 \"/>\n",
       "<polyline clip-path=\"url(#clip170)\" style=\"stroke:#000000; stroke-linecap:round; stroke-linejoin:round; stroke-width:4; stroke-opacity:1; fill:none\" points=\"112.177,1486.45 2352.76,1486.45 \"/>\n",
       "<polyline clip-path=\"url(#clip170)\" style=\"stroke:#000000; stroke-linecap:round; stroke-linejoin:round; stroke-width:4; stroke-opacity:1; fill:none\" points=\"175.59,1486.45 175.59,1467.55 \"/>\n",
       "<polyline clip-path=\"url(#clip170)\" style=\"stroke:#000000; stroke-linecap:round; stroke-linejoin:round; stroke-width:4; stroke-opacity:1; fill:none\" points=\"880.174,1486.45 880.174,1467.55 \"/>\n",
       "<polyline clip-path=\"url(#clip170)\" style=\"stroke:#000000; stroke-linecap:round; stroke-linejoin:round; stroke-width:4; stroke-opacity:1; fill:none\" points=\"1584.76,1486.45 1584.76,1467.55 \"/>\n",
       "<polyline clip-path=\"url(#clip170)\" style=\"stroke:#000000; stroke-linecap:round; stroke-linejoin:round; stroke-width:4; stroke-opacity:1; fill:none\" points=\"2289.34,1486.45 2289.34,1467.55 \"/>\n",
       "<path clip-path=\"url(#clip170)\" d=\"M175.59 1517.37 Q171.979 1517.37 170.15 1520.93 Q168.344 1524.47 168.344 1531.6 Q168.344 1538.71 170.15 1542.27 Q171.979 1545.82 175.59 1545.82 Q179.224 1545.82 181.03 1542.27 Q182.858 1538.71 182.858 1531.6 Q182.858 1524.47 181.03 1520.93 Q179.224 1517.37 175.59 1517.37 M175.59 1513.66 Q181.4 1513.66 184.455 1518.27 Q187.534 1522.85 187.534 1531.6 Q187.534 1540.33 184.455 1544.94 Q181.4 1549.52 175.59 1549.52 Q169.78 1549.52 166.701 1544.94 Q163.645 1540.33 163.645 1531.6 Q163.645 1522.85 166.701 1518.27 Q169.78 1513.66 175.59 1513.66 Z\" fill=\"#000000\" fill-rule=\"nonzero\" fill-opacity=\"1\" /><path clip-path=\"url(#clip170)\" d=\"M870.556 1544.91 L878.195 1544.91 L878.195 1518.55 L869.885 1520.21 L869.885 1515.95 L878.149 1514.29 L882.825 1514.29 L882.825 1544.91 L890.464 1544.91 L890.464 1548.85 L870.556 1548.85 L870.556 1544.91 Z\" fill=\"#000000\" fill-rule=\"nonzero\" fill-opacity=\"1\" /><path clip-path=\"url(#clip170)\" d=\"M1579.41 1544.91 L1595.73 1544.91 L1595.73 1548.85 L1573.79 1548.85 L1573.79 1544.91 Q1576.45 1542.16 1581.03 1537.53 Q1585.64 1532.88 1586.82 1531.53 Q1589.06 1529.01 1589.94 1527.27 Q1590.85 1525.51 1590.85 1523.82 Q1590.85 1521.07 1588.9 1519.33 Q1586.98 1517.6 1583.88 1517.6 Q1581.68 1517.6 1579.23 1518.36 Q1576.8 1519.13 1574.02 1520.68 L1574.02 1515.95 Q1576.84 1514.82 1579.3 1514.24 Q1581.75 1513.66 1583.79 1513.66 Q1589.16 1513.66 1592.35 1516.35 Q1595.55 1519.03 1595.55 1523.52 Q1595.55 1525.65 1594.74 1527.57 Q1593.95 1529.47 1591.84 1532.07 Q1591.26 1532.74 1588.16 1535.95 Q1585.06 1539.15 1579.41 1544.91 Z\" fill=\"#000000\" fill-rule=\"nonzero\" fill-opacity=\"1\" /><path clip-path=\"url(#clip170)\" d=\"M2293.59 1530.21 Q2296.95 1530.93 2298.82 1533.2 Q2300.72 1535.47 2300.72 1538.8 Q2300.72 1543.92 2297.2 1546.72 Q2293.68 1549.52 2287.2 1549.52 Q2285.03 1549.52 2282.71 1549.08 Q2280.42 1548.66 2277.97 1547.81 L2277.97 1543.29 Q2279.91 1544.43 2282.23 1545.01 Q2284.54 1545.58 2287.06 1545.58 Q2291.46 1545.58 2293.75 1543.85 Q2296.07 1542.11 2296.07 1538.8 Q2296.07 1535.75 2293.92 1534.03 Q2291.79 1532.3 2287.97 1532.3 L2283.94 1532.3 L2283.94 1528.45 L2288.15 1528.45 Q2291.6 1528.45 2293.43 1527.09 Q2295.26 1525.7 2295.26 1523.11 Q2295.26 1520.45 2293.36 1519.03 Q2291.48 1517.6 2287.97 1517.6 Q2286.04 1517.6 2283.85 1518.01 Q2281.65 1518.43 2279.01 1519.31 L2279.01 1515.14 Q2281.67 1514.4 2283.98 1514.03 Q2286.32 1513.66 2288.38 1513.66 Q2293.71 1513.66 2296.81 1516.09 Q2299.91 1518.5 2299.91 1522.62 Q2299.91 1525.49 2298.27 1527.48 Q2296.62 1529.45 2293.59 1530.21 Z\" fill=\"#000000\" fill-rule=\"nonzero\" fill-opacity=\"1\" /><polyline clip-path=\"url(#clip170)\" style=\"stroke:#000000; stroke-linecap:round; stroke-linejoin:round; stroke-width:4; stroke-opacity:1; fill:none\" points=\"112.177,1486.45 112.177,47.2441 \"/>\n",
       "<polyline clip-path=\"url(#clip170)\" style=\"stroke:#000000; stroke-linecap:round; stroke-linejoin:round; stroke-width:4; stroke-opacity:1; fill:none\" points=\"112.177,1445.72 131.075,1445.72 \"/>\n",
       "<polyline clip-path=\"url(#clip170)\" style=\"stroke:#000000; stroke-linecap:round; stroke-linejoin:round; stroke-width:4; stroke-opacity:1; fill:none\" points=\"112.177,1174.17 131.075,1174.17 \"/>\n",
       "<polyline clip-path=\"url(#clip170)\" style=\"stroke:#000000; stroke-linecap:round; stroke-linejoin:round; stroke-width:4; stroke-opacity:1; fill:none\" points=\"112.177,902.62 131.075,902.62 \"/>\n",
       "<polyline clip-path=\"url(#clip170)\" style=\"stroke:#000000; stroke-linecap:round; stroke-linejoin:round; stroke-width:4; stroke-opacity:1; fill:none\" points=\"112.177,631.072 131.075,631.072 \"/>\n",
       "<polyline clip-path=\"url(#clip170)\" style=\"stroke:#000000; stroke-linecap:round; stroke-linejoin:round; stroke-width:4; stroke-opacity:1; fill:none\" points=\"112.177,359.524 131.075,359.524 \"/>\n",
       "<polyline clip-path=\"url(#clip170)\" style=\"stroke:#000000; stroke-linecap:round; stroke-linejoin:round; stroke-width:4; stroke-opacity:1; fill:none\" points=\"112.177,87.9763 131.075,87.9763 \"/>\n",
       "<path clip-path=\"url(#clip170)\" d=\"M66.5939 1432.51 L54.7884 1450.96 L66.5939 1450.96 L66.5939 1432.51 M65.367 1428.44 L71.2466 1428.44 L71.2466 1450.96 L76.1772 1450.96 L76.1772 1454.85 L71.2466 1454.85 L71.2466 1463 L66.5939 1463 L66.5939 1454.85 L50.9921 1454.85 L50.9921 1450.33 L65.367 1428.44 Z\" fill=\"#000000\" fill-rule=\"nonzero\" fill-opacity=\"1\" /><path clip-path=\"url(#clip170)\" d=\"M55.2745 1156.89 L73.6309 1156.89 L73.6309 1160.82 L59.5569 1160.82 L59.5569 1169.3 Q60.5754 1168.95 61.5939 1168.79 Q62.6124 1168.6 63.6309 1168.6 Q69.418 1168.6 72.7976 1171.77 Q76.1772 1174.94 76.1772 1180.36 Q76.1772 1185.94 72.705 1189.04 Q69.2328 1192.12 62.9134 1192.12 Q60.7374 1192.12 58.4689 1191.75 Q56.2236 1191.38 53.8162 1190.64 L53.8162 1185.94 Q55.8995 1187.07 58.1217 1187.63 Q60.3439 1188.18 62.8208 1188.18 Q66.8254 1188.18 69.1633 1186.08 Q71.5013 1183.97 71.5013 1180.36 Q71.5013 1176.75 69.1633 1174.64 Q66.8254 1172.54 62.8208 1172.54 Q60.9458 1172.54 59.0708 1172.95 Q57.2189 1173.37 55.2745 1174.25 L55.2745 1156.89 Z\" fill=\"#000000\" fill-rule=\"nonzero\" fill-opacity=\"1\" /><path clip-path=\"url(#clip170)\" d=\"M64.6495 900.757 Q61.5013 900.757 59.6495 902.909 Q57.8208 905.062 57.8208 908.812 Q57.8208 912.539 59.6495 914.715 Q61.5013 916.868 64.6495 916.868 Q67.7976 916.868 69.6263 914.715 Q71.4781 912.539 71.4781 908.812 Q71.4781 905.062 69.6263 902.909 Q67.7976 900.757 64.6495 900.757 M73.9318 886.104 L73.9318 890.363 Q72.1726 889.53 70.367 889.09 Q68.5846 888.65 66.8254 888.65 Q62.1958 888.65 59.7421 891.775 Q57.3115 894.9 56.9643 901.219 Q58.33 899.206 60.3902 898.141 Q62.4504 897.053 64.9272 897.053 Q70.1355 897.053 73.1448 900.224 Q76.1772 903.372 76.1772 908.812 Q76.1772 914.136 73.029 917.354 Q69.8809 920.571 64.6495 920.571 Q58.6541 920.571 55.4828 915.988 Q52.3116 911.381 52.3116 902.655 Q52.3116 894.46 56.2004 889.599 Q60.0893 884.715 66.6402 884.715 Q68.3994 884.715 70.1818 885.062 Q71.9874 885.409 73.9318 886.104 Z\" fill=\"#000000\" fill-rule=\"nonzero\" fill-opacity=\"1\" /><path clip-path=\"url(#clip170)\" d=\"M53.9551 613.792 L76.1772 613.792 L76.1772 615.783 L63.6309 648.352 L58.7467 648.352 L70.5522 617.727 L53.9551 617.727 L53.9551 613.792 Z\" fill=\"#000000\" fill-rule=\"nonzero\" fill-opacity=\"1\" /><path clip-path=\"url(#clip170)\" d=\"M64.3254 360.392 Q60.9921 360.392 59.0708 362.175 Q57.1726 363.957 57.1726 367.082 Q57.1726 370.207 59.0708 371.989 Q60.9921 373.772 64.3254 373.772 Q67.6587 373.772 69.58 371.989 Q71.5013 370.184 71.5013 367.082 Q71.5013 363.957 69.58 362.175 Q67.6819 360.392 64.3254 360.392 M59.6495 358.401 Q56.6402 357.661 54.9504 355.601 Q53.2838 353.54 53.2838 350.577 Q53.2838 346.434 56.2236 344.027 Q59.1865 341.619 64.3254 341.619 Q69.4874 341.619 72.4272 344.027 Q75.367 346.434 75.367 350.577 Q75.367 353.54 73.6772 355.601 Q72.0105 357.661 69.0244 358.401 Q72.404 359.189 74.279 361.48 Q76.1772 363.772 76.1772 367.082 Q76.1772 372.105 73.0985 374.79 Q70.0429 377.475 64.3254 377.475 Q58.6078 377.475 55.5291 374.79 Q52.4736 372.105 52.4736 367.082 Q52.4736 363.772 54.3717 361.48 Q56.2699 359.189 59.6495 358.401 M57.9365 351.017 Q57.9365 353.702 59.6032 355.207 Q61.293 356.712 64.3254 356.712 Q67.3346 356.712 69.0244 355.207 Q70.7374 353.702 70.7374 351.017 Q70.7374 348.332 69.0244 346.827 Q67.3346 345.323 64.3254 345.323 Q61.293 345.323 59.6032 346.827 Q57.9365 348.332 57.9365 351.017 Z\" fill=\"#000000\" fill-rule=\"nonzero\" fill-opacity=\"1\" /><path clip-path=\"url(#clip170)\" d=\"M54.5569 104.539 L54.5569 100.279 Q56.3162 101.113 58.1217 101.553 Q59.9273 101.992 61.6634 101.992 Q66.293 101.992 68.7235 98.8906 Q71.1772 95.7656 71.5244 89.423 Q70.1818 91.4138 68.1217 92.4786 Q66.0615 93.5434 63.5615 93.5434 Q58.3763 93.5434 55.344 90.4184 Q52.3347 87.2703 52.3347 81.8305 Q52.3347 76.5064 55.4828 73.2889 Q58.631 70.0713 63.8624 70.0713 Q69.8578 70.0713 73.0059 74.6777 Q76.1772 79.261 76.1772 88.011 Q76.1772 96.1823 72.2883 101.066 Q68.4226 105.928 61.8717 105.928 Q60.1124 105.928 58.3069 105.58 Q56.5014 105.233 54.5569 104.539 M63.8624 89.886 Q67.0106 89.886 68.8393 87.7332 Q70.6911 85.5805 70.6911 81.8305 Q70.6911 78.1036 68.8393 75.9509 Q67.0106 73.775 63.8624 73.775 Q60.7143 73.775 58.8625 75.9509 Q57.0338 78.1036 57.0338 81.8305 Q57.0338 85.5805 58.8625 87.7332 Q60.7143 89.886 63.8624 89.886 Z\" fill=\"#000000\" fill-rule=\"nonzero\" fill-opacity=\"1\" /><polyline clip-path=\"url(#clip172)\" style=\"stroke:#009af9; stroke-linecap:round; stroke-linejoin:round; stroke-width:4; stroke-opacity:1; fill:none\" points=\"175.59,1445.72 246.048,1445.72 316.507,1445.72 386.965,1445.72 457.424,1445.72 527.882,1445.72 598.34,1445.72 668.799,1445.72 739.257,1445.72 809.716,1445.72 880.174,1445.72 950.633,1445.72 1021.09,1445.72 1091.55,1445.72 1162.01,1445.72 1232.47,1445.72 1302.92,1445.72 1373.38,1445.72 1443.84,1445.72 1514.3,1445.72 1584.76,1445.72 1655.22,1334.38 1725.68,1217.62 1796.13,1095.42 1866.59,967.791 1937.05,834.733 2007.51,696.244 2077.97,552.323 2148.43,402.972 2218.88,248.19 2289.34,87.9763 \"/>\n",
       "<path clip-path=\"url(#clip170)\" d=\"M186.863 198.898 L463.351 198.898 L463.351 95.2176 L186.863 95.2176  Z\" fill=\"#ffffff\" fill-rule=\"evenodd\" fill-opacity=\"1\"/>\n",
       "<polyline clip-path=\"url(#clip170)\" style=\"stroke:#000000; stroke-linecap:round; stroke-linejoin:round; stroke-width:4; stroke-opacity:1; fill:none\" points=\"186.863,198.898 463.351,198.898 463.351,95.2176 186.863,95.2176 186.863,198.898 \"/>\n",
       "<polyline clip-path=\"url(#clip170)\" style=\"stroke:#009af9; stroke-linecap:round; stroke-linejoin:round; stroke-width:4; stroke-opacity:1; fill:none\" points=\"211.758,147.058 361.13,147.058 \"/>\n",
       "<path clip-path=\"url(#clip170)\" d=\"M399.868 166.745 Q398.063 171.375 396.35 172.787 Q394.637 174.199 391.766 174.199 L388.364 174.199 L388.364 170.634 L390.864 170.634 Q392.623 170.634 393.595 169.8 Q394.567 168.967 395.748 165.865 L396.512 163.921 L386.026 138.412 L390.54 138.412 L398.641 158.689 L406.743 138.412 L411.257 138.412 L399.868 166.745 Z\" fill=\"#000000\" fill-rule=\"nonzero\" fill-opacity=\"1\" /><path clip-path=\"url(#clip170)\" d=\"M418.549 160.402 L426.188 160.402 L426.188 134.037 L417.877 135.703 L417.877 131.444 L426.141 129.778 L430.817 129.778 L430.817 160.402 L438.456 160.402 L438.456 164.338 L418.549 164.338 L418.549 160.402 Z\" fill=\"#000000\" fill-rule=\"nonzero\" fill-opacity=\"1\" /></svg>\n"
      ],
      "text/html": [
       "<img src=\"data:image/png;base64,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\" />"
      ]
     },
     "metadata": {},
     "output_type": "display_data"
    }
   ],
   "source": [
    "function snapabove(g, a)\n",
    "\n",
    "    function f(x)\n",
    "        if x > a        # `a` is captured in the closure `f`\n",
    "            return g(x)\n",
    "        else\n",
    "            return g(a)\n",
    "        end\n",
    "    end\n",
    "\n",
    "    return f # closure with the embedded `a`\n",
    "end\n",
    "\n",
    "f(x) = x^2\n",
    "h = snapabove(f, 2.0)\n",
    "plot(h, 0.0:0.1:3.0)"
   ]
  },
  {
   "cell_type": "markdown",
   "id": "2482fee6",
   "metadata": {},
   "source": [
    "The above van be written more succintly using the ternary operation, i.e., `a ? b : c` which returns `b` if `a` is true and `c` otherwise."
   ]
  },
  {
   "cell_type": "code",
   "execution_count": 38,
   "id": "07ba48fd",
   "metadata": {},
   "outputs": [
    {
     "data": {
      "image/png": "[encoded data removed]",
      "image/svg+xml": [
       "<?xml version=\"1.0\" encoding=\"utf-8\"?>\n",
       "<svg xmlns=\"http://www.w3.org/2000/svg\" xmlns:xlink=\"http://www.w3.org/1999/xlink\" width=\"600\" height=\"400\" viewBox=\"0 0 2400 1600\">\n",
       "<defs>\n",
       "  <clipPath id=\"clip230\">\n",
       "    <rect x=\"0\" y=\"0\" width=\"2400\" height=\"1600\"/>\n",
       "  </clipPath>\n",
       "</defs>\n",
       "<path clip-path=\"url(#clip230)\" d=\"M0 1600 L2400 1600 L2400 8.88178e-14 L0 8.88178e-14  Z\" fill=\"#ffffff\" fill-rule=\"evenodd\" fill-opacity=\"1\"/>\n",
       "<defs>\n",
       "  <clipPath id=\"clip231\">\n",
       "    <rect x=\"480\" y=\"0\" width=\"1681\" height=\"1600\"/>\n",
       "  </clipPath>\n",
       "</defs>\n",
       "<path clip-path=\"url(#clip230)\" d=\"M112.177 1486.45 L2352.76 1486.45 L2352.76 47.2441 L112.177 47.2441  Z\" fill=\"#ffffff\" fill-rule=\"evenodd\" fill-opacity=\"1\"/>\n",
       "<defs>\n",
       "  <clipPath id=\"clip232\">\n",
       "    <rect x=\"112\" y=\"47\" width=\"2242\" height=\"1440\"/>\n",
       "  </clipPath>\n",
       "</defs>\n",
       "<polyline clip-path=\"url(#clip232)\" style=\"stroke:#000000; stroke-linecap:round; stroke-linejoin:round; stroke-width:2; stroke-opacity:0.1; fill:none\" points=\"175.59,1486.45 175.59,47.2441 \"/>\n",
       "<polyline clip-path=\"url(#clip232)\" style=\"stroke:#000000; stroke-linecap:round; stroke-linejoin:round; stroke-width:2; stroke-opacity:0.1; fill:none\" points=\"880.174,1486.45 880.174,47.2441 \"/>\n",
       "<polyline clip-path=\"url(#clip232)\" style=\"stroke:#000000; stroke-linecap:round; stroke-linejoin:round; stroke-width:2; stroke-opacity:0.1; fill:none\" points=\"1584.76,1486.45 1584.76,47.2441 \"/>\n",
       "<polyline clip-path=\"url(#clip232)\" style=\"stroke:#000000; stroke-linecap:round; stroke-linejoin:round; stroke-width:2; stroke-opacity:0.1; fill:none\" points=\"2289.34,1486.45 2289.34,47.2441 \"/>\n",
       "<polyline clip-path=\"url(#clip232)\" style=\"stroke:#000000; stroke-linecap:round; stroke-linejoin:round; stroke-width:2; stroke-opacity:0.1; fill:none\" points=\"112.177,1445.72 2352.76,1445.72 \"/>\n",
       "<polyline clip-path=\"url(#clip232)\" style=\"stroke:#000000; stroke-linecap:round; stroke-linejoin:round; stroke-width:2; stroke-opacity:0.1; fill:none\" points=\"112.177,1174.17 2352.76,1174.17 \"/>\n",
       "<polyline clip-path=\"url(#clip232)\" style=\"stroke:#000000; stroke-linecap:round; stroke-linejoin:round; stroke-width:2; stroke-opacity:0.1; fill:none\" points=\"112.177,902.62 2352.76,902.62 \"/>\n",
       "<polyline clip-path=\"url(#clip232)\" style=\"stroke:#000000; stroke-linecap:round; stroke-linejoin:round; stroke-width:2; stroke-opacity:0.1; fill:none\" points=\"112.177,631.072 2352.76,631.072 \"/>\n",
       "<polyline clip-path=\"url(#clip232)\" style=\"stroke:#000000; stroke-linecap:round; stroke-linejoin:round; stroke-width:2; stroke-opacity:0.1; fill:none\" points=\"112.177,359.524 2352.76,359.524 \"/>\n",
       "<polyline clip-path=\"url(#clip232)\" style=\"stroke:#000000; stroke-linecap:round; stroke-linejoin:round; stroke-width:2; stroke-opacity:0.1; fill:none\" points=\"112.177,87.9763 2352.76,87.9763 \"/>\n",
       "<polyline clip-path=\"url(#clip230)\" style=\"stroke:#000000; stroke-linecap:round; stroke-linejoin:round; stroke-width:4; stroke-opacity:1; fill:none\" points=\"112.177,1486.45 2352.76,1486.45 \"/>\n",
       "<polyline clip-path=\"url(#clip230)\" style=\"stroke:#000000; stroke-linecap:round; stroke-linejoin:round; stroke-width:4; stroke-opacity:1; fill:none\" points=\"175.59,1486.45 175.59,1467.55 \"/>\n",
       "<polyline clip-path=\"url(#clip230)\" style=\"stroke:#000000; stroke-linecap:round; stroke-linejoin:round; stroke-width:4; stroke-opacity:1; fill:none\" points=\"880.174,1486.45 880.174,1467.55 \"/>\n",
       "<polyline clip-path=\"url(#clip230)\" style=\"stroke:#000000; stroke-linecap:round; stroke-linejoin:round; stroke-width:4; stroke-opacity:1; fill:none\" points=\"1584.76,1486.45 1584.76,1467.55 \"/>\n",
       "<polyline clip-path=\"url(#clip230)\" style=\"stroke:#000000; stroke-linecap:round; stroke-linejoin:round; stroke-width:4; stroke-opacity:1; fill:none\" points=\"2289.34,1486.45 2289.34,1467.55 \"/>\n",
       "<path clip-path=\"url(#clip230)\" d=\"M175.59 1517.37 Q171.979 1517.37 170.15 1520.93 Q168.344 1524.47 168.344 1531.6 Q168.344 1538.71 170.15 1542.27 Q171.979 1545.82 175.59 1545.82 Q179.224 1545.82 181.03 1542.27 Q182.858 1538.71 182.858 1531.6 Q182.858 1524.47 181.03 1520.93 Q179.224 1517.37 175.59 1517.37 M175.59 1513.66 Q181.4 1513.66 184.455 1518.27 Q187.534 1522.85 187.534 1531.6 Q187.534 1540.33 184.455 1544.94 Q181.4 1549.52 175.59 1549.52 Q169.78 1549.52 166.701 1544.94 Q163.645 1540.33 163.645 1531.6 Q163.645 1522.85 166.701 1518.27 Q169.78 1513.66 175.59 1513.66 Z\" fill=\"#000000\" fill-rule=\"nonzero\" fill-opacity=\"1\" /><path clip-path=\"url(#clip230)\" d=\"M870.556 1544.91 L878.195 1544.91 L878.195 1518.55 L869.885 1520.21 L869.885 1515.95 L878.149 1514.29 L882.825 1514.29 L882.825 1544.91 L890.464 1544.91 L890.464 1548.85 L870.556 1548.85 L870.556 1544.91 Z\" fill=\"#000000\" fill-rule=\"nonzero\" fill-opacity=\"1\" /><path clip-path=\"url(#clip230)\" d=\"M1579.41 1544.91 L1595.73 1544.91 L1595.73 1548.85 L1573.79 1548.85 L1573.79 1544.91 Q1576.45 1542.16 1581.03 1537.53 Q1585.64 1532.88 1586.82 1531.53 Q1589.06 1529.01 1589.94 1527.27 Q1590.85 1525.51 1590.85 1523.82 Q1590.85 1521.07 1588.9 1519.33 Q1586.98 1517.6 1583.88 1517.6 Q1581.68 1517.6 1579.23 1518.36 Q1576.8 1519.13 1574.02 1520.68 L1574.02 1515.95 Q1576.84 1514.82 1579.3 1514.24 Q1581.75 1513.66 1583.79 1513.66 Q1589.16 1513.66 1592.35 1516.35 Q1595.55 1519.03 1595.55 1523.52 Q1595.55 1525.65 1594.74 1527.57 Q1593.95 1529.47 1591.84 1532.07 Q1591.26 1532.74 1588.16 1535.95 Q1585.06 1539.15 1579.41 1544.91 Z\" fill=\"#000000\" fill-rule=\"nonzero\" fill-opacity=\"1\" /><path clip-path=\"url(#clip230)\" d=\"M2293.59 1530.21 Q2296.95 1530.93 2298.82 1533.2 Q2300.72 1535.47 2300.72 1538.8 Q2300.72 1543.92 2297.2 1546.72 Q2293.68 1549.52 2287.2 1549.52 Q2285.03 1549.52 2282.71 1549.08 Q2280.42 1548.66 2277.97 1547.81 L2277.97 1543.29 Q2279.91 1544.43 2282.23 1545.01 Q2284.54 1545.58 2287.06 1545.58 Q2291.46 1545.58 2293.75 1543.85 Q2296.07 1542.11 2296.07 1538.8 Q2296.07 1535.75 2293.92 1534.03 Q2291.79 1532.3 2287.97 1532.3 L2283.94 1532.3 L2283.94 1528.45 L2288.15 1528.45 Q2291.6 1528.45 2293.43 1527.09 Q2295.26 1525.7 2295.26 1523.11 Q2295.26 1520.45 2293.36 1519.03 Q2291.48 1517.6 2287.97 1517.6 Q2286.04 1517.6 2283.85 1518.01 Q2281.65 1518.43 2279.01 1519.31 L2279.01 1515.14 Q2281.67 1514.4 2283.98 1514.03 Q2286.32 1513.66 2288.38 1513.66 Q2293.71 1513.66 2296.81 1516.09 Q2299.91 1518.5 2299.91 1522.62 Q2299.91 1525.49 2298.27 1527.48 Q2296.62 1529.45 2293.59 1530.21 Z\" fill=\"#000000\" fill-rule=\"nonzero\" fill-opacity=\"1\" /><polyline clip-path=\"url(#clip230)\" style=\"stroke:#000000; stroke-linecap:round; stroke-linejoin:round; stroke-width:4; stroke-opacity:1; fill:none\" points=\"112.177,1486.45 112.177,47.2441 \"/>\n",
       "<polyline clip-path=\"url(#clip230)\" style=\"stroke:#000000; stroke-linecap:round; stroke-linejoin:round; stroke-width:4; stroke-opacity:1; fill:none\" points=\"112.177,1445.72 131.075,1445.72 \"/>\n",
       "<polyline clip-path=\"url(#clip230)\" style=\"stroke:#000000; stroke-linecap:round; stroke-linejoin:round; stroke-width:4; stroke-opacity:1; fill:none\" points=\"112.177,1174.17 131.075,1174.17 \"/>\n",
       "<polyline clip-path=\"url(#clip230)\" style=\"stroke:#000000; stroke-linecap:round; stroke-linejoin:round; stroke-width:4; stroke-opacity:1; fill:none\" points=\"112.177,902.62 131.075,902.62 \"/>\n",
       "<polyline clip-path=\"url(#clip230)\" style=\"stroke:#000000; stroke-linecap:round; stroke-linejoin:round; stroke-width:4; stroke-opacity:1; fill:none\" points=\"112.177,631.072 131.075,631.072 \"/>\n",
       "<polyline clip-path=\"url(#clip230)\" style=\"stroke:#000000; stroke-linecap:round; stroke-linejoin:round; stroke-width:4; stroke-opacity:1; fill:none\" points=\"112.177,359.524 131.075,359.524 \"/>\n",
       "<polyline clip-path=\"url(#clip230)\" style=\"stroke:#000000; stroke-linecap:round; stroke-linejoin:round; stroke-width:4; stroke-opacity:1; fill:none\" points=\"112.177,87.9763 131.075,87.9763 \"/>\n",
       "<path clip-path=\"url(#clip230)\" d=\"M66.5939 1432.51 L54.7884 1450.96 L66.5939 1450.96 L66.5939 1432.51 M65.367 1428.44 L71.2466 1428.44 L71.2466 1450.96 L76.1772 1450.96 L76.1772 1454.85 L71.2466 1454.85 L71.2466 1463 L66.5939 1463 L66.5939 1454.85 L50.9921 1454.85 L50.9921 1450.33 L65.367 1428.44 Z\" fill=\"#000000\" fill-rule=\"nonzero\" fill-opacity=\"1\" /><path clip-path=\"url(#clip230)\" d=\"M55.2745 1156.89 L73.6309 1156.89 L73.6309 1160.82 L59.5569 1160.82 L59.5569 1169.3 Q60.5754 1168.95 61.5939 1168.79 Q62.6124 1168.6 63.6309 1168.6 Q69.418 1168.6 72.7976 1171.77 Q76.1772 1174.94 76.1772 1180.36 Q76.1772 1185.94 72.705 1189.04 Q69.2328 1192.12 62.9134 1192.12 Q60.7374 1192.12 58.4689 1191.75 Q56.2236 1191.38 53.8162 1190.64 L53.8162 1185.94 Q55.8995 1187.07 58.1217 1187.63 Q60.3439 1188.18 62.8208 1188.18 Q66.8254 1188.18 69.1633 1186.08 Q71.5013 1183.97 71.5013 1180.36 Q71.5013 1176.75 69.1633 1174.64 Q66.8254 1172.54 62.8208 1172.54 Q60.9458 1172.54 59.0708 1172.95 Q57.2189 1173.37 55.2745 1174.25 L55.2745 1156.89 Z\" fill=\"#000000\" fill-rule=\"nonzero\" fill-opacity=\"1\" /><path clip-path=\"url(#clip230)\" d=\"M64.6495 900.757 Q61.5013 900.757 59.6495 902.909 Q57.8208 905.062 57.8208 908.812 Q57.8208 912.539 59.6495 914.715 Q61.5013 916.868 64.6495 916.868 Q67.7976 916.868 69.6263 914.715 Q71.4781 912.539 71.4781 908.812 Q71.4781 905.062 69.6263 902.909 Q67.7976 900.757 64.6495 900.757 M73.9318 886.104 L73.9318 890.363 Q72.1726 889.53 70.367 889.09 Q68.5846 888.65 66.8254 888.65 Q62.1958 888.65 59.7421 891.775 Q57.3115 894.9 56.9643 901.219 Q58.33 899.206 60.3902 898.141 Q62.4504 897.053 64.9272 897.053 Q70.1355 897.053 73.1448 900.224 Q76.1772 903.372 76.1772 908.812 Q76.1772 914.136 73.029 917.354 Q69.8809 920.571 64.6495 920.571 Q58.6541 920.571 55.4828 915.988 Q52.3116 911.381 52.3116 902.655 Q52.3116 894.46 56.2004 889.599 Q60.0893 884.715 66.6402 884.715 Q68.3994 884.715 70.1818 885.062 Q71.9874 885.409 73.9318 886.104 Z\" fill=\"#000000\" fill-rule=\"nonzero\" fill-opacity=\"1\" /><path clip-path=\"url(#clip230)\" d=\"M53.9551 613.792 L76.1772 613.792 L76.1772 615.783 L63.6309 648.352 L58.7467 648.352 L70.5522 617.727 L53.9551 617.727 L53.9551 613.792 Z\" fill=\"#000000\" fill-rule=\"nonzero\" fill-opacity=\"1\" /><path clip-path=\"url(#clip230)\" d=\"M64.3254 360.392 Q60.9921 360.392 59.0708 362.175 Q57.1726 363.957 57.1726 367.082 Q57.1726 370.207 59.0708 371.989 Q60.9921 373.772 64.3254 373.772 Q67.6587 373.772 69.58 371.989 Q71.5013 370.184 71.5013 367.082 Q71.5013 363.957 69.58 362.175 Q67.6819 360.392 64.3254 360.392 M59.6495 358.401 Q56.6402 357.661 54.9504 355.601 Q53.2838 353.54 53.2838 350.577 Q53.2838 346.434 56.2236 344.027 Q59.1865 341.619 64.3254 341.619 Q69.4874 341.619 72.4272 344.027 Q75.367 346.434 75.367 350.577 Q75.367 353.54 73.6772 355.601 Q72.0105 357.661 69.0244 358.401 Q72.404 359.189 74.279 361.48 Q76.1772 363.772 76.1772 367.082 Q76.1772 372.105 73.0985 374.79 Q70.0429 377.475 64.3254 377.475 Q58.6078 377.475 55.5291 374.79 Q52.4736 372.105 52.4736 367.082 Q52.4736 363.772 54.3717 361.48 Q56.2699 359.189 59.6495 358.401 M57.9365 351.017 Q57.9365 353.702 59.6032 355.207 Q61.293 356.712 64.3254 356.712 Q67.3346 356.712 69.0244 355.207 Q70.7374 353.702 70.7374 351.017 Q70.7374 348.332 69.0244 346.827 Q67.3346 345.323 64.3254 345.323 Q61.293 345.323 59.6032 346.827 Q57.9365 348.332 57.9365 351.017 Z\" fill=\"#000000\" fill-rule=\"nonzero\" fill-opacity=\"1\" /><path clip-path=\"url(#clip230)\" d=\"M54.5569 104.539 L54.5569 100.279 Q56.3162 101.113 58.1217 101.553 Q59.9273 101.992 61.6634 101.992 Q66.293 101.992 68.7235 98.8906 Q71.1772 95.7656 71.5244 89.423 Q70.1818 91.4138 68.1217 92.4786 Q66.0615 93.5434 63.5615 93.5434 Q58.3763 93.5434 55.344 90.4184 Q52.3347 87.2703 52.3347 81.8305 Q52.3347 76.5064 55.4828 73.2889 Q58.631 70.0713 63.8624 70.0713 Q69.8578 70.0713 73.0059 74.6777 Q76.1772 79.261 76.1772 88.011 Q76.1772 96.1823 72.2883 101.066 Q68.4226 105.928 61.8717 105.928 Q60.1124 105.928 58.3069 105.58 Q56.5014 105.233 54.5569 104.539 M63.8624 89.886 Q67.0106 89.886 68.8393 87.7332 Q70.6911 85.5805 70.6911 81.8305 Q70.6911 78.1036 68.8393 75.9509 Q67.0106 73.775 63.8624 73.775 Q60.7143 73.775 58.8625 75.9509 Q57.0338 78.1036 57.0338 81.8305 Q57.0338 85.5805 58.8625 87.7332 Q60.7143 89.886 63.8624 89.886 Z\" fill=\"#000000\" fill-rule=\"nonzero\" fill-opacity=\"1\" /><polyline clip-path=\"url(#clip232)\" style=\"stroke:#009af9; stroke-linecap:round; stroke-linejoin:round; stroke-width:4; stroke-opacity:1; fill:none\" points=\"175.59,1445.72 246.048,1445.72 316.507,1445.72 386.965,1445.72 457.424,1445.72 527.882,1445.72 598.34,1445.72 668.799,1445.72 739.257,1445.72 809.716,1445.72 880.174,1445.72 950.633,1445.72 1021.09,1445.72 1091.55,1445.72 1162.01,1445.72 1232.47,1445.72 1302.92,1445.72 1373.38,1445.72 1443.84,1445.72 1514.3,1445.72 1584.76,1445.72 1655.22,1334.38 1725.68,1217.62 1796.13,1095.42 1866.59,967.791 1937.05,834.733 2007.51,696.244 2077.97,552.323 2148.43,402.972 2218.88,248.19 2289.34,87.9763 \"/>\n",
       "<path clip-path=\"url(#clip230)\" d=\"M186.863 198.898 L463.351 198.898 L463.351 95.2176 L186.863 95.2176  Z\" fill=\"#ffffff\" fill-rule=\"evenodd\" fill-opacity=\"1\"/>\n",
       "<polyline clip-path=\"url(#clip230)\" style=\"stroke:#000000; stroke-linecap:round; stroke-linejoin:round; stroke-width:4; stroke-opacity:1; fill:none\" points=\"186.863,198.898 463.351,198.898 463.351,95.2176 186.863,95.2176 186.863,198.898 \"/>\n",
       "<polyline clip-path=\"url(#clip230)\" style=\"stroke:#009af9; stroke-linecap:round; stroke-linejoin:round; stroke-width:4; stroke-opacity:1; fill:none\" points=\"211.758,147.058 361.13,147.058 \"/>\n",
       "<path clip-path=\"url(#clip230)\" d=\"M399.868 166.745 Q398.063 171.375 396.35 172.787 Q394.637 174.199 391.766 174.199 L388.364 174.199 L388.364 170.634 L390.864 170.634 Q392.623 170.634 393.595 169.8 Q394.567 168.967 395.748 165.865 L396.512 163.921 L386.026 138.412 L390.54 138.412 L398.641 158.689 L406.743 138.412 L411.257 138.412 L399.868 166.745 Z\" fill=\"#000000\" fill-rule=\"nonzero\" fill-opacity=\"1\" /><path clip-path=\"url(#clip230)\" d=\"M418.549 160.402 L426.188 160.402 L426.188 134.037 L417.877 135.703 L417.877 131.444 L426.141 129.778 L430.817 129.778 L430.817 160.402 L438.456 160.402 L438.456 164.338 L418.549 164.338 L418.549 160.402 Z\" fill=\"#000000\" fill-rule=\"nonzero\" fill-opacity=\"1\" /></svg>\n"
      ],
      "text/html": [
       "<img src=\"data:image/png;base64,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\" />"
      ]
     },
     "metadata": {},
     "output_type": "display_data"
    }
   ],
   "source": [
    "function snapabove2(g, a)\n",
    "    return x -> x > a ? g(x) : g(a)\n",
    "end\n",
    "\n",
    "plot(snapabove2(f, 2.0), 0.0:0.1:3.0)"
   ]
  },
  {
   "cell_type": "markdown",
   "id": "7322bd03",
   "metadata": {},
   "source": [
    "### Loops"
   ]
  },
  {
   "cell_type": "markdown",
   "id": "35a3c30b",
   "metadata": {},
   "source": [
    "The `for` and `while` loops also introduce a local scope, and you can roughly reason about them the same way you would a function or closure. In particular, "
   ]
  },
  {
   "cell_type": "code",
   "execution_count": 42,
   "id": "42ac756f",
   "metadata": {},
   "outputs": [
    {
     "name": "stdout",
     "output_type": "stream",
     "text": [
      "1\n",
      "2\n",
      "1\n",
      "2\n"
     ]
    }
   ],
   "source": [
    "for i in 1:2 # introduces local `i`\n",
    "    dval1 = i\n",
    "    println(i)\n",
    "end\n",
    "\n",
    "# @show (i, dval1) # would fail as neither exists in this scope\n",
    "\n",
    "for i in 1:2 # introduces a different local `i`\n",
    "    println(i)\n",
    "end"
   ]
  },
  {
   "cell_type": "markdown",
   "id": "e11be6b8",
   "metadata": {},
   "source": [
    "On the other hand just as with closures, if a variable is already defined it will be available in the inner scope."
   ]
  },
  {
   "cell_type": "code",
   "execution_count": 45,
   "id": "98f15702",
   "metadata": {},
   "outputs": [
    {
     "data": {
      "text/plain": [
       "2"
      ]
     },
     "metadata": {},
     "output_type": "display_data"
    }
   ],
   "source": [
    "dval2 = 0     # introduces variables\n",
    "\n",
    "for i in 1:2  # introduces local `i`\n",
    "    dval2 = i # refers to outer variable\n",
    "end\n",
    "\n",
    "dval2         # still can't refer to `i` itself"
   ]
  },
  {
   "cell_type": "markdown",
   "id": "0786c17f",
   "metadata": {},
   "source": [
    "Similarly, for while loops"
   ]
  },
  {
   "cell_type": "code",
   "execution_count": 50,
   "id": "dece6e02",
   "metadata": {},
   "outputs": [
    {
     "name": "stdout",
     "output_type": "stream",
     "text": [
      "val = 0.001953125\n"
     ]
    }
   ],
   "source": [
    "val = 1.0\n",
    "tol = 0.002\n",
    "\n",
    "while val > tol\n",
    "    old = val \n",
    "    val = val / 2\n",
    "    difference = val - old\n",
    "end\n",
    "\n",
    "@show val; # @show difference fails, since not in scope"
   ]
  },
  {
   "cell_type": "markdown",
   "id": "490e328b",
   "metadata": {},
   "source": [
    "### A Quick Check for Scoping Design"
   ]
  },
  {
   "cell_type": "markdown",
   "id": "c1ab427e",
   "metadata": {},
   "source": [
    "While we have argued against global variables as poor practice, you may have noticed that in Jupyter notebooks we have been using them throughout. Here, global variables are used in an interactive editor because they are convenient, and not because they are essential to the design of functions. A simple test of the difference is to take a segment of code and wrap it in a function, for example"
   ]
  },
  {
   "cell_type": "code",
   "execution_count": 51,
   "id": "afe11960",
   "metadata": {},
   "outputs": [
    {
     "name": "stdout",
     "output_type": "stream",
     "text": [
      "z = 12.0\n"
     ]
    }
   ],
   "source": [
    "x = 2.0\n",
    "f(y) = x + y\n",
    "z = f(4.0)\n",
    "\n",
    "for i in 1:3\n",
    "    z += i\n",
    "end\n",
    "\n",
    "println(\"z = $z\")"
   ]
  },
  {
   "cell_type": "markdown",
   "id": "2193e98a",
   "metadata": {},
   "source": [
    "Here, the `x` and `z` are global variables, the function `f` refers to the global variable `x`, and the global variable `z` is modified in the `for` loop. However, you can simply wrap the entire code in a function."
   ]
  },
  {
   "cell_type": "code",
   "execution_count": 53,
   "id": "fa3f55d2",
   "metadata": {},
   "outputs": [
    {
     "name": "stdout",
     "output_type": "stream",
     "text": [
      "z = 12.0\n"
     ]
    }
   ],
   "source": [
    "function wrapped()\n",
    "    x = 2.0\n",
    "    f(y) = x + y\n",
    "    z = f(4.0)\n",
    "\n",
    "    for i in 1:3\n",
    "        z += i\n",
    "    end\n",
    "\n",
    "    println(\"z = $z\")\n",
    "end\n",
    "\n",
    "wrapped()"
   ]
  },
  {
   "cell_type": "markdown",
   "id": "16a916bf",
   "metadata": {},
   "source": [
    "Now there are no global variables. While it is convenient to skip wrapping our code throughout, in general you will want to wrap any performance sensitive code in this way."
   ]
  },
  {
   "cell_type": "code",
   "execution_count": null,
   "id": "09697b50",
   "metadata": {},
   "outputs": [],
   "source": []
  }
 ],
 "metadata": {
  "kernelspec": {
   "display_name": "Julia 1.11.4",
   "language": "julia",
   "name": "julia-1.11"
  },
  "language_info": {
   "file_extension": ".jl",
   "mimetype": "application/julia",
   "name": "julia",
   "version": "1.11.4"
  }
 },
 "nbformat": 4,
 "nbformat_minor": 5
}
