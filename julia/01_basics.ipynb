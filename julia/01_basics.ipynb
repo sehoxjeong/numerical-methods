{
 "cells": [
  {
   "cell_type": "markdown",
   "metadata": {},
   "source": [
    "# Introduction to Julia\n",
    "\n",
    "Seho Jeong, Sogang University\n",
    "\n",
    "**References**\n",
    "- **Söderlind, Paul. n.d.** \"Julia Tutorials.\" https://github.com/PaulSoderlind/JuliaTutorial."
   ]
  },
  {
   "cell_type": "markdown",
   "metadata": {},
   "source": [
    "## Running and Installing Julia"
   ]
  },
  {
   "cell_type": "markdown",
   "metadata": {},
   "source": [
    "You need Julia and either Jupyter or VS Code to run the notebook. Unfortunately, this note does not teach you how to get ready to write Julia codes.  While it is a boring step, you can google it for installation guide."
   ]
  },
  {
   "cell_type": "markdown",
   "metadata": {},
   "source": [
    "## Packages"
   ]
  },
  {
   "cell_type": "markdown",
   "metadata": {},
   "source": [
    "A *package* is a collection of Julia code and possibly other external libraries that can be imported to provide additional functionality. Julia has a built-in package manager. A list of registered packages can be found [here](https://julialang.org/packages/). To install a package, you can do either\n",
    "\n",
    "1. (works everywhere) run `import Pkg` and then `Pkg.add(\"PackageName\")`\n",
    "2. (works in the Julia console, the REPL) enter the \"package manager mode\" by typing `]`, then run `add PackageName`. You leave the package manager mode by backspace. \n",
    "\n",
    "For example, let's try to download a package named \"Distributions\"."
   ]
  },
  {
   "cell_type": "code",
   "execution_count": 1,
   "metadata": {},
   "outputs": [
    {
     "name": "stderr",
     "output_type": "stream",
     "text": [
      "\u001b[32m\u001b[1m   Resolving\u001b[22m\u001b[39m package versions...\n",
      "\u001b[32m\u001b[1m  No Changes\u001b[22m\u001b[39m to `~/.julia/environments/v1.11/Project.toml`\n",
      "\u001b[32m\u001b[1m  No Changes\u001b[22m\u001b[39m to `~/.julia/environments/v1.11/Manifest.toml`\n"
     ]
    }
   ],
   "source": [
    "import Pkg; Pkg.add(\"Distributions\")"
   ]
  },
  {
   "cell_type": "markdown",
   "metadata": {},
   "source": [
    "Once a package is installed, you can use it by running `using PackageName`."
   ]
  },
  {
   "cell_type": "code",
   "execution_count": 2,
   "metadata": {},
   "outputs": [
    {
     "data": {
      "text/plain": [
       "Normal{Float64}(μ=0.0, σ=1.0)"
      ]
     },
     "metadata": {},
     "output_type": "display_data"
    }
   ],
   "source": [
    "using Distributions \n",
    "\n",
    "Normal(0, 1)"
   ]
  },
  {
   "cell_type": "markdown",
   "metadata": {},
   "source": [
    "To update packages, we use:"
   ]
  },
  {
   "cell_type": "code",
   "execution_count": 4,
   "metadata": {},
   "outputs": [
    {
     "name": "stderr",
     "output_type": "stream",
     "text": [
      "\u001b[32m\u001b[1m    Updating\u001b[22m\u001b[39m registry at `~/.julia/registries/General.toml`\n",
      "\u001b[32m\u001b[1m   Installed\u001b[22m\u001b[39m ArrayInterface ───── v7.20.0\n",
      "\u001b[32m\u001b[1m   Installed\u001b[22m\u001b[39m SymbolicUtils ────── v3.32.0\n",
      "\u001b[32m\u001b[1m   Installed\u001b[22m\u001b[39m PreallocationTools ─ v0.4.34\n",
      "\u001b[32m\u001b[1m   Installed\u001b[22m\u001b[39m SciMLOperators ───── v1.7.1\n",
      "\u001b[32m\u001b[1m   Installed\u001b[22m\u001b[39m SciMLBase ────────── v2.116.0\n",
      "\u001b[32m\u001b[1m   Installed\u001b[22m\u001b[39m Symbolics ────────── v6.53.0\n",
      "\u001b[32m\u001b[1m    Updating\u001b[22m\u001b[39m `~/.julia/environments/v1.11/Project.toml`\n",
      "  \u001b[90m[0c5d862f] \u001b[39m\u001b[93m↑ Symbolics v6.52.0 ⇒ v6.53.0\u001b[39m\n",
      "\u001b[32m\u001b[1m    Updating\u001b[22m\u001b[39m `~/.julia/environments/v1.11/Manifest.toml`\n",
      "  \u001b[90m[4fba245c] \u001b[39m\u001b[93m↑ ArrayInterface v7.19.0 ⇒ v7.20.0\u001b[39m\n",
      "\u001b[33m⌅\u001b[39m \u001b[90m[861a8166] \u001b[39m\u001b[95m↓ Combinatorics v1.0.3 ⇒ v1.0.2\u001b[39m\n",
      "  \u001b[90m[d236fae5] \u001b[39m\u001b[93m↑ PreallocationTools v0.4.33 ⇒ v0.4.34\u001b[39m\n",
      "  \u001b[90m[0bca4576] \u001b[39m\u001b[93m↑ SciMLBase v2.114.0 ⇒ v2.116.0\u001b[39m\n",
      "  \u001b[90m[c0aeaf25] \u001b[39m\u001b[93m↑ SciMLOperators v1.6.0 ⇒ v1.7.1\u001b[39m\n",
      "  \u001b[90m[d1185830] \u001b[39m\u001b[93m↑ SymbolicUtils v3.31.0 ⇒ v3.32.0\u001b[39m\n",
      "  \u001b[90m[0c5d862f] \u001b[39m\u001b[93m↑ Symbolics v6.52.0 ⇒ v6.53.0\u001b[39m\n",
      "\u001b[36m\u001b[1m        Info\u001b[22m\u001b[39m Packages marked with \u001b[33m⌅\u001b[39m have new versions available but compatibility constraints restrict them from upgrading. To see why use `status --outdated -m`\n",
      "\u001b[92m\u001b[1mPrecompiling\u001b[22m\u001b[39m project...\n",
      "    288.2 ms\u001b[32m  ✓ \u001b[39m\u001b[90mArrayInterface\u001b[39m\n",
      "    449.1 ms\u001b[32m  ✓ \u001b[39m\u001b[90mCombinatorics\u001b[39m\n",
      "    569.3 ms\u001b[32m  ✓ \u001b[39m\u001b[90mArrayInterface → ArrayInterfaceGPUArraysCoreExt\u001b[39m\n",
      "    567.6 ms\u001b[32m  ✓ \u001b[39m\u001b[90mArrayInterface → ArrayInterfaceStaticArraysCoreExt\u001b[39m\n",
      "    566.8 ms\u001b[32m  ✓ \u001b[39m\u001b[90mSciMLStructures\u001b[39m\n",
      "    580.9 ms\u001b[32m  ✓ \u001b[39m\u001b[90mArrayInterface → ArrayInterfaceChainRulesCoreExt\u001b[39m\n",
      "    694.6 ms\u001b[32m  ✓ \u001b[39m\u001b[90mArrayInterface → ArrayInterfaceSparseArraysExt\u001b[39m\n",
      "    746.6 ms\u001b[32m  ✓ \u001b[39m\u001b[90mPreallocationTools\u001b[39m\n",
      "   1187.0 ms\u001b[32m  ✓ \u001b[39m\u001b[90mSciMLOperators\u001b[39m\n",
      "    960.0 ms\u001b[32m  ✓ \u001b[39m\u001b[90mSymbolicIndexingInterface\u001b[39m\n",
      "    460.3 ms\u001b[32m  ✓ \u001b[39m\u001b[90mSciMLOperators → SciMLOperatorsStaticArraysCoreExt\u001b[39m\n",
      "    546.8 ms\u001b[32m  ✓ \u001b[39m\u001b[90mSciMLOperators → SciMLOperatorsSparseArraysExt\u001b[39m\n",
      "   1289.5 ms\u001b[32m  ✓ \u001b[39m\u001b[90mRecursiveArrayTools\u001b[39m\n",
      "    485.6 ms\u001b[32m  ✓ \u001b[39m\u001b[90mRecursiveArrayTools → RecursiveArrayToolsSparseArraysExt\u001b[39m\n",
      "   4623.1 ms\u001b[32m  ✓ \u001b[39m\u001b[90mSciMLBase\u001b[39m\n",
      "    658.9 ms\u001b[32m  ✓ \u001b[39m\u001b[90mSciMLBase → SciMLBaseChainRulesCoreExt\u001b[39m\n",
      "    669.6 ms\u001b[32m  ✓ \u001b[39m\u001b[90mSciMLBase → SciMLBaseDistributionsExt\u001b[39m\n",
      "   9129.6 ms\u001b[32m  ✓ \u001b[39m\u001b[90mSymbolicUtils\u001b[39m\n",
      "   1138.4 ms\u001b[32m  ✓ \u001b[39m\u001b[90mSymbolicLimits\u001b[39m\n",
      "   9658.4 ms\u001b[32m  ✓ \u001b[39mSymbolics\n",
      "  20 dependencies successfully precompiled in 22 seconds. 268 already precompiled.\n"
     ]
    }
   ],
   "source": [
    "Pkg.update()"
   ]
  },
  {
   "cell_type": "markdown",
   "metadata": {},
   "source": [
    "## How to Get Help"
   ]
  },
  {
   "cell_type": "markdown",
   "metadata": {},
   "source": [
    "Typing `?cos` or `@doc cos` prints the documentation for the `cos` function, except in a notebook in VS Code. There, do `@doc2 cos` instead. The `@doc2` macro is defined in the printmat.jl file included above."
   ]
  },
  {
   "cell_type": "markdown",
   "metadata": {},
   "source": [
    "## Variables"
   ]
  },
  {
   "cell_type": "code",
   "execution_count": null,
   "metadata": {},
   "outputs": [],
   "source": [
    "using Printf"
   ]
  },
  {
   "cell_type": "markdown",
   "metadata": {},
   "source": [
    "### Scalars and Matrices"
   ]
  },
  {
   "cell_type": "code",
   "execution_count": 16,
   "metadata": {},
   "outputs": [
    {
     "name": "stdout",
     "output_type": "stream",
     "text": [
      "1\n",
      "[1 2 3; 4 5 6]\n"
     ]
    }
   ],
   "source": [
    "# Create a scalar and a matrix.\n",
    "q = 1          # create a scalar\n",
    "Q = [ 1 2 3;   # create a 2x3 matrix\n",
    "      4 5 6 ]\n",
    "\n",
    "# To print, use println() or printlnPs()\n",
    "println(q)\n",
    "println(Q)"
   ]
  },
  {
   "cell_type": "code",
   "execution_count": null,
   "metadata": {},
   "outputs": [],
   "source": []
  }
 ],
 "metadata": {
  "kernelspec": {
   "display_name": "Julia 1.11.4",
   "language": "julia",
   "name": "julia-1.11"
  },
  "language_info": {
   "file_extension": ".jl",
   "mimetype": "application/julia",
   "name": "julia",
   "version": "1.11.4"
  }
 },
 "nbformat": 4,
 "nbformat_minor": 2
}
