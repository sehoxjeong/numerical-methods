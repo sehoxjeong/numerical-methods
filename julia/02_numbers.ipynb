{
 "cells": [
  {
   "cell_type": "markdown",
   "id": "67a42463-8f8b-4dc5-b4b0-887ee80c3e1a",
   "metadata": {},
   "source": [
    "## **Integers and Floats**"
   ]
  },
  {
   "cell_type": "code",
   "execution_count": 15,
   "id": "705b8f6f-cd22-48c2-aa27-0fcbcb619812",
   "metadata": {},
   "outputs": [
    {
     "data": {
      "text/plain": [
       "Float64"
      ]
     },
     "execution_count": 15,
     "metadata": {},
     "output_type": "execute_result"
    }
   ],
   "source": [
    "typeof(1.0)"
   ]
  },
  {
   "cell_type": "code",
   "execution_count": 17,
   "id": "593ed02c-2ca6-4be4-aa0b-37178aac4688",
   "metadata": {},
   "outputs": [
    {
     "data": {
      "text/plain": [
       "Int64"
      ]
     },
     "execution_count": 17,
     "metadata": {},
     "output_type": "execute_result"
    }
   ],
   "source": [
    "typeof(1)"
   ]
  },
  {
   "cell_type": "code",
   "execution_count": 19,
   "id": "5f5e6c67-d1e6-41ac-8ea0-6c6b66cb1539",
   "metadata": {},
   "outputs": [],
   "source": [
    "x = 2;\n",
    "y = 1.0;"
   ]
  },
  {
   "cell_type": "code",
   "execution_count": 29,
   "id": "78b45576-0419-4b39-a4fd-b663808dc556",
   "metadata": {},
   "outputs": [
    {
     "data": {
      "text/plain": [
       "2.0"
      ]
     },
     "execution_count": 29,
     "metadata": {},
     "output_type": "execute_result"
    }
   ],
   "source": [
    "x * y"
   ]
  },
  {
   "cell_type": "code",
   "execution_count": 23,
   "id": "70523b85-8b31-42b6-bb95-41d247aca36c",
   "metadata": {},
   "outputs": [
    {
     "data": {
      "text/plain": [
       "4"
      ]
     },
     "execution_count": 23,
     "metadata": {},
     "output_type": "execute_result"
    }
   ],
   "source": [
    "x^2"
   ]
  },
  {
   "cell_type": "code",
   "execution_count": 31,
   "id": "ae1c7a2f-0876-49a1-b5f4-3bfcc9d0e710",
   "metadata": {},
   "outputs": [
    {
     "data": {
      "text/plain": [
       "0.5"
      ]
     },
     "execution_count": 31,
     "metadata": {},
     "output_type": "execute_result"
    }
   ],
   "source": [
    "y / x"
   ]
  },
  {
   "cell_type": "code",
   "execution_count": 37,
   "id": "c0961064-566e-4d28-8ac8-97632060295f",
   "metadata": {},
   "outputs": [
    {
     "data": {
      "text/plain": [
       "1.0"
      ]
     },
     "execution_count": 37,
     "metadata": {},
     "output_type": "execute_result"
    }
   ],
   "source": [
    "2x - 3y # * can be omitted for multiplication between a numeric literal and a variable."
   ]
  },
  {
   "cell_type": "code",
   "execution_count": 47,
   "id": "61d2f670-6083-47a5-86e2-b9cc958c31e5",
   "metadata": {},
   "outputs": [
    {
     "name": "stdout",
     "output_type": "stream",
     "text": [
      "2x - 3y = 1.0\n",
      "x + y = 3.0\n"
     ]
    }
   ],
   "source": [
    "@show 2x - 3y\n",
    "@show x + y;"
   ]
  },
  {
   "cell_type": "markdown",
   "id": "c141fa65-1296-4fda-b562-09ce11b5bd96",
   "metadata": {},
   "source": [
    "## **Complex Numbers**"
   ]
  },
  {
   "cell_type": "code",
   "execution_count": 49,
   "id": "b2d29a57-2fd6-407a-b278-5c1f99db9022",
   "metadata": {},
   "outputs": [
    {
     "data": {
      "text/plain": [
       "1 + 2im"
      ]
     },
     "execution_count": 49,
     "metadata": {},
     "output_type": "execute_result"
    }
   ],
   "source": [
    "x = 1 + 2im"
   ]
  },
  {
   "cell_type": "code",
   "execution_count": 51,
   "id": "ce500e12-98de-4522-861f-3816026bd18e",
   "metadata": {},
   "outputs": [
    {
     "data": {
      "text/plain": [
       "1 - 2im"
      ]
     },
     "execution_count": 51,
     "metadata": {},
     "output_type": "execute_result"
    }
   ],
   "source": [
    "y = 1 - 2im"
   ]
  },
  {
   "cell_type": "code",
   "execution_count": 53,
   "id": "bd0abc5b-c88e-4f01-ae09-ef2744878621",
   "metadata": {},
   "outputs": [
    {
     "data": {
      "text/plain": [
       "5 + 0im"
      ]
     },
     "execution_count": 53,
     "metadata": {},
     "output_type": "execute_result"
    }
   ],
   "source": [
    "x * y"
   ]
  },
  {
   "cell_type": "code",
   "execution_count": null,
   "id": "8e3b7cb6-3bb0-47a0-a0e2-cc58c705640e",
   "metadata": {},
   "outputs": [],
   "source": []
  }
 ],
 "metadata": {
  "kernelspec": {
   "display_name": "Julia 1.10.4",
   "language": "julia",
   "name": "julia-1.10"
  },
  "language_info": {
   "file_extension": ".jl",
   "mimetype": "application/julia",
   "name": "julia",
   "version": "1.10.4"
  }
 },
 "nbformat": 4,
 "nbformat_minor": 5
}
