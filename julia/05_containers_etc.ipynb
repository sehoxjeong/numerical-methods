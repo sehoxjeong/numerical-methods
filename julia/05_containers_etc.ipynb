{
 "cells": [
  {
   "cell_type": "markdown",
   "id": "80a3ff47-742f-4f17-900c-c8007be4ba72",
   "metadata": {},
   "source": [
    "## Arrays"
   ]
  },
  {
   "cell_type": "markdown",
   "id": "35630e67",
   "metadata": {},
   "source": [
    "### Vectors"
   ]
  },
  {
   "cell_type": "markdown",
   "id": "3ba3bfd6",
   "metadata": {},
   "source": [
    "A **vector** is a one-dimensional array that stores a sequence of values. We can construct a vector using square brackets, separating elements by commas."
   ]
  },
  {
   "cell_type": "code",
   "execution_count": 16,
   "id": "bc151233",
   "metadata": {},
   "outputs": [
    {
     "name": "stdout",
     "output_type": "stream",
     "text": [
      "x = [] = Any[]\n",
      "x = trues(3) = Bool[1, 1, 1]\n",
      "x = ones(3) = [1.0, 1.0, 1.0]\n",
      "x = zeros(3) = [0.0, 0.0, 0.0]\n",
      "x = rand(3) = [0.36529204949937544, 0.9807067111539537, 0.8873488855823283]\n",
      "x = [3, 1, 4] = [3, 1, 4]\n",
      "x = [3.1415, 1.618, 2.7182] = [3.1415, 1.618, 2.7182]\n"
     ]
    }
   ],
   "source": [
    "@show x = [];                      # empty vector\n",
    "@show x = trues(3);                # Boolean vector containing three trues\n",
    "@show x = ones(3);                 # vector of three ones\n",
    "@show x = zeros(3);                # vector of three zeros\n",
    "@show x = rand(3);                 # vector of three random numbers between 0 and 1\n",
    "@show x = [3, 1, 4];               # vector of integers\n",
    "@show x = [3.1415, 1.618, 2.7182]; # vector of floats"
   ]
  },
  {
   "cell_type": "markdown",
   "id": "3aabd0b4",
   "metadata": {},
   "source": [
    "An **array comprehension** can be used to create vectors. Below, we use the `print` function so that the output is printed horizontally."
   ]
  },
  {
   "cell_type": "code",
   "execution_count": 17,
   "id": "f45b04b7",
   "metadata": {},
   "outputs": [
    {
     "name": "stdout",
     "output_type": "stream",
     "text": [
      "[0.8414709848078965, 0.9092974268256817, 0.1411200080598672, -0.7568024953079282, -0.9589242746631385]"
     ]
    }
   ],
   "source": [
    "print([sin(x) for x = 1:5]) # You'll get to know what `for`` and `1:5`` means later."
   ]
  },
  {
   "cell_type": "markdown",
   "id": "626f6dbe",
   "metadata": {},
   "source": [
    "We can inspect the type of vectors."
   ]
  },
  {
   "cell_type": "code",
   "execution_count": 18,
   "id": "3fad81d4",
   "metadata": {},
   "outputs": [
    {
     "data": {
      "text/plain": [
       "Vector{Int64}\u001b[90m (alias for \u001b[39m\u001b[90mArray{Int64, 1}\u001b[39m\u001b[90m)\u001b[39m"
      ]
     },
     "metadata": {},
     "output_type": "display_data"
    }
   ],
   "source": [
    "typeof([3, 1, 4])               # 1-dimensional array of Int64s"
   ]
  },
  {
   "cell_type": "code",
   "execution_count": 19,
   "id": "c1b2615f",
   "metadata": {},
   "outputs": [
    {
     "data": {
      "text/plain": [
       "Vector{Float64}\u001b[90m (alias for \u001b[39m\u001b[90mArray{Float64, 1}\u001b[39m\u001b[90m)\u001b[39m"
      ]
     },
     "metadata": {},
     "output_type": "display_data"
    }
   ],
   "source": [
    "typeof([3.1415, 1.618, 2.7182]) # 1-dimensional array of Float64s"
   ]
  },
  {
   "cell_type": "markdown",
   "id": "1d524d4d",
   "metadata": {},
   "source": [
    "### Referencing Items"
   ]
  },
  {
   "cell_type": "markdown",
   "id": "f9f90c4d",
   "metadata": {},
   "source": [
    "We index into vectors using square brackets."
   ]
  },
  {
   "cell_type": "code",
   "execution_count": 20,
   "id": "63e615b2",
   "metadata": {},
   "outputs": [
    {
     "data": {
      "text/plain": [
       "3.1415"
      ]
     },
     "metadata": {},
     "output_type": "display_data"
    }
   ],
   "source": [
    "x[1] # Unlike Python, first element is indexed by 1."
   ]
  },
  {
   "cell_type": "code",
   "execution_count": 21,
   "id": "5862cd08",
   "metadata": {},
   "outputs": [
    {
     "data": {
      "text/plain": [
       "2.7182"
      ]
     },
     "metadata": {},
     "output_type": "display_data"
    }
   ],
   "source": [
    "x[3] # third element of x"
   ]
  },
  {
   "cell_type": "code",
   "execution_count": 22,
   "id": "89bc37b4",
   "metadata": {},
   "outputs": [
    {
     "data": {
      "text/plain": [
       "2.7182"
      ]
     },
     "metadata": {},
     "output_type": "display_data"
    }
   ],
   "source": [
    "x[end] # use `end` to reference the end of the array"
   ]
  },
  {
   "cell_type": "code",
   "execution_count": 23,
   "id": "b0f5e6ae",
   "metadata": {},
   "outputs": [
    {
     "data": {
      "text/plain": [
       "1.618"
      ]
     },
     "metadata": {},
     "output_type": "display_data"
    }
   ],
   "source": [
    "x[end - 1] # this returns the second to last element"
   ]
  },
  {
   "cell_type": "markdown",
   "id": "d82ebe56",
   "metadata": {},
   "source": [
    "We can pull out a range of elements from an array. Ranges are specified using a colon notation."
   ]
  },
  {
   "cell_type": "code",
   "execution_count": 24,
   "id": "681ce18e",
   "metadata": {},
   "outputs": [],
   "source": [
    "x = [1, 1, 2, 3, 5, 8, 13];"
   ]
  },
  {
   "cell_type": "code",
   "execution_count": 25,
   "id": "3bace3a9",
   "metadata": {},
   "outputs": [
    {
     "name": "stdout",
     "output_type": "stream",
     "text": [
      "[1, 1, 2]"
     ]
    }
   ],
   "source": [
    "print(x[1:3]) # pull out the first three elements"
   ]
  },
  {
   "cell_type": "code",
   "execution_count": 26,
   "id": "ca4acd44",
   "metadata": {},
   "outputs": [
    {
     "name": "stdout",
     "output_type": "stream",
     "text": [
      "[1, 2, 5, 13]"
     ]
    }
   ],
   "source": [
    "print(x[1:2:end]) # pull out every other element; note that x[1:2:] raises the ParseError: missing last argument in range expression"
   ]
  },
  {
   "cell_type": "code",
   "execution_count": 27,
   "id": "7d510862",
   "metadata": {},
   "outputs": [
    {
     "name": "stdout",
     "output_type": "stream",
     "text": [
      "[13, 8, 5, 3, 2, 1, 1]"
     ]
    }
   ],
   "source": [
    "print(x[end:-1:1]) # pull out all the elements in reverse order"
   ]
  },
  {
   "cell_type": "markdown",
   "id": "2f99fc2e",
   "metadata": {},
   "source": [
    "We can perform a variety of different operations on arrays. The exclamation mark at the end of function names is often used to indicate that the function mutates (i.e., changes) the input."
   ]
  },
  {
   "cell_type": "code",
   "execution_count": 28,
   "id": "97911c62",
   "metadata": {},
   "outputs": [
    {
     "name": "stdout",
     "output_type": "stream",
     "text": [
      "[[1, 1, 2, 3, 5, 8, 13], [1, 1, 2, 3, 5, 8, 13]]"
     ]
    }
   ],
   "source": [
    "print([x, x]) # concatenation"
   ]
  },
  {
   "cell_type": "code",
   "execution_count": 29,
   "id": "5e7e7a11",
   "metadata": {},
   "outputs": [
    {
     "data": {
      "text/plain": [
       "7"
      ]
     },
     "metadata": {},
     "output_type": "display_data"
    }
   ],
   "source": [
    "length(x)"
   ]
  },
  {
   "cell_type": "code",
   "execution_count": 30,
   "id": "49b193d4",
   "metadata": {},
   "outputs": [
    {
     "name": "stdout",
     "output_type": "stream",
     "text": [
      "[1, 1, 2, 3, 5, 8, 13, -1]"
     ]
    }
   ],
   "source": [
    "print(push!(x, -1)) # add an element to the end."
   ]
  },
  {
   "cell_type": "code",
   "execution_count": 31,
   "id": "2efe5f50",
   "metadata": {},
   "outputs": [
    {
     "name": "stdout",
     "output_type": "stream",
     "text": [
      "[1, 1, 2, 3, 5, 8, 13]"
     ]
    }
   ],
   "source": [
    "pop!(x) # remove an element from the end.\n",
    "print(x)"
   ]
  },
  {
   "cell_type": "code",
   "execution_count": 32,
   "id": "ffb61106",
   "metadata": {},
   "outputs": [
    {
     "name": "stdout",
     "output_type": "stream",
     "text": [
      "[1, 1, 2, 3, 5, 8, 13, 2, 3]"
     ]
    }
   ],
   "source": [
    "print(append!(x, [2, 3])) # append y to the end of x"
   ]
  },
  {
   "cell_type": "code",
   "execution_count": 33,
   "id": "5b02d8e7",
   "metadata": {},
   "outputs": [
    {
     "name": "stdout",
     "output_type": "stream",
     "text": [
      "[1, 1, 2, 2, 3, 3, 5, 8, 13]"
     ]
    }
   ],
   "source": [
    "print(sort!(x)) # sort the elements in the vector."
   ]
  },
  {
   "cell_type": "code",
   "execution_count": 34,
   "id": "1c20929a",
   "metadata": {},
   "outputs": [
    {
     "name": "stdout",
     "output_type": "stream",
     "text": [
      "[2, 1, 2, 2, 3, 3, 5, 8, 13]"
     ]
    }
   ],
   "source": [
    "x[1] = 2; # change the first element to 2.\n",
    "print(x)"
   ]
  },
  {
   "cell_type": "code",
   "execution_count": 35,
   "id": "160ac7c5",
   "metadata": {},
   "outputs": [],
   "source": [
    "x = [1, 2];\n",
    "y = [3, 4];"
   ]
  },
  {
   "cell_type": "code",
   "execution_count": 36,
   "id": "b7fc0eb1",
   "metadata": {},
   "outputs": [
    {
     "name": "stdout",
     "output_type": "stream",
     "text": [
      "[4, 6]"
     ]
    }
   ],
   "source": [
    "print(x + y) # add vectors"
   ]
  },
  {
   "cell_type": "code",
   "execution_count": 37,
   "id": "e29fe6fe",
   "metadata": {},
   "outputs": [
    {
     "name": "stdout",
     "output_type": "stream",
     "text": [
      "[2, 4]"
     ]
    }
   ],
   "source": [
    "print(3x - [1, 2]) # multiply by a scalar and substract."
   ]
  },
  {
   "cell_type": "code",
   "execution_count": 38,
   "id": "c68ab2ac",
   "metadata": {},
   "outputs": [
    {
     "name": "stdout",
     "output_type": "stream",
     "text": [
      "dot(x, y) = 11\n",
      "x ⋅ y = 11\n"
     ]
    }
   ],
   "source": [
    "using LinearAlgebra\n",
    "@show dot(x, y); # dot product\n",
    "@show x ⋅ y;       # dot product using unicode character"
   ]
  },
  {
   "cell_type": "markdown",
   "id": "b37e7670",
   "metadata": {},
   "source": [
    "It is often useful to apply various functions elementwise to vectors."
   ]
  },
  {
   "cell_type": "code",
   "execution_count": 39,
   "id": "196cf54b",
   "metadata": {},
   "outputs": [
    {
     "name": "stdout",
     "output_type": "stream",
     "text": [
      "[3, 8]"
     ]
    }
   ],
   "source": [
    "print(x .* y) # elementwise multiplication"
   ]
  },
  {
   "cell_type": "code",
   "execution_count": 40,
   "id": "9cbeca00",
   "metadata": {},
   "outputs": [
    {
     "name": "stdout",
     "output_type": "stream",
     "text": [
      "[1, 4]"
     ]
    }
   ],
   "source": [
    "print(x .^ 2) # elementwise squaring"
   ]
  },
  {
   "cell_type": "code",
   "execution_count": 41,
   "id": "6b77397c",
   "metadata": {},
   "outputs": [
    {
     "name": "stdout",
     "output_type": "stream",
     "text": [
      "[0.8414709848078965, 0.9092974268256817]"
     ]
    }
   ],
   "source": [
    "print(sin.(x)) # elementwise application of sin"
   ]
  },
  {
   "cell_type": "code",
   "execution_count": 42,
   "id": "f868d384",
   "metadata": {},
   "outputs": [
    {
     "name": "stdout",
     "output_type": "stream",
     "text": [
      "[1.0, 1.4142135623730951]"
     ]
    }
   ],
   "source": [
    "print(sqrt.(x)) # elementwise application of sqrt"
   ]
  },
  {
   "cell_type": "markdown",
   "id": "2cf8dab4",
   "metadata": {},
   "source": [
    "### Matrices"
   ]
  },
  {
   "cell_type": "markdown",
   "id": "72ed3cf9",
   "metadata": {},
   "source": [
    "A **matrix** is a two-dimensional array. Like a vector, it is constructed using square brackets. We use spaces to delimit elements in the same row and semicolons to delimit rows. We can also index into the matrix and output submatrices using ranges."
   ]
  },
  {
   "cell_type": "code",
   "execution_count": 43,
   "id": "f1a32754",
   "metadata": {},
   "outputs": [],
   "source": [
    "X = [1 2 3; 4 5 6; 7 8 9; 10 11 12];"
   ]
  },
  {
   "cell_type": "code",
   "execution_count": 44,
   "id": "4a74ec79",
   "metadata": {},
   "outputs": [
    {
     "data": {
      "text/plain": [
       "Matrix{Int64}\u001b[90m (alias for \u001b[39m\u001b[90mArray{Int64, 2}\u001b[39m\u001b[90m)\u001b[39m"
      ]
     },
     "metadata": {},
     "output_type": "display_data"
    }
   ],
   "source": [
    "typeof(X) # a 2-dimensional array of Int64s"
   ]
  },
  {
   "cell_type": "code",
   "execution_count": 45,
   "id": "bfd6f1c1",
   "metadata": {},
   "outputs": [
    {
     "data": {
      "text/plain": [
       "4"
      ]
     },
     "metadata": {},
     "output_type": "display_data"
    }
   ],
   "source": [
    "X[2] # second element using column-major ordering"
   ]
  },
  {
   "cell_type": "code",
   "execution_count": 46,
   "id": "8f79c810",
   "metadata": {},
   "outputs": [
    {
     "name": "stdout",
     "output_type": "stream",
     "text": [
      "[1, 2, 3]"
     ]
    }
   ],
   "source": [
    "print(X[1, :]) # extract the first row"
   ]
  },
  {
   "cell_type": "code",
   "execution_count": 47,
   "id": "ac4c084d",
   "metadata": {},
   "outputs": [
    {
     "name": "stdout",
     "output_type": "stream",
     "text": [
      "[2, 5, 8, 11]"
     ]
    }
   ],
   "source": [
    "print(X[:, 2]) # extract the second column"
   ]
  },
  {
   "cell_type": "code",
   "execution_count": 48,
   "id": "fcae979d",
   "metadata": {},
   "outputs": [
    {
     "name": "stdout",
     "output_type": "stream",
     "text": [
      "[1 2; 4 5; 7 8; 10 11]"
     ]
    }
   ],
   "source": [
    "print(X[:, 1:2]) # extract the first two columns"
   ]
  },
  {
   "cell_type": "code",
   "execution_count": 49,
   "id": "b79937e0",
   "metadata": {},
   "outputs": [
    {
     "name": "stdout",
     "output_type": "stream",
     "text": [
      "[1 2; 4 5]"
     ]
    }
   ],
   "source": [
    "print(X[1:2, 1:2]) # extract a 2×2 matrix from the top left of X"
   ]
  },
  {
   "cell_type": "markdown",
   "id": "c373e37f",
   "metadata": {},
   "source": [
    "We can also construct a variety of special matrices and use array comprehensions:"
   ]
  },
  {
   "cell_type": "code",
   "execution_count": null,
   "id": "fcd3791d",
   "metadata": {},
   "outputs": [
    {
     "data": {
      "text/plain": [
       "3×3 Matrix{Float64}:\n",
       " 1.0  0.0  0.0\n",
       " 0.0  1.0  0.0\n",
       " 0.0  0.0  1.0"
      ]
     },
     "metadata": {},
     "output_type": "display_data"
    }
   ],
   "source": [
    "Matrix(1.0I, 3, 3) # 3×3 identity matrix"
   ]
  },
  {
   "cell_type": "code",
   "execution_count": 52,
   "id": "4958184d",
   "metadata": {},
   "outputs": [
    {
     "data": {
      "text/plain": [
       "3×3 Matrix{Int64}:\n",
       " 3  0  0\n",
       " 0  2  0\n",
       " 0  0  1"
      ]
     },
     "metadata": {},
     "output_type": "display_data"
    }
   ],
   "source": [
    "Matrix(Diagonal([3, 2, 1])) # 3×3 diagonal matrix with 3, 2, 1 on diagonal"
   ]
  },
  {
   "cell_type": "code",
   "execution_count": 54,
   "id": "bd341e59",
   "metadata": {},
   "outputs": [
    {
     "data": {
      "text/plain": [
       "3×2 Matrix{Float64}:\n",
       " 0.774013  0.943015\n",
       " 0.40806   0.381623\n",
       " 0.21831   0.572548"
      ]
     },
     "metadata": {},
     "output_type": "display_data"
    }
   ],
   "source": [
    "rand(3, 2) # 3×2 random matrix"
   ]
  },
  {
   "cell_type": "code",
   "execution_count": 55,
   "id": "c559a738",
   "metadata": {},
   "outputs": [
    {
     "data": {
      "text/plain": [
       "3×2 Matrix{Float64}:\n",
       " 0.0  0.0\n",
       " 0.0  0.0\n",
       " 0.0  0.0"
      ]
     },
     "metadata": {},
     "output_type": "display_data"
    }
   ],
   "source": [
    "zeros(3, 2) # 3×2 matrix of zeros"
   ]
  },
  {
   "cell_type": "code",
   "execution_count": 57,
   "id": "8950bb5d",
   "metadata": {},
   "outputs": [
    {
     "data": {
      "text/plain": [
       "3×2 Matrix{Float64}:\n",
       "  0.909297   0.14112\n",
       "  0.14112   -0.756802\n",
       " -0.756802  -0.958924"
      ]
     },
     "metadata": {},
     "output_type": "display_data"
    }
   ],
   "source": [
    "[sin(x+y) for x = 1:3, y = 1:2] # array comprehension"
   ]
  },
  {
   "cell_type": "markdown",
   "id": "f5300e61",
   "metadata": {},
   "source": [
    "Matrix operations include the following:"
   ]
  },
  {
   "cell_type": "code",
   "execution_count": 60,
   "id": "92e363b9",
   "metadata": {},
   "outputs": [
    {
     "data": {
      "text/plain": [
       "3×4 adjoint(::Matrix{Int64}) with eltype Int64:\n",
       " 1  4  7  10\n",
       " 2  5  8  11\n",
       " 3  6  9  12"
      ]
     },
     "metadata": {},
     "output_type": "display_data"
    }
   ],
   "source": [
    "X' # complex conjugate transpose (adjoint operator)"
   ]
  },
  {
   "cell_type": "code",
   "execution_count": 63,
   "id": "efecd873",
   "metadata": {},
   "outputs": [
    {
     "data": {
      "text/plain": [
       "4×3 Matrix{Int64}:\n",
       "  5   8  11\n",
       " 14  17  20\n",
       " 23  26  29\n",
       " 32  35  38"
      ]
     },
     "metadata": {},
     "output_type": "display_data"
    }
   ],
   "source": [
    "3X .+ 2 # multiplying by scalar and adding scalar"
   ]
  },
  {
   "cell_type": "code",
   "execution_count": 67,
   "id": "2c3a6b7f",
   "metadata": {},
   "outputs": [
    {
     "name": "stdout",
     "output_type": "stream",
     "text": [
      "inv(X) = [-0.125 0.375; 0.375 -0.125]\n",
      "det(X) = -8.0\n"
     ]
    }
   ],
   "source": [
    "X = [1 3; 3 1]  # Create an invertible matrix\n",
    "@show inv(X);   # matrix inverse\n",
    "@show det(X);   # determinant"
   ]
  },
  {
   "cell_type": "code",
   "execution_count": 70,
   "id": "0cb52d3e",
   "metadata": {},
   "outputs": [
    {
     "name": "stdout",
     "output_type": "stream",
     "text": [
      "[X X] = [1 3 1 3; 3 1 3 1]\n",
      "[X; X] = [1 3; 3 1; 1 3; 3 1]\n"
     ]
    }
   ],
   "source": [
    "@show [X X];  # horizontal concatenation\n",
    "@show [X; X]; # vertical concatenation"
   ]
  },
  {
   "cell_type": "code",
   "execution_count": 72,
   "id": "15cf0c95",
   "metadata": {},
   "outputs": [
    {
     "data": {
      "text/plain": [
       "2×2 Matrix{Float64}:\n",
       " 0.841471  0.14112\n",
       " 0.14112   0.841471"
      ]
     },
     "metadata": {},
     "output_type": "display_data"
    }
   ],
   "source": [
    "sin.(X) # elementwise application of sin"
   ]
  },
  {
   "cell_type": "markdown",
   "id": "4f2e62bc-a708-4037-907e-2f31b10582d4",
   "metadata": {},
   "source": [
    "## Tuples"
   ]
  },
  {
   "cell_type": "markdown",
   "id": "c4a6ea1b",
   "metadata": {},
   "source": [
    "A **tuple** is an ordered list of values, potentially of different types. They are constructed with parantheses. They are similar to arrays, but they cannot be mutated."
   ]
  },
  {
   "cell_type": "code",
   "execution_count": 75,
   "id": "a6fd5b6f",
   "metadata": {},
   "outputs": [
    {
     "data": {
      "text/plain": [
       "Tuple{Int64}"
      ]
     },
     "metadata": {},
     "output_type": "display_data"
    }
   ],
   "source": [
    "x = (1,) # a single element tuple indicated by the trailing comma\n",
    "typeof(x)"
   ]
  },
  {
   "cell_type": "code",
   "execution_count": 76,
   "id": "c339ea72",
   "metadata": {},
   "outputs": [
    {
     "data": {
      "text/plain": [
       "(1, 0, [1, 2], 2.5029, 4.6692)"
      ]
     },
     "metadata": {},
     "output_type": "display_data"
    }
   ],
   "source": [
    "x = (1, 0, [1, 2], 2.5029, 4.6692) # third element is a vector"
   ]
  },
  {
   "cell_type": "code",
   "execution_count": 77,
   "id": "152bfbec",
   "metadata": {},
   "outputs": [
    {
     "data": {
      "text/plain": [
       "0"
      ]
     },
     "metadata": {},
     "output_type": "display_data"
    }
   ],
   "source": [
    "x[2]"
   ]
  },
  {
   "cell_type": "code",
   "execution_count": 78,
   "id": "61b8b8d8",
   "metadata": {},
   "outputs": [
    {
     "data": {
      "text/plain": [
       "4.6692"
      ]
     },
     "metadata": {},
     "output_type": "display_data"
    }
   ],
   "source": [
    "x[end]"
   ]
  },
  {
   "cell_type": "code",
   "execution_count": 79,
   "id": "38050d88",
   "metadata": {},
   "outputs": [
    {
     "data": {
      "text/plain": [
       "(2.5029, 4.6692)"
      ]
     },
     "metadata": {},
     "output_type": "display_data"
    }
   ],
   "source": [
    "x[4:end]"
   ]
  },
  {
   "cell_type": "code",
   "execution_count": 80,
   "id": "9b9fc1e0",
   "metadata": {},
   "outputs": [
    {
     "data": {
      "text/plain": [
       "5"
      ]
     },
     "metadata": {},
     "output_type": "display_data"
    }
   ],
   "source": [
    "length(x)"
   ]
  },
  {
   "cell_type": "code",
   "execution_count": 83,
   "id": "6b5d0b46",
   "metadata": {},
   "outputs": [
    {
     "data": {
      "text/plain": [
       "(3, 5, 7)"
      ]
     },
     "metadata": {},
     "output_type": "display_data"
    }
   ],
   "source": [
    "(2, 3, 4) .+ (1, 2, 3)"
   ]
  },
  {
   "cell_type": "code",
   "execution_count": 11,
   "id": "e048f5fa-c67c-4067-b771-d484c9e6835a",
   "metadata": {},
   "outputs": [],
   "source": [
    "x = (\"foo\", \"bar\");\n",
    "y = (\"foo\", 2);"
   ]
  },
  {
   "cell_type": "code",
   "execution_count": 13,
   "id": "0130255c-7840-4136-b1a3-52f9840ea476",
   "metadata": {},
   "outputs": [
    {
     "data": {
      "text/plain": [
       "(Tuple{String, String}, Tuple{String, Int64})"
      ]
     },
     "execution_count": 13,
     "metadata": {},
     "output_type": "execute_result"
    }
   ],
   "source": [
    "typeof(x), typeof(y)"
   ]
  },
  {
   "cell_type": "code",
   "execution_count": 5,
   "id": "94173df6-0675-4c89-847c-b827dd290957",
   "metadata": {},
   "outputs": [
    {
     "data": {
      "text/plain": [
       "(\"foo\", 1)"
      ]
     },
     "execution_count": 5,
     "metadata": {},
     "output_type": "execute_result"
    }
   ],
   "source": [
    "x = \"foo\", 1 # Tuples can be constructed with or without parentheses."
   ]
  },
  {
   "cell_type": "code",
   "execution_count": 19,
   "id": "22912d98-f236-49c6-b091-c38a61b77b2e",
   "metadata": {},
   "outputs": [],
   "source": [
    "function f()\n",
    "    return \"foo\", 1\n",
    "end;"
   ]
  },
  {
   "cell_type": "code",
   "execution_count": 21,
   "id": "a08a64aa-beeb-45c1-883c-66e2d9464137",
   "metadata": {},
   "outputs": [
    {
     "data": {
      "text/plain": [
       "(\"foo\", 1)"
      ]
     },
     "execution_count": 21,
     "metadata": {},
     "output_type": "execute_result"
    }
   ],
   "source": [
    "f()"
   ]
  },
  {
   "cell_type": "code",
   "execution_count": 6,
   "id": "517bb3f1-50a1-4af2-abed-674dc15ffed8",
   "metadata": {},
   "outputs": [
    {
     "name": "stdout",
     "output_type": "stream",
     "text": [
      "word = foo, val = 1\n"
     ]
    }
   ],
   "source": [
    "# Tuples can also be unpacked directly into variables.\n",
    "word, val = (\"foo\", 1);\n",
    "println(\"word = $word, val = $val\")"
   ]
  },
  {
   "cell_type": "code",
   "execution_count": 15,
   "id": "af0e4021-d5b2-46d3-af41-8b5312a667aa",
   "metadata": {},
   "outputs": [
    {
     "name": "stdout",
     "output_type": "stream",
     "text": [
      "Type of x: String\n",
      "Type of y: Tuple{String}\n"
     ]
    }
   ],
   "source": [
    "# Tuples can be created with a hanging `,` - this is useful to create a tuple with one element.\n",
    "x = (\"foo\");\n",
    "y = (\"foo\", );\n",
    "\n",
    "println(\"Type of x: $(typeof(x))\")\n",
    "println(\"Type of y: $(typeof(y))\")"
   ]
  },
  {
   "cell_type": "markdown",
   "id": "2b64253c-9788-4798-a7eb-cc39db7e85fe",
   "metadata": {},
   "source": [
    "## Referencing Items"
   ]
  },
  {
   "cell_type": "code",
   "execution_count": 16,
   "id": "730d522f-f799-4772-98e0-dbdb0d2cdb8c",
   "metadata": {},
   "outputs": [],
   "source": [
    "x = [10, 20, 30, 40];"
   ]
  },
  {
   "cell_type": "code",
   "execution_count": 17,
   "id": "eba44e3d-34cd-49b3-aa13-85b56f7dc381",
   "metadata": {},
   "outputs": [
    {
     "data": {
      "text/plain": [
       "40"
      ]
     },
     "execution_count": 17,
     "metadata": {},
     "output_type": "execute_result"
    }
   ],
   "source": [
    "x[end]"
   ]
  },
  {
   "cell_type": "code",
   "execution_count": 18,
   "id": "5da73b3a-a443-4071-8d8d-a54442681833",
   "metadata": {},
   "outputs": [
    {
     "data": {
      "text/plain": [
       "30"
      ]
     },
     "execution_count": 18,
     "metadata": {},
     "output_type": "execute_result"
    }
   ],
   "source": [
    "x[end - 1]"
   ]
  },
  {
   "cell_type": "code",
   "execution_count": 19,
   "id": "5845c92e-7dab-498c-9f67-383a75b7169c",
   "metadata": {},
   "outputs": [
    {
     "data": {
      "text/plain": [
       "3-element Vector{Int64}:\n",
       " 10\n",
       " 20\n",
       " 30"
      ]
     },
     "execution_count": 19,
     "metadata": {},
     "output_type": "execute_result"
    }
   ],
   "source": [
    "# slice notation\n",
    "x[1:3]"
   ]
  },
  {
   "cell_type": "code",
   "execution_count": 20,
   "id": "fd1e67a1-9bc4-43b6-82e1-d60773f98b48",
   "metadata": {},
   "outputs": [
    {
     "data": {
      "text/plain": [
       "3-element Vector{Int64}:\n",
       " 20\n",
       " 30\n",
       " 40"
      ]
     },
     "execution_count": 20,
     "metadata": {},
     "output_type": "execute_result"
    }
   ],
   "source": [
    "x[2:end]"
   ]
  },
  {
   "cell_type": "code",
   "execution_count": 22,
   "id": "32ec4505-5ee1-4560-a7cb-ed648416bcd3",
   "metadata": {},
   "outputs": [
    {
     "data": {
      "text/plain": [
       "\"obar\""
      ]
     },
     "execution_count": 22,
     "metadata": {},
     "output_type": "execute_result"
    }
   ],
   "source": [
    "# The same slice notation works on strings\n",
    "str = \"foobar\";\n",
    "str[3:end]"
   ]
  },
  {
   "cell_type": "markdown",
   "id": "fc9756cb-9cb9-4278-bca4-ac838e4d6c67",
   "metadata": {},
   "source": [
    "## Dictionaries"
   ]
  },
  {
   "cell_type": "markdown",
   "id": "3fd1d37b",
   "metadata": {},
   "source": [
    "A **dictionary** is a collection of key-value pairs. Key-value pairs are indicated with a double arrow operator. We can index into a dictionary using square brackets as with arrays and tuples."
   ]
  },
  {
   "cell_type": "code",
   "execution_count": 88,
   "id": "03269e25",
   "metadata": {},
   "outputs": [
    {
     "name": "stdout",
     "output_type": "stream",
     "text": [
      "Dict{Any, Any}()\n",
      "Dict{Any, Any}(3 => 4)"
     ]
    }
   ],
   "source": [
    "x = Dict() # empty dictionary\n",
    "println(x)\n",
    "\n",
    "x[3] = 4;  # Associate value 4 with key 3\n",
    "print(x)"
   ]
  },
  {
   "cell_type": "code",
   "execution_count": 89,
   "id": "39a1cca0",
   "metadata": {},
   "outputs": [
    {
     "data": {
      "text/plain": [
       "Dict{Int64, Int64} with 2 entries:\n",
       "  5 => 1\n",
       "  3 => 4"
      ]
     },
     "metadata": {},
     "output_type": "display_data"
    }
   ],
   "source": [
    "x = Dict(3=>4, 5=>1) # Create a dictionary with two key-value pairs."
   ]
  },
  {
   "cell_type": "code",
   "execution_count": 92,
   "id": "399b3e75",
   "metadata": {},
   "outputs": [
    {
     "data": {
      "text/plain": [
       "1"
      ]
     },
     "metadata": {},
     "output_type": "display_data"
    }
   ],
   "source": [
    "x[5] # return value associated with key 5"
   ]
  },
  {
   "cell_type": "code",
   "execution_count": 93,
   "id": "17c559d3",
   "metadata": {},
   "outputs": [
    {
     "data": {
      "text/plain": [
       "true"
      ]
     },
     "metadata": {},
     "output_type": "display_data"
    }
   ],
   "source": [
    "haskey(x, 3) # check whether dictionary has key 3"
   ]
  },
  {
   "cell_type": "code",
   "execution_count": 94,
   "id": "8b890add",
   "metadata": {},
   "outputs": [
    {
     "data": {
      "text/plain": [
       "false"
      ]
     },
     "metadata": {},
     "output_type": "display_data"
    }
   ],
   "source": [
    "haskey(x, 4) # check whether dictionary has key 4"
   ]
  },
  {
   "cell_type": "code",
   "execution_count": 23,
   "id": "86592a8a-34aa-4135-acc6-c4f29dcb604b",
   "metadata": {},
   "outputs": [
    {
     "data": {
      "text/plain": [
       "Dict{String, Any} with 2 entries:\n",
       "  \"name\" => \"Frodo\"\n",
       "  \"age\"  => 33"
      ]
     },
     "execution_count": 23,
     "metadata": {},
     "output_type": "execute_result"
    }
   ],
   "source": [
    "d = Dict(\"name\" => \"Frodo\", \"age\" => 33)"
   ]
  },
  {
   "cell_type": "code",
   "execution_count": 24,
   "id": "0650ad00-42e4-4a20-863f-ecbbf46f4541",
   "metadata": {},
   "outputs": [
    {
     "data": {
      "text/plain": [
       "33"
      ]
     },
     "execution_count": 24,
     "metadata": {},
     "output_type": "execute_result"
    }
   ],
   "source": [
    "d[\"age\"]"
   ]
  },
  {
   "cell_type": "code",
   "execution_count": 25,
   "id": "af864a48-2875-4206-a82d-6e05720c7631",
   "metadata": {},
   "outputs": [
    {
     "data": {
      "text/plain": [
       "KeySet for a Dict{String, Any} with 2 entries. Keys:\n",
       "  \"name\"\n",
       "  \"age\""
      ]
     },
     "execution_count": 25,
     "metadata": {},
     "output_type": "execute_result"
    }
   ],
   "source": [
    "keys(d)"
   ]
  },
  {
   "cell_type": "code",
   "execution_count": 26,
   "id": "b76c7fae-763c-4a5b-8e2d-cb4fd49bf4d5",
   "metadata": {},
   "outputs": [
    {
     "data": {
      "text/plain": [
       "ValueIterator for a Dict{String, Any} with 2 entries. Values:\n",
       "  \"Frodo\"\n",
       "  33"
      ]
     },
     "execution_count": 26,
     "metadata": {},
     "output_type": "execute_result"
    }
   ],
   "source": [
    "values(d)"
   ]
  },
  {
   "cell_type": "markdown",
   "id": "68e6ada1",
   "metadata": {},
   "source": [
    "## Composite Types"
   ]
  },
  {
   "cell_type": "markdown",
   "id": "53456241",
   "metadata": {},
   "source": [
    "A **composite type** is a collection of named fields. By default, an instance of a composite type is immutable (i.e., it cannot change). We use the `struct` keyword and then give the new type a name and list the names of the fields."
   ]
  },
  {
   "cell_type": "code",
   "execution_count": 95,
   "id": "733415f8-c376-4945-b998-6c7921e77992",
   "metadata": {},
   "outputs": [],
   "source": [
    "struct A\n",
    "    a\n",
    "    b\n",
    "end"
   ]
  },
  {
   "cell_type": "markdown",
   "id": "67a13cdd",
   "metadata": {},
   "source": [
    "Adding the keyword `mutable` makes it so that an instance can change."
   ]
  },
  {
   "cell_type": "code",
   "execution_count": 96,
   "id": "872c7b6b",
   "metadata": {},
   "outputs": [],
   "source": [
    "mutable struct B\n",
    "    a\n",
    "    b\n",
    "end"
   ]
  },
  {
   "cell_type": "markdown",
   "id": "a0ba553b",
   "metadata": {},
   "source": [
    "Composite types are constructed using parantheses, between which we pass in values for the different fields. For example,"
   ]
  },
  {
   "cell_type": "code",
   "execution_count": 97,
   "id": "73196103",
   "metadata": {},
   "outputs": [
    {
     "data": {
      "text/plain": [
       "A(1.414, 1.732)"
      ]
     },
     "metadata": {},
     "output_type": "display_data"
    }
   ],
   "source": [
    "x = A(1.414, 1.732)"
   ]
  },
  {
   "cell_type": "markdown",
   "id": "e90c8c3c",
   "metadata": {},
   "source": [
    "The double-colon operator can be used to annotate the types for fields."
   ]
  },
  {
   "cell_type": "code",
   "execution_count": 99,
   "id": "78247ab8",
   "metadata": {},
   "outputs": [],
   "source": [
    "struct C\n",
    "    a::Int64\n",
    "    b::Float64\n",
    "end"
   ]
  },
  {
   "cell_type": "markdown",
   "id": "5451902b",
   "metadata": {},
   "source": [
    "This annotation requires that we pass in an `Int64` for the first field and a `Float64` for the second field. For compactness, this text does not use type annotations, but it is at the expense of performance. Type annotations allow Julia to improve runtime performance because the compiler can optimize the underlying code for specific types."
   ]
  },
  {
   "cell_type": "markdown",
   "id": "263a2df8",
   "metadata": {},
   "source": [
    "## Abstract Types"
   ]
  },
  {
   "cell_type": "markdown",
   "id": "5be800fd",
   "metadata": {},
   "source": [
    "So far we have discussed *concrete types*, which are types that we can construct. However, concrete types are only part of the type hierarchy. There are also *abstract types*, which are supertypes of concrete types and other abstract types.\n",
    "\n",
    "We can explore the type hierarchy of the `Float64` type shown in the following figure using the `supertype` and `subtypes` functions.\n",
    "\n",
    "```markdown\n",
    "Any\n",
    "+-- Number\n",
    "⋮   +-- Real\n",
    "    ⋮   +-- AbstractFloat\n",
    "        ⋮   +-- Float64\n",
    "            +-- Float32\n",
    "            +-- Float16\n",
    "            +-- BigFloat\n",
    "```"
   ]
  },
  {
   "cell_type": "code",
   "execution_count": 6,
   "id": "e7a82a48",
   "metadata": {},
   "outputs": [
    {
     "name": "stdout",
     "output_type": "stream",
     "text": [
      "supertype(Float64) = AbstractFloat\n",
      "supertype(AbstractFloat) = Real\n",
      "supertype(Real) = Number\n",
      "supertype(Number) = Any\n",
      "supertype(Any) = Any\n"
     ]
    }
   ],
   "source": [
    "@show supertype(Float64);\n",
    "@show supertype(AbstractFloat);\n",
    "@show supertype(Real);\n",
    "@show supertype(Number);\n",
    "@show supertype(Any); # Any is at the top of the hierarchy"
   ]
  },
  {
   "cell_type": "code",
   "execution_count": 8,
   "id": "e68fc65e",
   "metadata": {},
   "outputs": [
    {
     "name": "stdout",
     "output_type": "stream",
     "text": [
      "subtypes(AbstractFloat) = Any[BigFloat, Float16, Float32, Float64]\n",
      "subtypes(Float64) = Type[]\n"
     ]
    }
   ],
   "source": [
    "@show subtypes(AbstractFloat); # different types of AbstractFloats\n",
    "@show subtypes(Float64);       # Float64 does not have any subtypes."
   ]
  },
  {
   "cell_type": "markdown",
   "id": "f62565f8",
   "metadata": {},
   "source": [
    "We can define our own abstract types."
   ]
  },
  {
   "cell_type": "code",
   "execution_count": 10,
   "id": "10c49ccb",
   "metadata": {},
   "outputs": [],
   "source": [
    "abstract type D end\n",
    "abstract type E <: D end # E is an abstract subtype of C\n",
    "struct F <: E            # E is a composite type tyat is a subtype of E\n",
    "    a\n",
    "end"
   ]
  },
  {
   "cell_type": "markdown",
   "id": "187afa64",
   "metadata": {},
   "source": [
    "## Parametric Types"
   ]
  },
  {
   "cell_type": "markdown",
   "id": "c5988e5d",
   "metadata": {},
   "source": [
    "Julia supports *parametric types*, which are types that take parameters. We have already seen a parametric type with our dictionary example."
   ]
  },
  {
   "cell_type": "code",
   "execution_count": 11,
   "id": "aafda43e",
   "metadata": {},
   "outputs": [
    {
     "data": {
      "text/plain": [
       "Dict{Int64, Int64} with 2 entries:\n",
       "  5 => 1\n",
       "  3 => 4"
      ]
     },
     "metadata": {},
     "output_type": "display_data"
    }
   ],
   "source": [
    "x = Dict(3=>4, 5=>1)"
   ]
  },
  {
   "cell_type": "markdown",
   "id": "f4001809",
   "metadata": {},
   "source": [
    "This constructs a `Dict{Int64, Int64}`. The parameters to the parameter type are listed within braces and delimited by commas. For the dictionary type, the first parameter specifies the key type, and the second parameter specifies the value type. Julia was able to infer this based on the input, but we could have specified it explicitly."
   ]
  },
  {
   "cell_type": "code",
   "execution_count": 12,
   "id": "71224886",
   "metadata": {},
   "outputs": [
    {
     "data": {
      "text/plain": [
       "Dict{Int64, Int64} with 2 entries:\n",
       "  5 => 1\n",
       "  3 => 4"
      ]
     },
     "metadata": {},
     "output_type": "display_data"
    }
   ],
   "source": [
    "x = Dict{Int64, Int64}(3=>4, 5=>1)"
   ]
  },
  {
   "cell_type": "markdown",
   "id": "baedf986",
   "metadata": {},
   "source": [
    "It is possible to define our own parametric types, but we do not do that in this note. (Wait for future updates!)"
   ]
  },
  {
   "cell_type": "code",
   "execution_count": null,
   "id": "eb94f904",
   "metadata": {},
   "outputs": [],
   "source": []
  }
 ],
 "metadata": {
  "kernelspec": {
   "display_name": "Julia 1.10.4",
   "language": "julia",
   "name": "julia-1.10"
  },
  "language_info": {
   "file_extension": ".jl",
   "mimetype": "application/julia",
   "name": "julia",
   "version": "1.10.4"
  }
 },
 "nbformat": 4,
 "nbformat_minor": 5
}
