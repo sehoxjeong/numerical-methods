{
 "cells": [
  {
   "cell_type": "markdown",
   "id": "d126c4a3",
   "metadata": {},
   "source": [
    "# Arrays, Tuples, Ranges, and Other Fundamental Types\n",
    "\n",
    "Seho Jeong, Sogang University\n",
    "\n",
    "**References**\n",
    "- **Perla, Jesse, Thomas J. Sargent, and John Stachurski. n.d.** \"Quantitative Economics with Julia.\" QuantEcon."
   ]
  },
  {
   "cell_type": "markdown",
   "id": "e55e77af",
   "metadata": {},
   "source": []
  }
 ],
 "metadata": {
  "language_info": {
   "name": "python"
  }
 },
 "nbformat": 4,
 "nbformat_minor": 5
}
