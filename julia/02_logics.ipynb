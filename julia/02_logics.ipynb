{
 "cells": [
  {
   "cell_type": "markdown",
   "id": "903b43e9-ad01-43a9-8767-ecba4cf69e0f",
   "metadata": {},
   "source": [
    "## Comparisons and Logical Operators"
   ]
  },
  {
   "cell_type": "markdown",
   "id": "e9156c00",
   "metadata": {},
   "source": [
    "The Boolean type in Julia, written `Bool`, includes the value `true` and `false`. We can assign these values to variables. Variable names can be any string of characters, including unicode, with a few restrictions."
   ]
  },
  {
   "cell_type": "markdown",
   "id": "333771d0-2430-4708-9ba5-0013100ee78f",
   "metadata": {},
   "source": [
    "### Combining Expressions"
   ]
  },
  {
   "cell_type": "code",
   "execution_count": 2,
   "id": "4b1b1c61",
   "metadata": {},
   "outputs": [],
   "source": [
    "x = true;\n",
    "y = false;"
   ]
  },
  {
   "cell_type": "code",
   "execution_count": 3,
   "id": "1d38da95-6f79-4bac-a91d-f5cd57165f40",
   "metadata": {},
   "outputs": [
    {
     "data": {
      "text/plain": [
       "false"
      ]
     },
     "metadata": {},
     "output_type": "display_data"
    }
   ],
   "source": [
    "# conjunction\n",
    "x && y # and"
   ]
  },
  {
   "cell_type": "code",
   "execution_count": 4,
   "id": "5c9729e8-5876-4e42-9ec8-a4c7972fd45d",
   "metadata": {},
   "outputs": [
    {
     "data": {
      "text/plain": [
       "true"
      ]
     },
     "metadata": {},
     "output_type": "display_data"
    }
   ],
   "source": [
    "# disjunction\n",
    "x || y # or"
   ]
  },
  {
   "cell_type": "code",
   "execution_count": 5,
   "id": "6c55019a-22f3-4a57-8b6c-58d90a5e53ec",
   "metadata": {},
   "outputs": [
    {
     "data": {
      "text/plain": [
       "false"
      ]
     },
     "metadata": {},
     "output_type": "display_data"
    }
   ],
   "source": [
    "!x # not"
   ]
  },
  {
   "cell_type": "markdown",
   "id": "2c55a843",
   "metadata": {},
   "source": [
    "Julia has a variety of basic types that can represent data such as truth values, numbers, strings, arrays, tuples, and dictionaries. Users can also define their own types."
   ]
  },
  {
   "cell_type": "markdown",
   "id": "4c9a276d",
   "metadata": {},
   "source": [
    "## Booleans"
   ]
  },
  {
   "cell_type": "markdown",
   "id": "d3126dd1",
   "metadata": {},
   "source": []
  },
  {
   "cell_type": "code",
   "execution_count": null,
   "id": "409a93e2",
   "metadata": {},
   "outputs": [
    {
     "data": {
      "text/plain": [
       "false"
      ]
     },
     "metadata": {},
     "output_type": "display_data"
    }
   ],
   "source": [
    "α = false"
   ]
  },
  {
   "cell_type": "markdown",
   "id": "1cb7dbf0",
   "metadata": {},
   "source": [
    "The left-hand side of the equal sign is the variable name, and the right hand side is the value. Semicolons in these examples suppress the output."
   ]
  },
  {
   "cell_type": "code",
   "execution_count": null,
   "id": "158ef402",
   "metadata": {},
   "outputs": [],
   "source": [
    "x = true;\n",
    "y = false;"
   ]
  },
  {
   "cell_type": "code",
   "execution_count": null,
   "id": "728d9e2d",
   "metadata": {},
   "outputs": [
    {
     "data": {
      "text/plain": [
       "Bool"
      ]
     },
     "metadata": {},
     "output_type": "display_data"
    }
   ],
   "source": [
    "typeof(x)"
   ]
  },
  {
   "cell_type": "code",
   "execution_count": null,
   "id": "e1f7f833",
   "metadata": {},
   "outputs": [
    {
     "data": {
      "text/plain": [
       "false"
      ]
     },
     "metadata": {},
     "output_type": "display_data"
    }
   ],
   "source": [
    "!x # not"
   ]
  },
  {
   "cell_type": "code",
   "execution_count": null,
   "id": "9dabdb61",
   "metadata": {},
   "outputs": [
    {
     "data": {
      "text/plain": [
       "false"
      ]
     },
     "metadata": {},
     "output_type": "display_data"
    }
   ],
   "source": [
    "x && y # and"
   ]
  },
  {
   "cell_type": "code",
   "execution_count": null,
   "id": "de61705d",
   "metadata": {},
   "outputs": [
    {
     "data": {
      "text/plain": [
       "true"
      ]
     },
     "metadata": {},
     "output_type": "display_data"
    }
   ],
   "source": [
    "x || y # or"
   ]
  },
  {
   "cell_type": "code",
   "execution_count": null,
   "id": "031a3e25",
   "metadata": {},
   "outputs": [],
   "source": []
  }
 ],
 "metadata": {
  "kernelspec": {
   "display_name": "Julia 1.10.4",
   "language": "julia",
   "name": "julia-1.10"
  },
  "language_info": {
   "file_extension": ".jl",
   "mimetype": "application/julia",
   "name": "julia",
   "version": "1.10.4"
  }
 },
 "nbformat": 4,
 "nbformat_minor": 5
}
