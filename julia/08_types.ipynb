{
 "cells": [
  {
   "cell_type": "code",
   "execution_count": 17,
   "id": "4280b41f-6a87-4a84-9df5-24f2bed6cbec",
   "metadata": {},
   "outputs": [],
   "source": [
    "using LinearAlgebra, Statistics"
   ]
  },
  {
   "cell_type": "code",
   "execution_count": 4,
   "id": "188b1ba2-1fe9-44f4-a5f6-e875d1763053",
   "metadata": {},
   "outputs": [
    {
     "name": "stdout",
     "output_type": "stream",
     "text": [
      "typeof(1) = Int64\n",
      "typeof(1.0) = Float64\n"
     ]
    }
   ],
   "source": [
    "@show typeof(1)\n",
    "@show typeof(1.0);"
   ]
  },
  {
   "cell_type": "markdown",
   "id": "1bc07bdc-4063-45d1-8ba0-c8769eead743",
   "metadata": {},
   "source": [
    "The hard-coded values `1` and `1.0` are called **literals** in a programming language, and the compiler deduces their types."
   ]
  },
  {
   "cell_type": "code",
   "execution_count": 5,
   "id": "f023f38e-7a82-45db-a81a-d13575624e20",
   "metadata": {},
   "outputs": [],
   "source": [
    "x = 1;"
   ]
  },
  {
   "cell_type": "code",
   "execution_count": 6,
   "id": "5413f075-53dd-4c60-addf-d24ca5bd75f2",
   "metadata": {},
   "outputs": [
    {
     "data": {
      "text/plain": [
       "Int64"
      ]
     },
     "execution_count": 6,
     "metadata": {},
     "output_type": "execute_result"
    }
   ],
   "source": [
    "typeof(x)"
   ]
  },
  {
   "cell_type": "markdown",
   "id": "2eb0b931-6dca-4acd-a777-84bf0d597aa8",
   "metadata": {},
   "source": [
    "### **Parametric Types**"
   ]
  },
  {
   "cell_type": "code",
   "execution_count": 8,
   "id": "85f3bfdf-fc68-4af5-8da0-eb34807980e3",
   "metadata": {},
   "outputs": [
    {
     "name": "stdout",
     "output_type": "stream",
     "text": [
      "typeof(1.0 + 1im) = ComplexF64\n",
      "typeof(ones(2, 2)) = Matrix{Float64}\n"
     ]
    }
   ],
   "source": [
    "@show typeof(1.0 + 1im)\n",
    "@show typeof(ones(2, 2));"
   ]
  },
  {
   "cell_type": "markdown",
   "id": "84474976-c006-493e-a472-820bb2d9bf36",
   "metadata": {},
   "source": [
    "The key here is to interpret the curly brackets as swappable parameters for a given type."
   ]
  },
  {
   "cell_type": "code",
   "execution_count": 10,
   "id": "e872cbb5-02dd-4447-be49-4e3573cd5838",
   "metadata": {},
   "outputs": [],
   "source": [
    "x = (1, 2.0, \"test\");"
   ]
  },
  {
   "cell_type": "code",
   "execution_count": 12,
   "id": "cf0fffd5-7464-4624-b390-4c39b360e054",
   "metadata": {},
   "outputs": [
    {
     "name": "stdout",
     "output_type": "stream",
     "text": [
      "typeof(x) = Tuple{Int64, Float64, String}\n"
     ]
    }
   ],
   "source": [
    "@show typeof(x);"
   ]
  },
  {
   "cell_type": "code",
   "execution_count": 13,
   "id": "80d8edb6-9b18-40a3-b67c-da516ca0f6fa",
   "metadata": {},
   "outputs": [
    {
     "data": {
      "text/plain": [
       "(a = 1, b = 2.0, c = \"test\")"
      ]
     },
     "execution_count": 13,
     "metadata": {},
     "output_type": "execute_result"
    }
   ],
   "source": [
    "# namedtuple\n",
    "x = (a=1, b=2.0, c=\"test\")"
   ]
  },
  {
   "cell_type": "code",
   "execution_count": 14,
   "id": "8ec1fd55-0383-4db7-943d-0b47e19a9f71",
   "metadata": {},
   "outputs": [
    {
     "name": "stdout",
     "output_type": "stream",
     "text": [
      "typeof(x) = @NamedTuple{a::Int64, b::Float64, c::String}\n"
     ]
    }
   ],
   "source": [
    "@show typeof(x);"
   ]
  },
  {
   "cell_type": "code",
   "execution_count": 15,
   "id": "bb54274d-4218-45f0-885b-94c9d554db14",
   "metadata": {},
   "outputs": [
    {
     "data": {
      "text/plain": [
       "Symbol"
      ]
     },
     "execution_count": 15,
     "metadata": {},
     "output_type": "execute_result"
    }
   ],
   "source": [
    "typeof(:a)"
   ]
  },
  {
   "cell_type": "code",
   "execution_count": null,
   "id": "4403b62e-43c6-4578-ac20-b662d53b77d5",
   "metadata": {},
   "outputs": [],
   "source": []
  }
 ],
 "metadata": {
  "kernelspec": {
   "display_name": "Julia 1.10.4",
   "language": "julia",
   "name": "julia-1.10"
  },
  "language_info": {
   "file_extension": ".jl",
   "mimetype": "application/julia",
   "name": "julia",
   "version": "1.10.4"
  }
 },
 "nbformat": 4,
 "nbformat_minor": 5
}
