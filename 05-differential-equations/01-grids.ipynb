{
 "cells": [
  {
   "cell_type": "markdown",
   "id": "299881cb-aa67-4ca3-a49e-6676cbf5a161",
   "metadata": {},
   "source": [
    "# **Grids**"
   ]
  },
  {
   "cell_type": "markdown",
   "id": "2f1e664d-33b6-4c6d-9d5b-46a8d1c5be92",
   "metadata": {},
   "source": [
    "## **0. Introduction**"
   ]
  },
  {
   "cell_type": "markdown",
   "id": "4d705111-dd91-4d35-99b6-6b9de66a1abf",
   "metadata": {},
   "source": [
    "In this note we review some basic concepts of numerical methods to solve partial differential equations.\n",
    "\n",
    "Detailed description can be found in the `basics` folder."
   ]
  },
  {
   "cell_type": "markdown",
   "id": "9082b9b4-d686-4e15-80f4-823b81d6db03",
   "metadata": {},
   "source": [
    "### **0.1. Expected Outcomes**"
   ]
  },
  {
   "cell_type": "markdown",
   "id": "a99c7987-a74a-43a0-b4cf-67fc346057a4",
   "metadata": {},
   "source": [
    "By studying this note, you will :\n",
    "\n",
    "- lorem ipsum"
   ]
  },
  {
   "cell_type": "markdown",
   "id": "d63df650-b8f4-4326-b6f1-30c6a0173007",
   "metadata": {},
   "source": [
    "### **0.2. References**"
   ]
  },
  {
   "cell_type": "markdown",
   "id": "c73a54ae-1331-4400-9c2b-b5fd4331b852",
   "metadata": {},
   "source": [
    "This note draws heavily from the following sources:\n",
    "\n",
    "- Ross L. Spencer and Michael Ware with John Colton. (2024). Partial Differential Equations: Python Edition. Computational Methods for Scientists. Department of Physics and Astronomy, Brigham Young University. \n",
    "\n",
    "We highly recommend checking them out if you are interested in learning more about this topic."
   ]
  },
  {
   "cell_type": "markdown",
   "id": "f3053761-f6bd-40f8-80d2-7580d62bb532",
   "metadata": {},
   "source": [
    "### **0.3. Working Environment**"
   ]
  },
  {
   "cell_type": "markdown",
   "id": "3cce8416-2cc5-46a5-8eef-eaa3aaf59ea0",
   "metadata": {},
   "source": [
    "The reader is expected to use either **jupyter notebook**, **jupyterlab** or any other editor that supports `.ipynb` file.\n",
    "\n",
    "Python version used in this note is as follows."
   ]
  },
  {
   "cell_type": "code",
   "execution_count": 1,
   "id": "f46fc581-1585-46ad-bb5c-16f841f2f2a9",
   "metadata": {},
   "outputs": [
    {
     "name": "stdout",
     "output_type": "stream",
     "text": [
      "3.11.7 | packaged by Anaconda, Inc. | (main, Dec 15 2023, 18:05:47) [MSC v.1916 64 bit (AMD64)]\n"
     ]
    }
   ],
   "source": [
    "import sys\n",
    "print(sys.version)"
   ]
  },
  {
   "cell_type": "code",
   "execution_count": 7,
   "id": "6876cb51-8ed4-4eb5-bd98-77bd35a3770c",
   "metadata": {},
   "outputs": [],
   "source": [
    "import numpy as np\n",
    "import matplotlib.pyplot as plt"
   ]
  },
  {
   "cell_type": "markdown",
   "id": "26ecdfde-758a-4e93-ac3a-f576b7c272cc",
   "metadata": {},
   "source": [
    "## **1. Spatial Grids**"
   ]
  },
  {
   "cell_type": "markdown",
   "id": "5f743837-5971-4ef9-9c3b-524dfd212806",
   "metadata": {},
   "source": [
    "In this series of notes, we will solve partial differential equations, which usually mean that the desired solution is a function of both space $x$, which just sits, and time $t$, which flows.\n",
    "\n",
    "When we solve problems like this we will be using **spatial grids**, to represent the $x$-part that doesn't flow.\n",
    "\n",
    "The NumPy arrays are prefect for representing these kinds of spatial grids."
   ]
  },
  {
   "cell_type": "markdown",
   "id": "4a05e411-414c-4940-8b8e-4daeb365afc8",
   "metadata": {},
   "source": [
    "We'll encounter three basic types of spatial grids in this note.\n",
    "\n",
    "[img]\n",
    "\n",
    "Figure 1. shows a graphical representation of these three types of spatial grids for the region $0 \\le x \\le L$.\n",
    "\n",
    "We divide this region into spatial **cells** (the spaces between vertical lines) and functions are evaluated at $N$ discrete **grid points**(the dots).\n",
    "\n",
    "In a **cell-edge grid**, the grid points are located at the edge of the cell.\n",
    "\n",
    "In a **cell-center grid**, the points are located in the middle of the cell.\n",
    "\n",
    "Another useful grid is a **cell-center grid with ghost points**. \n",
    "\n",
    "The ghost points (unfilled dots) are extra grid points on either side of the interval of interest and are useful when we need to consider the derivatives at the edge of a grid."
   ]
  },
  {
   "cell_type": "markdown",
   "id": "311ce6bf-5f33-4732-bba1-d1cb73cf3937",
   "metadata": {},
   "source": [
    "Now let's write a Python program that creates a cell-edge spatial grid in the variable `x` as follows"
   ]
  },
  {
   "cell_type": "code",
   "execution_count": 3,
   "id": "361534d7-b071-4360-aa15-b527a8bbf7c2",
   "metadata": {},
   "outputs": [],
   "source": [
    "N = 100     # number of grid points\n",
    "lb = 0      # lower bound of the region\n",
    "ub = np.pi  # upper bound of the region\n",
    "\n",
    "x, h = np.linspace(lb, ub, N, retstep=True)"
   ]
  },
  {
   "cell_type": "markdown",
   "id": "cc482efe-ea47-4193-a686-2f2bef1a4d5b",
   "metadata": {},
   "source": [
    "With the grid `x`, we can plot the function $y(x) = \\sin(x)\\sinh(x)$ on this grid."
   ]
  },
  {
   "cell_type": "code",
   "execution_count": 21,
   "id": "d8dd44d5-3793-4aa1-9bf6-32094ad47ef2",
   "metadata": {},
   "outputs": [
    {
     "data": {
      "image/png": "[encoded data removed]",
      "text/plain": [
       "<Figure size 640x480 with 1 Axes>"
      ]
     },
     "metadata": {},
     "output_type": "display_data"
    }
   ],
   "source": [
    "y = np.sin(x) * np.sinh(x)\n",
    "\n",
    "# Plot the function y(x) on x.\n",
    "fig, ax = plt.subplots()\n",
    "\n",
    "ax.plot(x, y, color='navy')\n",
    "\n",
    "ax.axis(xmin=0, xmax=np.pi, ymin=0)\n",
    "ax.set_yticks(range(5))\n",
    "ax.set_xticks(range(4))\n",
    "ax.set_facecolor('#F9F9F9')\n",
    "ax.set_ylabel(r'$y$')\n",
    "ax.set_xlabel(r'$x$')\n",
    "\n",
    "plt.show()"
   ]
  },
  {
   "cell_type": "markdown",
   "id": "cd93cecb-4165-49e8-a192-e1ee14444913",
   "metadata": {},
   "source": [
    "Note that (the number of grid points) = (the number of cells) + 1 in a cell-edge grid.\n",
    "\n",
    "In a cell-center grid however, the number of grid points and the number of cells are identical."
   ]
  },
  {
   "cell_type": "markdown",
   "id": "d526aa1c-05e8-4334-9de9-5f58f6fa788f",
   "metadata": {},
   "source": [
    "Next we write some code using NumPy's `arange` function to create a cell-centered grid that has exactly 100 cells over the interval $0 \\le x \\le 2$."
   ]
  },
  {
   "cell_type": "code",
   "execution_count": 40,
   "id": "54ec670f-e5a1-4fe6-95de-64a106f2d012",
   "metadata": {},
   "outputs": [],
   "source": [
    "N = 100               # number of grid points\n",
    "lb = 0                # lower bound of the region\n",
    "ub = 2                # upper bound of the region\n",
    "h = (ub - lb) / N     # length of each cell\n",
    "start = lb + 0.5 * h  # position of the first grid point\n",
    "end = ub                \n",
    "\n",
    "x = np.arange(start, end, h) # cell-center grid"
   ]
  },
  {
   "cell_type": "markdown",
   "id": "6bd1926a-be35-4941-945b-0dbb20d04aa1",
   "metadata": {},
   "source": [
    "Now evaluate the function $f(x) = \\cos(x)$ on this grid and plot this function."
   ]
  },
  {
   "cell_type": "code",
   "execution_count": 41,
   "id": "3b08d9b8-d747-4aec-b1a4-4db050f9fb98",
   "metadata": {},
   "outputs": [
    {
     "data": {
      "image/png": "[encoded data removed]",
      "text/plain": [
       "<Figure size 640x480 with 1 Axes>"
      ]
     },
     "metadata": {},
     "output_type": "display_data"
    }
   ],
   "source": [
    "f = np.cos(x)\n",
    "\n",
    "fig, ax = plt.subplots()\n",
    "\n",
    "ax.plot(x, f, color='navy')\n",
    "\n",
    "ax.axis(xmin=0, xmax=2, ymin=0)\n",
    "ax.set_yticks(np.arange(-0.5, 1.1, 0.5))\n",
    "ax.set_xticks(np.arange(0, 2.1, 0.5))\n",
    "ax.set_facecolor('#F9F9F9')\n",
    "ax.set_ylabel(r'$f$')\n",
    "ax.set_xlabel(r'$x$')\n",
    "\n",
    "plt.show()"
   ]
  },
  {
   "cell_type": "markdown",
   "id": "9410707d-1179-4beb-b0d0-cf195764b89b",
   "metadata": {},
   "source": [
    "We can estimate the area under the curve by summing the products of the centered function values $f_j$ with the widths of the cells $h$ like this (midpoint integration rule):"
   ]
  },
  {
   "cell_type": "code",
   "execution_count": 43,
   "id": "680f1b77-a909-4a53-84dd-5f45dd6452cf",
   "metadata": {},
   "outputs": [
    {
     "name": "stdout",
     "output_type": "stream",
     "text": [
      "1.5155133923694386e-05\n"
     ]
    }
   ],
   "source": [
    "A = np.sum(f) * h\n",
    "\n",
    "# Compare the result to the exact answer obtained by integration\n",
    "err = np.abs(A - np.sin(2))\n",
    "print(err)"
   ]
  },
  {
   "cell_type": "markdown",
   "id": "7026cb8c-f9e7-431d-a5bb-e33297979d0f",
   "metadata": {},
   "source": [
    "As we compare the result to the analytical solution for the area\n",
    "\n",
    "$$A = \\int^2_0 \\cos x dx = \\sin(x) \\bigg\\rvert^2_0= \\sin(2)$$\n",
    "\n",
    "The error turned out to be approximately 1.516e-05, which is quite small."
   ]
  },
  {
   "cell_type": "markdown",
   "id": "be3b3563-3f08-4189-a654-06bfe4af34d1",
   "metadata": {},
   "source": [
    "Let's build a cell-center grid with ghost points over the inverval $0 \\le x \\le \\pi/2$ with 500 cells (502 grid points), and evaluate the function $f(x) = \\sin(x)$ on this grid."
   ]
  },
  {
   "cell_type": "code",
   "execution_count": 46,
   "id": "0b1b1ab3-3a71-4f5c-8a46-d08d422e2917",
   "metadata": {},
   "outputs": [],
   "source": [
    "N = 500\n",
    "lb = 0\n",
    "ub = np.pi/2\n",
    "h = (ub - lb) / N\n",
    "start = lb - h/2\n",
    "end = ub + h\n",
    "\n",
    "x = np.arange(start, end, h)\n",
    "f = np.sin(x)"
   ]
  },
  {
   "cell_type": "markdown",
   "id": "470db76d-ca64-430b-be44-d752e0dc5e50",
   "metadata": {},
   "source": [
    "Now look carefully at the function values at the first two grid points and at the last two grid points.\n",
    "\n",
    "The function $\\sin(x)$ has the property that $f(0)=0$ and $f'(\\pi/2)=0$.\n",
    "\n",
    "The cell-center grid doesn't have points at the ends of the interval, so these boundary conditions on the function need to be enforced using more than one point."
   ]
  },
  {
   "cell_type": "code",
   "execution_count": 60,
   "id": "a5070f22-1552-4547-b758-f6abeb619cf0",
   "metadata": {},
   "outputs": [
    {
     "name": "stdout",
     "output_type": "stream",
     "text": [
      "The boundary values:       0.000000, 1.570796\n",
      "The first two grid points: -0.00157,  0.00157\n",
      "The last two grid points:   1.56923,  1.57237\n"
     ]
    }
   ],
   "source": [
    "print(f'The boundary values:       {lb:8f}, {ub:8f}')\n",
    "print(f'The first two grid points: {x[0]:8.5f}, {x[1]:8.5f}')\n",
    "print(f'The last two grid points:  {x[-2]:8.5f}, {x[-1]:8.5f}')"
   ]
  },
  {
   "cell_type": "markdown",
   "id": "04ec9e82-2ba7-4b8f-83f6-c9601619d3c4",
   "metadata": {},
   "source": [
    "Using the ghost points in the grid we can approximate the values of the boundary condtions with either interpolation or extrapolation."
   ]
  },
  {
   "cell_type": "markdown",
   "id": "a87e2e56-0280-485e-83e3-a80db8c94252",
   "metadata": {},
   "source": [
    "## **2. Interpolation and Extrapolation**"
   ]
  },
  {
   "cell_type": "code",
   "execution_count": null,
   "id": "1135410b-5b7f-403d-a48b-915894f05f90",
   "metadata": {},
   "outputs": [],
   "source": []
  }
 ],
 "metadata": {
  "kernelspec": {
   "display_name": "Python 3 (ipykernel)",
   "language": "python",
   "name": "python3"
  },
  "language_info": {
   "codemirror_mode": {
    "name": "ipython",
    "version": 3
   },
   "file_extension": ".py",
   "mimetype": "text/x-python",
   "name": "python",
   "nbconvert_exporter": "python",
   "pygments_lexer": "ipython3",
   "version": "3.11.7"
  }
 },
 "nbformat": 4,
 "nbformat_minor": 5
}
