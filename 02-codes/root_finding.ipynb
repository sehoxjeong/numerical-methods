{
 "cells": [
  {
   "cell_type": "code",
   "execution_count": 2,
   "id": "835051fe-b482-415a-99e1-7c6c63f05ce8",
   "metadata": {},
   "outputs": [],
   "source": [
    "import numpy as np"
   ]
  },
  {
   "cell_type": "code",
   "execution_count": 1,
   "id": "94200f09-3cfd-49dc-9e73-ac3c67ca4a0b",
   "metadata": {},
   "outputs": [],
   "source": [
    "def bisection(func, alpha, beta, M=1000, tol=1e-10):\n",
    "        i = 1\n",
    "        a = alpha\n",
    "        b = beta\n",
    "\n",
    "        while i <= M:\n",
    "            c = (a + b) / 2\n",
    "            if abs(func(c)) < tol:\n",
    "                print(f\"Approximate root of f is {c}\")\n",
    "                return c\n",
    "            i += 1\n",
    "            if func(c)*func(a) < 0:\n",
    "                b = c\n",
    "            else:\n",
    "                a = c\n",
    "        print(f\"Exceeded maximum iteration value {M}, bisection failed.\")"
   ]
  },
  {
   "cell_type": "code",
   "execution_count": 5,
   "id": "6a01b1ed-a32f-4ce8-9ea5-b0e8da1c4bd9",
   "metadata": {},
   "outputs": [],
   "source": [
    "f = lambda x: np.sin(4*(x - 0.25)) + x + x**20 - 1"
   ]
  },
  {
   "cell_type": "code",
   "execution_count": 6,
   "id": "9dec029a-b909-4200-97ee-e65f6967f5cb",
   "metadata": {},
   "outputs": [
    {
     "name": "stdout",
     "output_type": "stream",
     "text": [
      "Approximate root of f is 0.408293504267931\n"
     ]
    },
    {
     "data": {
      "text/plain": [
       "0.408293504267931"
      ]
     },
     "execution_count": 6,
     "metadata": {},
     "output_type": "execute_result"
    }
   ],
   "source": [
    "bisection(f, 0, 1)"
   ]
  },
  {
   "cell_type": "code",
   "execution_count": null,
   "id": "e729ca96-b385-4008-9ac3-8f57591827a9",
   "metadata": {},
   "outputs": [],
   "source": []
  }
 ],
 "metadata": {
  "kernelspec": {
   "display_name": "Python 3 (ipykernel)",
   "language": "python",
   "name": "python3"
  },
  "language_info": {
   "codemirror_mode": {
    "name": "ipython",
    "version": 3
   },
   "file_extension": ".py",
   "mimetype": "text/x-python",
   "name": "python",
   "nbconvert_exporter": "python",
   "pygments_lexer": "ipython3",
   "version": "3.11.7"
  }
 },
 "nbformat": 4,
 "nbformat_minor": 5
}
