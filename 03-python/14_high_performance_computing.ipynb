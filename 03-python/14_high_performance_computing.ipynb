{
 "cells": [
  {
   "cell_type": "markdown",
   "id": "c55f0ccd-44d2-4579-aa88-9ffb16d52510",
   "metadata": {},
   "source": [
    "# High Performance Computing"
   ]
  },
  {
   "cell_type": "markdown",
   "id": "e16dc9c1-22bb-4fed-92e3-2237109f6189",
   "metadata": {},
   "source": [
    "## 1. Introduction"
   ]
  },
  {
   "cell_type": "markdown",
   "id": "3a402ba2-9992-422e-8278-2cee80146594",
   "metadata": {},
   "source": [
    "### 1.1. Working Environment"
   ]
  },
  {
   "cell_type": "code",
   "execution_count": 1,
   "id": "897a6638-cc55-4568-a088-221e239a04e3",
   "metadata": {},
   "outputs": [
    {
     "name": "stdout",
     "output_type": "stream",
     "text": [
      "3.11.7 | packaged by Anaconda, Inc. | (main, Dec 15 2023, 18:05:47) [MSC v.1916 64 bit (AMD64)]\n"
     ]
    }
   ],
   "source": [
    "import sys\n",
    "print(sys.version)"
   ]
  },
  {
   "cell_type": "code",
   "execution_count": 12,
   "id": "60e9b872-01fd-4df3-ac4b-b95b2451afac",
   "metadata": {},
   "outputs": [],
   "source": [
    "import numpy as np\n",
    "import matplotlib.pyplot as plt\n",
    "import time"
   ]
  },
  {
   "cell_type": "markdown",
   "id": "0cf48361-16fc-4bee-a85f-65f372145bc4",
   "metadata": {},
   "source": [
    "We now have a working knowledge of Python, and soon we will start to use it to analyze data and numerical analysis. Before we go deeper, we need to know how to enhance the performance of our program."
   ]
  },
  {
   "cell_type": "markdown",
   "id": "81f3e1ae-3968-4023-9d92-e53428b6c01b",
   "metadata": {},
   "source": [
    "### 1.2. References"
   ]
  },
  {
   "cell_type": "markdown",
   "id": "f8badfe7-8e08-4c47-bde2-1eb57fe972d3",
   "metadata": {},
   "source": [
    "## 4. Parallel Computing"
   ]
  },
  {
   "cell_type": "markdown",
   "id": "c24db23f-9b46-4604-9a60-417e71eab589",
   "metadata": {},
   "source": [
    "In this section we cover **parallel computing** in Python. This means you will be able to run your code simultaneously on multiple cores on your CPU processors or increase the speed by taking advantage of the wasted CPU cycles while your program is waiting for external resources (e.g., downloading files, API calls, etc.). The fundamental idea of parallel computing is rooted in doing multiple tasks at the same time to reduce the running time of your program. The following figure illustrates the simple idea of doing parallel computing versus serial computing that we use so far."
   ]
  },
  {
   "cell_type": "markdown",
   "id": "ffddaa87-bdb8-4793-ba3b-62c090def221",
   "metadata": {},
   "source": [
    "For example, if you have one million data files and need to apply the same operations to each one of them, you can do this one file at each time, or you can do it by multiple files at the same time; or if you are downloading one million websites, you can take advantage of downloading 10 at a time to reduce the total time of downloading. Therefore, learning the basics of parallel computing will help you design code that is more efficient."
   ]
  },
  {
   "cell_type": "markdown",
   "id": "05016bfd-2edd-4f9f-9f61-6125cc454695",
   "metadata": {},
   "source": [
    "Most of the modern computers are using the multi-core design, which means on a single computing component, there are multiple independent processing units, the so called cores, that are available to do different tasks. "
   ]
  },
  {
   "cell_type": "markdown",
   "id": "fff9cab9-0a8b-4637-8761-6791d9ba847b",
   "metadata": {},
   "source": [
    "In Python, there are two basic approaches to conduct parallel computing, that is using the `multiprocessing` or `threading` library. Let's first take a look of the differences of process and thread."
   ]
  },
  {
   "cell_type": "markdown",
   "id": "5e640fe4-b262-4a9c-9622-c71467086a32",
   "metadata": {},
   "source": [
    "### 4.1. Process and Thread"
   ]
  },
  {
   "cell_type": "markdown",
   "id": "47dad96f-da2b-4198-944a-f0aca7fd9e41",
   "metadata": {},
   "source": [
    "A **process** is an instance of a program (such as Python interpreter, Jupyter notebook, etc.). A process is created by the operating system to run program, and each process has its own memory block. A **thread** is a sub-process that reside within the process. Each process can have multiple threads, that these threads will share the same memory block within the process. Thus, for multiple threads in a process, due to the shared memory space, the variables or objects are all shared. If you change one variable in one thread, it will change for all the other threads. But things are different in different processes, changing one variable in one process will not change the one in other processes. Process and thread both have advantages or disadvantages, and can be used in different tasks to maximize the benefits."
   ]
  },
  {
   "cell_type": "markdown",
   "id": "96bdd14a-bd10-4ae3-9937-22974ffb332c",
   "metadata": {},
   "source": [
    "### 4.2. Python's GIL Problem"
   ]
  },
  {
   "cell_type": "markdown",
   "id": "72e9cd81-a374-4970-9497-9698116950de",
   "metadata": {},
   "source": [
    "Python has something called Global Interpreter Lock (GIL) which allow only one native thread to run at a time, preventing multiple threads from running simultaneously. This is because Python was designed before the multi-core processor on the personal computers. Even though there are workarounds in Python to do multithreading programming, we will only cover the multiprocessing library in the next subsection, which we will use most of the time for taking advantage of multi-core parallel computing."
   ]
  },
  {
   "cell_type": "markdown",
   "id": "23451943-7f0d-464c-b8bb-01a04bb4429b",
   "metadata": {},
   "source": [
    "### 4.3. Disadvantages of Parallel Computing"
   ]
  },
  {
   "cell_type": "markdown",
   "id": "afa5689e-c81f-470a-a956-4d099ee110b4",
   "metadata": {},
   "source": [
    "Of course, there are disadvantages of using parallel computing. Such as, more complicated code, overheads when spawn new processes and maintain them. Thus, if your task is small, using parallel computing will take longer time, since it takes time for the system to initialize new process and maintain them."
   ]
  },
  {
   "cell_type": "markdown",
   "id": "acf6045c-cb68-4ad1-9dd6-f23021ce94c4",
   "metadata": {},
   "source": [
    "### 4.4. Multiprocessing"
   ]
  },
  {
   "cell_type": "markdown",
   "id": "9579e44b-067c-48fe-9930-5401b2dfef7b",
   "metadata": {},
   "source": [
    "The multiprocessing library is the Python's standard library to support parallel computing using processes. It has many different features, if you wan to know all the details, you can check the official documentation. Here we will introduce the basics to get you start with parallel computing. Let's start by importing the library."
   ]
  },
  {
   "cell_type": "code",
   "execution_count": 2,
   "id": "0c6fb2de-5d39-4003-a652-6c2169ab3ade",
   "metadata": {},
   "outputs": [],
   "source": [
    "import multiprocessing as mp"
   ]
  },
  {
   "cell_type": "markdown",
   "id": "cd3e4596-fe4c-442c-8fe3-6f30e394dc72",
   "metadata": {},
   "source": [
    "Let's first print out the total number of CPUs that on my machine that can be used for parallel computing."
   ]
  },
  {
   "cell_type": "code",
   "execution_count": 3,
   "id": "b845d93a-e36b-41b7-afc5-43a8683726a2",
   "metadata": {},
   "outputs": [
    {
     "name": "stdout",
     "output_type": "stream",
     "text": [
      "Number of CPUs: 4\n"
     ]
    }
   ],
   "source": [
    "print(f'Number of CPUs: {mp.cpu_count()}')"
   ]
  },
  {
   "cell_type": "markdown",
   "id": "435757c7-c272-4ea6-8168-87c8f9430ab0",
   "metadata": {},
   "source": [
    "Let's use an example to show you how to use multiple cores in one machine to reduce the execution time. We will generate 10,000,000 random numbers between 0 and 10 one-by-one, square them, and store the results in a list."
   ]
  },
  {
   "cell_type": "code",
   "execution_count": 11,
   "id": "0c732034-ad57-45a7-a987-e4a6976ae5e5",
   "metadata": {},
   "outputs": [],
   "source": [
    "def random_square(seed):\n",
    "    np.random.seed(seed)\n",
    "    random_num = np.random.randint(0, 10)\n",
    "    return random_num**2"
   ]
  },
  {
   "cell_type": "markdown",
   "id": "e54ebff5-8bc8-4801-adad-5ca5620ca00b",
   "metadata": {},
   "source": [
    "The code below is the serial version of the example (what we have done so far)."
   ]
  },
  {
   "cell_type": "code",
   "execution_count": 15,
   "id": "6caa8e9b-14f3-48d8-9306-6b66822abfbe",
   "metadata": {},
   "outputs": [
    {
     "name": "stdout",
     "output_type": "stream",
     "text": [
      "CPU times: total: 36.7 s\n",
      "Wall time: 1min 23s\n"
     ]
    }
   ],
   "source": [
    "%%time \n",
    "results = []\n",
    "for i in range(10_000_000):\n",
    "    results.append(random_square(i))"
   ]
  },
  {
   "cell_type": "markdown",
   "id": "092a3b2e-d60f-4a86-9a5c-aba33eeacd44",
   "metadata": {},
   "source": [
    "Next we see the parallel version of the example."
   ]
  },
  {
   "cell_type": "code",
   "execution_count": null,
   "id": "3584a334-3a87-42e1-a05c-f7eed0daa193",
   "metadata": {},
   "outputs": [],
   "source": [
    "%%time\n",
    "n_cpu = mp.cpu_count()\n",
    "pool = mp.Pool(processes=n_cpu)\n",
    "results = [pool.map(random_square, range(10_000_000))]"
   ]
  },
  {
   "cell_type": "markdown",
   "id": "b9d4c000-6347-4a9c-ad0f-f1c7c29adc00",
   "metadata": {},
   "source": [
    "The simplest way to do parallel computing using the multiprocessing is to sue the `Pool` class. There are four common methods in the class that we may use often, which are `apply`, `map`, `apply_async` and `map_async`. Have a look at the documentation for the differences. Here we only uses `map` method above to paralled the above example. The `map(func, iterable)` method takes in two arguments, and apply the function `func` to each element in the `iterable`, and then collect the results."
   ]
  }
 ],
 "metadata": {
  "kernelspec": {
   "display_name": "Python 3 (ipykernel)",
   "language": "python",
   "name": "python3"
  },
  "language_info": {
   "codemirror_mode": {
    "name": "ipython",
    "version": 3
   },
   "file_extension": ".py",
   "mimetype": "text/x-python",
   "name": "python",
   "nbconvert_exporter": "python",
   "pygments_lexer": "ipython3",
   "version": "3.11.7"
  }
 },
 "nbformat": 4,
 "nbformat_minor": 5
}
