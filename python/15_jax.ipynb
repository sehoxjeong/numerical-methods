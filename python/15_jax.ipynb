{
 "cells": [
  {
   "cell_type": "markdown",
   "id": "5ee0eb8e",
   "metadata": {},
   "source": [
    "# JAX"
   ]
  },
  {
   "cell_type": "markdown",
   "id": "613a702e",
   "metadata": {},
   "source": [
    "## Introduction"
   ]
  },
  {
   "cell_type": "markdown",
   "id": "8c879a11",
   "metadata": {},
   "source": [
    "### Installation"
   ]
  },
  {
   "cell_type": "markdown",
   "id": "48ad2dd8",
   "metadata": {},
   "source": [
    "You should have installed `jax`. If not, please now do so by executing the command:\n",
    "\n",
    "```pip install jaxlib jax```\n",
    "\n",
    "or use Google Colab."
   ]
  },
  {
   "cell_type": "markdown",
   "id": "61f86389",
   "metadata": {},
   "source": [
    "### Why and when should you use JAX?"
   ]
  },
  {
   "cell_type": "markdown",
   "id": "991acf5e",
   "metadata": {},
   "source": [
    "It is good to use JAX if your project requires any of \n",
    "- Python is your primary languqge;\n",
    "- Just-In-Time (JIT) compilation for fast computation;\n",
    "- Automatic differentiation;\n",
    "- Vectorization;\n",
    "- Multiple GPU/TPU acceleration, etc."
   ]
  },
  {
   "cell_type": "markdown",
   "id": "c4eeecca",
   "metadata": {},
   "source": [
    "### Easy to use"
   ]
  },
  {
   "cell_type": "markdown",
   "id": "780604ee",
   "metadata": {},
   "source": [
    "JAX is like a sum of multiple friendly libraries in Python. That is, JAX = numpy + scipy + essential functionalities (e.g., auto-diff, JIT, and parallelization). If you use `numpy` then you should have no problem to use `jax`.\n",
    "\n",
    "<center>\n",
    "\n",
    "|NumPy|JAX|\n",
    "|--|--|\n",
    "|`import numpy as np`|`import jax.numpy as jnp`|\n",
    "|`np.array()`|`jnp.array()`|\n",
    "|`np.zeros()`|`jnp.zeros()`|\n",
    "|`np.ones()`|`jnp.ones()`|\n",
    "|`np.eye()`|`jnp.eye()`|\n",
    "|`np.sin()`|`jnp.sin()`|\n",
    "|`np.linalg`|`jnp.linalg`|\n",
    "\n",
    "</center>"
   ]
  },
  {
   "cell_type": "markdown",
   "id": "dcd4e023",
   "metadata": {},
   "source": [
    "### Galleries: Some Motivating Examples"
   ]
  },
  {
   "cell_type": "markdown",
   "id": "7cdf9aac",
   "metadata": {},
   "source": [
    "#### Auto-Differentiation"
   ]
  },
  {
   "cell_type": "code",
   "execution_count": 1,
   "id": "9f371efe",
   "metadata": {},
   "outputs": [
    {
     "data": {
      "text/plain": [
       "Array(0.5403023, dtype=float32, weak_type=True)"
      ]
     },
     "execution_count": 1,
     "metadata": {},
     "output_type": "execute_result"
    }
   ],
   "source": [
    "import jax\n",
    "import jax.numpy as jnp\n",
    "\n",
    "def f(x):\n",
    "    return x * jnp.sin(x) + jnp.cos(x)\n",
    "\n",
    "grad_of_f = jax.grad(f) # jax.grad returns a function\n",
    "grad_of_f(1.)"
   ]
  },
  {
   "cell_type": "markdown",
   "id": "bcb9f1f1",
   "metadata": {},
   "source": [
    "You say you can compute the gradient by hand? How about something deep ..."
   ]
  },
  {
   "cell_type": "code",
   "execution_count": 2,
   "id": "ccb9c8ef",
   "metadata": {},
   "outputs": [
    {
     "data": {
      "text/plain": [
       "Array(0., dtype=float32, weak_type=True)"
      ]
     },
     "execution_count": 2,
     "metadata": {},
     "output_type": "execute_result"
    }
   ],
   "source": [
    "def something_deep(x):\n",
    "    for i in range(100):\n",
    "        x = f(x)\n",
    "    return x\n",
    "\n",
    "grad_of_deep = jax.grad(something_deep)\n",
    "grad_of_deep(1.)"
   ]
  },
  {
   "cell_type": "markdown",
   "id": "a7ed9419",
   "metadata": {},
   "source": [
    "#### JIT Speed Up"
   ]
  },
  {
   "cell_type": "code",
   "execution_count": 3,
   "id": "52058635",
   "metadata": {},
   "outputs": [],
   "source": [
    "import numpy as np\n",
    "\n",
    "def softmax_np(x):\n",
    "    \"\"\"\n",
    "    Softmax in NumPy\n",
    "    \"\"\"\n",
    "    z = np.exp(x)\n",
    "    return z / np.sum(z, axis=0)\n",
    "\n",
    "@jax.jit\n",
    "def softmax_jax(x):\n",
    "    \"\"\"\n",
    "    Softmax in JAX\n",
    "    \"\"\"\n",
    "    z = jnp.exp(x)\n",
    "    return z / jnp.sum(z, axis=0)"
   ]
  },
  {
   "cell_type": "code",
   "execution_count": 4,
   "id": "a9f8aa29",
   "metadata": {},
   "outputs": [
    {
     "name": "stdout",
     "output_type": "stream",
     "text": [
      "21.1 μs ± 223 ns per loop (mean ± std. dev. of 7 runs, 10,000 loops each)\n"
     ]
    }
   ],
   "source": [
    "x = np.ones((10, 1000))\n",
    "%timeit softmax_np(x)"
   ]
  },
  {
   "cell_type": "code",
   "execution_count": 5,
   "id": "82763d9d",
   "metadata": {},
   "outputs": [
    {
     "name": "stdout",
     "output_type": "stream",
     "text": [
      "17.1 μs ± 31.5 ns per loop (mean ± std. dev. of 7 runs, 100,000 loops each)\n"
     ]
    }
   ],
   "source": [
    "x = jnp.ones((10, 1000))\n",
    "%timeit softmax_jax(x).block_until_ready()"
   ]
  },
  {
   "cell_type": "markdown",
   "id": "a359ba3e",
   "metadata": {},
   "source": [
    "## Initialization"
   ]
  },
  {
   "cell_type": "code",
   "execution_count": 57,
   "id": "dfe68b50",
   "metadata": {},
   "outputs": [],
   "source": [
    "import numpy as np\n",
    "import jax\n",
    "import jax.numpy as jnp\n",
    "\n",
    "import matplotlib.pyplot as plt"
   ]
  },
  {
   "cell_type": "markdown",
   "id": "a44deacb",
   "metadata": {},
   "source": [
    "JAX by default uses `float32` for the best compatibility with GPUs. You need to manually do the following to enable `float64` globally."
   ]
  },
  {
   "cell_type": "code",
   "execution_count": 6,
   "id": "32dd6118",
   "metadata": {},
   "outputs": [],
   "source": [
    "jax.config.update('jax_enable_x64', True)"
   ]
  },
  {
   "cell_type": "code",
   "execution_count": 79,
   "id": "46bc644d",
   "metadata": {},
   "outputs": [
    {
     "data": {
      "text/plain": [
       "[CpuDevice(id=0)]"
      ]
     },
     "execution_count": 79,
     "metadata": {},
     "output_type": "execute_result"
    }
   ],
   "source": [
    "jax.devices()"
   ]
  },
  {
   "cell_type": "markdown",
   "id": "6ecd65cf",
   "metadata": {},
   "source": [
    "## JIT in JAX"
   ]
  },
  {
   "cell_type": "markdown",
   "id": "a1e13cee",
   "metadata": {},
   "source": [
    "Suppose that we have a function that is giga-computational demanding.\n",
    "\n",
    "```python\n",
    "def expensive_func(x):\n",
    "    # a bunch of giga-heavy computations\n",
    "    # Python is slow, and NumPy too\n",
    "    return ...\n",
    "```\n",
    "\n",
    "JAX can make the function above faster by compiling it into machine codes by using the JIT compilation. We trigger the **compilation** by calling `jax.jit`.\n",
    "\n",
    "```python\n",
    "import jax\n",
    "jitted_func = jax.jit(expensive_func)\n",
    "```\n",
    "\n",
    "Note the return `jitted_func` is a function that has exactly the same signature as `expensive_func`. It is equivalent to put a decorator over the function definition.\n",
    "\n",
    "```python\n",
    "@jax.jit\n",
    "def expensive_func(x):\n",
    "    ...\n",
    "    return ...\n",
    "```\n",
    "\n",
    "We begin with a simple example."
   ]
  },
  {
   "cell_type": "code",
   "execution_count": 7,
   "id": "dec9d9fe",
   "metadata": {},
   "outputs": [],
   "source": [
    "def func_np(x):\n",
    "    return np.diff(np.diff(np.diff(np.diff(np.diff(x)))))\n",
    "\n",
    "@jax.jit\n",
    "def func_jax(x):\n",
    "    return jnp.diff(jnp.diff(jnp.diff(jnp.diff(jnp.diff(x)))))\n",
    "\n",
    "x = np.random.randn(100_000)\n",
    "xj = jnp.asarray(x)"
   ]
  },
  {
   "cell_type": "code",
   "execution_count": 8,
   "id": "db8aba29",
   "metadata": {},
   "outputs": [
    {
     "name": "stdout",
     "output_type": "stream",
     "text": [
      "71.5 μs ± 2.49 μs per loop (mean ± std. dev. of 7 runs, 10,000 loops each)\n"
     ]
    }
   ],
   "source": [
    "%timeit func_np(x)"
   ]
  },
  {
   "cell_type": "code",
   "execution_count": 10,
   "id": "60a1d327",
   "metadata": {},
   "outputs": [],
   "source": [
    "# Trigger JIT\n",
    "# func_jax(xj)"
   ]
  },
  {
   "cell_type": "code",
   "execution_count": 11,
   "id": "ea3c9173",
   "metadata": {},
   "outputs": [
    {
     "name": "stdout",
     "output_type": "stream",
     "text": [
      "42.8 μs ± 594 ns per loop (mean ± std. dev. of 7 runs, 10,000 loops each)\n"
     ]
    }
   ],
   "source": [
    "%timeit func_jax(xj).block_until_ready()"
   ]
  },
  {
   "cell_type": "markdown",
   "id": "06540398",
   "metadata": {},
   "source": [
    "Around 2 times faster. NumPy uses OpenBLAS/MKL/BLIS... as backend. Why is it still slow? A more illustrative example which shows that the overhead of NumPy is problematic:"
   ]
  },
  {
   "cell_type": "code",
   "execution_count": 12,
   "id": "bcb37267",
   "metadata": {},
   "outputs": [],
   "source": [
    "A, B = np.eye(50), np.eye(50)\n",
    "\n",
    "def func_np(x):\n",
    "    for i in range(100):\n",
    "        x = B @ x + np.linalg.solve(A, x) + np.linalg.norm(x)\n",
    "    return x"
   ]
  },
  {
   "cell_type": "code",
   "execution_count": 13,
   "id": "6fdd5ab6",
   "metadata": {},
   "outputs": [],
   "source": [
    "# JAX version of the code above\n",
    "Aj, Bj = jnp.eye(50), jnp.eye(50)\n",
    "\n",
    "@jax.jit\n",
    "def func_jax(x):\n",
    "    def scan_body(carry, _):\n",
    "        x = carry\n",
    "        return Bj @ x + jnp.linalg.solve(Aj, x) + jnp.linalg.norm(x), _\n",
    "    return jax.lax.scan(scan_body, x, jnp.arange(100))[-1]"
   ]
  },
  {
   "cell_type": "code",
   "execution_count": 14,
   "id": "7d8c79a6",
   "metadata": {},
   "outputs": [
    {
     "name": "stdout",
     "output_type": "stream",
     "text": [
      "1.59 ms ± 40.1 μs per loop (mean ± std. dev. of 7 runs, 1,000 loops each)\n"
     ]
    }
   ],
   "source": [
    "%timeit func_np(np.ones((50, )))"
   ]
  },
  {
   "cell_type": "code",
   "execution_count": 16,
   "id": "f5360cd4",
   "metadata": {},
   "outputs": [
    {
     "name": "stdout",
     "output_type": "stream",
     "text": [
      "23 μs ± 334 ns per loop (mean ± std. dev. of 7 runs, 10,000 loops each)\n"
     ]
    }
   ],
   "source": [
    "# Trigger JIT\n",
    "# func_jax(jnp.ones((50, )))\n",
    "\n",
    "%timeit func_jax(jnp.ones((50, ))).block_until_ready()"
   ]
  },
  {
   "cell_type": "markdown",
   "id": "3055ba66",
   "metadata": {},
   "source": [
    "### What happened inside JIT?"
   ]
  },
  {
   "cell_type": "markdown",
   "id": "b90ca846",
   "metadata": {},
   "source": [
    "1. When Python executes `func_jax` for the first time, the function `jax.jit` traces and traverses all the operations inside the function `func_jax`.\n",
    "2. Then JIT compiles these operations into the accelerated linear algebra (XLA) codes. Imagine this as that of compiling C codes to an executable file. No numerical operations are done!\n",
    "3. Then, by the next time you call the jitted `func_jax`, Python will execute the compiled XLA codes to carry out the numerical computations.\n",
    "4. After the numerical computations are done in the machine level, the results are sent back to Python.\n",
    "\n",
    "JAX basically uses Python as a **metaprogramming language** that specifies how to build an XLA program (quote by [Patrck Kidger](https://kidger.site/thoughts/jax-vs-julia/))"
   ]
  },
  {
   "cell_type": "markdown",
   "id": "cd2b803e",
   "metadata": {},
   "source": [
    "### When and Where to JIT?"
   ]
  },
  {
   "cell_type": "markdown",
   "id": "63750e0a",
   "metadata": {},
   "source": [
    "Usually, we JIT\n",
    "- the part that has the largest scope, so that the compiler can understand your program better,\n",
    "- or the function(s) that are called repetitively, for instance, the objective function in optimization:\n",
    "```python\n",
    "@jax.jit\n",
    "def objective_func(params):\n",
    "    ...\n",
    "    return ...\n",
    "```\n",
    "\n",
    "Remember, when we write the JAX code, we are describing a computation flow."
   ]
  },
  {
   "cell_type": "markdown",
   "id": "cf320d58",
   "metadata": {},
   "source": [
    "### Will these work?"
   ]
  },
  {
   "cell_type": "markdown",
   "id": "8103235e",
   "metadata": {},
   "source": [
    "Note that the following example do not work. Guess why."
   ]
  },
  {
   "cell_type": "code",
   "execution_count": 17,
   "id": "d858de94",
   "metadata": {},
   "outputs": [
    {
     "ename": "TracerArrayConversionError",
     "evalue": "The numpy.ndarray conversion method __array__() was called on traced array with shape float64[2]\nThe error occurred while tracing the function my_func at /var/folders/n5/bkphn15s0kzc1lsr8x64v8y00000gn/T/ipykernel_1159/153899635.py:1 for jit. This concrete value was not available in Python because it depends on the value of the argument x.\nSee https://jax.readthedocs.io/en/latest/errors.html#jax.errors.TracerArrayConversionError",
     "output_type": "error",
     "traceback": [
      "\u001b[31m---------------------------------------------------------------------------\u001b[39m",
      "\u001b[31mTracerArrayConversionError\u001b[39m                Traceback (most recent call last)",
      "\u001b[36mCell\u001b[39m\u001b[36m \u001b[39m\u001b[32mIn[17]\u001b[39m\u001b[32m, line 5\u001b[39m\n\u001b[32m      1\u001b[39m \u001b[38;5;129m@jax\u001b[39m.jit\n\u001b[32m      2\u001b[39m \u001b[38;5;28;01mdef\u001b[39;00m\u001b[38;5;250m \u001b[39m\u001b[34mmy_func\u001b[39m(x):\n\u001b[32m      3\u001b[39m     \u001b[38;5;28;01mreturn\u001b[39;00m np.exp(x)\n\u001b[32m----> \u001b[39m\u001b[32m5\u001b[39m \u001b[43mmy_func\u001b[49m\u001b[43m(\u001b[49m\u001b[43mjnp\u001b[49m\u001b[43m.\u001b[49m\u001b[43mones\u001b[49m\u001b[43m(\u001b[49m\u001b[43m(\u001b[49m\u001b[32;43m2\u001b[39;49m\u001b[43m,\u001b[49m\u001b[43m \u001b[49m\u001b[43m)\u001b[49m\u001b[43m)\u001b[49m\u001b[43m)\u001b[49m\n",
      "    \u001b[31m[... skipping hidden 14 frame]\u001b[39m\n",
      "\u001b[36mCell\u001b[39m\u001b[36m \u001b[39m\u001b[32mIn[17]\u001b[39m\u001b[32m, line 3\u001b[39m, in \u001b[36mmy_func\u001b[39m\u001b[34m(x)\u001b[39m\n\u001b[32m      1\u001b[39m \u001b[38;5;129m@jax\u001b[39m.jit\n\u001b[32m      2\u001b[39m \u001b[38;5;28;01mdef\u001b[39;00m\u001b[38;5;250m \u001b[39m\u001b[34mmy_func\u001b[39m(x):\n\u001b[32m----> \u001b[39m\u001b[32m3\u001b[39m     \u001b[38;5;28;01mreturn\u001b[39;00m \u001b[43mnp\u001b[49m\u001b[43m.\u001b[49m\u001b[43mexp\u001b[49m\u001b[43m(\u001b[49m\u001b[43mx\u001b[49m\u001b[43m)\u001b[49m\n",
      "\u001b[36mFile \u001b[39m\u001b[32m~/Desktop/Coursework/Macroeconomics/lib/python3.12/site-packages/jax/_src/core.py:761\u001b[39m, in \u001b[36mTracer.__array__\u001b[39m\u001b[34m(self, *args, **kw)\u001b[39m\n\u001b[32m    760\u001b[39m \u001b[38;5;28;01mdef\u001b[39;00m\u001b[38;5;250m \u001b[39m\u001b[34m__array__\u001b[39m(\u001b[38;5;28mself\u001b[39m, *args, **kw):\n\u001b[32m--> \u001b[39m\u001b[32m761\u001b[39m   \u001b[38;5;28;01mraise\u001b[39;00m TracerArrayConversionError(\u001b[38;5;28mself\u001b[39m)\n",
      "\u001b[31mTracerArrayConversionError\u001b[39m: The numpy.ndarray conversion method __array__() was called on traced array with shape float64[2]\nThe error occurred while tracing the function my_func at /var/folders/n5/bkphn15s0kzc1lsr8x64v8y00000gn/T/ipykernel_1159/153899635.py:1 for jit. This concrete value was not available in Python because it depends on the value of the argument x.\nSee https://jax.readthedocs.io/en/latest/errors.html#jax.errors.TracerArrayConversionError"
     ]
    }
   ],
   "source": [
    "@jax.jit\n",
    "def my_func(x):\n",
    "    return np.exp(x)\n",
    "\n",
    "my_func(jnp.ones((2, )))"
   ]
  },
  {
   "cell_type": "markdown",
   "id": "d3a10cb9",
   "metadata": {},
   "source": [
    "Below does not work in some early JAX versions; now, they do!"
   ]
  },
  {
   "cell_type": "code",
   "execution_count": 19,
   "id": "41ff7004",
   "metadata": {},
   "outputs": [
    {
     "name": "stdout",
     "output_type": "stream",
     "text": [
      "[2. 3.]\n",
      "[2. 3.]\n"
     ]
    }
   ],
   "source": [
    "@jax.jit\n",
    "def my_func(x):\n",
    "    return x + np.array([1., 2.])\n",
    "\n",
    "print(my_func(jnp.ones((2, ))))\n",
    "print(my_func(np.ones(2, )))"
   ]
  },
  {
   "cell_type": "code",
   "execution_count": 20,
   "id": "71532403",
   "metadata": {},
   "outputs": [],
   "source": [
    "class MyClass:\n",
    "\n",
    "    def __init__(self):\n",
    "        self.y = jnp.array(1.)\n",
    "\n",
    "    @jax.jit\n",
    "    def my_method(self, x):\n",
    "        return x + self.y"
   ]
  },
  {
   "cell_type": "markdown",
   "id": "339f6189",
   "metadata": {},
   "source": [
    "Notice that the following does not work."
   ]
  },
  {
   "cell_type": "code",
   "execution_count": 21,
   "id": "96acabe9",
   "metadata": {},
   "outputs": [
    {
     "ename": "TypeError",
     "evalue": "Error interpreting argument to <function MyClass.my_method at 0x11b1e1300> as an abstract array. The problematic value is of type <class '__main__.MyClass'> and was passed to the function at path self.\nThis typically means that a jit-wrapped function was called with a non-array argument, and this argument was not marked as static using the static_argnums or static_argnames parameters of jax.jit.",
     "output_type": "error",
     "traceback": [
      "\u001b[31m---------------------------------------------------------------------------\u001b[39m",
      "\u001b[31mTypeError\u001b[39m                                 Traceback (most recent call last)",
      "\u001b[36mCell\u001b[39m\u001b[36m \u001b[39m\u001b[32mIn[21]\u001b[39m\u001b[32m, line 2\u001b[39m\n\u001b[32m      1\u001b[39m obj = MyClass()\n\u001b[32m----> \u001b[39m\u001b[32m2\u001b[39m \u001b[43mobj\u001b[49m\u001b[43m.\u001b[49m\u001b[43mmy_method\u001b[49m\u001b[43m(\u001b[49m\u001b[43mjnp\u001b[49m\u001b[43m.\u001b[49m\u001b[43marray\u001b[49m\u001b[43m(\u001b[49m\u001b[32;43m2.\u001b[39;49m\u001b[43m)\u001b[49m\u001b[43m)\u001b[49m\n",
      "    \u001b[31m[... skipping hidden 5 frame]\u001b[39m\n",
      "\u001b[36mFile \u001b[39m\u001b[32m~/Desktop/Coursework/Macroeconomics/lib/python3.12/site-packages/jax/_src/pjit.py:739\u001b[39m, in \u001b[36m_infer_input_type\u001b[39m\u001b[34m(fun, dbg, explicit_args)\u001b[39m\n\u001b[32m    737\u001b[39m \u001b[38;5;28;01mexcept\u001b[39;00m \u001b[38;5;167;01mTypeError\u001b[39;00m:\n\u001b[32m    738\u001b[39m   arg_description = \u001b[33mf\u001b[39m\u001b[33m\"\u001b[39m\u001b[33mpath \u001b[39m\u001b[38;5;132;01m{\u001b[39;00mdbg.arg_names[i]\u001b[38;5;132;01m}\u001b[39;00m\u001b[33m\"\u001b[39m\n\u001b[32m--> \u001b[39m\u001b[32m739\u001b[39m   \u001b[38;5;28;01mraise\u001b[39;00m \u001b[38;5;167;01mTypeError\u001b[39;00m(\n\u001b[32m    740\u001b[39m     \u001b[33mf\u001b[39m\u001b[33m\"\u001b[39m\u001b[33mError interpreting argument to \u001b[39m\u001b[38;5;132;01m{\u001b[39;00mfun\u001b[38;5;132;01m}\u001b[39;00m\u001b[33m as an abstract array.\u001b[39m\u001b[33m\"\u001b[39m\n\u001b[32m    741\u001b[39m     \u001b[33mf\u001b[39m\u001b[33m\"\u001b[39m\u001b[33m The problematic value is of type \u001b[39m\u001b[38;5;132;01m{\u001b[39;00m\u001b[38;5;28mtype\u001b[39m(x)\u001b[38;5;132;01m}\u001b[39;00m\u001b[33m and was passed to\u001b[39m\u001b[33m\"\u001b[39m\n\u001b[32m    742\u001b[39m     \u001b[33mf\u001b[39m\u001b[33m\"\u001b[39m\u001b[33m the function at \u001b[39m\u001b[38;5;132;01m{\u001b[39;00marg_description\u001b[38;5;132;01m}\u001b[39;00m\u001b[33m.\u001b[39m\u001b[38;5;130;01m\\n\u001b[39;00m\u001b[33m\"\u001b[39m\n\u001b[32m    743\u001b[39m     \u001b[33m\"\u001b[39m\u001b[33mThis typically means that a jit-wrapped function was called with a non-array\u001b[39m\u001b[33m\"\u001b[39m\n\u001b[32m    744\u001b[39m     \u001b[33m\"\u001b[39m\u001b[33m argument, and this argument was not marked as static using the\u001b[39m\u001b[33m\"\u001b[39m\n\u001b[32m    745\u001b[39m     \u001b[33m\"\u001b[39m\u001b[33m static_argnums or static_argnames parameters of jax.jit.\u001b[39m\u001b[33m\"\u001b[39m\n\u001b[32m    746\u001b[39m   ) \u001b[38;5;28;01mfrom\u001b[39;00m\u001b[38;5;250m \u001b[39m\u001b[38;5;28;01mNone\u001b[39;00m\n\u001b[32m    747\u001b[39m \u001b[38;5;28;01mif\u001b[39;00m config.mutable_array_checks.value:\n\u001b[32m    748\u001b[39m   _check_no_aliased_ref_args(dbg, avals, explicit_args)\n",
      "\u001b[31mTypeError\u001b[39m: Error interpreting argument to <function MyClass.my_method at 0x11b1e1300> as an abstract array. The problematic value is of type <class '__main__.MyClass'> and was passed to the function at path self.\nThis typically means that a jit-wrapped function was called with a non-array argument, and this argument was not marked as static using the static_argnums or static_argnames parameters of jax.jit."
     ]
    }
   ],
   "source": [
    "obj = MyClass()\n",
    "obj.my_method(jnp.array(2.))"
   ]
  },
  {
   "cell_type": "markdown",
   "id": "8982f7f0",
   "metadata": {},
   "source": [
    "We can force it to work by adding a `static argnums` option. This assumes that `self` is static, i.e., immutable."
   ]
  },
  {
   "cell_type": "code",
   "execution_count": 22,
   "id": "b00f5c6a",
   "metadata": {},
   "outputs": [],
   "source": [
    "from functools import partial"
   ]
  },
  {
   "cell_type": "code",
   "execution_count": 23,
   "id": "198c0277",
   "metadata": {},
   "outputs": [],
   "source": [
    "class MyClass:\n",
    "    \n",
    "    def __init__(self):\n",
    "        self.y = jnp.array(1.)\n",
    "\n",
    "    @partial(jax.jit, static_argnums=(0, ))\n",
    "    def my_method(self, x):\n",
    "        return x + self.y"
   ]
  },
  {
   "cell_type": "code",
   "execution_count": 24,
   "id": "161f18fd",
   "metadata": {},
   "outputs": [
    {
     "data": {
      "text/plain": [
       "Array(3., dtype=float64, weak_type=True)"
      ]
     },
     "execution_count": 24,
     "metadata": {},
     "output_type": "execute_result"
    }
   ],
   "source": [
    "obj = MyClass()\n",
    "obj.my_method(jnp.array(2.))"
   ]
  },
  {
   "cell_type": "markdown",
   "id": "ecbb57a9",
   "metadata": {},
   "source": [
    "Similarly, this will not (immediately) work either:\n",
    "\n",
    "```python\n",
    "@jax.jit\n",
    "def f(x, g: Callable):\n",
    "    return x + g(x)\n",
    "```\n",
    "\n",
    "We have to make it clear that the argument `g` is static:\n",
    "\n",
    "```python\n",
    "@partial(jax.jit, static_argnums=(1, ))\n",
    "def f(x, g: Callable):\n",
    "    return x + g(x)\n",
    "```\n",
    "\n",
    "A more concise way is to put `g` in an outer scope.\n",
    "\n",
    "```python\n",
    "g = ... # definition of g from outer scope\n",
    "\n",
    "@jax.jit\n",
    "def f(x):\n",
    "    return x + g(x)\n",
    "```\n",
    "\n",
    "Note that whenever the static argument changes, it will trigger the JIT compilation again to create another XLA code. JAX accepts immutable objects, while Python Class is mutable. For instance,"
   ]
  },
  {
   "cell_type": "code",
   "execution_count": 25,
   "id": "3e5b9392",
   "metadata": {},
   "outputs": [
    {
     "ename": "TypeError",
     "evalue": "JAX arrays are immutable and do not support in-place item assignment. Instead of x[idx] = y, use x = x.at[idx].set(y) or another .at[] method: https://jax.readthedocs.io/en/latest/_autosummary/jax.numpy.ndarray.at.html",
     "output_type": "error",
     "traceback": [
      "\u001b[31m---------------------------------------------------------------------------\u001b[39m",
      "\u001b[31mTypeError\u001b[39m                                 Traceback (most recent call last)",
      "\u001b[36mCell\u001b[39m\u001b[36m \u001b[39m\u001b[32mIn[25]\u001b[39m\u001b[32m, line 2\u001b[39m\n\u001b[32m      1\u001b[39m x = jnp.ones((\u001b[32m2\u001b[39m, ))\n\u001b[32m----> \u001b[39m\u001b[32m2\u001b[39m \u001b[43mx\u001b[49m\u001b[43m[\u001b[49m\u001b[32;43m0\u001b[39;49m\u001b[43m]\u001b[49m = \u001b[32m1.\u001b[39m \u001b[38;5;66;03m# This does not work.\u001b[39;00m\n",
      "\u001b[36mFile \u001b[39m\u001b[32m~/Desktop/Coursework/Macroeconomics/lib/python3.12/site-packages/jax/_src/numpy/array_methods.py:592\u001b[39m, in \u001b[36m_unimplemented_setitem\u001b[39m\u001b[34m(self, i, x)\u001b[39m\n\u001b[32m    588\u001b[39m \u001b[38;5;28;01mdef\u001b[39;00m\u001b[38;5;250m \u001b[39m\u001b[34m_unimplemented_setitem\u001b[39m(\u001b[38;5;28mself\u001b[39m, i, x):\n\u001b[32m    589\u001b[39m   msg = (\u001b[33m\"\u001b[39m\u001b[33mJAX arrays are immutable and do not support in-place item assignment.\u001b[39m\u001b[33m\"\u001b[39m\n\u001b[32m    590\u001b[39m          \u001b[33m\"\u001b[39m\u001b[33m Instead of x[idx] = y, use x = x.at[idx].set(y) or another .at[] method:\u001b[39m\u001b[33m\"\u001b[39m\n\u001b[32m    591\u001b[39m          \u001b[33m\"\u001b[39m\u001b[33m https://jax.readthedocs.io/en/latest/_autosummary/jax.numpy.ndarray.at.html\u001b[39m\u001b[33m\"\u001b[39m)\n\u001b[32m--> \u001b[39m\u001b[32m592\u001b[39m   \u001b[38;5;28;01mraise\u001b[39;00m \u001b[38;5;167;01mTypeError\u001b[39;00m(msg.format(\u001b[38;5;28mtype\u001b[39m(\u001b[38;5;28mself\u001b[39m)))\n",
      "\u001b[31mTypeError\u001b[39m: JAX arrays are immutable and do not support in-place item assignment. Instead of x[idx] = y, use x = x.at[idx].set(y) or another .at[] method: https://jax.readthedocs.io/en/latest/_autosummary/jax.numpy.ndarray.at.html"
     ]
    }
   ],
   "source": [
    "x = jnp.ones((2, ))\n",
    "x[0] = 1. # This does not work."
   ]
  },
  {
   "cell_type": "markdown",
   "id": "3a2fdd7f",
   "metadata": {},
   "source": [
    "Well, so far, doesn't JAX suck if we cannot even assign or update values to variables? No, this in my opinion a feature not a problem. Immutable objects are best for computations. For projects that need mutable objects, we can rewrite then into that of based on immutable ones."
   ]
  },
  {
   "cell_type": "markdown",
   "id": "071dca73",
   "metadata": {},
   "source": [
    "## Randomness"
   ]
  },
  {
   "cell_type": "markdown",
   "id": "63b2cadb",
   "metadata": {},
   "source": [
    "### Generating Random Numbers"
   ]
  },
  {
   "cell_type": "markdown",
   "id": "b386b873",
   "metadata": {},
   "source": [
    "Generating random numbers in JAX needs the programmer to be conscious, not drunk. This is going to look painful in the beginning. But in the end we will see this is super helpful in controlling the randomness flow. \n",
    "\n",
    "Think about how to generate random samples in NumPy, for example, \n",
    "\n",
    "```python\n",
    "np.random.seed(100)\n",
    "samples1 = np.random.randn(5)\n",
    "samples2 = np.random.uniform(5)\n",
    "samples3 = np.random.gamma(5)\n",
    "```\n",
    "\n",
    "The results are reproducible under a fixed random seed.\n",
    "\n",
    "Then analogously, can we do the following?\n",
    "\n",
    "```python\n",
    "jnp.random.seed(100)\n",
    "```\n",
    "\n",
    "No, we have to manually play with random keys by yourself, like in C, C++, or Rust."
   ]
  },
  {
   "cell_type": "code",
   "execution_count": 27,
   "id": "d98b98b5",
   "metadata": {},
   "outputs": [],
   "source": [
    "# The equivalence to the NumPy code\n",
    "\n",
    "key = jax.random.PRNGKey(100)\n",
    "samples1 = jax.random.normal(key, shape=(5, ))\n",
    "\n",
    "key, _ = jax.random.split(key)\n",
    "samples2 = jax.random.uniform(key, shape=(5, ))\n",
    "\n",
    "key, _ = jax.random.split(key)\n",
    "samples3 = jax.random.gamma(key, shape=(5, ), a=1.)"
   ]
  },
  {
   "cell_type": "markdown",
   "id": "17e4d619",
   "metadata": {},
   "source": [
    "We may think explicitly splitting random keys is a fuss/verbose, but this is standard for asynchronous/parallel/vectorizable programs. Recall the NumPy version:\n",
    "```python\n",
    "np.random.seed(100)\n",
    "samples1 = np.random.randn(5)\n",
    "samples2 = np.random.uniform(5)\n",
    "samples3 = np.random.gamma(5)\n",
    "```\n",
    "Why are the results reproducible? Because, (1) the random seed is fixed, and (2) the order of execution is fixed. If `samples1`, `samples2`, and `samples3` are executed in parallel, can you guarantee the results are the same? No, because you will not know the order of execution. This essentially introduces another randomness (at hardware level) that is hard to control."
   ]
  },
  {
   "cell_type": "code",
   "execution_count": 29,
   "id": "15ff08dc",
   "metadata": {},
   "outputs": [
    {
     "name": "stdout",
     "output_type": "stream",
     "text": [
      "[  0 100]\n",
      "[ 701046466 2104227382] [2213033797 2583756506]\n",
      "[3549270403 1145628597] [1315821631 2840677502]\n",
      "[[2733948186  829389578]\n",
      " [2279201908 4116190116]\n",
      " [1481730141 3233576484]\n",
      " [1130548228  472880600]\n",
      " [4224117979 1514228929]]\n"
     ]
    }
   ],
   "source": [
    "key = jax.random.PRNGKey(100)\n",
    "print(key)\n",
    "\n",
    "# The randomness under this splitted key is independent of the previous key.\n",
    "key, subkey = jax.random.split(key)\n",
    "print(key, subkey)\n",
    "\n",
    "key, subkey = jax.random.split(key)\n",
    "print(key, subkey)\n",
    "\n",
    "keys = jax.random.split(key, num=5)\n",
    "print(keys)"
   ]
  },
  {
   "cell_type": "markdown",
   "id": "442fb43d",
   "metadata": {},
   "source": [
    "In practice, you can just ignore `subkey` which is used to track randomness:\n",
    "\n",
    "```python\n",
    "key, _ = jax.random.split(key)\n",
    "```"
   ]
  },
  {
   "cell_type": "markdown",
   "id": "fd71e353",
   "metadata": {},
   "source": [
    "Imagine that we have an algorithm and we would like to test it on a synthetic model for 100 **independent** Monte Carlo runs then average the results.\n",
    "\n",
    "```python\n",
    "# Example code \n",
    "num_mcs = 100\n",
    "for i in range(num_mcs):\n",
    "    np.random.seed(i)\n",
    "    data = generate_data()\n",
    "    result = my_algorithm(data)\n",
    "```\n",
    "\n",
    "The implementation above is a common mistake, as seeds 1, 2, ..., 100 are not independent. How to make the randomness in the loop independent to each other? I actually don't know how to do so in NumPy.\n",
    "\n",
    "In JAX, it is convenient:\n",
    "\n",
    "```python\n",
    "num_mcs = 100\n",
    "key = jax.random.PRNGKey(1)\n",
    "for i in range(num_mcs):\n",
    "    key, _ = jax.random.split(key)\n",
    "    data = generate_data\n",
    "    result = my_algorithm(data)\n",
    "```"
   ]
  },
  {
   "cell_type": "markdown",
   "id": "f1163311",
   "metadata": {},
   "source": [
    "Let's do a simple exercise: Generate two random positive definite matrices of size 6, then add them. The NumPy-style implementation is as follows:"
   ]
  },
  {
   "cell_type": "code",
   "execution_count": 31,
   "id": "b39fa778",
   "metadata": {},
   "outputs": [
    {
     "name": "stdout",
     "output_type": "stream",
     "text": [
      "[ 2.          2.          2.          2.          4.05034118 13.36009279]\n"
     ]
    }
   ],
   "source": [
    "np.random.seed(999)\n",
    "\n",
    "rand = np.random.randn(6)\n",
    "psd_matrix_1 = np.outer(rand, rand) + np.eye(6)\n",
    "\n",
    "rand = np.random.randn(6)\n",
    "psd_matrix_2 = np.outer(rand, rand) + np.eye(6)\n",
    "\n",
    "print(np.linalg.eigh(psd_matrix_1 + psd_matrix_2)[0])"
   ]
  },
  {
   "cell_type": "markdown",
   "id": "d574c380",
   "metadata": {},
   "source": [
    "Then the JAX version of the code is as follows."
   ]
  },
  {
   "cell_type": "code",
   "execution_count": 37,
   "id": "9a8cc9a3",
   "metadata": {},
   "outputs": [
    {
     "name": "stdout",
     "output_type": "stream",
     "text": [
      "[2.         2.         2.         2.         4.43398354 8.80012971]\n"
     ]
    }
   ],
   "source": [
    "key = jax.random.PRNGKey(100)\n",
    "rand = jax.random.normal(key, shape=(6, ))\n",
    "psd_matrix_1 = jnp.outer(rand, rand) + jnp.eye(6)\n",
    "\n",
    "key, _ = jax.random.split(key)\n",
    "rand = jax.random.normal(key, shape=(6, ))\n",
    "psd_matrix_2 = jnp.outer(rand, rand) + jnp.eye(6)\n",
    "\n",
    "print(jnp.linalg.eigh(psd_matrix_1 + psd_matrix_2)[0])"
   ]
  },
  {
   "cell_type": "markdown",
   "id": "efae8396",
   "metadata": {},
   "source": [
    "## Vectorization"
   ]
  },
  {
   "cell_type": "markdown",
   "id": "7b61a6a7",
   "metadata": {},
   "source": [
    "Vectorization is one of the most helpful feature of JAX for economic modeling. The vectorization here is not the same as parallelization."
   ]
  },
  {
   "cell_type": "markdown",
   "id": "d08a78ca",
   "metadata": {},
   "source": [
    "Let's begin with some example. Suppose that we have two arrays `a` and `b` of shapes `(10, 5, 3, 6)` and `(10, 3, 7, 6)`, respectively. Then how do we do `a @ b` in the way that the multiplication applies to `(5, 3) ⨉ (3, 7)` while taking other dimesions as the broadcasting dimension? Eventually, we desire an array of shape `(10, 5, 7, 6)`. How do we do it in NumPy or Matlab? (Recall `einsum`.)"
   ]
  },
  {
   "cell_type": "code",
   "execution_count": 38,
   "id": "9043af38",
   "metadata": {},
   "outputs": [],
   "source": [
    "# Answer here."
   ]
  },
  {
   "cell_type": "markdown",
   "id": "0c12de8b",
   "metadata": {},
   "source": [
    "Now let's look at another example."
   ]
  },
  {
   "cell_type": "code",
   "execution_count": 46,
   "id": "f9d091ab",
   "metadata": {},
   "outputs": [],
   "source": [
    "def func(x, y):\n",
    "    \"\"\"\n",
    "    Arguments x and y have the same shape (2, ).\n",
    "    Return a (2, 2) matrix.\n",
    "    \"\"\"\n",
    "    z = x * y\n",
    "    return np.array([[x[0] ** 2, x[0] * x[1]], [np.sin(x[1]), x[0] + x[1]]]) + np.outer(z, z)"
   ]
  },
  {
   "cell_type": "markdown",
   "id": "d5146011",
   "metadata": {},
   "source": [
    "Now if inputs `x` and `y` are of shape `(100, 2)`, how can we batch ober the first dimension and return a tensor `(100, 2, 2)`? Even more complicated, if the inputs `x` and `y` are of shapes `(100, 2)` and `(300, 2)`, respectively, how do we visit over 100 and 300 and return a tensor `(100, 300, 2, 2)`?"
   ]
  },
  {
   "cell_type": "code",
   "execution_count": 47,
   "id": "4db6f0f1",
   "metadata": {},
   "outputs": [
    {
     "data": {
      "text/plain": [
       "(5, 2, 2)"
      ]
     },
     "execution_count": 47,
     "metadata": {},
     "output_type": "execute_result"
    }
   ],
   "source": [
    "# NumPy version\n",
    "np_vectorized_func = np.vectorize(func, signature='(n), (n) -> (n, n)')\n",
    "np_vectorized_func(np.ones((5,  2)), np.ones((5, 2))).shape"
   ]
  },
  {
   "cell_type": "markdown",
   "id": "3210bc82",
   "metadata": {},
   "source": [
    "Cool! NumPy has a concise way to do the vectorization. However, please note that `np.vectorize` is merely a syntax sugar of a python loop. It is **not a vectorization on the computation level**. Now let's look at the JAX implementation."
   ]
  },
  {
   "cell_type": "code",
   "execution_count": 48,
   "id": "670be63a",
   "metadata": {},
   "outputs": [
    {
     "data": {
      "text/plain": [
       "(5, 2, 2)"
      ]
     },
     "execution_count": 48,
     "metadata": {},
     "output_type": "execute_result"
    }
   ],
   "source": [
    "def func(x, y):\n",
    "    \"\"\"\n",
    "    Arguments x and y are of the same shape (2, ).\n",
    "    Return a (2, 2) matrix.\n",
    "    \"\"\"\n",
    "    z = x * y\n",
    "    return jnp.array([[x[0] ** 2, x[0] * x[1]], [jnp.sin(x[1]), x[0] + x[1]]]) + jnp.outer(z, z)\n",
    "\n",
    "jax_vectorized_func = jax.vmap(func, in_axes=(0, 0))\n",
    "jax_vectorized_func(jnp.ones((5, 2)), jnp.ones((5, 2))).shape"
   ]
  },
  {
   "cell_type": "markdown",
   "id": "1c05eb83",
   "metadata": {},
   "source": [
    "Let's now compare the speed."
   ]
  },
  {
   "cell_type": "code",
   "execution_count": 49,
   "id": "87bf86da",
   "metadata": {},
   "outputs": [
    {
     "name": "stdout",
     "output_type": "stream",
     "text": [
      "28.6 ms ± 845 μs per loop (mean ± std. dev. of 7 runs, 10 loops each)\n"
     ]
    }
   ],
   "source": [
    "a = np.ones((10000, 2))\n",
    "%timeit np_vectorized_func(a, a)"
   ]
  },
  {
   "cell_type": "code",
   "execution_count": 50,
   "id": "a962c647",
   "metadata": {},
   "outputs": [
    {
     "name": "stdout",
     "output_type": "stream",
     "text": [
      "2.31 ms ± 8.24 μs per loop (mean ± std. dev. of 7 runs, 100 loops each)\n"
     ]
    }
   ],
   "source": [
    "a = jnp.asarray(a)\n",
    "_ = jax_vectorized_func(a, a)\n",
    "%timeit jax_vectorized_func(a, a).block_until_ready()"
   ]
  },
  {
   "cell_type": "markdown",
   "id": "0d360744",
   "metadata": {},
   "source": [
    "`jax.vmap(func, in_axes) -> Callable[the same signature as func]`\n",
    "- `func`: the function you want to vectorize;\n",
    "- `in_axes`: a tuple/list that indicates the vectorization axes for the arguments of `func`.\n",
    "\n",
    "Recall that our `func(x, y)` takes two `(2, )` arrays as inputs and returns a `(2, 2)` matrix.\n",
    "- To vectorize for `x: (n, 2)` and `y: (n, 2)` for some `n`, use `in_axes=(0, 0)` to get `(n, ...)`.\n",
    "- To vectorize for `x: (2, n)` and `y: (n, 2)` for some `n`, use `in_axes=(1, 0)` to get `(n, ...)`.\n",
    "- To vectorize for `x: (n, 2)` and `y: (2, )` for some `n`, use `in_axes=(0, None)` to get `(n, ...)`.\n",
    "- To vectorize for `x: (m, 2)` and `y: (n, 2)` for some `m` and `n`, use two `vmap` nested to get `(m, n, ...)`, i.e.,\n",
    "```python\n",
    "jax.vmap(jax.vmap(func, in_axes=(0, None)), in_axes=(None, 0))\n",
    "```"
   ]
  },
  {
   "cell_type": "markdown",
   "id": "775f3130",
   "metadata": {},
   "source": [
    "### Examples"
   ]
  },
  {
   "cell_type": "markdown",
   "id": "1f45f11e",
   "metadata": {},
   "source": [
    "Compute the following Monte Carlo approximation of expectation, $$\\mathbb E[g(X)] \\approx \\frac{1}{N}\\sum^N_{i=1}g\\left(X^{(i)}\\right),$$ where $X, X^{(1)}, X^{(2)}, \\cdots \\sim N(\\mathbf 0, I_2)$ and $$g(X) = \\begin{bmatrix} \n",
    "\\exp(X_1) \\exp(X_2) \\\\\n",
    "X_1 X_2 + X_1\n",
    "\\end{bmatrix}$$"
   ]
  },
  {
   "cell_type": "code",
   "execution_count": 56,
   "id": "4127c5e3",
   "metadata": {},
   "outputs": [
    {
     "name": "stdout",
     "output_type": "stream",
     "text": [
      "(1000, 2)\n",
      "[ 2.77623283 -0.02325937]\n"
     ]
    }
   ],
   "source": [
    "# Solution\n",
    "N = 1000\n",
    "key = jax.random.PRNGKey(100)\n",
    "samples = jax.random.normal(key, shape=(N, 2))\n",
    "\n",
    "def g(X):\n",
    "    X1, X2 = X\n",
    "    return jnp.array([jnp.exp(X1) * jnp.exp(X2), X1 * X2 + X1])\n",
    "\n",
    "vectorized_g = jax.vmap(g, in_axes=(0, ))\n",
    "propagated_samples = vectorized_g(samples)\n",
    "print(propagated_samples.shape)\n",
    "mean_g = jnp.mean(propagated_samples, axis=0)\n",
    "print(mean_g)"
   ]
  },
  {
   "cell_type": "markdown",
   "id": "1e6ed89c",
   "metadata": {},
   "source": [
    "Next, consider a Matern 3/2 covariance function $C: \\mathbb R \\times \\mathbb R \\rightarrow \\mathbb R$ defined by\n",
    "\n",
    "$$C(t, t') = \\sigma^2 \\left(1 + \\frac{\\sqrt 3 \\lvert t - t' \\rvert}{l}\\right)\\exp\\left( - \\frac{\\sqrt 3 \\lvert t - t' \\rvert}{l} \\right).$$\n",
    "\n",
    "Say, now we have $T$ data points $(t_1, t_2, \\cdots, t_T)$, compute the covariance matrix evaluated at the Cartesian $(t_1, t_2, \\cdots, t_T) \\times (t_1, t_2, \\cdots, t_T)$, that is, $$C_{1:T} = \\begin{bmatrix}\n",
    "C(t_1, t_1) & C(t_1, t_2) & \\cdots & C(t_1, t_T) \\\\\n",
    "C(t_2, t_1) & C(t_2, t_2) & \\cdots & C(t_1, t_1) \\\\\n",
    "\\vdots & \\vdots & \\ddots & \\vdots \\\\\n",
    "C(t_T, t_1) & C(t_T, t_2) & \\cdots & C(t_T, t_T)\n",
    "\\end{bmatrix}$$"
   ]
  },
  {
   "cell_type": "code",
   "execution_count": 70,
   "id": "bf273693",
   "metadata": {},
   "outputs": [
    {
     "data": {
      "text/plain": [
       "<matplotlib.contour.QuadContourSet at 0x345b635c0>"
      ]
     },
     "execution_count": 70,
     "metadata": {},
     "output_type": "execute_result"
    },
    {
     "data": {
      "image/png": "[encoded data removed]",
      "text/plain": [
       "<Figure size 640x480 with 1 Axes>"
      ]
     },
     "metadata": {},
     "output_type": "display_data"
    }
   ],
   "source": [
    "# Solution\n",
    "\n",
    "def cov_func(t1: float, t2: float, l: float, σ: float) -> float:\n",
    "    return (σ ** 2) * (1 + jnp.sqrt(3) * jnp.abs(t1 - t2) / l) * (jnp.exp(-jnp.sqrt(3) * jnp.abs(t1 - t2) / l))\n",
    "\n",
    "vectorized_cov_func = jax.vmap(jax.vmap(cov_func, in_axes=(0, None, None, None)), in_axes=(None, 0, None, None))\n",
    "\n",
    "# Equivalently,\n",
    "# @partial(jax.vmap, in_axes=(None, 0, None, None))\n",
    "# @partial(jax.vmap, in_axes=(0, None, 0, 0))\n",
    "# def cov_func(t1: float, t2: float, l: float, σ: float) -> float:\n",
    "#     return (σ ** 2) * (1 + jnp.sqrt(3) * jnp.abs(t1 - t2) / l) * (jnp.exp(-jnp.sqrt(3) * jnp.abs(t1 - t2) / l))\n",
    "\n",
    "ts = jnp.linspace(0.01, 1, 100)\n",
    "\n",
    "l, σ = 0.1, 1.\n",
    "cov_matrix = vectorized_cov_func(ts, ts, l, σ)\n",
    "\n",
    "plt.contourf(cov_matrix, levels=20)"
   ]
  },
  {
   "cell_type": "markdown",
   "id": "76561ebb",
   "metadata": {},
   "source": [
    "Now we compare the speed of NumPy-style and JAX-style code."
   ]
  },
  {
   "cell_type": "code",
   "execution_count": 61,
   "id": "c29e609e",
   "metadata": {},
   "outputs": [
    {
     "name": "stdout",
     "output_type": "stream",
     "text": [
      "79 ms ± 6.31 ms per loop (mean ± std. dev. of 7 runs, 10 loops each)\n"
     ]
    }
   ],
   "source": [
    "# NumPy implementation 1. Naive implementation with two loops. Do not use this in practice.\n",
    "\n",
    "def np_cov_func(t1, t2):\n",
    "    cov_matrix = np.zeros((ts.size, ts.size))\n",
    "    for i, t1 in enumerate(ts):\n",
    "        for j, t2 in enumerate(ts):\n",
    "            z = np.sqrt(3) * np.abs(t1 - t2) / l\n",
    "            cov_matrix[i, j] = σ**2 * (1 + z) * np.exp(-z)\n",
    "    return cov_matrix\n",
    "\n",
    "ts_np = np.asarray(ts)\n",
    "%timeit np_cov_func(ts_np, ts_np)"
   ]
  },
  {
   "cell_type": "code",
   "execution_count": 62,
   "id": "86758ad7",
   "metadata": {},
   "outputs": [
    {
     "name": "stdout",
     "output_type": "stream",
     "text": [
      "45.8 μs ± 1.2 μs per loop (mean ± std. dev. of 7 runs, 10,000 loops each)\n"
     ]
    }
   ],
   "source": [
    "# NumPy implementation 2. Using broadcasting.\n",
    "# While useful, this is applicable only for limited applications.\n",
    "\n",
    "def np_cov_func(t1, t2):\n",
    "    z = np.sqrt(3) * np.abs(t1[:, None] - t2[None, :]) / l\n",
    "    return σ ** 2 * (1 + z) * np.exp(-z)\n",
    "\n",
    "ts_np = np.asarray(ts)\n",
    "%timeit np_cov_func(ts_np, ts_np)"
   ]
  },
  {
   "cell_type": "code",
   "execution_count": 63,
   "id": "f3feac9d",
   "metadata": {},
   "outputs": [
    {
     "name": "stdout",
     "output_type": "stream",
     "text": [
      "41.9 μs ± 1.65 μs per loop (mean ± std. dev. of 7 runs, 10,000 loops each)\n"
     ]
    }
   ],
   "source": [
    "# NumPy implementation 3. Using SciPy `cdist`.\n",
    "\n",
    "import scipy.spatial\n",
    "\n",
    "def np_cov_func(t1, t2):\n",
    "    r = scipy.spatial.distance.cdist(t1, t2, 'euclidean')\n",
    "    z = np.sqrt(3) * r / l\n",
    "    return σ ** 2 * (1 + z) * np.exp(-z)\n",
    "\n",
    "ts_np = np.asarray(ts).reshape(-1, 1)\n",
    "%timeit np_cov_func(ts_np, ts_np)"
   ]
  },
  {
   "cell_type": "code",
   "execution_count": 76,
   "id": "32193715",
   "metadata": {},
   "outputs": [
    {
     "name": "stdout",
     "output_type": "stream",
     "text": [
      "1.79 ms ± 73.7 μs per loop (mean ± std. dev. of 7 runs, 1,000 loops each)\n"
     ]
    }
   ],
   "source": [
    "%timeit vectorized_cov_func(ts, ts, l, σ).block_until_ready()"
   ]
  },
  {
   "cell_type": "code",
   "execution_count": 77,
   "id": "b36cccd0",
   "metadata": {},
   "outputs": [
    {
     "name": "stdout",
     "output_type": "stream",
     "text": [
      "36.3 μs ± 503 ns per loop (mean ± std. dev. of 7 runs, 10,000 loops each)\n"
     ]
    }
   ],
   "source": [
    "# In principle, we should not jit vmap which is jitted already, \n",
    "# but for some reasons the jitted vmap is faster than that of non-jitted in my computer.\n",
    "f = jax.jit(vectorized_cov_func)\n",
    "_ = f(ts, ts, l, σ)\n",
    "\n",
    "%timeit f(ts, ts, l, σ).block_until_ready()"
   ]
  },
  {
   "cell_type": "markdown",
   "id": "924d101b",
   "metadata": {},
   "source": [
    "There is also `jax.pmap`. This is for parallelization across different divices, for example, multiple GPUs/TPUs. See details [here](https://docs.jax.dev/en/latest/sharded-computation.html). "
   ]
  },
  {
   "cell_type": "markdown",
   "id": "db896313",
   "metadata": {},
   "source": [
    "## Auto-Differentiation"
   ]
  },
  {
   "cell_type": "markdown",
   "id": "cbeb3909",
   "metadata": {},
   "source": [
    "### Gradient"
   ]
  },
  {
   "cell_type": "markdown",
   "id": "8ae29cec",
   "metadata": {},
   "source": [
    "Consider a function $f: \\mathbb R^d \\rightarrow \\mathbb R$. JAX computes the gradient of $f$ by `grad_f = jax.grad(f)`."
   ]
  },
  {
   "cell_type": "markdown",
   "id": "92c9ee99",
   "metadata": {},
   "source": [
    "We will practice by implementing examples. Let a function $f$ be defined as $$f(x) = x^\\top A x.$$ Compute $\\nabla f$, and compare with the true gradient $2 A x$."
   ]
  },
  {
   "cell_type": "code",
   "execution_count": 80,
   "id": "0546befc",
   "metadata": {},
   "outputs": [
    {
     "data": {
      "text/plain": [
       "Array([2., 4.], dtype=float64)"
      ]
     },
     "execution_count": 80,
     "metadata": {},
     "output_type": "execute_result"
    }
   ],
   "source": [
    "A = jnp.eye(2)\n",
    "\n",
    "def f(x):\n",
    "    return jnp.dot(x, A @ x)\n",
    "\n",
    "grad_f = jax.grad(f)\n",
    "grad_f(jnp.array([1., 2.]))"
   ]
  },
  {
   "cell_type": "markdown",
   "id": "2cfc41b5",
   "metadata": {},
   "source": [
    "Next, consider an MLE objective function $$\\ell(\\theta) = x^\\top A^{-1}(\\theta)x,$$ where $$A(\\theta) = \\begin{bmatrix} 2 & \\text{sigmoid}(\\theta) \\\\ \\text{sigmoid}(\\theta) & 3 \\end{bmatrix},$$ and $x \\in \\mathbb R^2$ is given. Compute $\\nabla \\ell$ at $\\theta = 2$, and compare the result to that of the finite difference."
   ]
  },
  {
   "cell_type": "code",
   "execution_count": 86,
   "id": "f027eff9",
   "metadata": {},
   "outputs": [
    {
     "name": "stdout",
     "output_type": "stream",
     "text": [
      "[01] JAX auto-diff: 0.02155437443121922\n",
      "[02] Finite diff  : 0.021554311946392343\n"
     ]
    }
   ],
   "source": [
    "import jax.scipy\n",
    "\n",
    "key = jax.random.PRNGKey(100)\n",
    "x = jax.random.normal(key, shape=(2, ))\n",
    "\n",
    "def sigmoid(θ):\n",
    "    return 1 / (1 + jnp.exp(-θ))\n",
    "\n",
    "def mle_objective(θ):\n",
    "    A = jnp.array([[2., sigmoid(θ)], \n",
    "                   [sigmoid(θ), 3.]])\n",
    "    chol = jax.scipy.linalg.cho_factor(A, lower=True)\n",
    "    return jnp.dot(x, jax.scipy.linalg.cho_solve(chol, x))\n",
    "\n",
    "grad_mle_obj = jax.grad(mle_objective)\n",
    "print('[01] JAX auto-diff:', grad_mle_obj(2.))\n",
    "\n",
    "# Compute gradient at 2. using finite difference.\n",
    "print('[02] Finite diff  :', (mle_objective(2. + 1e-5) - mle_objective(2.)) / 1e-5)"
   ]
  },
  {
   "cell_type": "markdown",
   "id": "728a63ac",
   "metadata": {},
   "source": [
    "### Jacobian and Hessian"
   ]
  },
  {
   "cell_type": "markdown",
   "id": "292d80b3",
   "metadata": {},
   "source": [
    "JAX computes Jacobian of any function $f: \\mathbb R^n \\rightarrow \\mathbb R^m$ by `jax.jacfwd` or `jax.jacrev`. They give the same results but are implemented in different ways:\n",
    "- `jax.jacfwd` uses forward-mode autodiff, while\n",
    "- `jax.jacrev` uses reverse-mode autodiff.\n",
    "\n",
    "I am no expert in autodiff, but essentially, we use `jacfwd` when $n \\ll m$ while we use `jacrev` when $n \\gg m$ for the best computation speed. To obtain the Hessian of a function, we could use either `jacfwd(jacrev(f))` or `jax.hessian(f)`.\n",
    "\n",
    "For example, take the Jacobian of $\\nabla f$ from the first example, where $$f(x) = x^\\top A x.$$"
   ]
  },
  {
   "cell_type": "code",
   "execution_count": 87,
   "id": "8ce4bf62",
   "metadata": {},
   "outputs": [
    {
     "data": {
      "text/plain": [
       "Array([[2., 0.],\n",
       "       [0., 2.]], dtype=float64)"
      ]
     },
     "execution_count": 87,
     "metadata": {},
     "output_type": "execute_result"
    }
   ],
   "source": [
    "jac_of_gradf = jax.jacfwd(grad_f)\n",
    "\n",
    "# Evaluate at x = (0.1, 0.2)\n",
    "jac_of_gradf(jnp.array((0.1, 0.2)))"
   ]
  },
  {
   "cell_type": "markdown",
   "id": "05d7878e",
   "metadata": {},
   "source": [
    "Next, consider a simple perceptron $$\\text{NN}(x) = \\text{sigmoid}(w^\\top x + b).$$ Compute its gradient and Hessian with respect to the weight $w$. (*Hint.* Use a parameter `argnums` to specify positional argument(s) to differentiate with respect to.)"
   ]
  },
  {
   "cell_type": "code",
   "execution_count": 90,
   "id": "08a8c616",
   "metadata": {},
   "outputs": [
    {
     "name": "stdout",
     "output_type": "stream",
     "text": [
      "[ 1.91972490e-01 -1.03381322e-01 -2.31600852e-02 -8.93785534e-02\n",
      " -3.23622463e-01 -3.45593031e-01  2.09718645e-01  1.25725821e-05\n",
      "  1.58379847e-01 -1.47384540e-01]\n",
      "[[-7.72030384e-02  4.15754998e-02  9.31398529e-03  3.59441913e-02\n",
      "   1.30146968e-01  1.38982581e-01 -8.43397750e-02 -5.05614916e-06\n",
      "  -6.36935292e-02  5.92716921e-02]\n",
      " [ 4.15754998e-02 -2.23893026e-02 -5.01578179e-03 -1.93567216e-02\n",
      "  -7.00869466e-02 -7.48451147e-02  4.54187863e-02  2.72284528e-06\n",
      "   3.43003380e-02 -3.19190834e-02]\n",
      " [ 9.31398529e-03 -5.01578179e-03 -1.12366461e-03 -4.33640535e-03\n",
      "  -1.57012854e-02 -1.67672379e-02  1.01749807e-02  6.09987637e-07\n",
      "   7.68416123e-03 -7.15069873e-03]\n",
      " [ 3.59441913e-02 -1.93567216e-02 -4.33640535e-03 -1.67348969e-02\n",
      "  -6.05938263e-02 -6.47075112e-02  3.92669132e-02  2.35404197e-06\n",
      "   2.96544339e-02 -2.75957149e-02]\n",
      " [ 1.30146968e-01 -7.00869466e-02 -1.57012854e-02 -6.05938263e-02\n",
      "  -2.19398531e-01 -2.34293389e-01  1.42177901e-01  8.52353088e-06\n",
      "   1.07372972e-01 -9.99187488e-02]\n",
      " [ 1.38982581e-01 -7.48451147e-02 -1.67672379e-02 -6.47075112e-02\n",
      "  -2.34293389e-01 -2.50199451e-01  1.51830289e-01  9.10218917e-06\n",
      "   1.14662470e-01 -1.06702183e-01]\n",
      " [-8.43397750e-02  4.54187863e-02  1.01749807e-02  3.92669132e-02\n",
      "   1.42177901e-01  1.51830289e-01 -9.21362396e-02 -5.52354533e-06\n",
      "  -6.95814314e-02  6.47508347e-02]\n",
      " [-5.05614916e-06  2.72284528e-06  6.09987637e-07  2.35404197e-06\n",
      "   8.52353088e-06  9.10218917e-06 -5.52354533e-06 -3.31135210e-10\n",
      "  -4.17139002e-06  3.88179691e-06]\n",
      " [-6.36935292e-02  3.43003380e-02  7.68416123e-03  2.96544339e-02\n",
      "   1.07372972e-01  1.14662470e-01 -6.95814314e-02 -4.17139002e-06\n",
      "  -5.25480052e-02  4.88999310e-02]\n",
      " [ 5.92716921e-02 -3.19190834e-02 -7.15069873e-03 -2.75957149e-02\n",
      "  -9.99187488e-02 -1.06702183e-01  6.47508347e-02  3.88179691e-06\n",
      "   4.88999310e-02 -4.55051194e-02]]\n"
     ]
    }
   ],
   "source": [
    "def sigmoid(x):\n",
    "    return 1 / (1 + jnp.exp(-x))\n",
    "\n",
    "def nn(x, weights, b):\n",
    "    return sigmoid(jnp.dot(weights, x) + b)\n",
    "\n",
    "key = jax.random.PRNGKey(100)\n",
    "ws = jax.random.normal(key, shape=(10, ))\n",
    "\n",
    "key, _ = jax.random.split(key)\n",
    "xs = jax.random.normal(key, shape=(10, ))\n",
    "\n",
    "grad_of_nn = jax.grad(nn, argnums=(1))\n",
    "hessian_of_nn = jax.hessian(nn, argnums=(1))\n",
    "\n",
    "print(grad_of_nn(xs, ws, 1.))\n",
    "print(hessian_of_nn(xs, ws, 1.))"
   ]
  },
  {
   "cell_type": "markdown",
   "id": "c0eb666c",
   "metadata": {},
   "source": [
    "### Jacobian-Vector Product (JVP), Vector-Jacobian Product (VJP), and Hessian Vector Product (HVP)"
   ]
  },
  {
   "cell_type": "markdown",
   "id": "bfcd94b1",
   "metadata": {},
   "source": [
    "In a plethora of applications, it is not the Jacobian or Hessian you want to solve, but the matrix-vector product $\\text Jx$ for some Jacobian or Hessian $\\text J$ and a vector $x$. For example, a commonly seen operator in SDE or PDE is $$(A\\phi)(x) = \\nabla_x\\phi \\cdot a(x) + \\frac{1}{2}\\text{tr}\\left( \\Gamma(x) \\text H_x\\phi \\right),$$ and other examples include Gauss-Newton, quasi-Newton methods, and extended Kalman filters, etc. These can be solved efficiently using `jax.vjp` and `jax.jvp`. For details, see [here](https://docs.jax.dev/en/latest/notebooks/autodiff_cookbook.html#how-it-s-made-two-foundational-autodiff-functions)."
   ]
  },
  {
   "cell_type": "markdown",
   "id": "a7c5dd6b",
   "metadata": {},
   "source": [
    "## Control Flows"
   ]
  },
  {
   "cell_type": "markdown",
   "id": "8cc60968",
   "metadata": {},
   "source": [
    "Does this work?"
   ]
  },
  {
   "cell_type": "code",
   "execution_count": 92,
   "id": "53a9b88d",
   "metadata": {},
   "outputs": [
    {
     "data": {
      "text/plain": [
       "Array(1., dtype=float64, weak_type=True)"
      ]
     },
     "execution_count": 92,
     "metadata": {},
     "output_type": "execute_result"
    }
   ],
   "source": [
    "def test_if(x):\n",
    "    if x < 0:\n",
    "        return -x\n",
    "    else:\n",
    "        return x\n",
    "\n",
    "test_if(jnp.array(-1.))"
   ]
  },
  {
   "cell_type": "markdown",
   "id": "1e1a54f3",
   "metadata": {},
   "source": [
    "Yes, it works. How about the for loop?"
   ]
  },
  {
   "cell_type": "code",
   "execution_count": 93,
   "id": "ef3f9baf",
   "metadata": {},
   "outputs": [
    {
     "data": {
      "text/plain": [
       "Array([1., 1.], dtype=float64)"
      ]
     },
     "execution_count": 93,
     "metadata": {},
     "output_type": "execute_result"
    }
   ],
   "source": [
    "def test_for(x):\n",
    "    for i in range(5):\n",
    "        x = jnp.eye(2) @ x\n",
    "    return x\n",
    "\n",
    "test_for(jnp.ones((2, )))"
   ]
  },
  {
   "cell_type": "markdown",
   "id": "6fa5e75f",
   "metadata": {},
   "source": [
    "Yes, it works too! It *seems* a fuss to worry about using normal Python control flows. But, if we want to use `jit` or some autodiff features, you need to be careful with control flows."
   ]
  },
  {
   "cell_type": "markdown",
   "id": "00f9a2fe",
   "metadata": {},
   "source": [
    "For instance, will this work?"
   ]
  },
  {
   "cell_type": "code",
   "execution_count": 94,
   "id": "c72c3561",
   "metadata": {},
   "outputs": [
    {
     "ename": "TracerBoolConversionError",
     "evalue": "Attempted boolean conversion of traced array with shape bool[].\nThe error occurred while tracing the function test_if at /var/folders/n5/bkphn15s0kzc1lsr8x64v8y00000gn/T/ipykernel_1159/330552377.py:1 for jit. This concrete value was not available in Python because it depends on the value of the argument x.\nSee https://jax.readthedocs.io/en/latest/errors.html#jax.errors.TracerBoolConversionError",
     "output_type": "error",
     "traceback": [
      "\u001b[31m---------------------------------------------------------------------------\u001b[39m",
      "\u001b[31mTracerBoolConversionError\u001b[39m                 Traceback (most recent call last)",
      "\u001b[36mCell\u001b[39m\u001b[36m \u001b[39m\u001b[32mIn[94]\u001b[39m\u001b[32m, line 8\u001b[39m\n\u001b[32m      5\u001b[39m     \u001b[38;5;28;01melse\u001b[39;00m:\n\u001b[32m      6\u001b[39m         \u001b[38;5;28;01mreturn\u001b[39;00m x\n\u001b[32m----> \u001b[39m\u001b[32m8\u001b[39m \u001b[43mtest_if\u001b[49m\u001b[43m(\u001b[49m\u001b[43mjnp\u001b[49m\u001b[43m.\u001b[49m\u001b[43marray\u001b[49m\u001b[43m(\u001b[49m\u001b[43m-\u001b[49m\u001b[32;43m1.\u001b[39;49m\u001b[43m)\u001b[49m\u001b[43m)\u001b[49m\n",
      "    \u001b[31m[... skipping hidden 14 frame]\u001b[39m\n",
      "\u001b[36mCell\u001b[39m\u001b[36m \u001b[39m\u001b[32mIn[94]\u001b[39m\u001b[32m, line 3\u001b[39m, in \u001b[36mtest_if\u001b[39m\u001b[34m(x)\u001b[39m\n\u001b[32m      1\u001b[39m \u001b[38;5;129m@jax\u001b[39m.jit\n\u001b[32m      2\u001b[39m \u001b[38;5;28;01mdef\u001b[39;00m\u001b[38;5;250m \u001b[39m\u001b[34mtest_if\u001b[39m(x):\n\u001b[32m----> \u001b[39m\u001b[32m3\u001b[39m     \u001b[38;5;28;01mif\u001b[39;00m x < \u001b[32m0\u001b[39m:\n\u001b[32m      4\u001b[39m         \u001b[38;5;28;01mreturn\u001b[39;00m -x\n\u001b[32m      5\u001b[39m     \u001b[38;5;28;01melse\u001b[39;00m:\n",
      "    \u001b[31m[... skipping hidden 1 frame]\u001b[39m\n",
      "\u001b[36mFile \u001b[39m\u001b[32m~/Desktop/Coursework/Macroeconomics/lib/python3.12/site-packages/jax/_src/core.py:1604\u001b[39m, in \u001b[36mconcretization_function_error.<locals>.error\u001b[39m\u001b[34m(self, arg)\u001b[39m\n\u001b[32m   1603\u001b[39m \u001b[38;5;28;01mdef\u001b[39;00m\u001b[38;5;250m \u001b[39m\u001b[34merror\u001b[39m(\u001b[38;5;28mself\u001b[39m, arg):\n\u001b[32m-> \u001b[39m\u001b[32m1604\u001b[39m   \u001b[38;5;28;01mraise\u001b[39;00m TracerBoolConversionError(arg)\n",
      "\u001b[31mTracerBoolConversionError\u001b[39m: Attempted boolean conversion of traced array with shape bool[].\nThe error occurred while tracing the function test_if at /var/folders/n5/bkphn15s0kzc1lsr8x64v8y00000gn/T/ipykernel_1159/330552377.py:1 for jit. This concrete value was not available in Python because it depends on the value of the argument x.\nSee https://jax.readthedocs.io/en/latest/errors.html#jax.errors.TracerBoolConversionError"
     ]
    }
   ],
   "source": [
    "@jax.jit\n",
    "def test_if(x):\n",
    "    if x < 0:\n",
    "        return -x\n",
    "    else:\n",
    "        return x\n",
    "    \n",
    "test_if(jnp.array(-1.))"
   ]
  },
  {
   "cell_type": "markdown",
   "id": "c5a5c7f1",
   "metadata": {},
   "source": [
    "No, the error message explained it well already. Basically, it fails because we are building a computational graph that changes based on the **concrete** calue of a variable. We can force this example to work by using `static_argnums` argument for `jit`. But please use it only if this is intentional, that is, `x` is really static.\n",
    "\n",
    "Recall that `jax.jit` needs to trace all the (numerical) operations to compile to XLA code. `jax.jit` cannot trace the Python control flows, such as `if else` and `for`. If the function to be jitted has a for loop, then the operations in the for loop are hardcoded to the XLA program. Why? Imagine we ask you to implement a function\n",
    "```python\n",
    "def my_jit(f):\n",
    "    return ...\n",
    "```\n",
    "such that `my_jit` takes a function `f` as input and detect whether the function has a for loop. This is super difficult, and we might need to print the function `f` as string then semantically search for the `for`.\n",
    "\n",
    "The following is a more illustrative example. Suppose that JAX can compile a Python code to a C code. How would the compiled C code of\n",
    "```python\n",
    "for i in range(100):\n",
    "    x = f(x)\n",
    "``` \n",
    "look like? We expect to get a C code like this:\n",
    "```c\n",
    "for (int i = 0; i < 100; i++) {\n",
    "    x = f(x);\n",
    "}\n",
    "```\n",
    "But actually, we get\n",
    "```c\n",
    "x = f(x);\n",
    "x = f(x);\n",
    "... // hardcore-repeat 100 times\n",
    "```\n",
    "Hence, if we desire `for` or `if` in the runtime, we need to write something that `jax` could understand and parse, that are, JAX primitives."
   ]
  },
  {
   "cell_type": "markdown",
   "id": "dbf93b88",
   "metadata": {},
   "source": [
    "### Conditional Statements and Blocks"
   ]
  },
  {
   "cell_type": "markdown",
   "id": "8fbdfc08",
   "metadata": {},
   "source": [
    "Consider a Python *if-else* statement.\n",
    "```python\n",
    "if condition:\n",
    "    result = true_func(x)\n",
    "else:\n",
    "    result = false_func(x)\n",
    "```\n",
    "In JAX, we write as\n",
    "```python\n",
    "result = jax.lax.cond(condition, true_func, false_func, operand=x)\n",
    "```\n",
    "Let us implement `test_if` in JAX as an example."
   ]
  },
  {
   "cell_type": "code",
   "execution_count": 95,
   "id": "417c5f13",
   "metadata": {},
   "outputs": [
    {
     "data": {
      "text/plain": [
       "Array(1., dtype=float64, weak_type=True)"
      ]
     },
     "execution_count": 95,
     "metadata": {},
     "output_type": "execute_result"
    }
   ],
   "source": [
    "@jax.jit\n",
    "def test_if(x):\n",
    "    return jax.lax.cond(x < 0.,       # condition\n",
    "                        lambda _: -x, # what to execute if the condition is true\n",
    "                        lambda _: x,  # what to execute if the condition is false\n",
    "                        x)            # operand here can be anything because we used x from outer scope\n",
    "\n",
    "\n",
    "test_if(jnp.array(-1.))"
   ]
  },
  {
   "cell_type": "code",
   "execution_count": 96,
   "id": "3a3c27be",
   "metadata": {},
   "outputs": [
    {
     "data": {
      "text/plain": [
       "Array(1., dtype=float64, weak_type=True)"
      ]
     },
     "execution_count": 96,
     "metadata": {},
     "output_type": "execute_result"
    }
   ],
   "source": [
    "@jax.jit\n",
    "def test_if(x):\n",
    "    return jax.lax.cond(x < 0.,\n",
    "                        lambda u: -u,\n",
    "                        lambda u: u, \n",
    "                        x)\n",
    "\n",
    "test_if(jnp.array(-1.))"
   ]
  },
  {
   "cell_type": "markdown",
   "id": "d7cab181",
   "metadata": {},
   "source": [
    "Let's try some simple exercise. Write ELU activation function in JAX and JIT it.\n",
    "\n",
    "$$\\text{elu}(x) = \\begin{cases} e^x, & x < 0\\\\ 1, &x \\ge 0\\end{cases}$$"
   ]
  },
  {
   "cell_type": "code",
   "execution_count": 98,
   "id": "b0be4317",
   "metadata": {},
   "outputs": [
    {
     "data": {
      "text/plain": [
       "Array(1., dtype=float64, weak_type=True)"
      ]
     },
     "execution_count": 98,
     "metadata": {},
     "output_type": "execute_result"
    }
   ],
   "source": [
    "@jax.jit\n",
    "def elu(x):\n",
    "    return jax.lax.cond(x < 0.,\n",
    "                        lambda _: jnp.exp(x),\n",
    "                        lambda _: 1.,\n",
    "                        x)\n",
    "\n",
    "# Test\n",
    "elu(1.)"
   ]
  },
  {
   "cell_type": "markdown",
   "id": "c488c128",
   "metadata": {},
   "source": [
    "What if we have multiple if conditions, i.e., `if elif elif ... else`? Then use `jax.switch`. What if we have vector input? Then use `jnp.where` or `jax.vmap`."
   ]
  },
  {
   "cell_type": "markdown",
   "id": "17360670",
   "metadata": {},
   "source": [
    "### Loops"
   ]
  },
  {
   "cell_type": "markdown",
   "id": "54d0d13f",
   "metadata": {},
   "source": [
    "|construct|jit|grad|\n",
    "|----|----|----|\n",
    "|`if`|❌|✅|\n",
    "|`for`|✅*|✅|\n",
    "|`while`|✅*|✅|\n",
    "|`lax.cond`|✅|✅|\n",
    "|`lax.while_loop`|✅|fwd|\n",
    "|`lax.fori_loop`|✅|fwd|\n",
    "|`lax.scan`|✅|✅|\n",
    "\n",
    "\\* means argument-valuable-independent loop condition - unrolls the loop. See [here](https://docs.jax.dev/en/latest/notebooks/Common_Gotchas_in_JAX.html)\n",
    "\n",
    "Similar to the `jax.lax.cond` we have seen above, for loops, we have `jax.lax.while_loop`, `jax.lax.fori_loop`, `scan`. Consider a naive numpy implementation of summation:\n",
    "\n",
    "```python\n",
    "def my_sum(x):\n",
    "    summation = 0.\n",
    "    for i in range(x.shape[0]):\n",
    "        summation += x[i]\n",
    "    return summation\n",
    "```\n",
    "\n",
    "The JAX implementation of it is"
   ]
  },
  {
   "cell_type": "code",
   "execution_count": 99,
   "id": "09ea1128",
   "metadata": {},
   "outputs": [
    {
     "data": {
      "text/plain": [
       "Array(10., dtype=float64)"
      ]
     },
     "execution_count": 99,
     "metadata": {},
     "output_type": "execute_result"
    }
   ],
   "source": [
    "def my_sum(x):\n",
    "\n",
    "    def body_func(i, val):\n",
    "        return x[i] + val\n",
    "    \n",
    "    return jax.lax.fori_loop(lower=0,            # the starting index\n",
    "                             upper=x.shape[0],   # the number of loops\n",
    "                             body_fun=body_func, # the loop body (index, previous_val) -> val\n",
    "                             init_val=0.)        # initial value of the loop val\n",
    "\n",
    "my_sum(jnp.ones((10, )))"
   ]
  },
  {
   "cell_type": "markdown",
   "id": "2d0250f1",
   "metadata": {},
   "source": [
    "The compiled function looks like this:"
   ]
  },
  {
   "cell_type": "code",
   "execution_count": 100,
   "id": "63164c17",
   "metadata": {},
   "outputs": [
    {
     "data": {
      "text/plain": [
       "{ lambda ; a:f64[10]. let\n",
       "    _:i64[] b:f64[] = scan[\n",
       "      _split_transpose=False\n",
       "      jaxpr={ lambda ; c:f64[10] d:i64[] e:f64[]. let\n",
       "          f:i64[] = add d 1\n",
       "          g:bool[] = lt d 0\n",
       "          h:i64[] = convert_element_type[new_dtype=int64 weak_type=False] d\n",
       "          i:i64[] = add h 10\n",
       "          j:i64[] = select_n g d i\n",
       "          k:f64[1] = dynamic_slice[slice_sizes=(1,)] c j\n",
       "          l:f64[] = squeeze[dimensions=(0,)] k\n",
       "          m:f64[] = convert_element_type[new_dtype=float64 weak_type=False] e\n",
       "          n:f64[] = add l m\n",
       "        in (f, n) }\n",
       "      length=10\n",
       "      linear=(False, False, False)\n",
       "      num_carry=2\n",
       "      num_consts=1\n",
       "      reverse=False\n",
       "      unroll=1\n",
       "    ] a 0 0.0\n",
       "  in (b,) }"
      ]
     },
     "execution_count": 100,
     "metadata": {},
     "output_type": "execute_result"
    }
   ],
   "source": [
    "jax.make_jaxpr(my_sum)(jnp.ones((10, )))"
   ]
  },
  {
   "cell_type": "markdown",
   "id": "11de3765",
   "metadata": {},
   "source": [
    "Now that if we don't use the JAX language `jax.fori_loop` but simply use Python for loop, what does JAX see?"
   ]
  },
  {
   "cell_type": "code",
   "execution_count": 102,
   "id": "8a6bf553",
   "metadata": {},
   "outputs": [
    {
     "data": {
      "text/plain": [
       "{ lambda ; a:f64[10]. let\n",
       "    b:f64[1] = slice[limit_indices=(1,) start_indices=(0,) strides=None] a\n",
       "    c:f64[] = squeeze[dimensions=(0,)] b\n",
       "    d:f64[] = add 0.0 c\n",
       "    e:f64[1] = slice[limit_indices=(2,) start_indices=(1,) strides=None] a\n",
       "    f:f64[] = squeeze[dimensions=(0,)] e\n",
       "    g:f64[] = add d f\n",
       "    h:f64[1] = slice[limit_indices=(3,) start_indices=(2,) strides=None] a\n",
       "    i:f64[] = squeeze[dimensions=(0,)] h\n",
       "    j:f64[] = add g i\n",
       "    k:f64[1] = slice[limit_indices=(4,) start_indices=(3,) strides=None] a\n",
       "    l:f64[] = squeeze[dimensions=(0,)] k\n",
       "    m:f64[] = add j l\n",
       "    n:f64[1] = slice[limit_indices=(5,) start_indices=(4,) strides=None] a\n",
       "    o:f64[] = squeeze[dimensions=(0,)] n\n",
       "    p:f64[] = add m o\n",
       "    q:f64[1] = slice[limit_indices=(6,) start_indices=(5,) strides=None] a\n",
       "    r:f64[] = squeeze[dimensions=(0,)] q\n",
       "    s:f64[] = add p r\n",
       "    t:f64[1] = slice[limit_indices=(7,) start_indices=(6,) strides=None] a\n",
       "    u:f64[] = squeeze[dimensions=(0,)] t\n",
       "    v:f64[] = add s u\n",
       "    w:f64[1] = slice[limit_indices=(8,) start_indices=(7,) strides=None] a\n",
       "    x:f64[] = squeeze[dimensions=(0,)] w\n",
       "    y:f64[] = add v x\n",
       "    z:f64[1] = slice[limit_indices=(9,) start_indices=(8,) strides=None] a\n",
       "    ba:f64[] = squeeze[dimensions=(0,)] z\n",
       "    bb:f64[] = add y ba\n",
       "    bc:f64[1] = slice[limit_indices=(10,) start_indices=(9,) strides=None] a\n",
       "    bd:f64[] = squeeze[dimensions=(0,)] bc\n",
       "    be:f64[] = add bb bd\n",
       "  in (be,) }"
      ]
     },
     "execution_count": 102,
     "metadata": {},
     "output_type": "execute_result"
    }
   ],
   "source": [
    "# This loop is jittable indeed, but ...\n",
    "def my_sum_native(x):\n",
    "    summation = 0.\n",
    "    for i in range(x.shape[0]):\n",
    "        summation += x[i]\n",
    "    return summation\n",
    "\n",
    "jax.make_jaxpr(my_sum_native)(jnp.ones(10, ))"
   ]
  },
  {
   "cell_type": "markdown",
   "id": "60318569",
   "metadata": {},
   "source": [
    "See? Again recall that JAX cannot trace the Python control flows."
   ]
  },
  {
   "cell_type": "markdown",
   "id": "bc9daa54",
   "metadata": {},
   "source": [
    "Now we practice with some examples. Consider a recursion $$X_t = 0.1 X_{t-1} + U_t, \\quad \\forall t = 1, \\cdots, T.$$ Suppose that the initial $X_0$ and inputs $\\{U_t\\}^{T}_{t=1}$ are known. Compute $X_T$."
   ]
  },
  {
   "cell_type": "code",
   "execution_count": 103,
   "id": "1a446e8a",
   "metadata": {},
   "outputs": [
    {
     "data": {
      "text/plain": [
       "np.float64(0.22222222221000001)"
      ]
     },
     "execution_count": 103,
     "metadata": {},
     "output_type": "execute_result"
    }
   ],
   "source": [
    "# Simple NumPy way of implementation\n",
    "def recursion(x0, us):\n",
    "    T = us.shape[0]\n",
    "    x = x0\n",
    "    for t in range(T):\n",
    "        x = 0.1 * x + us[t]\n",
    "    return x\n",
    "\n",
    "recursion(np.array(0.1), 0.2 * np.ones((10, )))"
   ]
  },
  {
   "cell_type": "code",
   "execution_count": 106,
   "id": "623ff00a",
   "metadata": {},
   "outputs": [
    {
     "data": {
      "text/plain": [
       "Array(0.22222222, dtype=float64)"
      ]
     },
     "execution_count": 106,
     "metadata": {},
     "output_type": "execute_result"
    }
   ],
   "source": [
    "# JAX way of implementation\n",
    "def recursion(x0, us):\n",
    "\n",
    "    def body_func(t, x):\n",
    "        x = 0.1 * x + us[t]\n",
    "        return x\n",
    "\n",
    "    return jax.lax.fori_loop(lower=0,\n",
    "                             upper=us.shape[0],\n",
    "                             body_fun=body_func,\n",
    "                             init_val=x0)\n",
    "\n",
    "recursion(jnp.array(0.1), 0.2 * jnp.ones((10, )))"
   ]
  },
  {
   "cell_type": "markdown",
   "id": "01d16c28",
   "metadata": {},
   "source": [
    "Wait a sec, but the function only returns the value of $X$ at $T$. How do I keep all the history results? This is very simple in NumPy. Just introduce a result accumulator, say, `xs`."
   ]
  },
  {
   "cell_type": "code",
   "execution_count": 107,
   "id": "e401d711",
   "metadata": {},
   "outputs": [
    {
     "data": {
      "text/plain": [
       "array([0.21      , 0.221     , 0.2221    , 0.22221   , 0.222221  ,\n",
       "       0.2222221 , 0.22222221, 0.22222222, 0.22222222, 0.22222222])"
      ]
     },
     "execution_count": 107,
     "metadata": {},
     "output_type": "execute_result"
    }
   ],
   "source": [
    "def recursion(x0, us):\n",
    "    T = us.shape[0]\n",
    "    xs = np.zeros((T, )) # the accumulator\n",
    "\n",
    "    x = x0\n",
    "    for t in range(T):\n",
    "        x = 0.1 * x + us[t]\n",
    "        xs[t] = x\n",
    "    return xs\n",
    "\n",
    "recursion(np.array(0.1), 0.2 * np.ones((10, )))"
   ]
  },
  {
   "cell_type": "markdown",
   "id": "2d53a320",
   "metadata": {},
   "source": [
    "Can I do the same in JAX?"
   ]
  },
  {
   "cell_type": "code",
   "execution_count": 108,
   "id": "1414987a",
   "metadata": {},
   "outputs": [],
   "source": [
    "@jax.jit\n",
    "def recursion(x0, us):\n",
    "    xs = jnp.zeros((T, ))\n",
    "\n",
    "    def fori_body(t, x):\n",
    "        x = 0.1 * x + us[t]\n",
    "        xs[t] = x\n",
    "        return x\n",
    "    \n",
    "    return jax.lax.fori_loop(lower=0,\n",
    "                             upper=us.shape[0],\n",
    "                             body_fun=fori_body,\n",
    "                             init_val=x0)"
   ]
  },
  {
   "cell_type": "markdown",
   "id": "b6804f04",
   "metadata": {},
   "source": [
    "No. We will get an error in the line `xs[t] = x` because JAX DeviceArray are immutable (i.e., no assignment). We can, to some extent, force `xs[k] = x` to work by using \"JAX array update\" at the cost of making your program nasty, slow, and unreadable. The authentic way to do it is by using the `scan` operation, because $$X_{t} = 0.1 X_{t-1} + U_{t}$$ is essentially a scan operation. Think about what the essential parts of such scan loop are, then we can abstract them."
   ]
  },
  {
   "cell_type": "code",
   "execution_count": 109,
   "id": "794052d1",
   "metadata": {},
   "outputs": [],
   "source": [
    "def recursion(x0, us):\n",
    "\n",
    "    def scan_body(carry, elem):\n",
    "        # Unpack carry and elem\n",
    "        x = carry\n",
    "        u = elem\n",
    "\n",
    "        x = 0.1 * x + u\n",
    "        return x, x # scan body returns two values. First returns as the next carry, the second goes to the result container.\n",
    "    \n",
    "    return jax.lax.scan(scan_body, # the scan body function\n",
    "                        x0,        # initial value/carry\n",
    "                        us)        # inputs\n",
    "\n",
    "last_x, xs = recursion(jnp.array(0.1), 0.2 * jnp.ones((10, )))"
   ]
  },
  {
   "cell_type": "code",
   "execution_count": 110,
   "id": "393c7964",
   "metadata": {},
   "outputs": [
    {
     "data": {
      "text/plain": [
       "Array([0.21      , 0.221     , 0.2221    , 0.22221   , 0.222221  ,\n",
       "       0.2222221 , 0.22222221, 0.22222222, 0.22222222, 0.22222222],      dtype=float64)"
      ]
     },
     "execution_count": 110,
     "metadata": {},
     "output_type": "execute_result"
    }
   ],
   "source": [
    "xs"
   ]
  },
  {
   "cell_type": "markdown",
   "id": "1707374d",
   "metadata": {},
   "source": [
    "Here is the last exercise. Consider a stochastic differential equation $$dX(t) = \\sin(10 \\pi X(t))dt + dW(t)$$ where $X(0) = 0.1$. Use Euler-Maruyama to simulate a trajectory of $X$ at times $0.01, 0.02, \\cdots, 1$. The formula is $$X(t_k) \\approx X(t_{k-1}) + \\sin(10 \\pi X(t_{k-1}))(t_k - t_{k-1}) + \\Delta W_k, \\quad \\Delta W_k \\sim N(0, t_k - t_{k-1}).$$"
   ]
  },
  {
   "cell_type": "code",
   "execution_count": 112,
   "id": "8e018d4b",
   "metadata": {},
   "outputs": [
    {
     "data": {
      "text/plain": [
       "[<matplotlib.lines.Line2D at 0x34e7b6630>]"
      ]
     },
     "execution_count": 112,
     "metadata": {},
     "output_type": "execute_result"
    },
    {
     "data": {
      "image/png": "[encoded data removed]",
      "text/plain": [
       "<Figure size 640x480 with 1 Axes>"
      ]
     },
     "metadata": {},
     "output_type": "display_data"
    }
   ],
   "source": [
    "dt = 0.01\n",
    "T = 100\n",
    "ts = jnp.linspace(dt, dt * T, T)\n",
    "\n",
    "key = jax.random.PRNGKey(100)\n",
    "ws = jnp.cumsum(jnp.sqrt(dt) * jax.random.normal(key, (T, ))) # Wiener process at times\n",
    "\n",
    "def scan_body(carry, elem):\n",
    "    x = carry\n",
    "    dw = elem\n",
    "\n",
    "    x = x + jnp.sin(10 * jnp.pi * x) * dt + dw\n",
    "    return x, x\n",
    "\n",
    "_, xs = jax.lax.scan(scan_body, jnp.array(0.1), ws)\n",
    "plt.plot(ts, xs)"
   ]
  },
  {
   "cell_type": "markdown",
   "id": "84f8ce1c",
   "metadata": {},
   "source": [
    "## References"
   ]
  },
  {
   "cell_type": "markdown",
   "id": "5535b93a",
   "metadata": {},
   "source": [
    "- **Sargent, Thomas J. and John Stachurski. n.d.** \"Quantitative Economics with Python using JAX.\" QuantEcon. https://jax.quantecon.org/intro.html\n",
    "- **Zhao, Zheng. 2022.** \"JAX Workshop.\" A Computational Introduction to Stochastic Differential Equations. https://github.com/spdes/computational-sde-intro-lecture/tree/main/lectures/seminar_lectures/zhao_jax_workshop"
   ]
  }
 ],
 "metadata": {
  "kernelspec": {
   "display_name": "Macroeconomics",
   "language": "python",
   "name": "python3"
  },
  "language_info": {
   "codemirror_mode": {
    "name": "ipython",
    "version": 3
   },
   "file_extension": ".py",
   "mimetype": "text/x-python",
   "name": "python",
   "nbconvert_exporter": "python",
   "pygments_lexer": "ipython3",
   "version": "3.12.7"
  }
 },
 "nbformat": 4,
 "nbformat_minor": 5
}
