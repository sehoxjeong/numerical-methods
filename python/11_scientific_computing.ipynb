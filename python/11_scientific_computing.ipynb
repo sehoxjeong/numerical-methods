{
 "cells": [
  {
   "cell_type": "markdown",
   "id": "dc2c9124",
   "metadata": {},
   "source": [
    "# Scientific Computing\n",
    "\n",
    "Seho Jeong, Sogang University; Aug 2025."
   ]
  },
  {
   "cell_type": "code",
   "execution_count": null,
   "id": "d648c1f5-00f1-4590-b0ad-621f73142c34",
   "metadata": {},
   "outputs": [],
   "source": []
  }
 ],
 "metadata": {
  "kernelspec": {
   "display_name": "Python 3 (ipykernel)",
   "language": "python",
   "name": "python3"
  },
  "language_info": {
   "codemirror_mode": {
    "name": "ipython",
    "version": 3
   },
   "file_extension": ".py",
   "mimetype": "text/x-python",
   "name": "python",
   "nbconvert_exporter": "python",
   "pygments_lexer": "ipython3",
   "version": "3.11.7"
  }
 },
 "nbformat": 4,
 "nbformat_minor": 5
}
