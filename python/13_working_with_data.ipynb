{
 "cells": [
  {
   "cell_type": "markdown",
   "id": "40bc02da",
   "metadata": {},
   "source": [
    "# Working with Data\n",
    "\n",
    "Seho Jeong, Sogang University; Aug 2025.\n",
    "\n",
    "References\n",
    "- **Coleman, Chase, Spencer Lyon, and Jesse Perla. n.d.** \"DataFrames and Series in Pandas.\" QuantEcon DataScience, QuantEcon. https://datascience.quantecon.org/pandas/index.html.\n",
    "- **Jung, Juergen. n.d.** \"Computational Economics.\" Towson University."
   ]
  },
  {
   "cell_type": "markdown",
   "id": "e84796ef",
   "metadata": {},
   "source": [
    "## Introduction"
   ]
  },
  {
   "cell_type": "markdown",
   "id": "eb987bb7",
   "metadata": {},
   "source": [
    "This note covers data ingestion, cleaning, manipulation, analysis, and some visualization in Python. At the end of the note, you will be able to: (1) access data stored in a variety of formats, (2) combine multiple datasets based on observations that link them together, (3) perform custom operations on tables of data, (4) use the spilt-apply-combine method for analyzing subgroups of data, (5) automate static analysis on changing data, and (6) produce publication quality visualizations. The expression \"practice makes perfect\" is especially true here. As you work with these tools, both the time to write and the time to run your programs will fall dramatically.\n",
    "\n",
    "In this note I use **pandas** to work with data, a python library for data analysis and manipulation. Economists often work with datasets with complex structures, such as panels. Common tasks include (1) importing data, cleaning it and reshaping it across several axes, (2) selecting a time series of cross-section from a panel, and (3) grouping or summarizing data. Pandas contains powerful and easy-to-use tools for solbing exactly these kinds of problems.\n",
    "\n",
    "To start, we import the package and give it the alias `pd`, which is conventional in practice."
   ]
  },
  {
   "cell_type": "code",
   "execution_count": 3,
   "id": "c9fe4be1-35ac-4ff1-ae59-0610cca26a09",
   "metadata": {},
   "outputs": [
    {
     "name": "stdout",
     "output_type": "stream",
     "text": [
      "2.2.3\n"
     ]
    }
   ],
   "source": [
    "import numpy as np\n",
    "import pandas as pd\n",
    "print(pd.__version__) # Check the version of pandas."
   ]
  },
  {
   "cell_type": "markdown",
   "id": "77dca223",
   "metadata": {},
   "source": [
    "## Series"
   ]
  },
  {
   "cell_type": "markdown",
   "id": "d638037d",
   "metadata": {},
   "source": [
    "The most common data types in pandas are `Series` and `DataFrame`. We will look at the `Series` first. A `Series` is a single column of data, with row labels for each observation. Pandas refers to the row labels as the *index* of the `Series`. \n",
    "\n",
    "Below, we create a `Series` which contains the annual unemployment rate for South Korea from 2000 to 2024. One simple way to create a `Series` is by putting containers in `pd.Series()` method. "
   ]
  },
  {
   "cell_type": "code",
   "execution_count": 4,
   "id": "fb709923",
   "metadata": {},
   "outputs": [],
   "source": [
    "values = [4.4, 4.0, 3.3, 3.6, 3.7, 3.7, 3.5, 3.2, 3.2, 3.6, 3.7, 3.4, 3.2, 3.1, 3.5, 3.6, 3.7, 3.7, 3.8, 3.8, 4.0, 3.7, 2.9, 2.7, 2.8]\n",
    "years = list(range(2000, 2025))\n",
    "\n",
    "unemp = pd.Series(data=values, index=years, name='unemployment')"
   ]
  },
  {
   "cell_type": "markdown",
   "id": "4d365783",
   "metadata": {},
   "source": [
    "By printing the Series, we can see a value of data and indicies for each values. We can think of it as dictionaries, where key is an index for a observation, and the value is a value of observation."
   ]
  },
  {
   "cell_type": "code",
   "execution_count": 5,
   "id": "ba457487",
   "metadata": {},
   "outputs": [
    {
     "data": {
      "text/plain": [
       "2000    4.4\n",
       "2001    4.0\n",
       "2002    3.3\n",
       "2003    3.6\n",
       "2004    3.7\n",
       "2005    3.7\n",
       "2006    3.5\n",
       "2007    3.2\n",
       "2008    3.2\n",
       "2009    3.6\n",
       "2010    3.7\n",
       "2011    3.4\n",
       "2012    3.2\n",
       "2013    3.1\n",
       "2014    3.5\n",
       "2015    3.6\n",
       "2016    3.7\n",
       "2017    3.7\n",
       "2018    3.8\n",
       "2019    3.8\n",
       "2020    4.0\n",
       "2021    3.7\n",
       "2022    2.9\n",
       "2023    2.7\n",
       "2024    2.8\n",
       "Name: unemployment, dtype: float64"
      ]
     },
     "execution_count": 5,
     "metadata": {},
     "output_type": "execute_result"
    }
   ],
   "source": [
    "unemp"
   ]
  },
  {
   "cell_type": "markdown",
   "id": "41535fca",
   "metadata": {},
   "source": [
    "We can look at the index and values in our `Series`."
   ]
  },
  {
   "cell_type": "code",
   "execution_count": 7,
   "id": "d6fcef10",
   "metadata": {},
   "outputs": [
    {
     "data": {
      "text/plain": [
       "Index([2000, 2001, 2002, 2003, 2004, 2005, 2006, 2007, 2008, 2009, 2010, 2011,\n",
       "       2012, 2013, 2014, 2015, 2016, 2017, 2018, 2019, 2020, 2021, 2022, 2023,\n",
       "       2024],\n",
       "      dtype='int64')"
      ]
     },
     "execution_count": 7,
     "metadata": {},
     "output_type": "execute_result"
    }
   ],
   "source": [
    "unemp.index"
   ]
  },
  {
   "cell_type": "code",
   "execution_count": 8,
   "id": "ad6e0c33",
   "metadata": {},
   "outputs": [
    {
     "data": {
      "text/plain": [
       "array([4.4, 4. , 3.3, 3.6, 3.7, 3.7, 3.5, 3.2, 3.2, 3.6, 3.7, 3.4, 3.2,\n",
       "       3.1, 3.5, 3.6, 3.7, 3.7, 3.8, 3.8, 4. , 3.7, 2.9, 2.7, 2.8])"
      ]
     },
     "execution_count": 8,
     "metadata": {},
     "output_type": "execute_result"
    }
   ],
   "source": [
    "unemp.values"
   ]
  },
  {
   "cell_type": "markdown",
   "id": "520a31ec",
   "metadata": {},
   "source": [
    "If our data have too many rows, and we do not want to display it all at once, then we can use `.head()` and `.tail()` to show rows at the beginning and end of the `Series`, respectively."
   ]
  },
  {
   "cell_type": "code",
   "execution_count": 9,
   "id": "020ef812",
   "metadata": {},
   "outputs": [
    {
     "data": {
      "text/plain": [
       "2000    4.4\n",
       "2001    4.0\n",
       "2002    3.3\n",
       "2003    3.6\n",
       "2004    3.7\n",
       "Name: unemployment, dtype: float64"
      ]
     },
     "execution_count": 9,
     "metadata": {},
     "output_type": "execute_result"
    }
   ],
   "source": [
    "unemp.head()"
   ]
  },
  {
   "cell_type": "code",
   "execution_count": 10,
   "id": "a09bbf58",
   "metadata": {},
   "outputs": [
    {
     "data": {
      "text/plain": [
       "2020    4.0\n",
       "2021    3.7\n",
       "2022    2.9\n",
       "2023    2.7\n",
       "2024    2.8\n",
       "Name: unemployment, dtype: float64"
      ]
     },
     "execution_count": 10,
     "metadata": {},
     "output_type": "execute_result"
    }
   ],
   "source": [
    "unemp.tail()"
   ]
  },
  {
   "cell_type": "markdown",
   "id": "33c35791",
   "metadata": {},
   "source": [
    "Or we can put integer values to display certain number of observations at the beginning."
   ]
  },
  {
   "cell_type": "code",
   "execution_count": 8,
   "id": "e5cf1851",
   "metadata": {},
   "outputs": [
    {
     "data": {
      "text/plain": [
       "2000    4.4\n",
       "2001    4.0\n",
       "Name: unemployment, dtype: float64"
      ]
     },
     "execution_count": 8,
     "metadata": {},
     "output_type": "execute_result"
    }
   ],
   "source": [
    "unemp.head(2)"
   ]
  },
  {
   "cell_type": "markdown",
   "id": "d87fe46e",
   "metadata": {},
   "source": [
    "You can do same thing with `.tail(n)` to show n number of values from the end."
   ]
  },
  {
   "cell_type": "code",
   "execution_count": 9,
   "id": "29f8d4ec",
   "metadata": {},
   "outputs": [
    {
     "data": {
      "text/plain": [
       "2022    2.9\n",
       "2023    2.7\n",
       "2024    2.8\n",
       "Name: unemployment, dtype: float64"
      ]
     },
     "execution_count": 9,
     "metadata": {},
     "output_type": "execute_result"
    }
   ],
   "source": [
    "unemp.tail(3)"
   ]
  },
  {
   "cell_type": "markdown",
   "id": "4d467972",
   "metadata": {},
   "source": [
    "We can also plot data using the `.plot()` method."
   ]
  },
  {
   "cell_type": "code",
   "execution_count": 11,
   "id": "253ce016",
   "metadata": {},
   "outputs": [
    {
     "data": {
      "text/plain": [
       "<Axes: >"
      ]
     },
     "execution_count": 11,
     "metadata": {},
     "output_type": "execute_result"
    },
    {
     "data": {
      "image/png": "[encoded data removed]",
      "text/plain": [
       "<Figure size 640x480 with 1 Axes>"
      ]
     },
     "metadata": {},
     "output_type": "display_data"
    }
   ],
   "source": [
    "unemp.plot()"
   ]
  },
  {
   "cell_type": "markdown",
   "id": "880b07bd",
   "metadata": {},
   "source": [
    "We can also make a bar plot."
   ]
  },
  {
   "cell_type": "code",
   "execution_count": 10,
   "id": "8660526b",
   "metadata": {},
   "outputs": [
    {
     "data": {
      "text/plain": [
       "<Axes: >"
      ]
     },
     "execution_count": 10,
     "metadata": {},
     "output_type": "execute_result"
    },
    {
     "data": {
      "image/png": "[encoded data removed]",
      "text/plain": [
       "<Figure size 640x480 with 1 Axes>"
      ]
     },
     "metadata": {},
     "output_type": "display_data"
    }
   ],
   "source": [
    "unemp.plot(kind='bar')"
   ]
  },
  {
   "cell_type": "markdown",
   "id": "0b3d7dbf",
   "metadata": {},
   "source": [
    "Though it doesn't make sense in this dataset, we may want to find the unique values in a `Series`, which can be done with the `.unique()` method."
   ]
  },
  {
   "cell_type": "code",
   "execution_count": 12,
   "id": "09314fed",
   "metadata": {},
   "outputs": [
    {
     "data": {
      "text/plain": [
       "array([4.4, 4. , 3.3, 3.6, 3.7, 3.5, 3.2, 3.4, 3.1, 3.8, 2.9, 2.7, 2.8])"
      ]
     },
     "execution_count": 12,
     "metadata": {},
     "output_type": "execute_result"
    }
   ],
   "source": [
    "unemp.unique()"
   ]
  },
  {
   "cell_type": "markdown",
   "id": "ac2dc9ab",
   "metadata": {},
   "source": [
    "Sometimes, we might want to select particular elements from a `Series`, which we call it *indexing*. We can do this using `.loc[idx]` where `idx` is an item from the index, or a list of items in the index. We will see this more in-depth in a coming section, but for now, we demonstrate how to select one or multiple elements of the Series."
   ]
  },
  {
   "cell_type": "code",
   "execution_count": 6,
   "id": "2acb1efa",
   "metadata": {},
   "outputs": [
    {
     "data": {
      "text/plain": [
       "3.7"
      ]
     },
     "execution_count": 6,
     "metadata": {},
     "output_type": "execute_result"
    }
   ],
   "source": [
    "unemp.loc[2010]"
   ]
  },
  {
   "cell_type": "code",
   "execution_count": 7,
   "id": "573bbba2",
   "metadata": {},
   "outputs": [
    {
     "data": {
      "text/plain": [
       "2005    3.7\n",
       "2010    3.7\n",
       "2015    3.6\n",
       "Name: unemployment, dtype: float64"
      ]
     },
     "execution_count": 7,
     "metadata": {},
     "output_type": "execute_result"
    }
   ],
   "source": [
    "unemp.loc[[2005, 2010, 2015]]"
   ]
  },
  {
   "cell_type": "markdown",
   "id": "ce80f9be",
   "metadata": {},
   "source": [
    "We can also select the lowest and highest unemployment shown in the Series."
   ]
  },
  {
   "cell_type": "code",
   "execution_count": null,
   "id": "c00bd957",
   "metadata": {},
   "outputs": [
    {
     "data": {
      "text/plain": [
       "4.4"
      ]
     },
     "execution_count": 12,
     "metadata": {},
     "output_type": "execute_result"
    }
   ],
   "source": [
    "unemp.loc[unemp.argmax()]"
   ]
  },
  {
   "cell_type": "code",
   "execution_count": null,
   "id": "5936d3e5",
   "metadata": {},
   "outputs": [],
   "source": []
  },
  {
   "cell_type": "markdown",
   "id": "93ee9485",
   "metadata": {},
   "source": [
    "## Cleaning Data"
   ]
  },
  {
   "cell_type": "markdown",
   "id": "57aceaa8",
   "metadata": {},
   "source": [
    "For many data projects, a significant proportion of time is spent collecting and cleaning the data &mdash; not performing analysis. This non-analysis work is often called **data cleaning**. Pandas provides very powerful data cleaning tools, which we demonstrate using the following dataset."
   ]
  },
  {
   "cell_type": "code",
   "execution_count": 14,
   "id": "b10ccb0f",
   "metadata": {},
   "outputs": [],
   "source": [
    "df = pd.DataFrame({\"numbers\": [\"#23\", \"#24\", \"#18\", \"#14\", \"#12\", \"#10\", \"#35\"],\n",
    "                   \"nums\": [\"23\", \"24\", \"18\", \"14\", np.nan, \"XYZ\", \"35\"],\n",
    "                   \"colors\": [\"green\", \"red\", \"yellow\", \"orange\", \"purple\", \"blue\", \"pink\"],\n",
    "                   \"other_column\": [0, 1, 0, 2, 1, 0, 2]})"
   ]
  },
  {
   "cell_type": "code",
   "execution_count": 15,
   "id": "06f0604a",
   "metadata": {},
   "outputs": [
    {
     "data": {
      "text/html": [
       "<div>\n",
       "<style scoped>\n",
       "    .dataframe tbody tr th:only-of-type {\n",
       "        vertical-align: middle;\n",
       "    }\n",
       "\n",
       "    .dataframe tbody tr th {\n",
       "        vertical-align: top;\n",
       "    }\n",
       "\n",
       "    .dataframe thead th {\n",
       "        text-align: right;\n",
       "    }\n",
       "</style>\n",
       "<table border=\"1\" class=\"dataframe\">\n",
       "  <thead>\n",
       "    <tr style=\"text-align: right;\">\n",
       "      <th></th>\n",
       "      <th>numbers</th>\n",
       "      <th>nums</th>\n",
       "      <th>colors</th>\n",
       "      <th>other_column</th>\n",
       "    </tr>\n",
       "  </thead>\n",
       "  <tbody>\n",
       "    <tr>\n",
       "      <th>0</th>\n",
       "      <td>#23</td>\n",
       "      <td>23</td>\n",
       "      <td>green</td>\n",
       "      <td>0</td>\n",
       "    </tr>\n",
       "    <tr>\n",
       "      <th>1</th>\n",
       "      <td>#24</td>\n",
       "      <td>24</td>\n",
       "      <td>red</td>\n",
       "      <td>1</td>\n",
       "    </tr>\n",
       "    <tr>\n",
       "      <th>2</th>\n",
       "      <td>#18</td>\n",
       "      <td>18</td>\n",
       "      <td>yellow</td>\n",
       "      <td>0</td>\n",
       "    </tr>\n",
       "    <tr>\n",
       "      <th>3</th>\n",
       "      <td>#14</td>\n",
       "      <td>14</td>\n",
       "      <td>orange</td>\n",
       "      <td>2</td>\n",
       "    </tr>\n",
       "    <tr>\n",
       "      <th>4</th>\n",
       "      <td>#12</td>\n",
       "      <td>NaN</td>\n",
       "      <td>purple</td>\n",
       "      <td>1</td>\n",
       "    </tr>\n",
       "    <tr>\n",
       "      <th>5</th>\n",
       "      <td>#10</td>\n",
       "      <td>XYZ</td>\n",
       "      <td>blue</td>\n",
       "      <td>0</td>\n",
       "    </tr>\n",
       "    <tr>\n",
       "      <th>6</th>\n",
       "      <td>#35</td>\n",
       "      <td>35</td>\n",
       "      <td>pink</td>\n",
       "      <td>2</td>\n",
       "    </tr>\n",
       "  </tbody>\n",
       "</table>\n",
       "</div>"
      ],
      "text/plain": [
       "  numbers nums  colors  other_column\n",
       "0     #23   23   green             0\n",
       "1     #24   24     red             1\n",
       "2     #18   18  yellow             0\n",
       "3     #14   14  orange             2\n",
       "4     #12  NaN  purple             1\n",
       "5     #10  XYZ    blue             0\n",
       "6     #35   35    pink             2"
      ]
     },
     "execution_count": 15,
     "metadata": {},
     "output_type": "execute_result"
    }
   ],
   "source": [
    "df"
   ]
  },
  {
   "cell_type": "markdown",
   "id": "d88e5ecc",
   "metadata": {},
   "source": [
    "What would happen if we wanted to try and compute the mean of `numbers`?"
   ]
  },
  {
   "cell_type": "code",
   "execution_count": 7,
   "id": "be5379ea",
   "metadata": {},
   "outputs": [
    {
     "ename": "TypeError",
     "evalue": "Could not convert string '#23#24#18#14#12#10#35' to numeric",
     "output_type": "error",
     "traceback": [
      "\u001b[0;31m---------------------------------------------------------------------------\u001b[0m",
      "\u001b[0;31mTypeError\u001b[0m                                 Traceback (most recent call last)",
      "Cell \u001b[0;32mIn[7], line 1\u001b[0m\n\u001b[0;32m----> 1\u001b[0m df\u001b[38;5;241m.\u001b[39mnumbers\u001b[38;5;241m.\u001b[39mmean()\n",
      "File \u001b[0;32m/opt/anaconda3/lib/python3.12/site-packages/pandas/core/series.py:6549\u001b[0m, in \u001b[0;36mSeries.mean\u001b[0;34m(self, axis, skipna, numeric_only, **kwargs)\u001b[0m\n\u001b[1;32m   6541\u001b[0m \u001b[38;5;129m@doc\u001b[39m(make_doc(\u001b[38;5;124m\"\u001b[39m\u001b[38;5;124mmean\u001b[39m\u001b[38;5;124m\"\u001b[39m, ndim\u001b[38;5;241m=\u001b[39m\u001b[38;5;241m1\u001b[39m))\n\u001b[1;32m   6542\u001b[0m \u001b[38;5;28;01mdef\u001b[39;00m \u001b[38;5;21mmean\u001b[39m(\n\u001b[1;32m   6543\u001b[0m     \u001b[38;5;28mself\u001b[39m,\n\u001b[0;32m   (...)\u001b[0m\n\u001b[1;32m   6547\u001b[0m     \u001b[38;5;241m*\u001b[39m\u001b[38;5;241m*\u001b[39mkwargs,\n\u001b[1;32m   6548\u001b[0m ):\n\u001b[0;32m-> 6549\u001b[0m     \u001b[38;5;28;01mreturn\u001b[39;00m NDFrame\u001b[38;5;241m.\u001b[39mmean(\u001b[38;5;28mself\u001b[39m, axis, skipna, numeric_only, \u001b[38;5;241m*\u001b[39m\u001b[38;5;241m*\u001b[39mkwargs)\n",
      "File \u001b[0;32m/opt/anaconda3/lib/python3.12/site-packages/pandas/core/generic.py:12420\u001b[0m, in \u001b[0;36mNDFrame.mean\u001b[0;34m(self, axis, skipna, numeric_only, **kwargs)\u001b[0m\n\u001b[1;32m  12413\u001b[0m \u001b[38;5;28;01mdef\u001b[39;00m \u001b[38;5;21mmean\u001b[39m(\n\u001b[1;32m  12414\u001b[0m     \u001b[38;5;28mself\u001b[39m,\n\u001b[1;32m  12415\u001b[0m     axis: Axis \u001b[38;5;241m|\u001b[39m \u001b[38;5;28;01mNone\u001b[39;00m \u001b[38;5;241m=\u001b[39m \u001b[38;5;241m0\u001b[39m,\n\u001b[0;32m   (...)\u001b[0m\n\u001b[1;32m  12418\u001b[0m     \u001b[38;5;241m*\u001b[39m\u001b[38;5;241m*\u001b[39mkwargs,\n\u001b[1;32m  12419\u001b[0m ) \u001b[38;5;241m-\u001b[39m\u001b[38;5;241m>\u001b[39m Series \u001b[38;5;241m|\u001b[39m \u001b[38;5;28mfloat\u001b[39m:\n\u001b[0;32m> 12420\u001b[0m     \u001b[38;5;28;01mreturn\u001b[39;00m \u001b[38;5;28mself\u001b[39m\u001b[38;5;241m.\u001b[39m_stat_function(\n\u001b[1;32m  12421\u001b[0m         \u001b[38;5;124m\"\u001b[39m\u001b[38;5;124mmean\u001b[39m\u001b[38;5;124m\"\u001b[39m, nanops\u001b[38;5;241m.\u001b[39mnanmean, axis, skipna, numeric_only, \u001b[38;5;241m*\u001b[39m\u001b[38;5;241m*\u001b[39mkwargs\n\u001b[1;32m  12422\u001b[0m     )\n",
      "File \u001b[0;32m/opt/anaconda3/lib/python3.12/site-packages/pandas/core/generic.py:12377\u001b[0m, in \u001b[0;36mNDFrame._stat_function\u001b[0;34m(self, name, func, axis, skipna, numeric_only, **kwargs)\u001b[0m\n\u001b[1;32m  12373\u001b[0m nv\u001b[38;5;241m.\u001b[39mvalidate_func(name, (), kwargs)\n\u001b[1;32m  12375\u001b[0m validate_bool_kwarg(skipna, \u001b[38;5;124m\"\u001b[39m\u001b[38;5;124mskipna\u001b[39m\u001b[38;5;124m\"\u001b[39m, none_allowed\u001b[38;5;241m=\u001b[39m\u001b[38;5;28;01mFalse\u001b[39;00m)\n\u001b[0;32m> 12377\u001b[0m \u001b[38;5;28;01mreturn\u001b[39;00m \u001b[38;5;28mself\u001b[39m\u001b[38;5;241m.\u001b[39m_reduce(\n\u001b[1;32m  12378\u001b[0m     func, name\u001b[38;5;241m=\u001b[39mname, axis\u001b[38;5;241m=\u001b[39maxis, skipna\u001b[38;5;241m=\u001b[39mskipna, numeric_only\u001b[38;5;241m=\u001b[39mnumeric_only\n\u001b[1;32m  12379\u001b[0m )\n",
      "File \u001b[0;32m/opt/anaconda3/lib/python3.12/site-packages/pandas/core/series.py:6457\u001b[0m, in \u001b[0;36mSeries._reduce\u001b[0;34m(self, op, name, axis, skipna, numeric_only, filter_type, **kwds)\u001b[0m\n\u001b[1;32m   6452\u001b[0m     \u001b[38;5;66;03m# GH#47500 - change to TypeError to match other methods\u001b[39;00m\n\u001b[1;32m   6453\u001b[0m     \u001b[38;5;28;01mraise\u001b[39;00m \u001b[38;5;167;01mTypeError\u001b[39;00m(\n\u001b[1;32m   6454\u001b[0m         \u001b[38;5;124mf\u001b[39m\u001b[38;5;124m\"\u001b[39m\u001b[38;5;124mSeries.\u001b[39m\u001b[38;5;132;01m{\u001b[39;00mname\u001b[38;5;132;01m}\u001b[39;00m\u001b[38;5;124m does not allow \u001b[39m\u001b[38;5;132;01m{\u001b[39;00mkwd_name\u001b[38;5;132;01m}\u001b[39;00m\u001b[38;5;124m=\u001b[39m\u001b[38;5;132;01m{\u001b[39;00mnumeric_only\u001b[38;5;132;01m}\u001b[39;00m\u001b[38;5;124m \u001b[39m\u001b[38;5;124m\"\u001b[39m\n\u001b[1;32m   6455\u001b[0m         \u001b[38;5;124m\"\u001b[39m\u001b[38;5;124mwith non-numeric dtypes.\u001b[39m\u001b[38;5;124m\"\u001b[39m\n\u001b[1;32m   6456\u001b[0m     )\n\u001b[0;32m-> 6457\u001b[0m \u001b[38;5;28;01mreturn\u001b[39;00m op(delegate, skipna\u001b[38;5;241m=\u001b[39mskipna, \u001b[38;5;241m*\u001b[39m\u001b[38;5;241m*\u001b[39mkwds)\n",
      "File \u001b[0;32m/opt/anaconda3/lib/python3.12/site-packages/pandas/core/nanops.py:147\u001b[0m, in \u001b[0;36mbottleneck_switch.__call__.<locals>.f\u001b[0;34m(values, axis, skipna, **kwds)\u001b[0m\n\u001b[1;32m    145\u001b[0m         result \u001b[38;5;241m=\u001b[39m alt(values, axis\u001b[38;5;241m=\u001b[39maxis, skipna\u001b[38;5;241m=\u001b[39mskipna, \u001b[38;5;241m*\u001b[39m\u001b[38;5;241m*\u001b[39mkwds)\n\u001b[1;32m    146\u001b[0m \u001b[38;5;28;01melse\u001b[39;00m:\n\u001b[0;32m--> 147\u001b[0m     result \u001b[38;5;241m=\u001b[39m alt(values, axis\u001b[38;5;241m=\u001b[39maxis, skipna\u001b[38;5;241m=\u001b[39mskipna, \u001b[38;5;241m*\u001b[39m\u001b[38;5;241m*\u001b[39mkwds)\n\u001b[1;32m    149\u001b[0m \u001b[38;5;28;01mreturn\u001b[39;00m result\n",
      "File \u001b[0;32m/opt/anaconda3/lib/python3.12/site-packages/pandas/core/nanops.py:404\u001b[0m, in \u001b[0;36m_datetimelike_compat.<locals>.new_func\u001b[0;34m(values, axis, skipna, mask, **kwargs)\u001b[0m\n\u001b[1;32m    401\u001b[0m \u001b[38;5;28;01mif\u001b[39;00m datetimelike \u001b[38;5;129;01mand\u001b[39;00m mask \u001b[38;5;129;01mis\u001b[39;00m \u001b[38;5;28;01mNone\u001b[39;00m:\n\u001b[1;32m    402\u001b[0m     mask \u001b[38;5;241m=\u001b[39m isna(values)\n\u001b[0;32m--> 404\u001b[0m result \u001b[38;5;241m=\u001b[39m func(values, axis\u001b[38;5;241m=\u001b[39maxis, skipna\u001b[38;5;241m=\u001b[39mskipna, mask\u001b[38;5;241m=\u001b[39mmask, \u001b[38;5;241m*\u001b[39m\u001b[38;5;241m*\u001b[39mkwargs)\n\u001b[1;32m    406\u001b[0m \u001b[38;5;28;01mif\u001b[39;00m datetimelike:\n\u001b[1;32m    407\u001b[0m     result \u001b[38;5;241m=\u001b[39m _wrap_results(result, orig_values\u001b[38;5;241m.\u001b[39mdtype, fill_value\u001b[38;5;241m=\u001b[39miNaT)\n",
      "File \u001b[0;32m/opt/anaconda3/lib/python3.12/site-packages/pandas/core/nanops.py:720\u001b[0m, in \u001b[0;36mnanmean\u001b[0;34m(values, axis, skipna, mask)\u001b[0m\n\u001b[1;32m    718\u001b[0m count \u001b[38;5;241m=\u001b[39m _get_counts(values\u001b[38;5;241m.\u001b[39mshape, mask, axis, dtype\u001b[38;5;241m=\u001b[39mdtype_count)\n\u001b[1;32m    719\u001b[0m the_sum \u001b[38;5;241m=\u001b[39m values\u001b[38;5;241m.\u001b[39msum(axis, dtype\u001b[38;5;241m=\u001b[39mdtype_sum)\n\u001b[0;32m--> 720\u001b[0m the_sum \u001b[38;5;241m=\u001b[39m _ensure_numeric(the_sum)\n\u001b[1;32m    722\u001b[0m \u001b[38;5;28;01mif\u001b[39;00m axis \u001b[38;5;129;01mis\u001b[39;00m \u001b[38;5;129;01mnot\u001b[39;00m \u001b[38;5;28;01mNone\u001b[39;00m \u001b[38;5;129;01mand\u001b[39;00m \u001b[38;5;28mgetattr\u001b[39m(the_sum, \u001b[38;5;124m\"\u001b[39m\u001b[38;5;124mndim\u001b[39m\u001b[38;5;124m\"\u001b[39m, \u001b[38;5;28;01mFalse\u001b[39;00m):\n\u001b[1;32m    723\u001b[0m     count \u001b[38;5;241m=\u001b[39m cast(np\u001b[38;5;241m.\u001b[39mndarray, count)\n",
      "File \u001b[0;32m/opt/anaconda3/lib/python3.12/site-packages/pandas/core/nanops.py:1701\u001b[0m, in \u001b[0;36m_ensure_numeric\u001b[0;34m(x)\u001b[0m\n\u001b[1;32m   1698\u001b[0m \u001b[38;5;28;01melif\u001b[39;00m \u001b[38;5;129;01mnot\u001b[39;00m (is_float(x) \u001b[38;5;129;01mor\u001b[39;00m is_integer(x) \u001b[38;5;129;01mor\u001b[39;00m is_complex(x)):\n\u001b[1;32m   1699\u001b[0m     \u001b[38;5;28;01mif\u001b[39;00m \u001b[38;5;28misinstance\u001b[39m(x, \u001b[38;5;28mstr\u001b[39m):\n\u001b[1;32m   1700\u001b[0m         \u001b[38;5;66;03m# GH#44008, GH#36703 avoid casting e.g. strings to numeric\u001b[39;00m\n\u001b[0;32m-> 1701\u001b[0m         \u001b[38;5;28;01mraise\u001b[39;00m \u001b[38;5;167;01mTypeError\u001b[39;00m(\u001b[38;5;124mf\u001b[39m\u001b[38;5;124m\"\u001b[39m\u001b[38;5;124mCould not convert string \u001b[39m\u001b[38;5;124m'\u001b[39m\u001b[38;5;132;01m{\u001b[39;00mx\u001b[38;5;132;01m}\u001b[39;00m\u001b[38;5;124m'\u001b[39m\u001b[38;5;124m to numeric\u001b[39m\u001b[38;5;124m\"\u001b[39m)\n\u001b[1;32m   1702\u001b[0m     \u001b[38;5;28;01mtry\u001b[39;00m:\n\u001b[1;32m   1703\u001b[0m         x \u001b[38;5;241m=\u001b[39m \u001b[38;5;28mfloat\u001b[39m(x)\n",
      "\u001b[0;31mTypeError\u001b[0m: Could not convert string '#23#24#18#14#12#10#35' to numeric"
     ]
    }
   ],
   "source": [
    "df.numbers.mean()"
   ]
  },
  {
   "cell_type": "markdown",
   "id": "49e5940f",
   "metadata": {},
   "source": [
    "It throws an error! Can you guess why? The final error message says `TypeError: Could not convert string '#23#24#18#14#12#10#35' to numeric`. The problem is that we cannot convert a value like `'#39'` into numeric data types, e.g., `int` or `float`. Recall the string methods. The solution to this kind of problem was to remove the `#` by using the `replace()` string method:"
   ]
  },
  {
   "cell_type": "code",
   "execution_count": 16,
   "id": "701cb9f7",
   "metadata": {},
   "outputs": [
    {
     "name": "stdout",
     "output_type": "stream",
     "text": [
      "39\n"
     ]
    }
   ],
   "source": [
    "# Example: Changing a string into a numeric data.\n",
    "prob = '#39'\n",
    "print(int(prob.replace('#', '')))"
   ]
  },
  {
   "cell_type": "markdown",
   "id": "abc020ee",
   "metadata": {},
   "source": [
    "In case of `DataFrame`, one solution to make this change to every element of a column would be to loop through all elements of the column and apply the desired string methods. (Is it efficient?)"
   ]
  },
  {
   "cell_type": "code",
   "execution_count": 17,
   "id": "236bc839",
   "metadata": {},
   "outputs": [
    {
     "name": "stdout",
     "output_type": "stream",
     "text": [
      "CPU times: user 893 μs, sys: 26 μs, total: 919 μs\n",
      "Wall time: 903 μs\n"
     ]
    }
   ],
   "source": [
    "%%time\n",
    "\n",
    "# Solution 1: Iterate over all rows.\n",
    "for row in df.iterrows():\n",
    "    # `iterrows` method produces a tuple with two elements:\n",
    "    # (1) index, (2) a Series with the data from that row.\n",
    "    idx, values = row\n",
    "\n",
    "    # Apply string method.\n",
    "    clean_number = int(values['numbers'].replace('#', ''))\n",
    "\n",
    "    # `at` method is very similar to the `loc` method, but it is specialized for accessing single elements at a time.\n",
    "    # We use it here to give the loop the best chance to beat a faster method which we show next.\n",
    "    df.at[idx, 'numbers_loop'] = clean_number"
   ]
  },
  {
   "cell_type": "markdown",
   "id": "c76a709a",
   "metadata": {},
   "source": [
    "While this is fast for a small dataset like this, this method is slow for larger datasets. One significantly faster (and easier) method is to apply a string method to an entire column of data. Most methods that are available to a Python string are also available to a Pandas Series that has `dtype` object. We access them by doing `s.str.method_name()` where `method_name` is the name of the method. When we apply the method to a Series, it is applied to all rows in the Series in one shot!\n",
    "\n",
    "Let's redo our previous example using a pandas `.str` method."
   ]
  },
  {
   "cell_type": "code",
   "execution_count": 18,
   "id": "6e069ed9",
   "metadata": {},
   "outputs": [
    {
     "name": "stdout",
     "output_type": "stream",
     "text": [
      "CPU times: user 519 μs, sys: 82 μs, total: 601 μs\n",
      "Wall time: 644 μs\n"
     ]
    }
   ],
   "source": [
    "%%time\n",
    "df['numbers_str'] = df['numbers'].str.replace('#', '').astype(int)"
   ]
  },
  {
   "cell_type": "markdown",
   "id": "9f3d03d7",
   "metadata": {},
   "source": [
    "Here it is about 1.5 times faster than loop. However, speed gain increases with size of DataFrame. The speedup can be in the ballpark of 100 to 500 times faster for big DataFrames.\n",
    "\n",
    "We can use `.str` to access almost any string method that works on normal strings."
   ]
  },
  {
   "cell_type": "code",
   "execution_count": null,
   "id": "48f8b856",
   "metadata": {},
   "outputs": [],
   "source": []
  }
 ],
 "metadata": {
  "kernelspec": {
   "display_name": "base",
   "language": "python",
   "name": "python3"
  },
  "language_info": {
   "codemirror_mode": {
    "name": "ipython",
    "version": 3
   },
   "file_extension": ".py",
   "mimetype": "text/x-python",
   "name": "python",
   "nbconvert_exporter": "python",
   "pygments_lexer": "ipython3",
   "version": "3.12.7"
  }
 },
 "nbformat": 4,
 "nbformat_minor": 5
}
