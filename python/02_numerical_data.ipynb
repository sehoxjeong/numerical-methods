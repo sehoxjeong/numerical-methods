{
 "cells": [
  {
   "cell_type": "markdown",
   "id": "7fc02d3f",
   "metadata": {},
   "source": [
    "# Numerical Data\n",
    "\n",
    "Seho Jeong, Sogang University; Aug 2025."
   ]
  },
  {
   "cell_type": "code",
   "execution_count": null,
   "id": "cc81e07b-32fa-4d76-9f94-e0f6697146da",
   "metadata": {},
   "outputs": [],
   "source": []
  },
  {
   "cell_type": "markdown",
   "id": "6115283d",
   "metadata": {},
   "source": [
    "## Floating Point Arithmetics"
   ]
  },
  {
   "cell_type": "code",
   "execution_count": 2,
   "id": "c0a337c2",
   "metadata": {},
   "outputs": [
    {
     "data": {
      "text/plain": [
       "False"
      ]
     },
     "execution_count": 2,
     "metadata": {},
     "output_type": "execute_result"
    }
   ],
   "source": [
    "a = 0.1\n",
    "b = 0.1\n",
    "c = 0.1\n",
    "\n",
    "a + b + c == 0.3"
   ]
  },
  {
   "cell_type": "markdown",
   "id": "e0c2e341",
   "metadata": {},
   "source": [
    "Note that the result is `False`. That means `a + b + c` does not equal to `0.3`. Why is that? Can we trust the following calculation?"
   ]
  },
  {
   "cell_type": "code",
   "execution_count": 3,
   "id": "1a65873c",
   "metadata": {},
   "outputs": [
    {
     "data": {
      "text/plain": [
       "'1491.7920028601754438568605110'"
      ]
     },
     "execution_count": 3,
     "metadata": {},
     "output_type": "execute_result"
    }
   ],
   "source": [
    "interest = 0.04\n",
    "compounding = 365\n",
    "investment = 1000\n",
    "t = 10\n",
    "\n",
    "daily = 1 + interest / compounding\n",
    "value = investment * (daily ** (compounding * t))\n",
    "\n",
    "format(value, '.25f')"
   ]
  },
  {
   "cell_type": "markdown",
   "id": "84fe4833",
   "metadata": {},
   "source": [
    "Compare the code above to exact calculation."
   ]
  },
  {
   "cell_type": "code",
   "execution_count": 13,
   "id": "195d4c75",
   "metadata": {},
   "outputs": [
    {
     "name": "stdout",
     "output_type": "stream",
     "text": [
      "Amount computed using naive computation: 5.45861855005201049805e+11\n"
     ]
    }
   ],
   "source": [
    "# Naive calculation\n",
    "interest1 = 0.04\n",
    "compounding = 365\n",
    "t = 100            # years\n",
    "investment1 = 10e9 # one billion\n",
    "daily1 = 1 + interest1 / compounding\n",
    "value1 = investment1 * (daily ** (compounding * t))\n",
    "print(f'Amount computed using naive computation: {value1:0.20e}')"
   ]
  },
  {
   "cell_type": "code",
   "execution_count": 14,
   "id": "21bdb1f3",
   "metadata": {},
   "outputs": [
    {
     "name": "stdout",
     "output_type": "stream",
     "text": [
      "Amount computed using exact computation 5.45861855006714058915e+11\n"
     ]
    }
   ],
   "source": [
    "# The same code using precise decimal representation\n",
    "from decimal import *\n",
    "getcontext().prec = 100 # Set precision of decimal calculations\n",
    "interest2 = Decimal(interest1)\n",
    "daily2 = 1 + interest2 / compounding\n",
    "investment2 = Decimal(investment1)\n",
    "value2 = investment2 * (daily2 ** (compounding * t)) # using exact decimals\n",
    "print(f'Amount computed using exact computation {value2:0.20e}')"
   ]
  },
  {
   "cell_type": "code",
   "execution_count": 17,
   "id": "4b85e15b",
   "metadata": {},
   "outputs": [
    {
     "name": "stdout",
     "output_type": "stream",
     "text": [
      "The difference is: 1.5130091107\n"
     ]
    }
   ],
   "source": [
    "# Print the calculation error.\n",
    "diff = value2 - Decimal.from_float(value1)\n",
    "print(f'The difference is: {diff:0.10f}')"
   ]
  },
  {
   "cell_type": "markdown",
   "id": "0fb88f8c",
   "metadata": {},
   "source": [
    "So what is happening? Real numbers are represented with certain precision. In some cases, the errors may have economic significance. In order to write robust code suitable for the task at hand we have to understand what we should expect and why.\n",
    "\n",
    "Numerical stability of the code is an important property!"
   ]
  },
  {
   "cell_type": "markdown",
   "id": "c4933474",
   "metadata": {},
   "source": [
    "## Number Representation"
   ]
  },
  {
   "cell_type": "markdown",
   "id": "7be451bf",
   "metadata": {},
   "source": [
    "### Decimal Form"
   ]
  },
  {
   "cell_type": "markdown",
   "id": "3024f40f",
   "metadata": {},
   "source": [
    "Let $r$ be a real number and $b$ be a base (radix). Also denote digits (from lowest to highest degree) by $d_0, d_1, \\cdots, d_k$. Then we can write $$r = d_k b^k + d_{k-1} b^{k-1} + \\cdots + d_1 b + d_0$$ For example, for decimals $b = 10\\ (0, 1, \\cdots, 9)$ we have $$7631 = 7 \\cdot 1000 + 6 \\cdot 100 + 3 \\cdot 10 + 1$$"
   ]
  },
  {
   "cell_type": "markdown",
   "id": "7b3c291f",
   "metadata": {},
   "source": [
    "### Binary Form"
   ]
  },
  {
   "cell_type": "markdown",
   "id": "42ca3010",
   "metadata": {},
   "source": [
    "Now let $b = 2$, so we only have digits 0 and 1. Then $$101011_{\\text{binary}} = 1 \\cdot 2^5 + 0 \\cdot 2^4 + 1 \\cdot 2^3 + 0 \\cdot 2^2 + 1 \\cdot 2^1 + 1 \\cdot 2^0 = 43_{\\text{decimal}}$$\n",
    "\n",
    "Other common bases are 8 and 16 (with digits $0, 1, \\cdots, 9, a, b, c, d, e, f$)."
   ]
  },
  {
   "cell_type": "markdown",
   "id": "cea0773a",
   "metadata": {},
   "source": [
    "### Counting "
   ]
  },
  {
   "cell_type": "markdown",
   "id": "00f169e2",
   "metadata": {},
   "source": [
    "In base-$b$ it takes $n$ digits to count up to $b^n - 1$."
   ]
  },
  {
   "cell_type": "markdown",
   "id": "bd05210b",
   "metadata": {},
   "source": [
    "### Fractions"
   ]
  },
  {
   "cell_type": "markdown",
   "id": "a143d92e",
   "metadata": {},
   "source": [
    "In base-$b$ using $k$ fractional digits, $$1.r = 1 + d_{-1} \\cdot b^{-1} + d_{-2} \\cdot b^{-2} + \\cdots + d_{-k} \\cdot b^{-k}$$ For instance, $$1.5627 = \\frac{15627}{10000} = 1 + 5 \\cdot 10^{-1} + 6 \\cdot 10^{-2} + 2 \\cdot 10^{-3} + 7 \\cdot 10^{-4}$$\n",
    "\n",
    "Yet for some numbers there is no finite decimal representation. $$ \\frac{4}{3} = $$"
   ]
  },
  {
   "cell_type": "code",
   "execution_count": null,
   "id": "dbaae896",
   "metadata": {},
   "outputs": [],
   "source": []
  }
 ],
 "metadata": {
  "kernelspec": {
   "display_name": "base",
   "language": "python",
   "name": "python3"
  },
  "language_info": {
   "codemirror_mode": {
    "name": "ipython",
    "version": 3
   },
   "file_extension": ".py",
   "mimetype": "text/x-python",
   "name": "python",
   "nbconvert_exporter": "python",
   "pygments_lexer": "ipython3",
   "version": "3.12.7"
  }
 },
 "nbformat": 4,
 "nbformat_minor": 5
}
