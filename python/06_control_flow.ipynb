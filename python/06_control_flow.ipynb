{
 "cells": [
  {
   "cell_type": "markdown",
   "id": "012387cb",
   "metadata": {},
   "source": [
    "# Control Flow\n",
    "\n",
    "Seho Jeong, Sogang University; Aug 2025."
   ]
  },
  {
   "cell_type": "code",
   "execution_count": null,
   "id": "3b3e814b-dcd3-4640-b0bf-21c3f1a80e22",
   "metadata": {},
   "outputs": [],
   "source": []
  }
 ],
 "metadata": {
  "kernelspec": {
   "display_name": "Python 3 (ipykernel)",
   "language": "python",
   "name": "python3"
  },
  "language_info": {
   "codemirror_mode": {
    "name": "ipython",
    "version": 3
   },
   "file_extension": ".py",
   "mimetype": "text/x-python",
   "name": "python",
   "nbconvert_exporter": "python",
   "pygments_lexer": "ipython3",
   "version": "3.11.7"
  }
 },
 "nbformat": 4,
 "nbformat_minor": 5
}
