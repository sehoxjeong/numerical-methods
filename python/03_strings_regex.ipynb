{
 "cells": [
  {
   "cell_type": "markdown",
   "id": "fe062565",
   "metadata": {},
   "source": [
    "# Strings, Regular Expressions, and Text Analysis\n",
    "\n",
    "Seho Jeong, Sogang University; Aug 2025."
   ]
  },
  {
   "cell_type": "code",
   "execution_count": null,
   "id": "4fb17e1e-5291-42dc-951c-b5c8c4727be6",
   "metadata": {},
   "outputs": [],
   "source": []
  },
  {
   "cell_type": "markdown",
   "id": "4e52e6fb",
   "metadata": {},
   "source": [
    "## Regular Expressions"
   ]
  },
  {
   "cell_type": "markdown",
   "id": "9c15b91b",
   "metadata": {},
   "source": [
    "Regular expressions or Regex is a pattern matching \"sublanguage\" that allows you to filter content from data or text that follows a specific pattern.\n",
    "\n",
    "We first import the powerful Python regular expressions library."
   ]
  },
  {
   "cell_type": "code",
   "execution_count": 1,
   "id": "3ff8b34b",
   "metadata": {},
   "outputs": [],
   "source": [
    "import re"
   ]
  },
  {
   "cell_type": "markdown",
   "id": "045e58ca",
   "metadata": {},
   "source": [
    "When working with regex remember that we usually use three commands from the regex library: (1) `compile()`, (2) `search()`, and (3) `group()`. The first command defines the regex-pattern that we want to use. The second applies the regex-pattern and searches a string for the pattern. The last command presents all the found information in a list for further processing."
   ]
  },
  {
   "cell_type": "markdown",
   "id": "c9912ab7",
   "metadata": {},
   "source": []
  }
 ],
 "metadata": {
  "kernelspec": {
   "display_name": "base",
   "language": "python",
   "name": "python3"
  },
  "language_info": {
   "codemirror_mode": {
    "name": "ipython",
    "version": 3
   },
   "file_extension": ".py",
   "mimetype": "text/x-python",
   "name": "python",
   "nbconvert_exporter": "python",
   "pygments_lexer": "ipython3",
   "version": "3.12.7"
  }
 },
 "nbformat": 4,
 "nbformat_minor": 5
}
