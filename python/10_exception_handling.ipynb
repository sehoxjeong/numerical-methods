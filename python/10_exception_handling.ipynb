{
 "cells": [
  {
   "cell_type": "markdown",
   "id": "5cccb77c",
   "metadata": {},
   "source": [
    "# Exception Handling\n",
    "\n",
    "Seho Jeong, Sogang University; Aug 2025."
   ]
  },
  {
   "cell_type": "code",
   "execution_count": null,
   "id": "dbb4d832-7ace-4af7-b2ad-cee224e77f54",
   "metadata": {},
   "outputs": [],
   "source": []
  }
 ],
 "metadata": {
  "kernelspec": {
   "display_name": "Python 3 (ipykernel)",
   "language": "python",
   "name": "python3"
  },
  "language_info": {
   "codemirror_mode": {
    "name": "ipython",
    "version": 3
   },
   "file_extension": ".py",
   "mimetype": "text/x-python",
   "name": "python",
   "nbconvert_exporter": "python",
   "pygments_lexer": "ipython3",
   "version": "3.11.7"
  }
 },
 "nbformat": 4,
 "nbformat_minor": 5
}
