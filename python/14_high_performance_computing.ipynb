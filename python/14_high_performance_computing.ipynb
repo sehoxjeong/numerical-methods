{
 "cells": [
  {
   "cell_type": "markdown",
   "id": "c55f0ccd-44d2-4579-aa88-9ffb16d52510",
   "metadata": {},
   "source": [
    "# High Performance Computing"
   ]
  },
  {
   "cell_type": "markdown",
   "id": "e16dc9c1-22bb-4fed-92e3-2237109f6189",
   "metadata": {},
   "source": [
    "## 1. Introduction"
   ]
  },
  {
   "cell_type": "markdown",
   "id": "38f536ba-061c-439a-9b85-fcd8d695d63f",
   "metadata": {},
   "source": [
    "Perhaps the single most notable feature of scientific computing in the past two decades is the rise of parallel computation. For example, the advanced artificial intelligence applications now shaking the worlds of business and academia require massive computer powers to train, and the great majority of that computer power is supplied by GPUs.\n",
    "\n",
    "For us economists, with our ever growing need for compute cycles, parallel computing provides both opportunities and new difficulties. The main difficulty we face vis-a-vis parallel computation is accessibility. Even for those with time to invest in careful parallelization of their programs, exploiting the full power of parallel hardware is challenging for non-experts. Moreover, that hardware changes from year to year, so any human capital associated with mastering intricacies of a particular GPU has a vecy high depriciation rate.\n",
    "\n",
    "In this note, we focus on introducing the concepts to "
   ]
  },
  {
   "cell_type": "markdown",
   "id": "3a402ba2-9992-422e-8278-2cee80146594",
   "metadata": {},
   "source": [
    "### 1.1. Working Environment"
   ]
  },
  {
   "cell_type": "code",
   "execution_count": 1,
   "id": "897a6638-cc55-4568-a088-221e239a04e3",
   "metadata": {},
   "outputs": [
    {
     "name": "stdout",
     "output_type": "stream",
     "text": [
      "3.11.7 | packaged by Anaconda, Inc. | (main, Dec 15 2023, 18:05:47) [MSC v.1916 64 bit (AMD64)]\n"
     ]
    }
   ],
   "source": [
    "import sys\n",
    "print(sys.version)"
   ]
  },
  {
   "cell_type": "code",
   "execution_count": 2,
   "id": "60e9b872-01fd-4df3-ac4b-b95b2451afac",
   "metadata": {},
   "outputs": [],
   "source": [
    "import numpy as np\n",
    "import matplotlib.pyplot as plt\n",
    "import time"
   ]
  },
  {
   "cell_type": "markdown",
   "id": "0cf48361-16fc-4bee-a85f-65f372145bc4",
   "metadata": {},
   "source": [
    "We now have a working knowledge of Python, and soon we will start to use it to analyze data and numerical analysis. Before we go deeper, we need to know how to enhance the performance of our program."
   ]
  },
  {
   "cell_type": "markdown",
   "id": "81f3e1ae-3968-4023-9d92-e53428b6c01b",
   "metadata": {},
   "source": [
    "### 1.2. References"
   ]
  },
  {
   "cell_type": "markdown",
   "id": "2fe0bffa-b0b3-483d-b6e8-b033b33baa95",
   "metadata": {},
   "source": [
    "- **Sargent, Thomas J. and John Stachurski. n.d.** \"Quantitative Economics with Python using JAX.\" QuantEcon. [link](https://jax.quantecon.org/intro.html)"
   ]
  },
  {
   "cell_type": "markdown",
   "id": "0d9f3101-4367-4b53-b48d-15b33dd8aa3c",
   "metadata": {},
   "source": [
    "## 2. Numba"
   ]
  },
  {
   "cell_type": "markdown",
   "id": "329265ab-911f-4123-a7f9-20ac50d226e3",
   "metadata": {},
   "source": [
    "## 3. Google JAX"
   ]
  },
  {
   "cell_type": "markdown",
   "id": "974a8cf7-a1f7-4463-a901-63c5ba9eeb12",
   "metadata": {},
   "source": [
    "Recall the difficulties that we face mentioned in the introduction. Google JAX is one solution to overcome the difficulty. In short, JAX makes high performance and parallel computing accessible (and fun!). It provides a familiar array programming interface based on NumPy, and, as long as some simple conventions are adhered to, this code compiles to extremely efficient and well-parallelized machine code. \n",
    "\n",
    "One of the most agreeable features of JAX is that the same code set and be run on either CPUs or GPUs, which allows users to test and develop locally, before deploying to a more powerful machine for heavier computations. JAX is relatively easy to learn and highly portable, allowing us programmers to focus on the algorithms we want to implement, rather than particular features of our hardware."
   ]
  },
  {
   "cell_type": "markdown",
   "id": "10397b31-cf87-4f47-ad1e-f5a18b50950d",
   "metadata": {},
   "source": [
    "This section provides a short introduction to [Google JAX](https://github.com/jax-ml/jax). Let's first check if we have an active GPU."
   ]
  },
  {
   "cell_type": "code",
   "execution_count": null,
   "id": "3a93e3f3-1911-4094-9fac-77ba12aff44a",
   "metadata": {},
   "outputs": [],
   "source": [
    "!nvidia-smi"
   ]
  },
  {
   "cell_type": "markdown",
   "id": "e2d3212e-5b88-4a80-ac46-04a4debf6b1a",
   "metadata": {},
   "source": [
    "### 3.1. What is JAX?"
   ]
  },
  {
   "cell_type": "markdown",
   "id": "ec4b061c-dd7f-4821-86d7-1138bdadc8ea",
   "metadata": {},
   "source": [
    "JAX is an open source Python library developed by Google Research to support in-house artificial intelligence and machine learning. JAX provides data types, functions and a compiler for fast linear algebra operations and automatic differentiation. Loosely speaking, JAX is like NumPy with the addition of\n",
    "- automatic differentiation\n",
    "- automated GPU/TPU support\n",
    "- a just-in-time compiler.\n",
    "\n",
    "In short, JAX delivers\n",
    "- high execution speeds on CPUs due to effecient parallelization and JIT compilation\n",
    "- a powerful and convenient environment for GPU programming, and\n",
    "- the ability to efficiently differentiate smooth functions for optimization and estimation.\n",
    "\n",
    "These features make JAX ideal for almost all quantitative economic modeling problems that require heavy-duty computing."
   ]
  },
  {
   "cell_type": "markdown",
   "id": "492c9a20-0545-43ce-91ce-1ba871327fb1",
   "metadata": {},
   "source": [
    "### 3.2. JAX as a NumPy Replacement"
   ]
  },
  {
   "cell_type": "markdown",
   "id": "dc133733-eb09-43b8-b1ff-66281a636044",
   "metadata": {},
   "source": [
    "One way to use JAX is as a plug-in NumPy replacement. Let's look at the similarities and differences.\n",
    "\n",
    "The following import is standard, replacing `import numpy as np`:"
   ]
  },
  {
   "cell_type": "code",
   "execution_count": 3,
   "id": "53d28e26-99ad-4181-97ee-c57414e1c38c",
   "metadata": {},
   "outputs": [],
   "source": [
    "import jax\n",
    "import jax.numpy as jnp"
   ]
  },
  {
   "cell_type": "markdown",
   "id": "09716819-20bf-4b70-a4a6-707a53b10882",
   "metadata": {},
   "source": [
    "#### 3.2.1. Similarities"
   ]
  },
  {
   "cell_type": "markdown",
   "id": "f247edfd-c918-4367-ae2b-9d7515afe385",
   "metadata": {},
   "source": [
    "We can use `jnp` in place of `np` for the usual array operations:"
   ]
  },
  {
   "cell_type": "code",
   "execution_count": 2,
   "id": "ce89225d-40eb-4fb3-8972-9e8992f25460",
   "metadata": {},
   "outputs": [],
   "source": [
    "a = jnp.asarray((1.0, 3.2, -1.5))"
   ]
  },
  {
   "cell_type": "code",
   "execution_count": 3,
   "id": "20d9b3a8-8806-4ed4-82df-72e34286a75b",
   "metadata": {},
   "outputs": [
    {
     "name": "stdout",
     "output_type": "stream",
     "text": [
      "[ 1.   3.2 -1.5]\n"
     ]
    }
   ],
   "source": [
    "print(a)"
   ]
  },
  {
   "cell_type": "markdown",
   "id": "4641596a-1f6e-4f0e-aaaf-02f3737b84c3",
   "metadata": {},
   "source": [
    "However, the array object `a` is not a NumPy array."
   ]
  },
  {
   "cell_type": "code",
   "execution_count": 8,
   "id": "6a8a47e3-f9cd-4ba5-b5b9-bddf5c082c09",
   "metadata": {},
   "outputs": [
    {
     "data": {
      "text/plain": [
       "Array([ 1. ,  3.2, -1.5], dtype=float32)"
      ]
     },
     "execution_count": 8,
     "metadata": {},
     "output_type": "execute_result"
    }
   ],
   "source": [
    "a"
   ]
  },
  {
   "cell_type": "code",
   "execution_count": 4,
   "id": "ef134bad-7a70-4cda-bff3-6293a07284c8",
   "metadata": {},
   "outputs": [
    {
     "data": {
      "text/plain": [
       "jaxlib.xla_extension.ArrayImpl"
      ]
     },
     "execution_count": 4,
     "metadata": {},
     "output_type": "execute_result"
    }
   ],
   "source": [
    "type(a)"
   ]
  },
  {
   "cell_type": "markdown",
   "id": "20c67dc0-6173-49d2-9029-d513ce875158",
   "metadata": {},
   "source": [
    "Still we can expect similar operations as of NumPy arrays."
   ]
  },
  {
   "cell_type": "code",
   "execution_count": 5,
   "id": "6d143dd1-9bbb-4b50-bc8d-94f8c973cff2",
   "metadata": {},
   "outputs": [
    {
     "name": "stdout",
     "output_type": "stream",
     "text": [
      "2.7\n"
     ]
    }
   ],
   "source": [
    "print(jnp.sum(a))"
   ]
  },
  {
   "cell_type": "code",
   "execution_count": 6,
   "id": "f489c7e0-ce16-4c5d-8be4-dea23df56760",
   "metadata": {},
   "outputs": [
    {
     "name": "stdout",
     "output_type": "stream",
     "text": [
      "0.90000004\n"
     ]
    }
   ],
   "source": [
    "print(jnp.mean(a))"
   ]
  },
  {
   "cell_type": "code",
   "execution_count": 7,
   "id": "4aa85bd3-9b36-43e4-a633-7ae64d9c5d64",
   "metadata": {},
   "outputs": [
    {
     "name": "stdout",
     "output_type": "stream",
     "text": [
      "13.490001\n"
     ]
    }
   ],
   "source": [
    "print(jnp.dot(a, a))"
   ]
  },
  {
   "cell_type": "markdown",
   "id": "2857098e-f6ae-45fe-82d8-a519dd1d331d",
   "metadata": {},
   "source": [
    "Note that even scalar-valued maps on arrays return JAX arrays."
   ]
  },
  {
   "cell_type": "code",
   "execution_count": 9,
   "id": "789c6c55-a681-4cb0-8eba-95b960a25f3a",
   "metadata": {},
   "outputs": [
    {
     "data": {
      "text/plain": [
       "Array(2.7, dtype=float32)"
      ]
     },
     "execution_count": 9,
     "metadata": {},
     "output_type": "execute_result"
    }
   ],
   "source": [
    "jnp.sum(a)"
   ]
  },
  {
   "cell_type": "markdown",
   "id": "97105181-6df9-42e6-ac29-226f2177516e",
   "metadata": {},
   "source": [
    "JAX arrays are also called \"deviced arrays\", where term \"device\" refers to a hardware accelerator (GPU or TPU). (In the terminology of GPUs, the \"host\" is the machine that launches GPU operations, while the \"device\" is the GPU itself.)\n",
    "\n",
    "Operations on higher dimensional arrays are also similar to NumPy:"
   ]
  },
  {
   "cell_type": "code",
   "execution_count": 10,
   "id": "f7691aec-e572-4775-9bb6-f792d93c2271",
   "metadata": {},
   "outputs": [],
   "source": [
    "A = jnp.ones((2, 2))\n",
    "B = jnp.identity(2)"
   ]
  },
  {
   "cell_type": "code",
   "execution_count": 11,
   "id": "250ccb2a-0c14-4cd9-a52d-aaffb19f8a5a",
   "metadata": {},
   "outputs": [
    {
     "data": {
      "text/plain": [
       "Array([[1., 1.],\n",
       "       [1., 1.]], dtype=float32)"
      ]
     },
     "execution_count": 11,
     "metadata": {},
     "output_type": "execute_result"
    }
   ],
   "source": [
    "A"
   ]
  },
  {
   "cell_type": "code",
   "execution_count": 12,
   "id": "edfde82a-9b68-4047-baa0-b9cd014ded92",
   "metadata": {},
   "outputs": [
    {
     "data": {
      "text/plain": [
       "Array([[1., 0.],\n",
       "       [0., 1.]], dtype=float32)"
      ]
     },
     "execution_count": 12,
     "metadata": {},
     "output_type": "execute_result"
    }
   ],
   "source": [
    "B"
   ]
  },
  {
   "cell_type": "code",
   "execution_count": 13,
   "id": "db8402db-a9e3-4d4c-bb94-a82d42ecbc7c",
   "metadata": {},
   "outputs": [
    {
     "data": {
      "text/plain": [
       "Array([[1., 1.],\n",
       "       [1., 1.]], dtype=float32)"
      ]
     },
     "execution_count": 13,
     "metadata": {},
     "output_type": "execute_result"
    }
   ],
   "source": [
    "A @ B # matrix multiplication"
   ]
  },
  {
   "cell_type": "code",
   "execution_count": 14,
   "id": "60bbf864-8d15-4aa3-8165-48bdf8562a5f",
   "metadata": {},
   "outputs": [],
   "source": [
    "from jax.numpy import linalg"
   ]
  },
  {
   "cell_type": "code",
   "execution_count": 16,
   "id": "6c8740f6-f883-44b4-a054-8ec28eb5a04f",
   "metadata": {},
   "outputs": [
    {
     "data": {
      "text/plain": [
       "Array([[1., 0.],\n",
       "       [0., 1.]], dtype=float32)"
      ]
     },
     "execution_count": 16,
     "metadata": {},
     "output_type": "execute_result"
    }
   ],
   "source": [
    "linalg.inv(B) # the inverse of matrix B"
   ]
  },
  {
   "cell_type": "code",
   "execution_count": 65,
   "id": "c4710039-80ec-46e5-a3bf-c592d8c819ec",
   "metadata": {},
   "outputs": [
    {
     "data": {
      "text/plain": [
       "EighResult(eigenvalues=Array([1., 1.], dtype=float32), eigenvectors=Array([[1., 0.],\n",
       "       [0., 1.]], dtype=float32))"
      ]
     },
     "execution_count": 65,
     "metadata": {},
     "output_type": "execute_result"
    }
   ],
   "source": [
    "linalg.eigh(B) # computes eigenvalues and eigenvectors of a Hermitian matrix (no 'h' for square matrices, i.e., linalg.eig(B))"
   ]
  },
  {
   "cell_type": "markdown",
   "id": "818b7355-69cb-4f7a-8cac-b23216033d4b",
   "metadata": {},
   "source": [
    "#### 3.2.2. Differences"
   ]
  },
  {
   "cell_type": "markdown",
   "id": "dc2b7020-2f34-4ff9-b524-81ed7962356b",
   "metadata": {},
   "source": [
    "One difference between NumPy and JAX is that JAX currently uses 32 bit floats by default. This is standard for GPU computing and can lead to significant speed gains with small loss of precision. However, for some calculations precision matters. In these cases 64 bit floats can be enforced via the command."
   ]
  },
  {
   "cell_type": "code",
   "execution_count": 22,
   "id": "4b3f4233-0164-4a5a-81d8-a0b50317c76d",
   "metadata": {},
   "outputs": [],
   "source": [
    "jax.config.update('jax_enable_x64', True)"
   ]
  },
  {
   "cell_type": "markdown",
   "id": "0b140dd3-c9d8-4d3f-8efb-fe4af26e8a3d",
   "metadata": {},
   "source": [
    "Let's check if this works:"
   ]
  },
  {
   "cell_type": "code",
   "execution_count": 23,
   "id": "0ef0fd8d-816b-4760-bac8-c618120007fa",
   "metadata": {},
   "outputs": [
    {
     "data": {
      "text/plain": [
       "Array([1., 1., 1.], dtype=float64)"
      ]
     },
     "execution_count": 23,
     "metadata": {},
     "output_type": "execute_result"
    }
   ],
   "source": [
    "jnp.ones(3)"
   ]
  },
  {
   "cell_type": "markdown",
   "id": "9815b643-2c81-4c2e-82c8-f64fc8eb8253",
   "metadata": {},
   "source": [
    "As a NumPy replacement, a more significant difference is that arrays are treated as 'immutable'. For example, with NumPy we can write"
   ]
  },
  {
   "cell_type": "code",
   "execution_count": 25,
   "id": "4c75f2b9-879f-4d0d-ab1d-16d383b13aab",
   "metadata": {},
   "outputs": [
    {
     "data": {
      "text/plain": [
       "array([0. , 0.5, 1. ])"
      ]
     },
     "execution_count": 25,
     "metadata": {},
     "output_type": "execute_result"
    }
   ],
   "source": [
    "a = np.linspace(0, 1, 3)\n",
    "a"
   ]
  },
  {
   "cell_type": "markdown",
   "id": "856b9063-3e24-4a70-aee5-622b7994b528",
   "metadata": {},
   "source": [
    "and then mutate the data in memory:"
   ]
  },
  {
   "cell_type": "code",
   "execution_count": 26,
   "id": "a3cb6e92-6f3c-4153-b733-01f26007a0d0",
   "metadata": {},
   "outputs": [
    {
     "data": {
      "text/plain": [
       "array([1. , 0.5, 1. ])"
      ]
     },
     "execution_count": 26,
     "metadata": {},
     "output_type": "execute_result"
    }
   ],
   "source": [
    "a[0] = 1\n",
    "a"
   ]
  },
  {
   "cell_type": "markdown",
   "id": "d8c6b6d3-5393-4fc5-918a-c03029fdf871",
   "metadata": {},
   "source": [
    "In JAX, this fails:"
   ]
  },
  {
   "cell_type": "code",
   "execution_count": 28,
   "id": "14cb38f5-2845-43be-a8fa-5e72140b35a4",
   "metadata": {},
   "outputs": [
    {
     "data": {
      "text/plain": [
       "Array([0. , 0.5, 1. ], dtype=float64)"
      ]
     },
     "execution_count": 28,
     "metadata": {},
     "output_type": "execute_result"
    }
   ],
   "source": [
    "a = jnp.linspace(0, 1, 3)\n",
    "a"
   ]
  },
  {
   "cell_type": "code",
   "execution_count": 29,
   "id": "c7a8ec20-f2dd-4ffa-8669-f474b377e6e8",
   "metadata": {},
   "outputs": [
    {
     "ename": "TypeError",
     "evalue": "JAX arrays are immutable and do not support in-place item assignment. Instead of x[idx] = y, use x = x.at[idx].set(y) or another .at[] method: https://jax.readthedocs.io/en/latest/_autosummary/jax.numpy.ndarray.at.html",
     "output_type": "error",
     "traceback": [
      "\u001b[1;31m---------------------------------------------------------------------------\u001b[0m",
      "\u001b[1;31mTypeError\u001b[0m                                 Traceback (most recent call last)",
      "Cell \u001b[1;32mIn[29], line 1\u001b[0m\n\u001b[1;32m----> 1\u001b[0m a[\u001b[38;5;241m0\u001b[39m] \u001b[38;5;241m=\u001b[39m \u001b[38;5;241m1\u001b[39m\n",
      "File \u001b[1;32m~\\anaconda3\\Lib\\site-packages\\jax\\_src\\numpy\\array_methods.py:591\u001b[0m, in \u001b[0;36m_unimplemented_setitem\u001b[1;34m(self, i, x)\u001b[0m\n\u001b[0;32m    587\u001b[0m \u001b[38;5;28;01mdef\u001b[39;00m \u001b[38;5;21m_unimplemented_setitem\u001b[39m(\u001b[38;5;28mself\u001b[39m, i, x):\n\u001b[0;32m    588\u001b[0m   msg \u001b[38;5;241m=\u001b[39m (\u001b[38;5;124m\"\u001b[39m\u001b[38;5;124mJAX arrays are immutable and do not support in-place item assignment.\u001b[39m\u001b[38;5;124m\"\u001b[39m\n\u001b[0;32m    589\u001b[0m          \u001b[38;5;124m\"\u001b[39m\u001b[38;5;124m Instead of x[idx] = y, use x = x.at[idx].set(y) or another .at[] method:\u001b[39m\u001b[38;5;124m\"\u001b[39m\n\u001b[0;32m    590\u001b[0m          \u001b[38;5;124m\"\u001b[39m\u001b[38;5;124m https://jax.readthedocs.io/en/latest/_autosummary/jax.numpy.ndarray.at.html\u001b[39m\u001b[38;5;124m\"\u001b[39m)\n\u001b[1;32m--> 591\u001b[0m   \u001b[38;5;28;01mraise\u001b[39;00m \u001b[38;5;167;01mTypeError\u001b[39;00m(msg\u001b[38;5;241m.\u001b[39mformat(\u001b[38;5;28mtype\u001b[39m(\u001b[38;5;28mself\u001b[39m)))\n",
      "\u001b[1;31mTypeError\u001b[0m: JAX arrays are immutable and do not support in-place item assignment. Instead of x[idx] = y, use x = x.at[idx].set(y) or another .at[] method: https://jax.readthedocs.io/en/latest/_autosummary/jax.numpy.ndarray.at.html"
     ]
    }
   ],
   "source": [
    "a[0] = 1"
   ]
  },
  {
   "cell_type": "markdown",
   "id": "79064550-b460-427a-ab3f-53d965d371ca",
   "metadata": {},
   "source": [
    "In line with immutability, JAX does not support inplace operations:"
   ]
  },
  {
   "cell_type": "code",
   "execution_count": 31,
   "id": "8356a0fa-08df-44c5-a5ba-5e41904de0c2",
   "metadata": {},
   "outputs": [
    {
     "data": {
      "text/plain": [
       "array([1, 2])"
      ]
     },
     "execution_count": 31,
     "metadata": {},
     "output_type": "execute_result"
    }
   ],
   "source": [
    "a = np.array((2, 1))\n",
    "a.sort() # Sort an array in-place.\n",
    "a"
   ]
  },
  {
   "cell_type": "code",
   "execution_count": 34,
   "id": "702e2b1a-f697-4825-abd4-bfd85eec3878",
   "metadata": {},
   "outputs": [
    {
     "data": {
      "text/plain": [
       "(Array([2, 1], dtype=int64), Array([1, 2], dtype=int64))"
      ]
     },
     "execution_count": 34,
     "metadata": {},
     "output_type": "execute_result"
    }
   ],
   "source": [
    "a = jnp.array((2, 1))\n",
    "a_new = a.sort() # Return a sorted copy of an array.\n",
    "a, a_new"
   ]
  },
  {
   "cell_type": "markdown",
   "id": "896cbe95-8adc-43d2-a57b-1e9ad1ebf19c",
   "metadata": {},
   "source": [
    "The designers of JAX chose to make arrays immutable because JAX uses a functional programming style. More on this below.\n",
    "\n",
    "Note that, while mutation is discouraged, it is in fact possible with `at` method."
   ]
  },
  {
   "cell_type": "code",
   "execution_count": 43,
   "id": "1b41c092-6c9e-4dfe-b861-61a3957fec20",
   "metadata": {},
   "outputs": [
    {
     "data": {
      "text/plain": [
       "2671119678784"
      ]
     },
     "execution_count": 43,
     "metadata": {},
     "output_type": "execute_result"
    }
   ],
   "source": [
    "a = jnp.linspace(0, 1, 3)\n",
    "id(a)"
   ]
  },
  {
   "cell_type": "code",
   "execution_count": 44,
   "id": "4339bb43-3bc4-490a-b63a-59d091be3f74",
   "metadata": {},
   "outputs": [
    {
     "data": {
      "text/plain": [
       "Array([0. , 0.5, 1. ], dtype=float32)"
      ]
     },
     "execution_count": 44,
     "metadata": {},
     "output_type": "execute_result"
    }
   ],
   "source": [
    "a"
   ]
  },
  {
   "cell_type": "code",
   "execution_count": 45,
   "id": "51c43980-dc7a-4f2f-98a8-aa7835d9f8b6",
   "metadata": {},
   "outputs": [],
   "source": [
    "a = a.at[0].set(1)"
   ]
  },
  {
   "cell_type": "markdown",
   "id": "06ad24c3-e4da-4b0e-bfbb-56c2951306ce",
   "metadata": {},
   "source": [
    "We can check that the array is mutated by verifying its identity is unchanged:"
   ]
  },
  {
   "cell_type": "code",
   "execution_count": 46,
   "id": "ee778310-2dad-4b86-aa74-8febabdaf81c",
   "metadata": {},
   "outputs": [
    {
     "data": {
      "text/plain": [
       "2671310521376"
      ]
     },
     "execution_count": 46,
     "metadata": {},
     "output_type": "execute_result"
    }
   ],
   "source": [
    "id(a)"
   ]
  },
  {
   "cell_type": "markdown",
   "id": "e43af9c6-ccdc-4705-b7f2-e2800242268f",
   "metadata": {},
   "source": [
    "### 3.3. Random Numbers"
   ]
  },
  {
   "cell_type": "markdown",
   "id": "92f142b1-18ed-446b-8c8d-28076da33568",
   "metadata": {},
   "source": [
    "Random numbers are also a bit different in JAX, relative to NumPy. Typically, in JAX, the state of the random number generator needs to be controlled explicitly."
   ]
  },
  {
   "cell_type": "code",
   "execution_count": 4,
   "id": "9695cef8-0884-4fa3-99b7-58d783dafca3",
   "metadata": {},
   "outputs": [],
   "source": [
    "import jax.random as random"
   ]
  },
  {
   "cell_type": "markdown",
   "id": "67bddf82-0426-4487-a20d-c49ab781a96c",
   "metadata": {},
   "source": [
    "First we produce a key, which seeds the random number generator."
   ]
  },
  {
   "cell_type": "code",
   "execution_count": 50,
   "id": "86503a8c-7478-4391-9a6b-d3444bd23ffd",
   "metadata": {},
   "outputs": [],
   "source": [
    "key = random.PRNGKey(1)"
   ]
  },
  {
   "cell_type": "code",
   "execution_count": 51,
   "id": "e8fa143c-23d7-40ce-a2fc-9094d3b372ba",
   "metadata": {},
   "outputs": [
    {
     "data": {
      "text/plain": [
       "jaxlib.xla_extension.ArrayImpl"
      ]
     },
     "execution_count": 51,
     "metadata": {},
     "output_type": "execute_result"
    }
   ],
   "source": [
    "type(key)"
   ]
  },
  {
   "cell_type": "code",
   "execution_count": 52,
   "id": "af93afc4-4e87-46a5-a42a-8097d445b9c3",
   "metadata": {},
   "outputs": [
    {
     "name": "stdout",
     "output_type": "stream",
     "text": [
      "[0 1]\n"
     ]
    }
   ],
   "source": [
    "print(key)"
   ]
  },
  {
   "cell_type": "markdown",
   "id": "66c43476-ea80-4c7a-a95e-8f9fb3a2b78d",
   "metadata": {},
   "source": [
    "Now we can use the key to generate some random numbers:"
   ]
  },
  {
   "cell_type": "code",
   "execution_count": 54,
   "id": "5e11ae1f-637d-4ac2-9ac3-1139bcc2ac02",
   "metadata": {},
   "outputs": [
    {
     "data": {
      "text/plain": [
       "Array([[-1.18428442, -0.11617041,  0.17269028],\n",
       "       [ 0.95730718, -0.83295415,  0.69080517],\n",
       "       [ 0.07545021, -0.7645271 , -0.05064539]], dtype=float64)"
      ]
     },
     "execution_count": 54,
     "metadata": {},
     "output_type": "execute_result"
    }
   ],
   "source": [
    "x = random.normal(key, (3, 3))\n",
    "x"
   ]
  },
  {
   "cell_type": "markdown",
   "id": "31ea5893-aa70-49fd-a233-7ac3ca50e8a2",
   "metadata": {},
   "source": [
    "If we use the same key again, we initialize at the same seed, so the random numbers are the same:"
   ]
  },
  {
   "cell_type": "code",
   "execution_count": 55,
   "id": "b620041a-9043-4bdc-b67a-f7035e9eec3c",
   "metadata": {},
   "outputs": [
    {
     "data": {
      "text/plain": [
       "Array([[-1.18428442, -0.11617041,  0.17269028],\n",
       "       [ 0.95730718, -0.83295415,  0.69080517],\n",
       "       [ 0.07545021, -0.7645271 , -0.05064539]], dtype=float64)"
      ]
     },
     "execution_count": 55,
     "metadata": {},
     "output_type": "execute_result"
    }
   ],
   "source": [
    "random.normal(key, (3, 3))"
   ]
  },
  {
   "cell_type": "markdown",
   "id": "dd24cf72-9f71-4029-bc00-32324ba7130f",
   "metadata": {},
   "source": [
    "To produce a (quasi-) independent draw, best practice is to \"split\" the existing key:"
   ]
  },
  {
   "cell_type": "code",
   "execution_count": 56,
   "id": "17670c89-24ce-4875-95cd-3a0a16912ff2",
   "metadata": {},
   "outputs": [],
   "source": [
    "key, subkey = random.split(key)"
   ]
  },
  {
   "cell_type": "code",
   "execution_count": 59,
   "id": "debb78b1-004b-4dcb-ab94-17e734997ba7",
   "metadata": {},
   "outputs": [
    {
     "data": {
      "text/plain": [
       "Array([ 507451445, 1853169794], dtype=uint32)"
      ]
     },
     "execution_count": 59,
     "metadata": {},
     "output_type": "execute_result"
    }
   ],
   "source": [
    "key"
   ]
  },
  {
   "cell_type": "code",
   "execution_count": 60,
   "id": "e1a0c46e-19a8-44c1-b8af-cb484499c9ec",
   "metadata": {},
   "outputs": [
    {
     "data": {
      "text/plain": [
       "Array([1948878966, 4237131848], dtype=uint32)"
      ]
     },
     "execution_count": 60,
     "metadata": {},
     "output_type": "execute_result"
    }
   ],
   "source": [
    "subkey"
   ]
  },
  {
   "cell_type": "code",
   "execution_count": 57,
   "id": "c4aaffcf-cbb8-4192-af22-9e4ebf3deaab",
   "metadata": {},
   "outputs": [
    {
     "data": {
      "text/plain": [
       "Array([[ 1.09221959,  0.33192176, -0.90184197],\n",
       "       [-1.37815779,  0.43052577,  1.6068202 ],\n",
       "       [ 0.04053753, -0.78732842,  1.75917181]], dtype=float64)"
      ]
     },
     "execution_count": 57,
     "metadata": {},
     "output_type": "execute_result"
    }
   ],
   "source": [
    "random.normal(key, (3, 3))"
   ]
  },
  {
   "cell_type": "code",
   "execution_count": 58,
   "id": "27dc783c-a5eb-45fe-9ec6-17efa7af3a5a",
   "metadata": {},
   "outputs": [
    {
     "data": {
      "text/plain": [
       "Array([[ 0.7158846 ,  0.03955972,  0.71127682],\n",
       "       [-0.40080158, -0.91609481,  0.23713062],\n",
       "       [ 0.85253995, -0.80972695,  1.79431941]], dtype=float64)"
      ]
     },
     "execution_count": 58,
     "metadata": {},
     "output_type": "execute_result"
    }
   ],
   "source": [
    "random.normal(subkey, (3, 3))"
   ]
  },
  {
   "cell_type": "markdown",
   "id": "5d9d5bb1-f190-47bd-9af2-9b8d269618dc",
   "metadata": {},
   "source": [
    "The function below produces k (quasi-) independent random n by n matrices using this procedure."
   ]
  },
  {
   "cell_type": "code",
   "execution_count": 62,
   "id": "1f6c9f03-bf95-42fd-a3bc-592890afe0ec",
   "metadata": {},
   "outputs": [],
   "source": [
    "def gen_random_matrices(key, n, k):\n",
    "    matrices = []\n",
    "    for _ in range(k):\n",
    "        key, subkey = random.split(key)\n",
    "        matrices.append(random.uniform(subkey, (n, n)))\n",
    "    return matrices"
   ]
  },
  {
   "cell_type": "code",
   "execution_count": 63,
   "id": "7d0d29a2-3c7a-4711-be79-eab3b6b98fec",
   "metadata": {},
   "outputs": [
    {
     "name": "stdout",
     "output_type": "stream",
     "text": [
      "[[0.29202993 0.43545993]\n",
      " [0.73730956 0.3796823 ]]\n",
      "[[0.08823494 0.3358791 ]\n",
      " [0.72669531 0.82647633]]\n"
     ]
    }
   ],
   "source": [
    "matrices = gen_random_matrices(key, 2, 2)\n",
    "for A in matrices:\n",
    "    print(A)"
   ]
  },
  {
   "cell_type": "markdown",
   "id": "1fac110b-7aea-4d45-8fb2-d03dd8b3de63",
   "metadata": {},
   "source": [
    "One point to remember is that JAX expects tuples to describe array shapes, even for flat arrays. Hence, to get a one-dimensional array of normal random draws we use `(len, )` for the shape, as in"
   ]
  },
  {
   "cell_type": "code",
   "execution_count": 64,
   "id": "737ef92c-81ba-4259-bebe-e73f88cb5d95",
   "metadata": {},
   "outputs": [
    {
     "data": {
      "text/plain": [
       "Array([ 1.09221959,  0.33192176, -0.90184197, -1.37815779,  0.43052577],      dtype=float64)"
      ]
     },
     "execution_count": 64,
     "metadata": {},
     "output_type": "execute_result"
    }
   ],
   "source": [
    "random.normal(key, (5, ))"
   ]
  },
  {
   "cell_type": "markdown",
   "id": "a768b10b-9c1f-41e5-8751-c1cac93c0e8b",
   "metadata": {},
   "source": [
    "### 3.4. JIT Compilation"
   ]
  },
  {
   "cell_type": "markdown",
   "id": "2a43315b-96b8-49fb-a493-b871063fee2f",
   "metadata": {},
   "source": [
    "The JAX just-in-time (JIT) compiler accelerates logic within functions by fusing linear algebra operations into a single optimized kernel that the host can launch on the GPU/TPU (of CPU if no accelerator is detected).\n",
    "\n",
    "To see the JIT compiler in action, consider the following function."
   ]
  },
  {
   "cell_type": "code",
   "execution_count": 67,
   "id": "e3abab0a-dafe-4f6e-8db1-6f58e681f6a4",
   "metadata": {},
   "outputs": [],
   "source": [
    "def f(x):\n",
    "    a = 3*x + jnp.sin(x) + jnp.cos(x**2) - jnp.cos(2*x) - x**2 * 0.4 * x**1.5\n",
    "    return jnp.sum(a)"
   ]
  },
  {
   "cell_type": "markdown",
   "id": "36f1b50e-0607-4a20-a8da-19d49507810f",
   "metadata": {},
   "source": [
    "Let's build an array to call the function on."
   ]
  },
  {
   "cell_type": "code",
   "execution_count": 68,
   "id": "c225b300-f32f-4236-b492-72bc8fe3ea8d",
   "metadata": {},
   "outputs": [],
   "source": [
    "n = 50_000_000\n",
    "x = jnp.ones(n)"
   ]
  },
  {
   "cell_type": "markdown",
   "id": "c93d782c-79af-49de-a7cf-564a152515a2",
   "metadata": {},
   "source": [
    "How long does the function take to execute?"
   ]
  },
  {
   "cell_type": "code",
   "execution_count": 70,
   "id": "97c2b952-f4e2-49e8-8af2-c5fc7d748b5f",
   "metadata": {},
   "outputs": [
    {
     "name": "stdout",
     "output_type": "stream",
     "text": [
      "CPU times: total: 7.66 s\n",
      "Wall time: 3.83 s\n"
     ]
    },
    {
     "data": {
      "text/plain": [
       "Array(2.19896006e+08, dtype=float64)"
      ]
     },
     "execution_count": 70,
     "metadata": {},
     "output_type": "execute_result"
    }
   ],
   "source": [
    "%time f(x).block_until_ready()"
   ]
  },
  {
   "cell_type": "markdown",
   "id": "491016a8-b1ff-4b2a-bfcd-a89e4b85a0f0",
   "metadata": {},
   "source": [
    "Here, in order to measure actual speed, we use the `block_until_ready()` method to hold the interpreter until the results of the computation are returned from the device. This is necessary because JAX uses asynchronous dispatch, which allows Python interpreter to run ahead of GPU computations.\n",
    "\n",
    "If we run it a second time it becomes faster:"
   ]
  },
  {
   "cell_type": "code",
   "execution_count": 71,
   "id": "3f17a2d8-1385-41fa-8d31-e9623f9eba33",
   "metadata": {},
   "outputs": [
    {
     "name": "stdout",
     "output_type": "stream",
     "text": [
      "CPU times: total: 5.66 s\n",
      "Wall time: 3.06 s\n"
     ]
    },
    {
     "data": {
      "text/plain": [
       "Array(2.19896006e+08, dtype=float64)"
      ]
     },
     "execution_count": 71,
     "metadata": {},
     "output_type": "execute_result"
    }
   ],
   "source": [
    "%time f(x).block_until_ready()"
   ]
  },
  {
   "cell_type": "markdown",
   "id": "90c8dd0c-3b1c-4884-9160-9d628825e942",
   "metadata": {},
   "source": [
    "This is because the built in functions like `jnp.cos` are JIT compiled and the first run includes compile time.\n",
    "\n",
    "Why would JAX want to JIT-compile built in functions like `jnp.cos` instead of providing pre-compiled versions, like NumPy? The reason is that the JIT compiler can specialize on the 'size' of the array being used, which is helpful for parallelization. For example, in running the code above, the JIT compiler produced a version of `jnp.cos` that is specialized to floating point arrays of size `n = 50_000_000`.\n",
    "\n",
    "We can check this by calling `f` with a new array of different size."
   ]
  },
  {
   "cell_type": "code",
   "execution_count": 72,
   "id": "4790e035-b75b-4317-b833-c0dfa5ba7069",
   "metadata": {},
   "outputs": [],
   "source": [
    "m = 50_000_001\n",
    "y = jnp.ones(m)"
   ]
  },
  {
   "cell_type": "code",
   "execution_count": 73,
   "id": "0ffba574-e7ff-4c56-8235-a66d8625f454",
   "metadata": {},
   "outputs": [
    {
     "name": "stdout",
     "output_type": "stream",
     "text": [
      "CPU times: total: 5.94 s\n",
      "Wall time: 3.07 s\n"
     ]
    },
    {
     "data": {
      "text/plain": [
       "Array(2.19896011e+08, dtype=float64)"
      ]
     },
     "execution_count": 73,
     "metadata": {},
     "output_type": "execute_result"
    }
   ],
   "source": [
    "%time f(y).block_until_ready()"
   ]
  },
  {
   "cell_type": "markdown",
   "id": "4343f6ff-4890-4b89-8dd7-095027458028",
   "metadata": {},
   "source": [
    "Notice that the execution time increases, because no new versions of the built-ins like `jnp.cos` are being compiled, specialized to the new array size. If we run again, the code is dispatched to the correct compiled version and we get faster execution."
   ]
  },
  {
   "cell_type": "code",
   "execution_count": 74,
   "id": "b8565436-f686-4ba2-9beb-05afbcc8ce96",
   "metadata": {},
   "outputs": [
    {
     "name": "stdout",
     "output_type": "stream",
     "text": [
      "CPU times: total: 5.09 s\n",
      "Wall time: 3.06 s\n"
     ]
    },
    {
     "data": {
      "text/plain": [
       "Array(2.19896011e+08, dtype=float64)"
      ]
     },
     "execution_count": 74,
     "metadata": {},
     "output_type": "execute_result"
    }
   ],
   "source": [
    "%time f(y).block_until_ready()"
   ]
  },
  {
   "cell_type": "markdown",
   "id": "19bd8acc-537e-4914-b992-8652b98fcff8",
   "metadata": {},
   "source": [
    "The compiled versions for the previous array size are still available in memory too, and the following call is dispatched to the correct compiled code."
   ]
  },
  {
   "cell_type": "code",
   "execution_count": 75,
   "id": "0b1137a4-ec23-44e5-946a-5cb2e6e49fff",
   "metadata": {},
   "outputs": [
    {
     "name": "stdout",
     "output_type": "stream",
     "text": [
      "CPU times: total: 4.69 s\n",
      "Wall time: 2.98 s\n"
     ]
    },
    {
     "data": {
      "text/plain": [
       "Array(2.19896006e+08, dtype=float64)"
      ]
     },
     "execution_count": 75,
     "metadata": {},
     "output_type": "execute_result"
    }
   ],
   "source": [
    "%time f(x).block_until_ready()"
   ]
  },
  {
   "cell_type": "markdown",
   "id": "943e57fb-f89c-4477-978e-1de357271f0a",
   "metadata": {},
   "source": [
    "### 3.4.1. Compiling the Outer Function"
   ]
  },
  {
   "cell_type": "markdown",
   "id": "0576b3fe-cd41-4cfa-a41c-7b9844db194c",
   "metadata": {},
   "source": [
    "We can do even better if we manually JIT-compile the outer function."
   ]
  },
  {
   "cell_type": "code",
   "execution_count": 76,
   "id": "a0790b7b-ba6a-4d4a-bf3e-ba9d222e8ab7",
   "metadata": {},
   "outputs": [],
   "source": [
    "f_jit = jax.jit(f) # target for JIT compilation"
   ]
  },
  {
   "cell_type": "markdown",
   "id": "c9a6bfff-b626-44c6-8238-924161cfdd6d",
   "metadata": {},
   "source": [
    "Let's run once to compile it."
   ]
  },
  {
   "cell_type": "code",
   "execution_count": 77,
   "id": "cc7e170e-0418-4a36-b7c7-abca722768eb",
   "metadata": {},
   "outputs": [
    {
     "data": {
      "text/plain": [
       "Array(2.19896006e+08, dtype=float64)"
      ]
     },
     "execution_count": 77,
     "metadata": {},
     "output_type": "execute_result"
    }
   ],
   "source": [
    "f_jit(x)"
   ]
  },
  {
   "cell_type": "markdown",
   "id": "34ad548f-f9ed-4e1f-9a91-4c7ca58a8706",
   "metadata": {},
   "source": [
    "And now let's time it."
   ]
  },
  {
   "cell_type": "code",
   "execution_count": 78,
   "id": "d16457c4-5bf2-4944-b642-465e5673d353",
   "metadata": {},
   "outputs": [
    {
     "name": "stdout",
     "output_type": "stream",
     "text": [
      "CPU times: total: 1.06 s\n",
      "Wall time: 1.07 s\n"
     ]
    },
    {
     "data": {
      "text/plain": [
       "Array(2.19896006e+08, dtype=float64)"
      ]
     },
     "execution_count": 78,
     "metadata": {},
     "output_type": "execute_result"
    }
   ],
   "source": [
    "%time f_jit(x).block_until_ready()"
   ]
  },
  {
   "cell_type": "markdown",
   "id": "2c354e68-30d1-434f-b5f2-b9c40421d12a",
   "metadata": {},
   "source": [
    "Note the speed gain. This is because the array operations are fused and no intermediate arrays are created. Incidentally, a more common syntax when targetting a function for the JIT compiler is"
   ]
  },
  {
   "cell_type": "code",
   "execution_count": 79,
   "id": "d33cc3dd-d9ea-48f5-8992-591afc0b71c5",
   "metadata": {},
   "outputs": [],
   "source": [
    "@jax.jit\n",
    "def f(x):\n",
    "    a = 3*x + jnp.sin(x) + jnp.cos(x**2) - jnp.cos(2*x) - x**2 * 0.4 * x**1.5\n",
    "    return jnp.sum(a)"
   ]
  },
  {
   "cell_type": "markdown",
   "id": "9aa3eb58-1d69-4029-ae61-d5287d6cd7b5",
   "metadata": {},
   "source": [
    "### 3.5. Functional Programming"
   ]
  },
  {
   "cell_type": "markdown",
   "id": "61e3d79d-8d42-47e4-983c-46f8c649cc72",
   "metadata": {},
   "source": [
    "From JAx's documentation:\n",
    "\n",
    "> When walking about the countryside of Italy, the people will not hesitate to tell you that JAX has \"una anima di pura programmazione funzionale\".\n",
    "\n",
    "In other words, JAX assumes a functional programming style. The major implication is that JAX functions should be pure. A pure function will always return the same result if invoked with the same inputs. In particular, a pure function has **no dependence on global variables** and **no side effects**. JAX will not usually throw errors when compiling impure functions but execution becomes unpredictable.\n",
    "\n",
    "Here's an illustration of this fact, using global variables:"
   ]
  },
  {
   "cell_type": "code",
   "execution_count": 5,
   "id": "29dc83b5-11f1-42a4-80d1-016713adaf6c",
   "metadata": {},
   "outputs": [],
   "source": [
    "a = 1 # a global variable\n",
    "\n",
    "@jax.jit\n",
    "def f(x):\n",
    "    return a + x"
   ]
  },
  {
   "cell_type": "code",
   "execution_count": 6,
   "id": "f08473c2-9a36-482d-80a6-5f29f3332d6a",
   "metadata": {},
   "outputs": [],
   "source": [
    "x = jnp.ones(2)"
   ]
  },
  {
   "cell_type": "code",
   "execution_count": 7,
   "id": "33545998-310e-456b-baf5-97b8e0dd97e3",
   "metadata": {},
   "outputs": [
    {
     "data": {
      "text/plain": [
       "Array([2., 2.], dtype=float32)"
      ]
     },
     "execution_count": 7,
     "metadata": {},
     "output_type": "execute_result"
    }
   ],
   "source": [
    "f(x)"
   ]
  },
  {
   "cell_type": "markdown",
   "id": "260921b1-111b-4748-869f-c252216a60f7",
   "metadata": {},
   "source": [
    "In the code above, the global value `a = 1` is fused into the jitted function. Even if we change `a`, the output of `f` will not be affected - as long as the same compiled version is called."
   ]
  },
  {
   "cell_type": "code",
   "execution_count": 8,
   "id": "fff87fd3-cdc4-444f-9261-18b7120e5c92",
   "metadata": {},
   "outputs": [],
   "source": [
    "a = 42"
   ]
  },
  {
   "cell_type": "code",
   "execution_count": 9,
   "id": "72d6a5ad-944d-4a23-899a-d80b65e4fd09",
   "metadata": {},
   "outputs": [
    {
     "data": {
      "text/plain": [
       "Array([2., 2.], dtype=float32)"
      ]
     },
     "execution_count": 9,
     "metadata": {},
     "output_type": "execute_result"
    }
   ],
   "source": [
    "f(x)"
   ]
  },
  {
   "cell_type": "markdown",
   "id": "4f428d72-822d-4c29-bd55-d5dae6e25bbb",
   "metadata": {},
   "source": [
    "Changing the dimension of the input triggers a fresh compilation of the function, at which time the change in the value of `a` takes affect:"
   ]
  },
  {
   "cell_type": "code",
   "execution_count": 10,
   "id": "010b6de4-493a-495e-9d93-61b72c819e30",
   "metadata": {},
   "outputs": [],
   "source": [
    "x = jnp.ones(3)"
   ]
  },
  {
   "cell_type": "code",
   "execution_count": 11,
   "id": "70e236ff-5463-4a57-a959-73352b0b9d77",
   "metadata": {},
   "outputs": [
    {
     "data": {
      "text/plain": [
       "Array([43., 43., 43.], dtype=float32)"
      ]
     },
     "execution_count": 11,
     "metadata": {},
     "output_type": "execute_result"
    }
   ],
   "source": [
    "f(x)"
   ]
  },
  {
   "cell_type": "markdown",
   "id": "4ddeb053-806f-4018-8ee1-c0a77ff8bda4",
   "metadata": {},
   "source": [
    "Moral of the story: write pure functions when using JAX!"
   ]
  },
  {
   "cell_type": "markdown",
   "id": "162d4c76-5874-4220-b25c-81cc336a9a7a",
   "metadata": {},
   "source": [
    "### 3.6. Gradients"
   ]
  },
  {
   "cell_type": "markdown",
   "id": "26351495-8051-4329-a409-2f1d7f27fe00",
   "metadata": {},
   "source": [
    "JAX can use automatic differentiation to compute gradients. This can be extremely useful for optimization and solving nonlinear systems. We will see significant applications later in this repository. For now, here's a very simple illustration involving the function"
   ]
  },
  {
   "cell_type": "code",
   "execution_count": 12,
   "id": "cbcfe53e-aa3e-4a82-98d7-3a3831913444",
   "metadata": {},
   "outputs": [],
   "source": [
    "def f(x):\n",
    "    return (x**2)/2"
   ]
  },
  {
   "cell_type": "markdown",
   "id": "88e9aae3-7a4f-442c-ab7d-e88ea810fc09",
   "metadata": {},
   "source": [
    "Let's take the derivative:"
   ]
  },
  {
   "cell_type": "code",
   "execution_count": 13,
   "id": "222ead97-1740-46a1-bc5d-af61a1fa0269",
   "metadata": {},
   "outputs": [],
   "source": [
    "df = jax.grad(f)"
   ]
  },
  {
   "cell_type": "code",
   "execution_count": 14,
   "id": "eac75b79-bd00-4ba7-956d-a9dd8b48ec21",
   "metadata": {},
   "outputs": [
    {
     "data": {
      "text/plain": [
       "Array(10., dtype=float32, weak_type=True)"
      ]
     },
     "execution_count": 14,
     "metadata": {},
     "output_type": "execute_result"
    }
   ],
   "source": [
    "df(10.0)"
   ]
  },
  {
   "cell_type": "markdown",
   "id": "7f6b39e2-6d28-4aec-b1c0-8fd2c16e1f2a",
   "metadata": {},
   "source": [
    "Let's plot the function and derivative, noting that $f'(x) = x$."
   ]
  },
  {
   "cell_type": "code",
   "execution_count": 16,
   "id": "d74177f2-2ee5-4e17-862f-20d55145291d",
   "metadata": {},
   "outputs": [
    {
     "data": {
      "image/png": "[encoded data removed]",
      "text/plain": [
       "<Figure size 640x480 with 1 Axes>"
      ]
     },
     "metadata": {},
     "output_type": "display_data"
    }
   ],
   "source": [
    "fig, ax = plt.subplots()\n",
    "\n",
    "xgrid = jnp.linspace(-4, 4, 200)\n",
    "\n",
    "ax.plot(xgrid, f(xgrid), label='$f$')\n",
    "ax.plot(xgrid, [df(x) for x in xgrid], label=\"$f'$\")\n",
    "\n",
    "ax.legend(frameon=False)\n",
    "ax.set_xmargin(0)\n",
    "plt.show()"
   ]
  },
  {
   "cell_type": "markdown",
   "id": "c994473b-4cdc-4d96-8cc2-280a11ccd865",
   "metadata": {},
   "source": [
    "### 3.7. Writing Vectorized Code"
   ]
  },
  {
   "cell_type": "markdown",
   "id": "ce626978-7e13-4eda-84d6-a4dd6c3e5282",
   "metadata": {},
   "source": [
    "Writing fast JAX code requires shifting repetitive tasks from loops to array processing operations, so that the JAX compiler can easily understand the whole operation and generate more efficient machine code. This procedure is called **vectorization** or **array programming**, and will be familiar to anyone who has used NumPy or MATLAB.\n",
    "\n",
    "In most ways, vectorization is the same in JAX as it is in NumPy. But there are also some differences, which we highlight here. As a running example, consider the function $$f(x, y) = \\frac{\\cos(x^2 + y^2)}{1 + x^2 + y^2}$$\n",
    "\n",
    "Suppose that we want to evaluate this function on a square grid of $x$ and $y$ points and then plot it. To clarify, here is the slow `for` loop version."
   ]
  },
  {
   "cell_type": "code",
   "execution_count": 53,
   "id": "7bb7cc5c-2859-42e2-ba54-10ae80892eca",
   "metadata": {},
   "outputs": [],
   "source": [
    "@jax.jit\n",
    "def f(x, y):\n",
    "    return jnp.cos(x**2 + y**2) / (1 + x**2 + y**2)\n",
    "\n",
    "n = 80\n",
    "x = jnp.linspace(-2, 2, n)\n",
    "y = x\n",
    "\n",
    "z = np.empty((n, n))"
   ]
  },
  {
   "cell_type": "code",
   "execution_count": 54,
   "id": "741846d6-f545-4991-80f8-6fe9639a4240",
   "metadata": {},
   "outputs": [
    {
     "name": "stdout",
     "output_type": "stream",
     "text": [
      "CPU times: total: 1.84 s\n",
      "Wall time: 4.31 s\n"
     ]
    }
   ],
   "source": [
    "%%time\n",
    "for i in range(n):\n",
    "    for j in range(n):\n",
    "        z[i, j] = f(x[i], y[j])"
   ]
  },
  {
   "cell_type": "markdown",
   "id": "f40dfe80-bf0f-47d8-a7c4-018816b451c5",
   "metadata": {},
   "source": [
    "Even for this small grid, the run time is extremely slow. Then how can we do the same operation in vectorized form? If you are new to vectorization, you might guess that we can simply write"
   ]
  },
  {
   "cell_type": "code",
   "execution_count": 19,
   "id": "07e89016-8c43-439d-9010-a959775aa638",
   "metadata": {},
   "outputs": [],
   "source": [
    "z_bad = f(x, y)"
   ]
  },
  {
   "cell_type": "markdown",
   "id": "5af01e8b-e5cd-436f-9c68-9daba2f1884e",
   "metadata": {},
   "source": [
    "But this gives us the wrong result because JAX doesn't understand the nested for loop."
   ]
  },
  {
   "cell_type": "code",
   "execution_count": 20,
   "id": "6ce9302d-56b6-442f-ae21-5a07772167c4",
   "metadata": {},
   "outputs": [
    {
     "data": {
      "text/plain": [
       "(80,)"
      ]
     },
     "execution_count": 20,
     "metadata": {},
     "output_type": "execute_result"
    }
   ],
   "source": [
    "z_bad.shape"
   ]
  },
  {
   "cell_type": "markdown",
   "id": "77837c95-4078-445a-b448-a25132f0a095",
   "metadata": {},
   "source": [
    "Here is what we actually wanted:"
   ]
  },
  {
   "cell_type": "code",
   "execution_count": 21,
   "id": "013daad0-3168-499d-bd67-c660303d2034",
   "metadata": {},
   "outputs": [
    {
     "data": {
      "text/plain": [
       "(80, 80)"
      ]
     },
     "execution_count": 21,
     "metadata": {},
     "output_type": "execute_result"
    }
   ],
   "source": [
    "z.shape"
   ]
  },
  {
   "cell_type": "markdown",
   "id": "6f5d3c4d-ca2d-4626-9a29-c900e9151dd3",
   "metadata": {},
   "source": [
    "The first adjustment we can try is to simply nest for-loop in function."
   ]
  },
  {
   "cell_type": "code",
   "execution_count": 47,
   "id": "3dea1b33-3d35-403e-adee-1f6db9889292",
   "metadata": {},
   "outputs": [],
   "source": [
    "@jax.jit\n",
    "def f_loop(x, y):\n",
    "    nx = x.shape[0]\n",
    "    ny = y.shape[0]\n",
    "    z = jnp.empty((nx, ny))\n",
    "    for xi in range(nx):\n",
    "        for yi in range(ny):\n",
    "            z = z.at[xi, yi].set(jnp.cos(x[xi]**2 + y[yi]**2) / (1 + x[xi]**2 + y[yi]**2))\n",
    "    return z"
   ]
  },
  {
   "cell_type": "code",
   "execution_count": 48,
   "id": "9f202372-ba6a-4114-a5c8-e49058afb82c",
   "metadata": {},
   "outputs": [],
   "source": [
    "n = 80\n",
    "x = jnp.linspace(-2, 2, n)\n",
    "y = x"
   ]
  },
  {
   "cell_type": "code",
   "execution_count": 49,
   "id": "d79928f5-69c0-4290-ade7-7d526846c694",
   "metadata": {},
   "outputs": [
    {
     "name": "stdout",
     "output_type": "stream",
     "text": [
      "CPU times: total: 1min 20s\n",
      "Wall time: 2min 25s\n"
     ]
    }
   ],
   "source": [
    "%%time\n",
    "z_loop = f_loop(x, y)"
   ]
  },
  {
   "cell_type": "markdown",
   "id": "dfbc6640-573f-4998-9cec-a4543779e308",
   "metadata": {},
   "source": [
    "We run it again to get rid of compile time."
   ]
  },
  {
   "cell_type": "code",
   "execution_count": 50,
   "id": "5fe69986-b374-4891-847e-ff211d125bf1",
   "metadata": {},
   "outputs": [
    {
     "name": "stdout",
     "output_type": "stream",
     "text": [
      "CPU times: total: 0 ns\n",
      "Wall time: 6.12 ms\n"
     ]
    }
   ],
   "source": [
    "%%time\n",
    "z_loop = f_loop(x, y)"
   ]
  },
  {
   "cell_type": "code",
   "execution_count": 55,
   "id": "6b283f60-7c6f-4b57-b9ca-5315d0f6651a",
   "metadata": {},
   "outputs": [
    {
     "data": {
      "text/plain": [
       "Array(True, dtype=bool)"
      ]
     },
     "execution_count": 55,
     "metadata": {},
     "output_type": "execute_result"
    }
   ],
   "source": [
    "jnp.allclose(z_loop, z)"
   ]
  },
  {
   "cell_type": "markdown",
   "id": "6dc69d75-4884-49fc-9feb-90394c3e3321",
   "metadata": {},
   "source": [
    "After compilation there is a significant decrease in execution time. It also gives a correct output. While this method is still inefficient in general (compilation time increases as the size of an input array gets bigger), it may be useful when conducting high-dimensional complex elementwise operations (especially when you're too tired to consider effeciency of the code!)."
   ]
  },
  {
   "cell_type": "markdown",
   "id": "789cfab7-7eb8-4e8f-874e-96f722ff8f89",
   "metadata": {},
   "source": [
    "Next, to get the right shape and the correct nested for loop calculation, we can use a `meshgrid` operation designed for this purpose:"
   ]
  },
  {
   "cell_type": "code",
   "execution_count": 99,
   "id": "3cd94482-4fec-445a-a534-1ac9aef7844e",
   "metadata": {},
   "outputs": [],
   "source": [
    "x_mesh, y_mesh = jnp.meshgrid(x, y)"
   ]
  },
  {
   "cell_type": "markdown",
   "id": "b2da48b7-f894-47b9-852e-b6666f4425be",
   "metadata": {},
   "source": [
    "Now we get what we want and the execution time is very fast."
   ]
  },
  {
   "cell_type": "code",
   "execution_count": 100,
   "id": "91569c2b-7ad9-43ea-8f67-746f2571d111",
   "metadata": {},
   "outputs": [
    {
     "name": "stdout",
     "output_type": "stream",
     "text": [
      "CPU times: total: 31.2 ms\n",
      "Wall time: 41 ms\n"
     ]
    }
   ],
   "source": [
    "%%time\n",
    "z_mesh = f(x_mesh, y_mesh).block_until_ready()"
   ]
  },
  {
   "cell_type": "markdown",
   "id": "50845af8-8629-49ed-a061-9e311d790ddd",
   "metadata": {},
   "source": [
    "Let's run again to eliminate compile time."
   ]
  },
  {
   "cell_type": "code",
   "execution_count": 101,
   "id": "144c9d69-4c36-462a-98de-6f4deb84dd19",
   "metadata": {},
   "outputs": [
    {
     "name": "stdout",
     "output_type": "stream",
     "text": [
      "CPU times: total: 0 ns\n",
      "Wall time: 997 μs\n"
     ]
    }
   ],
   "source": [
    "%%time\n",
    "z_mesh = f(x_mesh, y_mesh).block_until_ready()"
   ]
  },
  {
   "cell_type": "markdown",
   "id": "e239b7f8-48fe-4811-830c-5b3f2f2ec341",
   "metadata": {},
   "source": [
    "Let's confirm that we got the right answer."
   ]
  },
  {
   "cell_type": "code",
   "execution_count": 104,
   "id": "2a6c2f07-4a65-4c9a-a608-3fdc84bb7fb5",
   "metadata": {},
   "outputs": [
    {
     "data": {
      "text/plain": [
       "Array(True, dtype=bool)"
      ]
     },
     "execution_count": 104,
     "metadata": {},
     "output_type": "execute_result"
    }
   ],
   "source": [
    "# Check if two arrays are element-wise approximately equal within a tolerance.\n",
    "jnp.allclose(z_mesh, z)"
   ]
  },
  {
   "cell_type": "markdown",
   "id": "38c51169-6cec-47c7-8590-9d581aed0bd6",
   "metadata": {},
   "source": [
    "Now we can set up a serious grid and run the same calculation (on the larger grid) in a short amount of time."
   ]
  },
  {
   "cell_type": "code",
   "execution_count": 105,
   "id": "4e116690-0705-4985-bd75-9a2041f4959f",
   "metadata": {},
   "outputs": [],
   "source": [
    "n = 6000\n",
    "x = jnp.linspace(-2, 2, n)\n",
    "y = x\n",
    "x_mesh, y_mesh = jnp.meshgrid(x, y)"
   ]
  },
  {
   "cell_type": "code",
   "execution_count": 106,
   "id": "84394bda-2b5e-4af0-b162-04a046e06e67",
   "metadata": {},
   "outputs": [
    {
     "name": "stdout",
     "output_type": "stream",
     "text": [
      "CPU times: total: 484 ms\n",
      "Wall time: 391 ms\n"
     ]
    }
   ],
   "source": [
    "%%time\n",
    "z_mesh = f(x_mesh, y_mesh).block_until_ready()"
   ]
  },
  {
   "cell_type": "markdown",
   "id": "023c53cc-823d-4097-b69c-66e136177fdf",
   "metadata": {},
   "source": [
    "Let's run again to get rid of compile time."
   ]
  },
  {
   "cell_type": "code",
   "execution_count": 109,
   "id": "4ee64a92-6957-417e-aed4-fa9bae091b6b",
   "metadata": {},
   "outputs": [
    {
     "name": "stdout",
     "output_type": "stream",
     "text": [
      "CPU times: total: 172 ms\n",
      "Wall time: 245 ms\n"
     ]
    }
   ],
   "source": [
    "%%time\n",
    "z_mesh = f(x_mesh, y_mesh).block_until_ready()"
   ]
  },
  {
   "cell_type": "markdown",
   "id": "b2d72ff4-4f93-4cc1-8797-c14f0d09b372",
   "metadata": {},
   "source": [
    "But there is one problem here: the mesh grids use a lot of memory."
   ]
  },
  {
   "cell_type": "code",
   "execution_count": 110,
   "id": "1adac08c-ef0a-46f0-87e4-744bb8c8348b",
   "metadata": {},
   "outputs": [
    {
     "data": {
      "text/plain": [
       "576000000"
      ]
     },
     "execution_count": 110,
     "metadata": {},
     "output_type": "execute_result"
    }
   ],
   "source": [
    "x_mesh.nbytes + y_mesh.nbytes"
   ]
  },
  {
   "cell_type": "markdown",
   "id": "216ee494-f7d7-4a5c-aeb1-ab89f3b6512d",
   "metadata": {},
   "source": [
    "By comparison, the flat array `x` is just"
   ]
  },
  {
   "cell_type": "code",
   "execution_count": 112,
   "id": "ba5e31ca-725d-4d92-8b7f-043a508163af",
   "metadata": {},
   "outputs": [
    {
     "data": {
      "text/plain": [
       "48000"
      ]
     },
     "execution_count": 112,
     "metadata": {},
     "output_type": "execute_result"
    }
   ],
   "source": [
    "x.nbytes # and `y` is jsut a pointer to x"
   ]
  },
  {
   "cell_type": "markdown",
   "id": "183a12e7-25f7-4631-8261-16581c3bd406",
   "metadata": {},
   "source": [
    "This extra memory usage can be a big problem in actual research calculations. So let's try a different approach using `jax.vmap`. First we vectorize `f` in `y`."
   ]
  },
  {
   "cell_type": "code",
   "execution_count": 113,
   "id": "4effa944-8e59-4a90-814a-9c0cdfd18a4f",
   "metadata": {},
   "outputs": [],
   "source": [
    "f_vec_y = jax.vmap(f, in_axes=(None, 0))"
   ]
  },
  {
   "cell_type": "markdown",
   "id": "0d1aa81b-91d5-4469-a032-b791c9118dcb",
   "metadata": {},
   "source": [
    "In the line above, `(None, 0)` indicateds that we are vectorizing in the second argument, which is `y`. Next, we vectorize in the first argument, which is `x`."
   ]
  },
  {
   "cell_type": "code",
   "execution_count": 114,
   "id": "d23dc0d0-f3a6-4821-a16f-89e0e5be6e2e",
   "metadata": {},
   "outputs": [],
   "source": [
    "f_vec = jax.vmap(f_vec_y, in_axes=(0, None))"
   ]
  },
  {
   "cell_type": "markdown",
   "id": "a0626953-ba49-47c2-83cd-569075414dc8",
   "metadata": {},
   "source": [
    "With this construction, we can now call the function `f` on flat (low memory) arrays."
   ]
  },
  {
   "cell_type": "code",
   "execution_count": 115,
   "id": "f8067f86-c677-4914-b834-debea39074ed",
   "metadata": {},
   "outputs": [
    {
     "name": "stdout",
     "output_type": "stream",
     "text": [
      "CPU times: total: 906 ms\n",
      "Wall time: 829 ms\n"
     ]
    }
   ],
   "source": [
    "%%time\n",
    "z_vmap = f_vec(x, y).block_until_ready()"
   ]
  },
  {
   "cell_type": "markdown",
   "id": "5cade32a-9e88-4d2f-b6d0-1ee555c261cd",
   "metadata": {},
   "source": [
    "We run it again to eliminate compile time."
   ]
  },
  {
   "cell_type": "code",
   "execution_count": 116,
   "id": "6f55ff15-f9b6-40bd-a607-f871c2f30d3f",
   "metadata": {},
   "outputs": [
    {
     "name": "stdout",
     "output_type": "stream",
     "text": [
      "CPU times: total: 422 ms\n",
      "Wall time: 359 ms\n"
     ]
    }
   ],
   "source": [
    "%%time\n",
    "z_vmap = f_vec(x, y).block_until_ready()"
   ]
  },
  {
   "cell_type": "markdown",
   "id": "deb213c8-6a46-4ca3-839a-de1edf8c8625",
   "metadata": {},
   "source": [
    "The execution time is essentially the same as the mesh operation but we are using much less memory. Also we produce the correct answer:"
   ]
  },
  {
   "cell_type": "code",
   "execution_count": 117,
   "id": "52783940-4982-4705-aa29-669d1ad09abf",
   "metadata": {},
   "outputs": [
    {
     "data": {
      "text/plain": [
       "Array(True, dtype=bool)"
      ]
     },
     "execution_count": 117,
     "metadata": {},
     "output_type": "execute_result"
    }
   ],
   "source": [
    "jnp.allclose(z_vmap, z_mesh)"
   ]
  },
  {
   "cell_type": "markdown",
   "id": "f8badfe7-8e08-4c47-bde2-1eb57fe972d3",
   "metadata": {},
   "source": [
    "## 4. Parallel Computing"
   ]
  },
  {
   "cell_type": "markdown",
   "id": "c24db23f-9b46-4604-9a60-417e71eab589",
   "metadata": {},
   "source": [
    "In this section we cover **parallel computing** in Python. This means you will be able to run your code simultaneously on multiple cores on your CPU processors or increase the speed by taking advantage of the wasted CPU cycles while your program is waiting for external resources (e.g., downloading files, API calls, etc.). The fundamental idea of parallel computing is rooted in doing multiple tasks at the same time to reduce the running time of your program. The following figure illustrates the simple idea of doing parallel computing versus serial computing that we use so far."
   ]
  },
  {
   "cell_type": "markdown",
   "id": "ffddaa87-bdb8-4793-ba3b-62c090def221",
   "metadata": {},
   "source": [
    "For example, if you have one million data files and need to apply the same operations to each one of them, you can do this one file at each time, or you can do it by multiple files at the same time; or if you are downloading one million websites, you can take advantage of downloading 10 at a time to reduce the total time of downloading. Therefore, learning the basics of parallel computing will help you design code that is more efficient."
   ]
  },
  {
   "cell_type": "markdown",
   "id": "05016bfd-2edd-4f9f-9f61-6125cc454695",
   "metadata": {},
   "source": [
    "Most of the modern computers are using the multi-core design, which means on a single computing component, there are multiple independent processing units, the so called cores, that are available to do different tasks. "
   ]
  },
  {
   "cell_type": "markdown",
   "id": "fff9cab9-0a8b-4637-8761-6791d9ba847b",
   "metadata": {},
   "source": [
    "In Python, there are two basic approaches to conduct parallel computing, that is using the `multiprocessing` or `threading` library. Let's first take a look of the differences of process and thread."
   ]
  },
  {
   "cell_type": "markdown",
   "id": "5e640fe4-b262-4a9c-9622-c71467086a32",
   "metadata": {},
   "source": [
    "### 4.1. Process and Thread"
   ]
  },
  {
   "cell_type": "markdown",
   "id": "47dad96f-da2b-4198-944a-f0aca7fd9e41",
   "metadata": {},
   "source": [
    "A **process** is an instance of a program (such as Python interpreter, Jupyter notebook, etc.). A process is created by the operating system to run program, and each process has its own memory block. A **thread** is a sub-process that reside within the process. Each process can have multiple threads, that these threads will share the same memory block within the process. Thus, for multiple threads in a process, due to the shared memory space, the variables or objects are all shared. If you change one variable in one thread, it will change for all the other threads. But things are different in different processes, changing one variable in one process will not change the one in other processes. Process and thread both have advantages or disadvantages, and can be used in different tasks to maximize the benefits."
   ]
  },
  {
   "cell_type": "markdown",
   "id": "96bdd14a-bd10-4ae3-9937-22974ffb332c",
   "metadata": {},
   "source": [
    "### 4.2. Python's GIL Problem"
   ]
  },
  {
   "cell_type": "markdown",
   "id": "72e9cd81-a374-4970-9497-9698116950de",
   "metadata": {},
   "source": [
    "Python has something called Global Interpreter Lock (GIL) which allow only one native thread to run at a time, preventing multiple threads from running simultaneously. This is because Python was designed before the multi-core processor on the personal computers. Even though there are workarounds in Python to do multithreading programming, we will only cover the multiprocessing library in the next subsection, which we will use most of the time for taking advantage of multi-core parallel computing."
   ]
  },
  {
   "cell_type": "markdown",
   "id": "23451943-7f0d-464c-b8bb-01a04bb4429b",
   "metadata": {},
   "source": [
    "### 4.3. Disadvantages of Parallel Computing"
   ]
  },
  {
   "cell_type": "markdown",
   "id": "afa5689e-c81f-470a-a956-4d099ee110b4",
   "metadata": {},
   "source": [
    "Of course, there are disadvantages of using parallel computing. Such as, more complicated code, overheads when spawn new processes and maintain them. Thus, if your task is small, using parallel computing will take longer time, since it takes time for the system to initialize new process and maintain them."
   ]
  },
  {
   "cell_type": "markdown",
   "id": "acf6045c-cb68-4ad1-9dd6-f23021ce94c4",
   "metadata": {},
   "source": [
    "### 4.4. Multiprocessing"
   ]
  },
  {
   "cell_type": "markdown",
   "id": "9579e44b-067c-48fe-9930-5401b2dfef7b",
   "metadata": {},
   "source": [
    "The multiprocessing library is the Python's standard library to support parallel computing using processes. It has many different features, if you wan to know all the details, you can check the official documentation. Here we will introduce the basics to get you start with parallel computing. Let's start by importing the library."
   ]
  },
  {
   "cell_type": "code",
   "execution_count": 43,
   "id": "0c6fb2de-5d39-4003-a652-6c2169ab3ade",
   "metadata": {},
   "outputs": [],
   "source": [
    "import multiprocessing as mp"
   ]
  },
  {
   "cell_type": "markdown",
   "id": "cd3e4596-fe4c-442c-8fe3-6f30e394dc72",
   "metadata": {},
   "source": [
    "Let's first print out the total number of CPUs that on my machine that can be used for parallel computing."
   ]
  },
  {
   "cell_type": "code",
   "execution_count": 44,
   "id": "b845d93a-e36b-41b7-afc5-43a8683726a2",
   "metadata": {},
   "outputs": [
    {
     "name": "stdout",
     "output_type": "stream",
     "text": [
      "Number of CPUs: 4\n"
     ]
    }
   ],
   "source": [
    "print(f'Number of CPUs: {mp.cpu_count()}')"
   ]
  },
  {
   "cell_type": "markdown",
   "id": "435757c7-c272-4ea6-8168-87c8f9430ab0",
   "metadata": {},
   "source": [
    "Let's use an example to show you how to use multiple cores in one machine to reduce the execution time. We will generate 10,000,000 random numbers between 0 and 10 one-by-one, square them, and store the results in a list. Note that to run `multiprocessing` properly, we need to write the function into a separate `.py` file and import it."
   ]
  },
  {
   "cell_type": "code",
   "execution_count": 40,
   "id": "0c732034-ad57-45a7-a987-e4a6976ae5e5",
   "metadata": {},
   "outputs": [
    {
     "name": "stdout",
     "output_type": "stream",
     "text": [
      "Writing ./supp/random_square.py\n"
     ]
    }
   ],
   "source": [
    "%%writefile ./supp/random_square.py\n",
    "\n",
    "import numpy as np\n",
    "\n",
    "def random_square(seed):\n",
    "    np.random.seed(seed)\n",
    "    random_num = np.random.randint(0, 10)\n",
    "    return random_num**2"
   ]
  },
  {
   "cell_type": "markdown",
   "id": "e54ebff5-8bc8-4801-adad-5ca5620ca00b",
   "metadata": {},
   "source": [
    "The code below is the serial version of the example (what we have done so far)."
   ]
  },
  {
   "cell_type": "code",
   "execution_count": 41,
   "id": "1d47d468-4d0d-41c6-91a7-13000af87de8",
   "metadata": {},
   "outputs": [],
   "source": [
    "from supp.random_square import random_square"
   ]
  },
  {
   "cell_type": "code",
   "execution_count": 47,
   "id": "6caa8e9b-14f3-48d8-9306-6b66822abfbe",
   "metadata": {},
   "outputs": [
    {
     "name": "stdout",
     "output_type": "stream",
     "text": [
      "CPU times: total: 36.7 s\n",
      "Wall time: 1min 30s\n"
     ]
    }
   ],
   "source": [
    "%%time\n",
    "results = []\n",
    "for i in range(10_000_000):\n",
    "    results.append(random_square(i))"
   ]
  },
  {
   "cell_type": "markdown",
   "id": "092a3b2e-d60f-4a86-9a5c-aba33eeacd44",
   "metadata": {},
   "source": [
    "Next we see the parallel version of the example."
   ]
  },
  {
   "cell_type": "code",
   "execution_count": 48,
   "id": "3584a334-3a87-42e1-a05c-f7eed0daa193",
   "metadata": {},
   "outputs": [
    {
     "name": "stdout",
     "output_type": "stream",
     "text": [
      "CPU times: total: 2.64 s\n",
      "Wall time: 1min\n"
     ]
    }
   ],
   "source": [
    "%%time\n",
    "n_cpu = mp.cpu_count()\n",
    "pool = mp.Pool(processes=n_cpu)\n",
    "results = [pool.map(random_square, range(10_000_000))]\n",
    "pool.close()"
   ]
  },
  {
   "cell_type": "markdown",
   "id": "b9d4c000-6347-4a9c-ad0f-f1c7c29adc00",
   "metadata": {},
   "source": [
    "The simplest way to do parallel computing using the multiprocessing is to sue the `Pool` class. There are four common methods in the class that we may use often, which are `apply`, `map`, `apply_async` and `map_async`. Have a look at the documentation for the differences. Here we only uses `map` method above to paralled the above example. The `map(func, iterable)` method takes in two arguments, and apply the function `func` to each element in the `iterable`, and then collect the results."
   ]
  },
  {
   "cell_type": "code",
   "execution_count": null,
   "id": "9879ff87-6a16-4c4f-a0f1-958027517acc",
   "metadata": {},
   "outputs": [],
   "source": []
  }
 ],
 "metadata": {
  "kernelspec": {
   "display_name": "Python 3 (ipykernel)",
   "language": "python",
   "name": "python3"
  },
  "language_info": {
   "codemirror_mode": {
    "name": "ipython",
    "version": 3
   },
   "file_extension": ".py",
   "mimetype": "text/x-python",
   "name": "python",
   "nbconvert_exporter": "python",
   "pygments_lexer": "ipython3",
   "version": "3.11.7"
  }
 },
 "nbformat": 4,
 "nbformat_minor": 5
}
